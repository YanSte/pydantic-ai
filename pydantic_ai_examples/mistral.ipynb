{
 "cells": [
  {
   "cell_type": "markdown",
   "metadata": {},
   "source": [
    "# Libs"
   ]
  },
  {
   "cell_type": "code",
   "execution_count": 1,
   "metadata": {},
   "outputs": [],
   "source": [
    "#!pip install nest_asyncio -U -q\n",
    "#!pip install rich -U -q\n",
    "#!pip install python-dotenv -U -q\n",
    "#!pip install logfire  -U -q"
   ]
  },
  {
   "cell_type": "code",
   "execution_count": 2,
   "metadata": {},
   "outputs": [
    {
     "data": {
      "text/plain": [
       "<logfire._internal.main.Logfire at 0x103afcf80>"
      ]
     },
     "execution_count": 2,
     "metadata": {},
     "output_type": "execute_result"
    }
   ],
   "source": [
    "import logfire\n",
    "logfire.configure(send_to_logfire='if-token-present')"
   ]
  },
  {
   "cell_type": "markdown",
   "metadata": {},
   "source": [
    "# Async Notebook"
   ]
  },
  {
   "cell_type": "code",
   "execution_count": 3,
   "metadata": {},
   "outputs": [],
   "source": [
    "from rich import print\n",
    "import nest_asyncio\n",
    "\n",
    "\n",
    "nest_asyncio.apply()"
   ]
  },
  {
   "cell_type": "markdown",
   "metadata": {},
   "source": [
    "# Env"
   ]
  },
  {
   "cell_type": "code",
   "execution_count": 4,
   "metadata": {},
   "outputs": [
    {
     "data": {
      "text/plain": [
       "True"
      ]
     },
     "execution_count": 4,
     "metadata": {},
     "output_type": "execute_result"
    }
   ],
   "source": [
    "import os\n",
    "from dotenv import load_dotenv \n",
    "\n",
    "# default directory for .env file is the current directory\n",
    "# if you set .env in different directory, put the directory address load_dotenv(\"directory_of_.env)\n",
    "load_dotenv()"
   ]
  },
  {
   "cell_type": "code",
   "execution_count": 5,
   "metadata": {},
   "outputs": [],
   "source": [
    "from pydantic_ai import Agent\n",
    "from pydantic import BaseModel\n",
    "from pydantic_ai.models.mistral import MistralModel\n",
    "from pydantic import BaseModel"
   ]
  },
  {
   "cell_type": "code",
   "execution_count": 6,
   "metadata": {},
   "outputs": [],
   "source": [
    "model = MistralModel(\n",
    "    model_name='mistral-large-latest', \n",
    "    api_key=os.environ.get('MISTRAL_API_KEY')\n",
    ")\n"
   ]
  },
  {
   "cell_type": "code",
   "execution_count": 7,
   "metadata": {},
   "outputs": [
    {
     "name": "stdout",
     "output_type": "stream",
     "text": [
      "21:15:49.275 agent run prompt=Could you give a random city? in France\n",
      "21:15:49.275   preparing model and tools run_step=1\n",
      "21:15:49.276   model request\n"
     ]
    },
    {
     "data": {
      "text/html": [
       "<pre style=\"white-space:pre;overflow-x:auto;line-height:normal;font-family:Menlo,'DejaVu Sans Mono',consolas,'Courier New',monospace\"><span style=\"font-weight: bold\">Logfire</span> project URL: <a href=\"https://logfire.pydantic.dev/yanste/test\" target=\"_blank\"><span style=\"color: #008080; text-decoration-color: #008080; text-decoration: underline\">https://logfire.pydantic.dev/yanste/test</span></a>\n",
       "</pre>\n"
      ],
      "text/plain": [
       "\u001b[1mLogfire\u001b[0m project URL: \u001b]8;id=905551;https://logfire.pydantic.dev/yanste/test\u001b\\\u001b[4;36mhttps://logfire.pydantic.dev/yanste/test\u001b[0m\u001b]8;;\u001b\\\n"
      ]
     },
     "metadata": {},
     "output_type": "display_data"
    },
    {
     "name": "stdout",
     "output_type": "stream",
     "text": [
      "21:15:50.160   handle model response\n"
     ]
    },
    {
     "data": {
      "text/html": [
       "<pre style=\"white-space:pre;overflow-x:auto;line-height:normal;font-family:Menlo,'DejaVu Sans Mono',consolas,'Courier New',monospace\">Final: Sure, how about Bordeaux? It's a beautiful city in southwestern France, known for its wine, historic \n",
       "architecture, and vibrant cultural scene.\n",
       "</pre>\n"
      ],
      "text/plain": [
       "Final: Sure, how about Bordeaux? It's a beautiful city in southwestern France, known for its wine, historic \n",
       "architecture, and vibrant cultural scene.\n"
      ]
     },
     "metadata": {},
     "output_type": "display_data"
    },
    {
     "data": {
      "text/html": [
       "<pre style=\"white-space:pre;overflow-x:auto;line-height:normal;font-family:Menlo,'DejaVu Sans Mono',consolas,'Courier New',monospace\"><span style=\"color: #800080; text-decoration-color: #800080; font-weight: bold\">Usage</span><span style=\"font-weight: bold\">(</span><span style=\"color: #808000; text-decoration-color: #808000\">request_tokens</span>=<span style=\"color: #008080; text-decoration-color: #008080; font-weight: bold\">12</span>, <span style=\"color: #808000; text-decoration-color: #808000\">response_tokens</span>=<span style=\"color: #008080; text-decoration-color: #008080; font-weight: bold\">33</span>, <span style=\"color: #808000; text-decoration-color: #808000\">total_tokens</span>=<span style=\"color: #008080; text-decoration-color: #008080; font-weight: bold\">45</span>, <span style=\"color: #808000; text-decoration-color: #808000\">details</span>=<span style=\"color: #800080; text-decoration-color: #800080; font-style: italic\">None</span><span style=\"font-weight: bold\">)</span>\n",
       "</pre>\n"
      ],
      "text/plain": [
       "\u001b[1;35mUsage\u001b[0m\u001b[1m(\u001b[0m\u001b[33mrequest_tokens\u001b[0m=\u001b[1;36m12\u001b[0m, \u001b[33mresponse_tokens\u001b[0m=\u001b[1;36m33\u001b[0m, \u001b[33mtotal_tokens\u001b[0m=\u001b[1;36m45\u001b[0m, \u001b[33mdetails\u001b[0m=\u001b[3;35mNone\u001b[0m\u001b[1m)\u001b[0m\n"
      ]
     },
     "metadata": {},
     "output_type": "display_data"
    }
   ],
   "source": [
    "agent = Agent(model)\n",
    "result = await agent.run('Could you give a random city? in France')\n",
    "print(\"Final:\", result.data)\n",
    "print(result.usage())"
   ]
  },
  {
   "cell_type": "code",
   "execution_count": 8,
   "metadata": {},
   "outputs": [
    {
     "name": "stdout",
     "output_type": "stream",
     "text": [
      "21:15:50.166 agent run prompt=Could you give a random city? in France\n",
      "21:15:50.166   preparing model and tools run_step=1\n",
      "21:15:50.167   model request\n",
      "21:15:51.914   handle model response\n"
     ]
    },
    {
     "data": {
      "text/html": [
       "<pre style=\"white-space:pre;overflow-x:auto;line-height:normal;font-family:Menlo,'DejaVu Sans Mono',consolas,'Courier New',monospace\">Final: Sure! How about Lyon? It's a beautiful city in eastern France known for its historical and architectural \n",
       "landmarks, as well as its vibrant food scene.\n",
       "</pre>\n"
      ],
      "text/plain": [
       "Final: Sure! How about Lyon? It's a beautiful city in eastern France known for its historical and architectural \n",
       "landmarks, as well as its vibrant food scene.\n"
      ]
     },
     "metadata": {},
     "output_type": "display_data"
    },
    {
     "data": {
      "text/html": [
       "<pre style=\"white-space:pre;overflow-x:auto;line-height:normal;font-family:Menlo,'DejaVu Sans Mono',consolas,'Courier New',monospace\"><span style=\"color: #800080; text-decoration-color: #800080; font-weight: bold\">Usage</span><span style=\"font-weight: bold\">(</span><span style=\"color: #808000; text-decoration-color: #808000\">request_tokens</span>=<span style=\"color: #008080; text-decoration-color: #008080; font-weight: bold\">12</span>, <span style=\"color: #808000; text-decoration-color: #808000\">response_tokens</span>=<span style=\"color: #008080; text-decoration-color: #008080; font-weight: bold\">35</span>, <span style=\"color: #808000; text-decoration-color: #808000\">total_tokens</span>=<span style=\"color: #008080; text-decoration-color: #008080; font-weight: bold\">47</span>, <span style=\"color: #808000; text-decoration-color: #808000\">details</span>=<span style=\"color: #800080; text-decoration-color: #800080; font-style: italic\">None</span><span style=\"font-weight: bold\">)</span>\n",
       "</pre>\n"
      ],
      "text/plain": [
       "\u001b[1;35mUsage\u001b[0m\u001b[1m(\u001b[0m\u001b[33mrequest_tokens\u001b[0m=\u001b[1;36m12\u001b[0m, \u001b[33mresponse_tokens\u001b[0m=\u001b[1;36m35\u001b[0m, \u001b[33mtotal_tokens\u001b[0m=\u001b[1;36m47\u001b[0m, \u001b[33mdetails\u001b[0m=\u001b[3;35mNone\u001b[0m\u001b[1m)\u001b[0m\n"
      ]
     },
     "metadata": {},
     "output_type": "display_data"
    }
   ],
   "source": [
    "agent = Agent(model)\n",
    "result = agent.run_sync('Could you give a random city? in France')\n",
    "print(\"Final:\", result.data)\n",
    "print(result.usage())"
   ]
  },
  {
   "cell_type": "code",
   "execution_count": 9,
   "metadata": {},
   "outputs": [
    {
     "name": "stdout",
     "output_type": "stream",
     "text": [
      "21:15:51.926 agent run stream prompt=Give a 10 random city in usa\n",
      "21:15:51.927   preparing model and tools run_step=1\n",
      "21:15:51.927   model request run_step=1\n",
      "21:15:52.046   handle model response\n",
      "21:15:52.053     response stream text\n"
     ]
    },
    {
     "data": {
      "text/html": [
       "<pre style=\"white-space:pre;overflow-x:auto;line-height:normal;font-family:Menlo,'DejaVu Sans Mono',consolas,'Courier New',monospace\">&gt;&gt;&gt; Sure! Here are ten random\n",
       "</pre>\n"
      ],
      "text/plain": [
       ">>> Sure! Here are ten random\n"
      ]
     },
     "metadata": {},
     "output_type": "display_data"
    },
    {
     "data": {
      "text/html": [
       "<pre style=\"white-space:pre;overflow-x:auto;line-height:normal;font-family:Menlo,'DejaVu Sans Mono',consolas,'Courier New',monospace\">&gt;&gt;&gt; Sure! Here are ten random cities in the USA:\n",
       "\n",
       "</pre>\n"
      ],
      "text/plain": [
       ">>> Sure! Here are ten random cities in the USA:\n",
       "\n"
      ]
     },
     "metadata": {},
     "output_type": "display_data"
    },
    {
     "data": {
      "text/html": [
       "<pre style=\"white-space:pre;overflow-x:auto;line-height:normal;font-family:Menlo,'DejaVu Sans Mono',consolas,'Courier New',monospace\">&gt;&gt;&gt; Sure! Here are ten random cities in the USA:\n",
       "\n",
       "<span style=\"color: #008080; text-decoration-color: #008080; font-weight: bold\">1</span>. Portland, Oregon\n",
       "</pre>\n"
      ],
      "text/plain": [
       ">>> Sure! Here are ten random cities in the USA:\n",
       "\n",
       "\u001b[1;36m1\u001b[0m. Portland, Oregon\n"
      ]
     },
     "metadata": {},
     "output_type": "display_data"
    },
    {
     "data": {
      "text/html": [
       "<pre style=\"white-space:pre;overflow-x:auto;line-height:normal;font-family:Menlo,'DejaVu Sans Mono',consolas,'Courier New',monospace\">&gt;&gt;&gt; Sure! Here are ten random cities in the USA:\n",
       "\n",
       "<span style=\"color: #008080; text-decoration-color: #008080; font-weight: bold\">1</span>. Portland, Oregon\n",
       "<span style=\"color: #008080; text-decoration-color: #008080; font-weight: bold\">2</span>. Miami,\n",
       "</pre>\n"
      ],
      "text/plain": [
       ">>> Sure! Here are ten random cities in the USA:\n",
       "\n",
       "\u001b[1;36m1\u001b[0m. Portland, Oregon\n",
       "\u001b[1;36m2\u001b[0m. Miami,\n"
      ]
     },
     "metadata": {},
     "output_type": "display_data"
    },
    {
     "data": {
      "text/html": [
       "<pre style=\"white-space:pre;overflow-x:auto;line-height:normal;font-family:Menlo,'DejaVu Sans Mono',consolas,'Courier New',monospace\">&gt;&gt;&gt; Sure! Here are ten random cities in the USA:\n",
       "\n",
       "<span style=\"color: #008080; text-decoration-color: #008080; font-weight: bold\">1</span>. Portland, Oregon\n",
       "<span style=\"color: #008080; text-decoration-color: #008080; font-weight: bold\">2</span>. Miami, Florida\n",
       "<span style=\"color: #008080; text-decoration-color: #008080; font-weight: bold\">3</span>. Salt\n",
       "</pre>\n"
      ],
      "text/plain": [
       ">>> Sure! Here are ten random cities in the USA:\n",
       "\n",
       "\u001b[1;36m1\u001b[0m. Portland, Oregon\n",
       "\u001b[1;36m2\u001b[0m. Miami, Florida\n",
       "\u001b[1;36m3\u001b[0m. Salt\n"
      ]
     },
     "metadata": {},
     "output_type": "display_data"
    },
    {
     "data": {
      "text/html": [
       "<pre style=\"white-space:pre;overflow-x:auto;line-height:normal;font-family:Menlo,'DejaVu Sans Mono',consolas,'Courier New',monospace\">&gt;&gt;&gt; Sure! Here are ten random cities in the USA:\n",
       "\n",
       "<span style=\"color: #008080; text-decoration-color: #008080; font-weight: bold\">1</span>. Portland, Oregon\n",
       "<span style=\"color: #008080; text-decoration-color: #008080; font-weight: bold\">2</span>. Miami, Florida\n",
       "<span style=\"color: #008080; text-decoration-color: #008080; font-weight: bold\">3</span>. Salt Lake City, Utah\n",
       "\n",
       "</pre>\n"
      ],
      "text/plain": [
       ">>> Sure! Here are ten random cities in the USA:\n",
       "\n",
       "\u001b[1;36m1\u001b[0m. Portland, Oregon\n",
       "\u001b[1;36m2\u001b[0m. Miami, Florida\n",
       "\u001b[1;36m3\u001b[0m. Salt Lake City, Utah\n",
       "\n"
      ]
     },
     "metadata": {},
     "output_type": "display_data"
    },
    {
     "data": {
      "text/html": [
       "<pre style=\"white-space:pre;overflow-x:auto;line-height:normal;font-family:Menlo,'DejaVu Sans Mono',consolas,'Courier New',monospace\">&gt;&gt;&gt; Sure! Here are ten random cities in the USA:\n",
       "\n",
       "<span style=\"color: #008080; text-decoration-color: #008080; font-weight: bold\">1</span>. Portland, Oregon\n",
       "<span style=\"color: #008080; text-decoration-color: #008080; font-weight: bold\">2</span>. Miami, Florida\n",
       "<span style=\"color: #008080; text-decoration-color: #008080; font-weight: bold\">3</span>. Salt Lake City, Utah\n",
       "<span style=\"color: #008080; text-decoration-color: #008080; font-weight: bold\">4</span>. Charlotte, North\n",
       "</pre>\n"
      ],
      "text/plain": [
       ">>> Sure! Here are ten random cities in the USA:\n",
       "\n",
       "\u001b[1;36m1\u001b[0m. Portland, Oregon\n",
       "\u001b[1;36m2\u001b[0m. Miami, Florida\n",
       "\u001b[1;36m3\u001b[0m. Salt Lake City, Utah\n",
       "\u001b[1;36m4\u001b[0m. Charlotte, North\n"
      ]
     },
     "metadata": {},
     "output_type": "display_data"
    },
    {
     "data": {
      "text/html": [
       "<pre style=\"white-space:pre;overflow-x:auto;line-height:normal;font-family:Menlo,'DejaVu Sans Mono',consolas,'Courier New',monospace\">&gt;&gt;&gt; Sure! Here are ten random cities in the USA:\n",
       "\n",
       "<span style=\"color: #008080; text-decoration-color: #008080; font-weight: bold\">1</span>. Portland, Oregon\n",
       "<span style=\"color: #008080; text-decoration-color: #008080; font-weight: bold\">2</span>. Miami, Florida\n",
       "<span style=\"color: #008080; text-decoration-color: #008080; font-weight: bold\">3</span>. Salt Lake City, Utah\n",
       "<span style=\"color: #008080; text-decoration-color: #008080; font-weight: bold\">4</span>. Charlotte, North Carolina\n",
       "<span style=\"color: #008080; text-decoration-color: #008080; font-weight: bold\">5</span>. Denver\n",
       "</pre>\n"
      ],
      "text/plain": [
       ">>> Sure! Here are ten random cities in the USA:\n",
       "\n",
       "\u001b[1;36m1\u001b[0m. Portland, Oregon\n",
       "\u001b[1;36m2\u001b[0m. Miami, Florida\n",
       "\u001b[1;36m3\u001b[0m. Salt Lake City, Utah\n",
       "\u001b[1;36m4\u001b[0m. Charlotte, North Carolina\n",
       "\u001b[1;36m5\u001b[0m. Denver\n"
      ]
     },
     "metadata": {},
     "output_type": "display_data"
    },
    {
     "data": {
      "text/html": [
       "<pre style=\"white-space:pre;overflow-x:auto;line-height:normal;font-family:Menlo,'DejaVu Sans Mono',consolas,'Courier New',monospace\">&gt;&gt;&gt; Sure! Here are ten random cities in the USA:\n",
       "\n",
       "<span style=\"color: #008080; text-decoration-color: #008080; font-weight: bold\">1</span>. Portland, Oregon\n",
       "<span style=\"color: #008080; text-decoration-color: #008080; font-weight: bold\">2</span>. Miami, Florida\n",
       "<span style=\"color: #008080; text-decoration-color: #008080; font-weight: bold\">3</span>. Salt Lake City, Utah\n",
       "<span style=\"color: #008080; text-decoration-color: #008080; font-weight: bold\">4</span>. Charlotte, North Carolina\n",
       "<span style=\"color: #008080; text-decoration-color: #008080; font-weight: bold\">5</span>. Denver, Colorado\n",
       "<span style=\"color: #008080; text-decoration-color: #008080; font-weight: bold\">6</span>. Nash\n",
       "</pre>\n"
      ],
      "text/plain": [
       ">>> Sure! Here are ten random cities in the USA:\n",
       "\n",
       "\u001b[1;36m1\u001b[0m. Portland, Oregon\n",
       "\u001b[1;36m2\u001b[0m. Miami, Florida\n",
       "\u001b[1;36m3\u001b[0m. Salt Lake City, Utah\n",
       "\u001b[1;36m4\u001b[0m. Charlotte, North Carolina\n",
       "\u001b[1;36m5\u001b[0m. Denver, Colorado\n",
       "\u001b[1;36m6\u001b[0m. Nash\n"
      ]
     },
     "metadata": {},
     "output_type": "display_data"
    },
    {
     "data": {
      "text/html": [
       "<pre style=\"white-space:pre;overflow-x:auto;line-height:normal;font-family:Menlo,'DejaVu Sans Mono',consolas,'Courier New',monospace\">&gt;&gt;&gt; Sure! Here are ten random cities in the USA:\n",
       "\n",
       "<span style=\"color: #008080; text-decoration-color: #008080; font-weight: bold\">1</span>. Portland, Oregon\n",
       "<span style=\"color: #008080; text-decoration-color: #008080; font-weight: bold\">2</span>. Miami, Florida\n",
       "<span style=\"color: #008080; text-decoration-color: #008080; font-weight: bold\">3</span>. Salt Lake City, Utah\n",
       "<span style=\"color: #008080; text-decoration-color: #008080; font-weight: bold\">4</span>. Charlotte, North Carolina\n",
       "<span style=\"color: #008080; text-decoration-color: #008080; font-weight: bold\">5</span>. Denver, Colorado\n",
       "<span style=\"color: #008080; text-decoration-color: #008080; font-weight: bold\">6</span>. Nashville, Tennessee\n",
       "<span style=\"color: #008080; text-decoration-color: #008080; font-weight: bold\">7</span>.\n",
       "</pre>\n"
      ],
      "text/plain": [
       ">>> Sure! Here are ten random cities in the USA:\n",
       "\n",
       "\u001b[1;36m1\u001b[0m. Portland, Oregon\n",
       "\u001b[1;36m2\u001b[0m. Miami, Florida\n",
       "\u001b[1;36m3\u001b[0m. Salt Lake City, Utah\n",
       "\u001b[1;36m4\u001b[0m. Charlotte, North Carolina\n",
       "\u001b[1;36m5\u001b[0m. Denver, Colorado\n",
       "\u001b[1;36m6\u001b[0m. Nashville, Tennessee\n",
       "\u001b[1;36m7\u001b[0m.\n"
      ]
     },
     "metadata": {},
     "output_type": "display_data"
    },
    {
     "data": {
      "text/html": [
       "<pre style=\"white-space:pre;overflow-x:auto;line-height:normal;font-family:Menlo,'DejaVu Sans Mono',consolas,'Courier New',monospace\">&gt;&gt;&gt; Sure! Here are ten random cities in the USA:\n",
       "\n",
       "<span style=\"color: #008080; text-decoration-color: #008080; font-weight: bold\">1</span>. Portland, Oregon\n",
       "<span style=\"color: #008080; text-decoration-color: #008080; font-weight: bold\">2</span>. Miami, Florida\n",
       "<span style=\"color: #008080; text-decoration-color: #008080; font-weight: bold\">3</span>. Salt Lake City, Utah\n",
       "<span style=\"color: #008080; text-decoration-color: #008080; font-weight: bold\">4</span>. Charlotte, North Carolina\n",
       "<span style=\"color: #008080; text-decoration-color: #008080; font-weight: bold\">5</span>. Denver, Colorado\n",
       "<span style=\"color: #008080; text-decoration-color: #008080; font-weight: bold\">6</span>. Nashville, Tennessee\n",
       "<span style=\"color: #008080; text-decoration-color: #008080; font-weight: bold\">7</span>. Detroit, Michigan\n",
       "<span style=\"color: #008080; text-decoration-color: #008080; font-weight: bold\">8</span>.\n",
       "</pre>\n"
      ],
      "text/plain": [
       ">>> Sure! Here are ten random cities in the USA:\n",
       "\n",
       "\u001b[1;36m1\u001b[0m. Portland, Oregon\n",
       "\u001b[1;36m2\u001b[0m. Miami, Florida\n",
       "\u001b[1;36m3\u001b[0m. Salt Lake City, Utah\n",
       "\u001b[1;36m4\u001b[0m. Charlotte, North Carolina\n",
       "\u001b[1;36m5\u001b[0m. Denver, Colorado\n",
       "\u001b[1;36m6\u001b[0m. Nashville, Tennessee\n",
       "\u001b[1;36m7\u001b[0m. Detroit, Michigan\n",
       "\u001b[1;36m8\u001b[0m.\n"
      ]
     },
     "metadata": {},
     "output_type": "display_data"
    },
    {
     "data": {
      "text/html": [
       "<pre style=\"white-space:pre;overflow-x:auto;line-height:normal;font-family:Menlo,'DejaVu Sans Mono',consolas,'Courier New',monospace\">&gt;&gt;&gt; Sure! Here are ten random cities in the USA:\n",
       "\n",
       "<span style=\"color: #008080; text-decoration-color: #008080; font-weight: bold\">1</span>. Portland, Oregon\n",
       "<span style=\"color: #008080; text-decoration-color: #008080; font-weight: bold\">2</span>. Miami, Florida\n",
       "<span style=\"color: #008080; text-decoration-color: #008080; font-weight: bold\">3</span>. Salt Lake City, Utah\n",
       "<span style=\"color: #008080; text-decoration-color: #008080; font-weight: bold\">4</span>. Charlotte, North Carolina\n",
       "<span style=\"color: #008080; text-decoration-color: #008080; font-weight: bold\">5</span>. Denver, Colorado\n",
       "<span style=\"color: #008080; text-decoration-color: #008080; font-weight: bold\">6</span>. Nashville, Tennessee\n",
       "<span style=\"color: #008080; text-decoration-color: #008080; font-weight: bold\">7</span>. Detroit, Michigan\n",
       "<span style=\"color: #008080; text-decoration-color: #008080; font-weight: bold\">8</span>. Phoenix, Arizona\n",
       "<span style=\"color: #008080; text-decoration-color: #008080; font-weight: bold\">9</span>.\n",
       "</pre>\n"
      ],
      "text/plain": [
       ">>> Sure! Here are ten random cities in the USA:\n",
       "\n",
       "\u001b[1;36m1\u001b[0m. Portland, Oregon\n",
       "\u001b[1;36m2\u001b[0m. Miami, Florida\n",
       "\u001b[1;36m3\u001b[0m. Salt Lake City, Utah\n",
       "\u001b[1;36m4\u001b[0m. Charlotte, North Carolina\n",
       "\u001b[1;36m5\u001b[0m. Denver, Colorado\n",
       "\u001b[1;36m6\u001b[0m. Nashville, Tennessee\n",
       "\u001b[1;36m7\u001b[0m. Detroit, Michigan\n",
       "\u001b[1;36m8\u001b[0m. Phoenix, Arizona\n",
       "\u001b[1;36m9\u001b[0m.\n"
      ]
     },
     "metadata": {},
     "output_type": "display_data"
    },
    {
     "data": {
      "text/html": [
       "<pre style=\"white-space:pre;overflow-x:auto;line-height:normal;font-family:Menlo,'DejaVu Sans Mono',consolas,'Courier New',monospace\">&gt;&gt;&gt; Sure! Here are ten random cities in the USA:\n",
       "\n",
       "<span style=\"color: #008080; text-decoration-color: #008080; font-weight: bold\">1</span>. Portland, Oregon\n",
       "<span style=\"color: #008080; text-decoration-color: #008080; font-weight: bold\">2</span>. Miami, Florida\n",
       "<span style=\"color: #008080; text-decoration-color: #008080; font-weight: bold\">3</span>. Salt Lake City, Utah\n",
       "<span style=\"color: #008080; text-decoration-color: #008080; font-weight: bold\">4</span>. Charlotte, North Carolina\n",
       "<span style=\"color: #008080; text-decoration-color: #008080; font-weight: bold\">5</span>. Denver, Colorado\n",
       "<span style=\"color: #008080; text-decoration-color: #008080; font-weight: bold\">6</span>. Nashville, Tennessee\n",
       "<span style=\"color: #008080; text-decoration-color: #008080; font-weight: bold\">7</span>. Detroit, Michigan\n",
       "<span style=\"color: #008080; text-decoration-color: #008080; font-weight: bold\">8</span>. Phoenix, Arizona\n",
       "<span style=\"color: #008080; text-decoration-color: #008080; font-weight: bold\">9</span>. Seattle, Washington\n",
       "<span style=\"color: #008080; text-decoration-color: #008080; font-weight: bold\">10</span>\n",
       "</pre>\n"
      ],
      "text/plain": [
       ">>> Sure! Here are ten random cities in the USA:\n",
       "\n",
       "\u001b[1;36m1\u001b[0m. Portland, Oregon\n",
       "\u001b[1;36m2\u001b[0m. Miami, Florida\n",
       "\u001b[1;36m3\u001b[0m. Salt Lake City, Utah\n",
       "\u001b[1;36m4\u001b[0m. Charlotte, North Carolina\n",
       "\u001b[1;36m5\u001b[0m. Denver, Colorado\n",
       "\u001b[1;36m6\u001b[0m. Nashville, Tennessee\n",
       "\u001b[1;36m7\u001b[0m. Detroit, Michigan\n",
       "\u001b[1;36m8\u001b[0m. Phoenix, Arizona\n",
       "\u001b[1;36m9\u001b[0m. Seattle, Washington\n",
       "\u001b[1;36m10\u001b[0m\n"
      ]
     },
     "metadata": {},
     "output_type": "display_data"
    },
    {
     "data": {
      "text/html": [
       "<pre style=\"white-space:pre;overflow-x:auto;line-height:normal;font-family:Menlo,'DejaVu Sans Mono',consolas,'Courier New',monospace\">&gt;&gt;&gt; Sure! Here are ten random cities in the USA:\n",
       "\n",
       "<span style=\"color: #008080; text-decoration-color: #008080; font-weight: bold\">1</span>. Portland, Oregon\n",
       "<span style=\"color: #008080; text-decoration-color: #008080; font-weight: bold\">2</span>. Miami, Florida\n",
       "<span style=\"color: #008080; text-decoration-color: #008080; font-weight: bold\">3</span>. Salt Lake City, Utah\n",
       "<span style=\"color: #008080; text-decoration-color: #008080; font-weight: bold\">4</span>. Charlotte, North Carolina\n",
       "<span style=\"color: #008080; text-decoration-color: #008080; font-weight: bold\">5</span>. Denver, Colorado\n",
       "<span style=\"color: #008080; text-decoration-color: #008080; font-weight: bold\">6</span>. Nashville, Tennessee\n",
       "<span style=\"color: #008080; text-decoration-color: #008080; font-weight: bold\">7</span>. Detroit, Michigan\n",
       "<span style=\"color: #008080; text-decoration-color: #008080; font-weight: bold\">8</span>. Phoenix, Arizona\n",
       "<span style=\"color: #008080; text-decoration-color: #008080; font-weight: bold\">9</span>. Seattle, Washington\n",
       "<span style=\"color: #008080; text-decoration-color: #008080; font-weight: bold\">10</span>. Baltimore, Maryland\n",
       "\n",
       "</pre>\n"
      ],
      "text/plain": [
       ">>> Sure! Here are ten random cities in the USA:\n",
       "\n",
       "\u001b[1;36m1\u001b[0m. Portland, Oregon\n",
       "\u001b[1;36m2\u001b[0m. Miami, Florida\n",
       "\u001b[1;36m3\u001b[0m. Salt Lake City, Utah\n",
       "\u001b[1;36m4\u001b[0m. Charlotte, North Carolina\n",
       "\u001b[1;36m5\u001b[0m. Denver, Colorado\n",
       "\u001b[1;36m6\u001b[0m. Nashville, Tennessee\n",
       "\u001b[1;36m7\u001b[0m. Detroit, Michigan\n",
       "\u001b[1;36m8\u001b[0m. Phoenix, Arizona\n",
       "\u001b[1;36m9\u001b[0m. Seattle, Washington\n",
       "\u001b[1;36m10\u001b[0m. Baltimore, Maryland\n",
       "\n"
      ]
     },
     "metadata": {},
     "output_type": "display_data"
    },
    {
     "data": {
      "text/html": [
       "<pre style=\"white-space:pre;overflow-x:auto;line-height:normal;font-family:Menlo,'DejaVu Sans Mono',consolas,'Courier New',monospace\">&gt;&gt;&gt; Sure! Here are ten random cities in the USA:\n",
       "\n",
       "<span style=\"color: #008080; text-decoration-color: #008080; font-weight: bold\">1</span>. Portland, Oregon\n",
       "<span style=\"color: #008080; text-decoration-color: #008080; font-weight: bold\">2</span>. Miami, Florida\n",
       "<span style=\"color: #008080; text-decoration-color: #008080; font-weight: bold\">3</span>. Salt Lake City, Utah\n",
       "<span style=\"color: #008080; text-decoration-color: #008080; font-weight: bold\">4</span>. Charlotte, North Carolina\n",
       "<span style=\"color: #008080; text-decoration-color: #008080; font-weight: bold\">5</span>. Denver, Colorado\n",
       "<span style=\"color: #008080; text-decoration-color: #008080; font-weight: bold\">6</span>. Nashville, Tennessee\n",
       "<span style=\"color: #008080; text-decoration-color: #008080; font-weight: bold\">7</span>. Detroit, Michigan\n",
       "<span style=\"color: #008080; text-decoration-color: #008080; font-weight: bold\">8</span>. Phoenix, Arizona\n",
       "<span style=\"color: #008080; text-decoration-color: #008080; font-weight: bold\">9</span>. Seattle, Washington\n",
       "<span style=\"color: #008080; text-decoration-color: #008080; font-weight: bold\">10</span>. Baltimore, Maryland\n",
       "\n",
       "These cities span various\n",
       "</pre>\n"
      ],
      "text/plain": [
       ">>> Sure! Here are ten random cities in the USA:\n",
       "\n",
       "\u001b[1;36m1\u001b[0m. Portland, Oregon\n",
       "\u001b[1;36m2\u001b[0m. Miami, Florida\n",
       "\u001b[1;36m3\u001b[0m. Salt Lake City, Utah\n",
       "\u001b[1;36m4\u001b[0m. Charlotte, North Carolina\n",
       "\u001b[1;36m5\u001b[0m. Denver, Colorado\n",
       "\u001b[1;36m6\u001b[0m. Nashville, Tennessee\n",
       "\u001b[1;36m7\u001b[0m. Detroit, Michigan\n",
       "\u001b[1;36m8\u001b[0m. Phoenix, Arizona\n",
       "\u001b[1;36m9\u001b[0m. Seattle, Washington\n",
       "\u001b[1;36m10\u001b[0m. Baltimore, Maryland\n",
       "\n",
       "These cities span various\n"
      ]
     },
     "metadata": {},
     "output_type": "display_data"
    },
    {
     "data": {
      "text/html": [
       "<pre style=\"white-space:pre;overflow-x:auto;line-height:normal;font-family:Menlo,'DejaVu Sans Mono',consolas,'Courier New',monospace\">&gt;&gt;&gt; Sure! Here are ten random cities in the USA:\n",
       "\n",
       "<span style=\"color: #008080; text-decoration-color: #008080; font-weight: bold\">1</span>. Portland, Oregon\n",
       "<span style=\"color: #008080; text-decoration-color: #008080; font-weight: bold\">2</span>. Miami, Florida\n",
       "<span style=\"color: #008080; text-decoration-color: #008080; font-weight: bold\">3</span>. Salt Lake City, Utah\n",
       "<span style=\"color: #008080; text-decoration-color: #008080; font-weight: bold\">4</span>. Charlotte, North Carolina\n",
       "<span style=\"color: #008080; text-decoration-color: #008080; font-weight: bold\">5</span>. Denver, Colorado\n",
       "<span style=\"color: #008080; text-decoration-color: #008080; font-weight: bold\">6</span>. Nashville, Tennessee\n",
       "<span style=\"color: #008080; text-decoration-color: #008080; font-weight: bold\">7</span>. Detroit, Michigan\n",
       "<span style=\"color: #008080; text-decoration-color: #008080; font-weight: bold\">8</span>. Phoenix, Arizona\n",
       "<span style=\"color: #008080; text-decoration-color: #008080; font-weight: bold\">9</span>. Seattle, Washington\n",
       "<span style=\"color: #008080; text-decoration-color: #008080; font-weight: bold\">10</span>. Baltimore, Maryland\n",
       "\n",
       "These cities span various regions and offer diverse cultural\n",
       "</pre>\n"
      ],
      "text/plain": [
       ">>> Sure! Here are ten random cities in the USA:\n",
       "\n",
       "\u001b[1;36m1\u001b[0m. Portland, Oregon\n",
       "\u001b[1;36m2\u001b[0m. Miami, Florida\n",
       "\u001b[1;36m3\u001b[0m. Salt Lake City, Utah\n",
       "\u001b[1;36m4\u001b[0m. Charlotte, North Carolina\n",
       "\u001b[1;36m5\u001b[0m. Denver, Colorado\n",
       "\u001b[1;36m6\u001b[0m. Nashville, Tennessee\n",
       "\u001b[1;36m7\u001b[0m. Detroit, Michigan\n",
       "\u001b[1;36m8\u001b[0m. Phoenix, Arizona\n",
       "\u001b[1;36m9\u001b[0m. Seattle, Washington\n",
       "\u001b[1;36m10\u001b[0m. Baltimore, Maryland\n",
       "\n",
       "These cities span various regions and offer diverse cultural\n"
      ]
     },
     "metadata": {},
     "output_type": "display_data"
    },
    {
     "data": {
      "text/html": [
       "<pre style=\"white-space:pre;overflow-x:auto;line-height:normal;font-family:Menlo,'DejaVu Sans Mono',consolas,'Courier New',monospace\">&gt;&gt;&gt; Sure! Here are ten random cities in the USA:\n",
       "\n",
       "<span style=\"color: #008080; text-decoration-color: #008080; font-weight: bold\">1</span>. Portland, Oregon\n",
       "<span style=\"color: #008080; text-decoration-color: #008080; font-weight: bold\">2</span>. Miami, Florida\n",
       "<span style=\"color: #008080; text-decoration-color: #008080; font-weight: bold\">3</span>. Salt Lake City, Utah\n",
       "<span style=\"color: #008080; text-decoration-color: #008080; font-weight: bold\">4</span>. Charlotte, North Carolina\n",
       "<span style=\"color: #008080; text-decoration-color: #008080; font-weight: bold\">5</span>. Denver, Colorado\n",
       "<span style=\"color: #008080; text-decoration-color: #008080; font-weight: bold\">6</span>. Nashville, Tennessee\n",
       "<span style=\"color: #008080; text-decoration-color: #008080; font-weight: bold\">7</span>. Detroit, Michigan\n",
       "<span style=\"color: #008080; text-decoration-color: #008080; font-weight: bold\">8</span>. Phoenix, Arizona\n",
       "<span style=\"color: #008080; text-decoration-color: #008080; font-weight: bold\">9</span>. Seattle, Washington\n",
       "<span style=\"color: #008080; text-decoration-color: #008080; font-weight: bold\">10</span>. Baltimore, Maryland\n",
       "\n",
       "These cities span various regions and offer diverse cultural, economic, and ge\n",
       "</pre>\n"
      ],
      "text/plain": [
       ">>> Sure! Here are ten random cities in the USA:\n",
       "\n",
       "\u001b[1;36m1\u001b[0m. Portland, Oregon\n",
       "\u001b[1;36m2\u001b[0m. Miami, Florida\n",
       "\u001b[1;36m3\u001b[0m. Salt Lake City, Utah\n",
       "\u001b[1;36m4\u001b[0m. Charlotte, North Carolina\n",
       "\u001b[1;36m5\u001b[0m. Denver, Colorado\n",
       "\u001b[1;36m6\u001b[0m. Nashville, Tennessee\n",
       "\u001b[1;36m7\u001b[0m. Detroit, Michigan\n",
       "\u001b[1;36m8\u001b[0m. Phoenix, Arizona\n",
       "\u001b[1;36m9\u001b[0m. Seattle, Washington\n",
       "\u001b[1;36m10\u001b[0m. Baltimore, Maryland\n",
       "\n",
       "These cities span various regions and offer diverse cultural, economic, and ge\n"
      ]
     },
     "metadata": {},
     "output_type": "display_data"
    },
    {
     "data": {
      "text/html": [
       "<pre style=\"white-space:pre;overflow-x:auto;line-height:normal;font-family:Menlo,'DejaVu Sans Mono',consolas,'Courier New',monospace\">&gt;&gt;&gt; Sure! Here are ten random cities in the USA:\n",
       "\n",
       "<span style=\"color: #008080; text-decoration-color: #008080; font-weight: bold\">1</span>. Portland, Oregon\n",
       "<span style=\"color: #008080; text-decoration-color: #008080; font-weight: bold\">2</span>. Miami, Florida\n",
       "<span style=\"color: #008080; text-decoration-color: #008080; font-weight: bold\">3</span>. Salt Lake City, Utah\n",
       "<span style=\"color: #008080; text-decoration-color: #008080; font-weight: bold\">4</span>. Charlotte, North Carolina\n",
       "<span style=\"color: #008080; text-decoration-color: #008080; font-weight: bold\">5</span>. Denver, Colorado\n",
       "<span style=\"color: #008080; text-decoration-color: #008080; font-weight: bold\">6</span>. Nashville, Tennessee\n",
       "<span style=\"color: #008080; text-decoration-color: #008080; font-weight: bold\">7</span>. Detroit, Michigan\n",
       "<span style=\"color: #008080; text-decoration-color: #008080; font-weight: bold\">8</span>. Phoenix, Arizona\n",
       "<span style=\"color: #008080; text-decoration-color: #008080; font-weight: bold\">9</span>. Seattle, Washington\n",
       "<span style=\"color: #008080; text-decoration-color: #008080; font-weight: bold\">10</span>. Baltimore, Maryland\n",
       "\n",
       "These cities span various regions and offer diverse cultural, economic, and geographical experiences.\n",
       "</pre>\n"
      ],
      "text/plain": [
       ">>> Sure! Here are ten random cities in the USA:\n",
       "\n",
       "\u001b[1;36m1\u001b[0m. Portland, Oregon\n",
       "\u001b[1;36m2\u001b[0m. Miami, Florida\n",
       "\u001b[1;36m3\u001b[0m. Salt Lake City, Utah\n",
       "\u001b[1;36m4\u001b[0m. Charlotte, North Carolina\n",
       "\u001b[1;36m5\u001b[0m. Denver, Colorado\n",
       "\u001b[1;36m6\u001b[0m. Nashville, Tennessee\n",
       "\u001b[1;36m7\u001b[0m. Detroit, Michigan\n",
       "\u001b[1;36m8\u001b[0m. Phoenix, Arizona\n",
       "\u001b[1;36m9\u001b[0m. Seattle, Washington\n",
       "\u001b[1;36m10\u001b[0m. Baltimore, Maryland\n",
       "\n",
       "These cities span various regions and offer diverse cultural, economic, and geographical experiences.\n"
      ]
     },
     "metadata": {},
     "output_type": "display_data"
    },
    {
     "data": {
      "text/html": [
       "<pre style=\"white-space:pre;overflow-x:auto;line-height:normal;font-family:Menlo,'DejaVu Sans Mono',consolas,'Courier New',monospace\">Cost:\n",
       "<span style=\"color: #800080; text-decoration-color: #800080; font-weight: bold\">Usage</span><span style=\"font-weight: bold\">(</span><span style=\"color: #808000; text-decoration-color: #808000\">request_tokens</span>=<span style=\"color: #008080; text-decoration-color: #008080; font-weight: bold\">13</span>, <span style=\"color: #808000; text-decoration-color: #808000\">response_tokens</span>=<span style=\"color: #008080; text-decoration-color: #008080; font-weight: bold\">96</span>, <span style=\"color: #808000; text-decoration-color: #808000\">total_tokens</span>=<span style=\"color: #008080; text-decoration-color: #008080; font-weight: bold\">109</span>, <span style=\"color: #808000; text-decoration-color: #808000\">details</span>=<span style=\"color: #800080; text-decoration-color: #800080; font-style: italic\">None</span><span style=\"font-weight: bold\">)</span>\n",
       "</pre>\n"
      ],
      "text/plain": [
       "Cost:\n",
       "\u001b[1;35mUsage\u001b[0m\u001b[1m(\u001b[0m\u001b[33mrequest_tokens\u001b[0m=\u001b[1;36m13\u001b[0m, \u001b[33mresponse_tokens\u001b[0m=\u001b[1;36m96\u001b[0m, \u001b[33mtotal_tokens\u001b[0m=\u001b[1;36m109\u001b[0m, \u001b[33mdetails\u001b[0m=\u001b[3;35mNone\u001b[0m\u001b[1m)\u001b[0m\n"
      ]
     },
     "metadata": {},
     "output_type": "display_data"
    },
    {
     "data": {
      "text/html": [
       "<pre style=\"white-space:pre;overflow-x:auto;line-height:normal;font-family:Menlo,'DejaVu Sans Mono',consolas,'Courier New',monospace\">Time <span style=\"color: #008080; text-decoration-color: #008080; font-weight: bold\">2024</span>-<span style=\"color: #008080; text-decoration-color: #008080; font-weight: bold\">12</span>-<span style=\"color: #008080; text-decoration-color: #008080; font-weight: bold\">18</span> <span style=\"color: #00ff00; text-decoration-color: #00ff00; font-weight: bold\">21:15:52</span>+<span style=\"color: #00ff00; text-decoration-color: #00ff00; font-weight: bold\">00:00</span>\n",
       "</pre>\n"
      ],
      "text/plain": [
       "Time \u001b[1;36m2024\u001b[0m-\u001b[1;36m12\u001b[0m-\u001b[1;36m18\u001b[0m \u001b[1;92m21:15:52\u001b[0m+\u001b[1;92m00:00\u001b[0m\n"
      ]
     },
     "metadata": {},
     "output_type": "display_data"
    }
   ],
   "source": [
    "async with agent.run_stream('Give a 10 random city in usa') as result:\n",
    "    async for profile in result.stream():\n",
    "        print(\">>>\", profile)\n",
    "        \n",
    "\n",
    "print(\"Cost:\", result.usage())\n",
    "print(\"Time\", result.timestamp())"
   ]
  },
  {
   "cell_type": "markdown",
   "metadata": {},
   "source": [
    "# Structured Output"
   ]
  },
  {
   "cell_type": "code",
   "execution_count": 10,
   "metadata": {},
   "outputs": [
    {
     "name": "stdout",
     "output_type": "stream",
     "text": [
      "21:15:54.067 agent run prompt=Could you give a random city? in france\n",
      "21:15:54.067   preparing model and tools run_step=1\n",
      "21:15:54.067   model request\n",
      "21:15:54.496   handle model response\n"
     ]
    },
    {
     "data": {
      "text/html": [
       "<pre style=\"white-space:pre;overflow-x:auto;line-height:normal;font-family:Menlo,'DejaVu Sans Mono',consolas,'Courier New',monospace\"><span style=\"color: #800080; text-decoration-color: #800080; font-weight: bold\">CityLocation</span><span style=\"font-weight: bold\">(</span><span style=\"color: #808000; text-decoration-color: #808000\">city</span>=<span style=\"color: #008000; text-decoration-color: #008000\">'Paris'</span><span style=\"font-weight: bold\">)</span>\n",
       "</pre>\n"
      ],
      "text/plain": [
       "\u001b[1;35mCityLocation\u001b[0m\u001b[1m(\u001b[0m\u001b[33mcity\u001b[0m=\u001b[32m'Paris'\u001b[0m\u001b[1m)\u001b[0m\n"
      ]
     },
     "metadata": {},
     "output_type": "display_data"
    },
    {
     "data": {
      "text/html": [
       "<pre style=\"white-space:pre;overflow-x:auto;line-height:normal;font-family:Menlo,'DejaVu Sans Mono',consolas,'Courier New',monospace\"><span style=\"color: #800080; text-decoration-color: #800080; font-weight: bold\">Usage</span><span style=\"font-weight: bold\">(</span><span style=\"color: #808000; text-decoration-color: #808000\">request_tokens</span>=<span style=\"color: #008080; text-decoration-color: #008080; font-weight: bold\">88</span>, <span style=\"color: #808000; text-decoration-color: #808000\">response_tokens</span>=<span style=\"color: #008080; text-decoration-color: #008080; font-weight: bold\">22</span>, <span style=\"color: #808000; text-decoration-color: #808000\">total_tokens</span>=<span style=\"color: #008080; text-decoration-color: #008080; font-weight: bold\">110</span>, <span style=\"color: #808000; text-decoration-color: #808000\">details</span>=<span style=\"color: #800080; text-decoration-color: #800080; font-style: italic\">None</span><span style=\"font-weight: bold\">)</span>\n",
       "</pre>\n"
      ],
      "text/plain": [
       "\u001b[1;35mUsage\u001b[0m\u001b[1m(\u001b[0m\u001b[33mrequest_tokens\u001b[0m=\u001b[1;36m88\u001b[0m, \u001b[33mresponse_tokens\u001b[0m=\u001b[1;36m22\u001b[0m, \u001b[33mtotal_tokens\u001b[0m=\u001b[1;36m110\u001b[0m, \u001b[33mdetails\u001b[0m=\u001b[3;35mNone\u001b[0m\u001b[1m)\u001b[0m\n"
      ]
     },
     "metadata": {},
     "output_type": "display_data"
    }
   ],
   "source": [
    "class CityLocation(BaseModel):\n",
    "    city: str\n",
    "    \n",
    "agent = Agent(model,result_type=CityLocation)\n",
    "\n",
    "result = await agent.run('Could you give a random city? in france')\n",
    "print(result.data)\n",
    "print(result.usage())"
   ]
  },
  {
   "cell_type": "code",
   "execution_count": 11,
   "metadata": {},
   "outputs": [
    {
     "name": "stdout",
     "output_type": "stream",
     "text": [
      "21:15:54.507 agent run prompt=Could you give a random city? in france\n",
      "21:15:54.508   preparing model and tools run_step=1\n",
      "21:15:54.508   model request\n",
      "21:15:55.289   handle model response\n"
     ]
    },
    {
     "data": {
      "text/html": [
       "<pre style=\"white-space:pre;overflow-x:auto;line-height:normal;font-family:Menlo,'DejaVu Sans Mono',consolas,'Courier New',monospace\"><span style=\"color: #800080; text-decoration-color: #800080; font-weight: bold\">CityLocation</span><span style=\"font-weight: bold\">(</span><span style=\"color: #808000; text-decoration-color: #808000\">city</span>=<span style=\"color: #008000; text-decoration-color: #008000\">'Paris'</span>, <span style=\"color: #808000; text-decoration-color: #808000\">country</span>=<span style=\"color: #008000; text-decoration-color: #008000\">'France'</span><span style=\"font-weight: bold\">)</span>\n",
       "</pre>\n"
      ],
      "text/plain": [
       "\u001b[1;35mCityLocation\u001b[0m\u001b[1m(\u001b[0m\u001b[33mcity\u001b[0m=\u001b[32m'Paris'\u001b[0m, \u001b[33mcountry\u001b[0m=\u001b[32m'France'\u001b[0m\u001b[1m)\u001b[0m\n"
      ]
     },
     "metadata": {},
     "output_type": "display_data"
    },
    {
     "data": {
      "text/html": [
       "<pre style=\"white-space:pre;overflow-x:auto;line-height:normal;font-family:Menlo,'DejaVu Sans Mono',consolas,'Courier New',monospace\"><span style=\"color: #800080; text-decoration-color: #800080; font-weight: bold\">Usage</span><span style=\"font-weight: bold\">(</span><span style=\"color: #808000; text-decoration-color: #808000\">request_tokens</span>=<span style=\"color: #008080; text-decoration-color: #008080; font-weight: bold\">106</span>, <span style=\"color: #808000; text-decoration-color: #808000\">response_tokens</span>=<span style=\"color: #008080; text-decoration-color: #008080; font-weight: bold\">29</span>, <span style=\"color: #808000; text-decoration-color: #808000\">total_tokens</span>=<span style=\"color: #008080; text-decoration-color: #008080; font-weight: bold\">135</span>, <span style=\"color: #808000; text-decoration-color: #808000\">details</span>=<span style=\"color: #800080; text-decoration-color: #800080; font-style: italic\">None</span><span style=\"font-weight: bold\">)</span>\n",
       "</pre>\n"
      ],
      "text/plain": [
       "\u001b[1;35mUsage\u001b[0m\u001b[1m(\u001b[0m\u001b[33mrequest_tokens\u001b[0m=\u001b[1;36m106\u001b[0m, \u001b[33mresponse_tokens\u001b[0m=\u001b[1;36m29\u001b[0m, \u001b[33mtotal_tokens\u001b[0m=\u001b[1;36m135\u001b[0m, \u001b[33mdetails\u001b[0m=\u001b[3;35mNone\u001b[0m\u001b[1m)\u001b[0m\n"
      ]
     },
     "metadata": {},
     "output_type": "display_data"
    }
   ],
   "source": [
    "class CityLocation(BaseModel):\n",
    "    city: str\n",
    "    country: str\n",
    "    \n",
    "agent = Agent(model,result_type=CityLocation)\n",
    "\n",
    "result = await agent.run('Could you give a random city? in france')\n",
    "print(result.data)\n",
    "print(result.usage())"
   ]
  },
  {
   "cell_type": "code",
   "execution_count": 12,
   "metadata": {},
   "outputs": [
    {
     "name": "stdout",
     "output_type": "stream",
     "text": [
      "21:15:55.304 agent run prompt=Could you give a random city? in france\n",
      "21:15:55.305   preparing model and tools run_step=1\n",
      "21:15:55.306   model request\n",
      "21:15:57.890   handle model response\n"
     ]
    },
    {
     "data": {
      "text/html": [
       "<pre style=\"white-space:pre;overflow-x:auto;line-height:normal;font-family:Menlo,'DejaVu Sans Mono',consolas,'Courier New',monospace\"><span style=\"color: #800080; text-decoration-color: #800080; font-weight: bold\">CityLocation</span><span style=\"font-weight: bold\">(</span><span style=\"color: #808000; text-decoration-color: #808000\">city</span>=<span style=\"color: #008000; text-decoration-color: #008000\">'Paris'</span>, <span style=\"color: #808000; text-decoration-color: #808000\">country</span>=<span style=\"color: #008000; text-decoration-color: #008000\">'France'</span><span style=\"font-weight: bold\">)</span>\n",
       "</pre>\n"
      ],
      "text/plain": [
       "\u001b[1;35mCityLocation\u001b[0m\u001b[1m(\u001b[0m\u001b[33mcity\u001b[0m=\u001b[32m'Paris'\u001b[0m, \u001b[33mcountry\u001b[0m=\u001b[32m'France'\u001b[0m\u001b[1m)\u001b[0m\n"
      ]
     },
     "metadata": {},
     "output_type": "display_data"
    },
    {
     "data": {
      "text/html": [
       "<pre style=\"white-space:pre;overflow-x:auto;line-height:normal;font-family:Menlo,'DejaVu Sans Mono',consolas,'Courier New',monospace\"><span style=\"color: #800080; text-decoration-color: #800080; font-weight: bold\">Usage</span><span style=\"font-weight: bold\">(</span><span style=\"color: #808000; text-decoration-color: #808000\">request_tokens</span>=<span style=\"color: #008080; text-decoration-color: #008080; font-weight: bold\">106</span>, <span style=\"color: #808000; text-decoration-color: #808000\">response_tokens</span>=<span style=\"color: #008080; text-decoration-color: #008080; font-weight: bold\">29</span>, <span style=\"color: #808000; text-decoration-color: #808000\">total_tokens</span>=<span style=\"color: #008080; text-decoration-color: #008080; font-weight: bold\">135</span>, <span style=\"color: #808000; text-decoration-color: #808000\">details</span>=<span style=\"color: #800080; text-decoration-color: #800080; font-style: italic\">None</span><span style=\"font-weight: bold\">)</span>\n",
       "</pre>\n"
      ],
      "text/plain": [
       "\u001b[1;35mUsage\u001b[0m\u001b[1m(\u001b[0m\u001b[33mrequest_tokens\u001b[0m=\u001b[1;36m106\u001b[0m, \u001b[33mresponse_tokens\u001b[0m=\u001b[1;36m29\u001b[0m, \u001b[33mtotal_tokens\u001b[0m=\u001b[1;36m135\u001b[0m, \u001b[33mdetails\u001b[0m=\u001b[3;35mNone\u001b[0m\u001b[1m)\u001b[0m\n"
      ]
     },
     "metadata": {},
     "output_type": "display_data"
    }
   ],
   "source": [
    "class CityLocation(BaseModel):\n",
    "    city: str\n",
    "    country: str\n",
    "    \n",
    "agent = Agent(model,result_type=CityLocation)\n",
    "\n",
    "result = agent.run_sync('Could you give a random city? in france')\n",
    "print(result.data)\n",
    "print(result.usage())"
   ]
  },
  {
   "cell_type": "code",
   "execution_count": 13,
   "metadata": {},
   "outputs": [
    {
     "name": "stdout",
     "output_type": "stream",
     "text": [
      "21:15:57.899 agent run stream prompt=Could you give a 1 random city\n",
      "21:15:57.899   preparing model and tools run_step=1\n",
      "21:15:57.899   model request run_step=1\n",
      "21:15:58.019   handle model response\n",
      "21:15:58.084     response stream structured\n"
     ]
    },
    {
     "data": {
      "text/html": [
       "<pre style=\"white-space:pre;overflow-x:auto;line-height:normal;font-family:Menlo,'DejaVu Sans Mono',consolas,'Courier New',monospace\"><span style=\"color: #800080; text-decoration-color: #800080; font-weight: bold\">CityLocation</span><span style=\"font-weight: bold\">(</span><span style=\"color: #808000; text-decoration-color: #808000\">city</span>=<span style=\"color: #008000; text-decoration-color: #008000\">'Marrakech'</span>, <span style=\"color: #808000; text-decoration-color: #808000\">country</span>=<span style=\"color: #008000; text-decoration-color: #008000\">''</span><span style=\"font-weight: bold\">)</span>\n",
       "</pre>\n"
      ],
      "text/plain": [
       "\u001b[1;35mCityLocation\u001b[0m\u001b[1m(\u001b[0m\u001b[33mcity\u001b[0m=\u001b[32m'Marrakech'\u001b[0m, \u001b[33mcountry\u001b[0m=\u001b[32m''\u001b[0m\u001b[1m)\u001b[0m\n"
      ]
     },
     "metadata": {},
     "output_type": "display_data"
    },
    {
     "data": {
      "text/html": [
       "<pre style=\"white-space:pre;overflow-x:auto;line-height:normal;font-family:Menlo,'DejaVu Sans Mono',consolas,'Courier New',monospace\"><span style=\"color: #800080; text-decoration-color: #800080; font-weight: bold\">CityLocation</span><span style=\"font-weight: bold\">(</span><span style=\"color: #808000; text-decoration-color: #808000\">city</span>=<span style=\"color: #008000; text-decoration-color: #008000\">'Marrakech'</span>, <span style=\"color: #808000; text-decoration-color: #808000\">country</span>=<span style=\"color: #008000; text-decoration-color: #008000\">'Moroc'</span><span style=\"font-weight: bold\">)</span>\n",
       "</pre>\n"
      ],
      "text/plain": [
       "\u001b[1;35mCityLocation\u001b[0m\u001b[1m(\u001b[0m\u001b[33mcity\u001b[0m=\u001b[32m'Marrakech'\u001b[0m, \u001b[33mcountry\u001b[0m=\u001b[32m'Moroc'\u001b[0m\u001b[1m)\u001b[0m\n"
      ]
     },
     "metadata": {},
     "output_type": "display_data"
    },
    {
     "data": {
      "text/html": [
       "<pre style=\"white-space:pre;overflow-x:auto;line-height:normal;font-family:Menlo,'DejaVu Sans Mono',consolas,'Courier New',monospace\"><span style=\"color: #800080; text-decoration-color: #800080; font-weight: bold\">CityLocation</span><span style=\"font-weight: bold\">(</span><span style=\"color: #808000; text-decoration-color: #808000\">city</span>=<span style=\"color: #008000; text-decoration-color: #008000\">'Marrakech'</span>, <span style=\"color: #808000; text-decoration-color: #808000\">country</span>=<span style=\"color: #008000; text-decoration-color: #008000\">'Morocco'</span><span style=\"font-weight: bold\">)</span>\n",
       "</pre>\n"
      ],
      "text/plain": [
       "\u001b[1;35mCityLocation\u001b[0m\u001b[1m(\u001b[0m\u001b[33mcity\u001b[0m=\u001b[32m'Marrakech'\u001b[0m, \u001b[33mcountry\u001b[0m=\u001b[32m'Morocco'\u001b[0m\u001b[1m)\u001b[0m\n"
      ]
     },
     "metadata": {},
     "output_type": "display_data"
    },
    {
     "data": {
      "text/html": [
       "<pre style=\"white-space:pre;overflow-x:auto;line-height:normal;font-family:Menlo,'DejaVu Sans Mono',consolas,'Courier New',monospace\"><span style=\"color: #800080; text-decoration-color: #800080; font-weight: bold\">CityLocation</span><span style=\"font-weight: bold\">(</span><span style=\"color: #808000; text-decoration-color: #808000\">city</span>=<span style=\"color: #008000; text-decoration-color: #008000\">'Marrakech'</span>, <span style=\"color: #808000; text-decoration-color: #808000\">country</span>=<span style=\"color: #008000; text-decoration-color: #008000\">'Morocco'</span><span style=\"font-weight: bold\">)</span>\n",
       "</pre>\n"
      ],
      "text/plain": [
       "\u001b[1;35mCityLocation\u001b[0m\u001b[1m(\u001b[0m\u001b[33mcity\u001b[0m=\u001b[32m'Marrakech'\u001b[0m, \u001b[33mcountry\u001b[0m=\u001b[32m'Morocco'\u001b[0m\u001b[1m)\u001b[0m\n"
      ]
     },
     "metadata": {},
     "output_type": "display_data"
    },
    {
     "data": {
      "text/html": [
       "<pre style=\"white-space:pre;overflow-x:auto;line-height:normal;font-family:Menlo,'DejaVu Sans Mono',consolas,'Courier New',monospace\"><span style=\"color: #800080; text-decoration-color: #800080; font-weight: bold\">Usage</span><span style=\"font-weight: bold\">(</span><span style=\"color: #808000; text-decoration-color: #808000\">request_tokens</span>=<span style=\"color: #008080; text-decoration-color: #008080; font-weight: bold\">42</span>, <span style=\"color: #808000; text-decoration-color: #808000\">response_tokens</span>=<span style=\"color: #008080; text-decoration-color: #008080; font-weight: bold\">17</span>, <span style=\"color: #808000; text-decoration-color: #808000\">total_tokens</span>=<span style=\"color: #008080; text-decoration-color: #008080; font-weight: bold\">59</span>, <span style=\"color: #808000; text-decoration-color: #808000\">details</span>=<span style=\"color: #800080; text-decoration-color: #800080; font-style: italic\">None</span><span style=\"font-weight: bold\">)</span>\n",
       "</pre>\n"
      ],
      "text/plain": [
       "\u001b[1;35mUsage\u001b[0m\u001b[1m(\u001b[0m\u001b[33mrequest_tokens\u001b[0m=\u001b[1;36m42\u001b[0m, \u001b[33mresponse_tokens\u001b[0m=\u001b[1;36m17\u001b[0m, \u001b[33mtotal_tokens\u001b[0m=\u001b[1;36m59\u001b[0m, \u001b[33mdetails\u001b[0m=\u001b[3;35mNone\u001b[0m\u001b[1m)\u001b[0m\n"
      ]
     },
     "metadata": {},
     "output_type": "display_data"
    }
   ],
   "source": [
    "class CityLocation(BaseModel):\n",
    "    city: str = \"\"\n",
    "    country: str = \"\"\n",
    "    \n",
    "agent = Agent(model,result_type=CityLocation)\n",
    "\n",
    "async with agent.run_stream('Could you give a 1 random city') as result:\n",
    "    async for chunk in result.stream():\n",
    "        print(chunk)\n",
    "        \n",
    "print(result.usage())"
   ]
  },
  {
   "cell_type": "code",
   "execution_count": 14,
   "metadata": {},
   "outputs": [],
   "source": [
    "# NOTE: Fail with list Add exclusion of result_type type List\n",
    "# class CityLocation(BaseModel):\n",
    "#     city: str = \"\"\n",
    "#     country: str = \"\"\n",
    "    \n",
    "# agent = Agent(model,result_type=list[CityLocation])\n",
    "\n",
    "# async with agent.run_stream('Could you give a 5 random city') as result:\n",
    "#     async for chunk in result.stream():\n",
    "#         print(chunk)\n",
    "        \n",
    "# print(result.cost())"
   ]
  },
  {
   "cell_type": "code",
   "execution_count": 15,
   "metadata": {},
   "outputs": [
    {
     "name": "stdout",
     "output_type": "stream",
     "text": [
      "21:15:58.371 agent run stream prompt=Could you give a 20 random city? in france\n",
      "21:15:58.371   preparing model and tools run_step=1\n",
      "21:15:58.372   model request run_step=1\n",
      "21:15:58.550   handle model response\n",
      "21:15:58.668     response stream structured\n"
     ]
    },
    {
     "data": {
      "text/html": [
       "<pre style=\"white-space:pre;overflow-x:auto;line-height:normal;font-family:Menlo,'DejaVu Sans Mono',consolas,'Courier New',monospace\"><span style=\"font-weight: bold\">{</span><span style=\"color: #008000; text-decoration-color: #008000\">'city'</span>: <span style=\"font-weight: bold\">[</span><span style=\"color: #008000; text-decoration-color: #008000\">'Paris'</span><span style=\"font-weight: bold\">]}</span>\n",
       "</pre>\n"
      ],
      "text/plain": [
       "\u001b[1m{\u001b[0m\u001b[32m'city'\u001b[0m: \u001b[1m[\u001b[0m\u001b[32m'Paris'\u001b[0m\u001b[1m]\u001b[0m\u001b[1m}\u001b[0m\n"
      ]
     },
     "metadata": {},
     "output_type": "display_data"
    },
    {
     "data": {
      "text/html": [
       "<pre style=\"white-space:pre;overflow-x:auto;line-height:normal;font-family:Menlo,'DejaVu Sans Mono',consolas,'Courier New',monospace\"><span style=\"font-weight: bold\">{</span><span style=\"color: #008000; text-decoration-color: #008000\">'city'</span>: <span style=\"font-weight: bold\">[</span><span style=\"color: #008000; text-decoration-color: #008000\">'Paris'</span>, <span style=\"color: #008000; text-decoration-color: #008000\">'Marse'</span><span style=\"font-weight: bold\">]}</span>\n",
       "</pre>\n"
      ],
      "text/plain": [
       "\u001b[1m{\u001b[0m\u001b[32m'city'\u001b[0m: \u001b[1m[\u001b[0m\u001b[32m'Paris'\u001b[0m, \u001b[32m'Marse'\u001b[0m\u001b[1m]\u001b[0m\u001b[1m}\u001b[0m\n"
      ]
     },
     "metadata": {},
     "output_type": "display_data"
    },
    {
     "data": {
      "text/html": [
       "<pre style=\"white-space:pre;overflow-x:auto;line-height:normal;font-family:Menlo,'DejaVu Sans Mono',consolas,'Courier New',monospace\"><span style=\"font-weight: bold\">{</span><span style=\"color: #008000; text-decoration-color: #008000\">'city'</span>: <span style=\"font-weight: bold\">[</span><span style=\"color: #008000; text-decoration-color: #008000\">'Paris'</span>, <span style=\"color: #008000; text-decoration-color: #008000\">'Marseille'</span>, <span style=\"color: #008000; text-decoration-color: #008000\">'L'</span><span style=\"font-weight: bold\">]}</span>\n",
       "</pre>\n"
      ],
      "text/plain": [
       "\u001b[1m{\u001b[0m\u001b[32m'city'\u001b[0m: \u001b[1m[\u001b[0m\u001b[32m'Paris'\u001b[0m, \u001b[32m'Marseille'\u001b[0m, \u001b[32m'L'\u001b[0m\u001b[1m]\u001b[0m\u001b[1m}\u001b[0m\n"
      ]
     },
     "metadata": {},
     "output_type": "display_data"
    },
    {
     "data": {
      "text/html": [
       "<pre style=\"white-space:pre;overflow-x:auto;line-height:normal;font-family:Menlo,'DejaVu Sans Mono',consolas,'Courier New',monospace\"><span style=\"font-weight: bold\">{</span><span style=\"color: #008000; text-decoration-color: #008000\">'city'</span>: <span style=\"font-weight: bold\">[</span><span style=\"color: #008000; text-decoration-color: #008000\">'Paris'</span>, <span style=\"color: #008000; text-decoration-color: #008000\">'Marseille'</span>, <span style=\"color: #008000; text-decoration-color: #008000\">'Lyon'</span>, <span style=\"color: #008000; text-decoration-color: #008000\">''</span><span style=\"font-weight: bold\">]}</span>\n",
       "</pre>\n"
      ],
      "text/plain": [
       "\u001b[1m{\u001b[0m\u001b[32m'city'\u001b[0m: \u001b[1m[\u001b[0m\u001b[32m'Paris'\u001b[0m, \u001b[32m'Marseille'\u001b[0m, \u001b[32m'Lyon'\u001b[0m, \u001b[32m''\u001b[0m\u001b[1m]\u001b[0m\u001b[1m}\u001b[0m\n"
      ]
     },
     "metadata": {},
     "output_type": "display_data"
    },
    {
     "data": {
      "text/html": [
       "<pre style=\"white-space:pre;overflow-x:auto;line-height:normal;font-family:Menlo,'DejaVu Sans Mono',consolas,'Courier New',monospace\"><span style=\"font-weight: bold\">{</span><span style=\"color: #008000; text-decoration-color: #008000\">'city'</span>: <span style=\"font-weight: bold\">[</span><span style=\"color: #008000; text-decoration-color: #008000\">'Paris'</span>, <span style=\"color: #008000; text-decoration-color: #008000\">'Marseille'</span>, <span style=\"color: #008000; text-decoration-color: #008000\">'Lyon'</span>, <span style=\"color: #008000; text-decoration-color: #008000\">'T'</span><span style=\"font-weight: bold\">]}</span>\n",
       "</pre>\n"
      ],
      "text/plain": [
       "\u001b[1m{\u001b[0m\u001b[32m'city'\u001b[0m: \u001b[1m[\u001b[0m\u001b[32m'Paris'\u001b[0m, \u001b[32m'Marseille'\u001b[0m, \u001b[32m'Lyon'\u001b[0m, \u001b[32m'T'\u001b[0m\u001b[1m]\u001b[0m\u001b[1m}\u001b[0m\n"
      ]
     },
     "metadata": {},
     "output_type": "display_data"
    },
    {
     "data": {
      "text/html": [
       "<pre style=\"white-space:pre;overflow-x:auto;line-height:normal;font-family:Menlo,'DejaVu Sans Mono',consolas,'Courier New',monospace\"><span style=\"font-weight: bold\">{</span><span style=\"color: #008000; text-decoration-color: #008000\">'city'</span>: <span style=\"font-weight: bold\">[</span><span style=\"color: #008000; text-decoration-color: #008000\">'Paris'</span>, <span style=\"color: #008000; text-decoration-color: #008000\">'Marseille'</span>, <span style=\"color: #008000; text-decoration-color: #008000\">'Lyon'</span>, <span style=\"color: #008000; text-decoration-color: #008000\">'Toul'</span><span style=\"font-weight: bold\">]}</span>\n",
       "</pre>\n"
      ],
      "text/plain": [
       "\u001b[1m{\u001b[0m\u001b[32m'city'\u001b[0m: \u001b[1m[\u001b[0m\u001b[32m'Paris'\u001b[0m, \u001b[32m'Marseille'\u001b[0m, \u001b[32m'Lyon'\u001b[0m, \u001b[32m'Toul'\u001b[0m\u001b[1m]\u001b[0m\u001b[1m}\u001b[0m\n"
      ]
     },
     "metadata": {},
     "output_type": "display_data"
    },
    {
     "data": {
      "text/html": [
       "<pre style=\"white-space:pre;overflow-x:auto;line-height:normal;font-family:Menlo,'DejaVu Sans Mono',consolas,'Courier New',monospace\"><span style=\"font-weight: bold\">{</span><span style=\"color: #008000; text-decoration-color: #008000\">'city'</span>: <span style=\"font-weight: bold\">[</span><span style=\"color: #008000; text-decoration-color: #008000\">'Paris'</span>, <span style=\"color: #008000; text-decoration-color: #008000\">'Marseille'</span>, <span style=\"color: #008000; text-decoration-color: #008000\">'Lyon'</span>, <span style=\"color: #008000; text-decoration-color: #008000\">'Toulouse'</span><span style=\"font-weight: bold\">]}</span>\n",
       "</pre>\n"
      ],
      "text/plain": [
       "\u001b[1m{\u001b[0m\u001b[32m'city'\u001b[0m: \u001b[1m[\u001b[0m\u001b[32m'Paris'\u001b[0m, \u001b[32m'Marseille'\u001b[0m, \u001b[32m'Lyon'\u001b[0m, \u001b[32m'Toulouse'\u001b[0m\u001b[1m]\u001b[0m\u001b[1m}\u001b[0m\n"
      ]
     },
     "metadata": {},
     "output_type": "display_data"
    },
    {
     "data": {
      "text/html": [
       "<pre style=\"white-space:pre;overflow-x:auto;line-height:normal;font-family:Menlo,'DejaVu Sans Mono',consolas,'Courier New',monospace\"><span style=\"font-weight: bold\">{</span><span style=\"color: #008000; text-decoration-color: #008000\">'city'</span>: <span style=\"font-weight: bold\">[</span><span style=\"color: #008000; text-decoration-color: #008000\">'Paris'</span>, <span style=\"color: #008000; text-decoration-color: #008000\">'Marseille'</span>, <span style=\"color: #008000; text-decoration-color: #008000\">'Lyon'</span>, <span style=\"color: #008000; text-decoration-color: #008000\">'Toulouse'</span>, <span style=\"color: #008000; text-decoration-color: #008000\">'Nice'</span><span style=\"font-weight: bold\">]}</span>\n",
       "</pre>\n"
      ],
      "text/plain": [
       "\u001b[1m{\u001b[0m\u001b[32m'city'\u001b[0m: \u001b[1m[\u001b[0m\u001b[32m'Paris'\u001b[0m, \u001b[32m'Marseille'\u001b[0m, \u001b[32m'Lyon'\u001b[0m, \u001b[32m'Toulouse'\u001b[0m, \u001b[32m'Nice'\u001b[0m\u001b[1m]\u001b[0m\u001b[1m}\u001b[0m\n"
      ]
     },
     "metadata": {},
     "output_type": "display_data"
    },
    {
     "data": {
      "text/html": [
       "<pre style=\"white-space:pre;overflow-x:auto;line-height:normal;font-family:Menlo,'DejaVu Sans Mono',consolas,'Courier New',monospace\"><span style=\"font-weight: bold\">{</span><span style=\"color: #008000; text-decoration-color: #008000\">'city'</span>: <span style=\"font-weight: bold\">[</span><span style=\"color: #008000; text-decoration-color: #008000\">'Paris'</span>, <span style=\"color: #008000; text-decoration-color: #008000\">'Marseille'</span>, <span style=\"color: #008000; text-decoration-color: #008000\">'Lyon'</span>, <span style=\"color: #008000; text-decoration-color: #008000\">'Toulouse'</span>, <span style=\"color: #008000; text-decoration-color: #008000\">'Nice'</span>, <span style=\"color: #008000; text-decoration-color: #008000\">'Nantes'</span><span style=\"font-weight: bold\">]}</span>\n",
       "</pre>\n"
      ],
      "text/plain": [
       "\u001b[1m{\u001b[0m\u001b[32m'city'\u001b[0m: \u001b[1m[\u001b[0m\u001b[32m'Paris'\u001b[0m, \u001b[32m'Marseille'\u001b[0m, \u001b[32m'Lyon'\u001b[0m, \u001b[32m'Toulouse'\u001b[0m, \u001b[32m'Nice'\u001b[0m, \u001b[32m'Nantes'\u001b[0m\u001b[1m]\u001b[0m\u001b[1m}\u001b[0m\n"
      ]
     },
     "metadata": {},
     "output_type": "display_data"
    },
    {
     "data": {
      "text/html": [
       "<pre style=\"white-space:pre;overflow-x:auto;line-height:normal;font-family:Menlo,'DejaVu Sans Mono',consolas,'Courier New',monospace\"><span style=\"font-weight: bold\">{</span><span style=\"color: #008000; text-decoration-color: #008000\">'city'</span>: <span style=\"font-weight: bold\">[</span><span style=\"color: #008000; text-decoration-color: #008000\">'Paris'</span>, <span style=\"color: #008000; text-decoration-color: #008000\">'Marseille'</span>, <span style=\"color: #008000; text-decoration-color: #008000\">'Lyon'</span>, <span style=\"color: #008000; text-decoration-color: #008000\">'Toulouse'</span>, <span style=\"color: #008000; text-decoration-color: #008000\">'Nice'</span>, <span style=\"color: #008000; text-decoration-color: #008000\">'Nantes'</span>, <span style=\"color: #008000; text-decoration-color: #008000\">'Strasbourg'</span>, <span style=\"color: #008000; text-decoration-color: #008000\">''</span><span style=\"font-weight: bold\">]}</span>\n",
       "</pre>\n"
      ],
      "text/plain": [
       "\u001b[1m{\u001b[0m\u001b[32m'city'\u001b[0m: \u001b[1m[\u001b[0m\u001b[32m'Paris'\u001b[0m, \u001b[32m'Marseille'\u001b[0m, \u001b[32m'Lyon'\u001b[0m, \u001b[32m'Toulouse'\u001b[0m, \u001b[32m'Nice'\u001b[0m, \u001b[32m'Nantes'\u001b[0m, \u001b[32m'Strasbourg'\u001b[0m, \u001b[32m''\u001b[0m\u001b[1m]\u001b[0m\u001b[1m}\u001b[0m\n"
      ]
     },
     "metadata": {},
     "output_type": "display_data"
    },
    {
     "data": {
      "text/html": [
       "<pre style=\"white-space:pre;overflow-x:auto;line-height:normal;font-family:Menlo,'DejaVu Sans Mono',consolas,'Courier New',monospace\"><span style=\"font-weight: bold\">{</span><span style=\"color: #008000; text-decoration-color: #008000\">'city'</span>: <span style=\"font-weight: bold\">[</span><span style=\"color: #008000; text-decoration-color: #008000\">'Paris'</span>, <span style=\"color: #008000; text-decoration-color: #008000\">'Marseille'</span>, <span style=\"color: #008000; text-decoration-color: #008000\">'Lyon'</span>, <span style=\"color: #008000; text-decoration-color: #008000\">'Toulouse'</span>, <span style=\"color: #008000; text-decoration-color: #008000\">'Nice'</span>, <span style=\"color: #008000; text-decoration-color: #008000\">'Nantes'</span>, <span style=\"color: #008000; text-decoration-color: #008000\">'Strasbourg'</span>, <span style=\"color: #008000; text-decoration-color: #008000\">'Montpellier'</span><span style=\"font-weight: bold\">]}</span>\n",
       "</pre>\n"
      ],
      "text/plain": [
       "\u001b[1m{\u001b[0m\u001b[32m'city'\u001b[0m: \u001b[1m[\u001b[0m\u001b[32m'Paris'\u001b[0m, \u001b[32m'Marseille'\u001b[0m, \u001b[32m'Lyon'\u001b[0m, \u001b[32m'Toulouse'\u001b[0m, \u001b[32m'Nice'\u001b[0m, \u001b[32m'Nantes'\u001b[0m, \u001b[32m'Strasbourg'\u001b[0m, \u001b[32m'Montpellier'\u001b[0m\u001b[1m]\u001b[0m\u001b[1m}\u001b[0m\n"
      ]
     },
     "metadata": {},
     "output_type": "display_data"
    },
    {
     "data": {
      "text/html": [
       "<pre style=\"white-space:pre;overflow-x:auto;line-height:normal;font-family:Menlo,'DejaVu Sans Mono',consolas,'Courier New',monospace\"><span style=\"font-weight: bold\">{</span><span style=\"color: #008000; text-decoration-color: #008000\">'city'</span>: <span style=\"font-weight: bold\">[</span><span style=\"color: #008000; text-decoration-color: #008000\">'Paris'</span>, <span style=\"color: #008000; text-decoration-color: #008000\">'Marseille'</span>, <span style=\"color: #008000; text-decoration-color: #008000\">'Lyon'</span>, <span style=\"color: #008000; text-decoration-color: #008000\">'Toulouse'</span>, <span style=\"color: #008000; text-decoration-color: #008000\">'Nice'</span>, <span style=\"color: #008000; text-decoration-color: #008000\">'Nantes'</span>, <span style=\"color: #008000; text-decoration-color: #008000\">'Strasbourg'</span>, <span style=\"color: #008000; text-decoration-color: #008000\">'Montpellier'</span>, <span style=\"color: #008000; text-decoration-color: #008000\">'Bordeaux'</span><span style=\"font-weight: bold\">]}</span>\n",
       "</pre>\n"
      ],
      "text/plain": [
       "\u001b[1m{\u001b[0m\u001b[32m'city'\u001b[0m: \u001b[1m[\u001b[0m\u001b[32m'Paris'\u001b[0m, \u001b[32m'Marseille'\u001b[0m, \u001b[32m'Lyon'\u001b[0m, \u001b[32m'Toulouse'\u001b[0m, \u001b[32m'Nice'\u001b[0m, \u001b[32m'Nantes'\u001b[0m, \u001b[32m'Strasbourg'\u001b[0m, \u001b[32m'Montpellier'\u001b[0m, \u001b[32m'Bordeaux'\u001b[0m\u001b[1m]\u001b[0m\u001b[1m}\u001b[0m\n"
      ]
     },
     "metadata": {},
     "output_type": "display_data"
    },
    {
     "data": {
      "text/html": [
       "<pre style=\"white-space:pre;overflow-x:auto;line-height:normal;font-family:Menlo,'DejaVu Sans Mono',consolas,'Courier New',monospace\"><span style=\"font-weight: bold\">{</span>\n",
       "    <span style=\"color: #008000; text-decoration-color: #008000\">'city'</span>: <span style=\"font-weight: bold\">[</span>\n",
       "        <span style=\"color: #008000; text-decoration-color: #008000\">'Paris'</span>,\n",
       "        <span style=\"color: #008000; text-decoration-color: #008000\">'Marseille'</span>,\n",
       "        <span style=\"color: #008000; text-decoration-color: #008000\">'Lyon'</span>,\n",
       "        <span style=\"color: #008000; text-decoration-color: #008000\">'Toulouse'</span>,\n",
       "        <span style=\"color: #008000; text-decoration-color: #008000\">'Nice'</span>,\n",
       "        <span style=\"color: #008000; text-decoration-color: #008000\">'Nantes'</span>,\n",
       "        <span style=\"color: #008000; text-decoration-color: #008000\">'Strasbourg'</span>,\n",
       "        <span style=\"color: #008000; text-decoration-color: #008000\">'Montpellier'</span>,\n",
       "        <span style=\"color: #008000; text-decoration-color: #008000\">'Bordeaux'</span>,\n",
       "        <span style=\"color: #008000; text-decoration-color: #008000\">'L'</span>\n",
       "    <span style=\"font-weight: bold\">]</span>\n",
       "<span style=\"font-weight: bold\">}</span>\n",
       "</pre>\n"
      ],
      "text/plain": [
       "\u001b[1m{\u001b[0m\n",
       "    \u001b[32m'city'\u001b[0m: \u001b[1m[\u001b[0m\n",
       "        \u001b[32m'Paris'\u001b[0m,\n",
       "        \u001b[32m'Marseille'\u001b[0m,\n",
       "        \u001b[32m'Lyon'\u001b[0m,\n",
       "        \u001b[32m'Toulouse'\u001b[0m,\n",
       "        \u001b[32m'Nice'\u001b[0m,\n",
       "        \u001b[32m'Nantes'\u001b[0m,\n",
       "        \u001b[32m'Strasbourg'\u001b[0m,\n",
       "        \u001b[32m'Montpellier'\u001b[0m,\n",
       "        \u001b[32m'Bordeaux'\u001b[0m,\n",
       "        \u001b[32m'L'\u001b[0m\n",
       "    \u001b[1m]\u001b[0m\n",
       "\u001b[1m}\u001b[0m\n"
      ]
     },
     "metadata": {},
     "output_type": "display_data"
    },
    {
     "data": {
      "text/html": [
       "<pre style=\"white-space:pre;overflow-x:auto;line-height:normal;font-family:Menlo,'DejaVu Sans Mono',consolas,'Courier New',monospace\"><span style=\"font-weight: bold\">{</span>\n",
       "    <span style=\"color: #008000; text-decoration-color: #008000\">'city'</span>: <span style=\"font-weight: bold\">[</span>\n",
       "        <span style=\"color: #008000; text-decoration-color: #008000\">'Paris'</span>,\n",
       "        <span style=\"color: #008000; text-decoration-color: #008000\">'Marseille'</span>,\n",
       "        <span style=\"color: #008000; text-decoration-color: #008000\">'Lyon'</span>,\n",
       "        <span style=\"color: #008000; text-decoration-color: #008000\">'Toulouse'</span>,\n",
       "        <span style=\"color: #008000; text-decoration-color: #008000\">'Nice'</span>,\n",
       "        <span style=\"color: #008000; text-decoration-color: #008000\">'Nantes'</span>,\n",
       "        <span style=\"color: #008000; text-decoration-color: #008000\">'Strasbourg'</span>,\n",
       "        <span style=\"color: #008000; text-decoration-color: #008000\">'Montpellier'</span>,\n",
       "        <span style=\"color: #008000; text-decoration-color: #008000\">'Bordeaux'</span>,\n",
       "        <span style=\"color: #008000; text-decoration-color: #008000\">'Lille'</span>,\n",
       "        <span style=\"color: #008000; text-decoration-color: #008000\">'R'</span>\n",
       "    <span style=\"font-weight: bold\">]</span>\n",
       "<span style=\"font-weight: bold\">}</span>\n",
       "</pre>\n"
      ],
      "text/plain": [
       "\u001b[1m{\u001b[0m\n",
       "    \u001b[32m'city'\u001b[0m: \u001b[1m[\u001b[0m\n",
       "        \u001b[32m'Paris'\u001b[0m,\n",
       "        \u001b[32m'Marseille'\u001b[0m,\n",
       "        \u001b[32m'Lyon'\u001b[0m,\n",
       "        \u001b[32m'Toulouse'\u001b[0m,\n",
       "        \u001b[32m'Nice'\u001b[0m,\n",
       "        \u001b[32m'Nantes'\u001b[0m,\n",
       "        \u001b[32m'Strasbourg'\u001b[0m,\n",
       "        \u001b[32m'Montpellier'\u001b[0m,\n",
       "        \u001b[32m'Bordeaux'\u001b[0m,\n",
       "        \u001b[32m'Lille'\u001b[0m,\n",
       "        \u001b[32m'R'\u001b[0m\n",
       "    \u001b[1m]\u001b[0m\n",
       "\u001b[1m}\u001b[0m\n"
      ]
     },
     "metadata": {},
     "output_type": "display_data"
    },
    {
     "data": {
      "text/html": [
       "<pre style=\"white-space:pre;overflow-x:auto;line-height:normal;font-family:Menlo,'DejaVu Sans Mono',consolas,'Courier New',monospace\"><span style=\"font-weight: bold\">{</span>\n",
       "    <span style=\"color: #008000; text-decoration-color: #008000\">'city'</span>: <span style=\"font-weight: bold\">[</span>\n",
       "        <span style=\"color: #008000; text-decoration-color: #008000\">'Paris'</span>,\n",
       "        <span style=\"color: #008000; text-decoration-color: #008000\">'Marseille'</span>,\n",
       "        <span style=\"color: #008000; text-decoration-color: #008000\">'Lyon'</span>,\n",
       "        <span style=\"color: #008000; text-decoration-color: #008000\">'Toulouse'</span>,\n",
       "        <span style=\"color: #008000; text-decoration-color: #008000\">'Nice'</span>,\n",
       "        <span style=\"color: #008000; text-decoration-color: #008000\">'Nantes'</span>,\n",
       "        <span style=\"color: #008000; text-decoration-color: #008000\">'Strasbourg'</span>,\n",
       "        <span style=\"color: #008000; text-decoration-color: #008000\">'Montpellier'</span>,\n",
       "        <span style=\"color: #008000; text-decoration-color: #008000\">'Bordeaux'</span>,\n",
       "        <span style=\"color: #008000; text-decoration-color: #008000\">'Lille'</span>,\n",
       "        <span style=\"color: #008000; text-decoration-color: #008000\">'Rennes'</span>\n",
       "    <span style=\"font-weight: bold\">]</span>\n",
       "<span style=\"font-weight: bold\">}</span>\n",
       "</pre>\n"
      ],
      "text/plain": [
       "\u001b[1m{\u001b[0m\n",
       "    \u001b[32m'city'\u001b[0m: \u001b[1m[\u001b[0m\n",
       "        \u001b[32m'Paris'\u001b[0m,\n",
       "        \u001b[32m'Marseille'\u001b[0m,\n",
       "        \u001b[32m'Lyon'\u001b[0m,\n",
       "        \u001b[32m'Toulouse'\u001b[0m,\n",
       "        \u001b[32m'Nice'\u001b[0m,\n",
       "        \u001b[32m'Nantes'\u001b[0m,\n",
       "        \u001b[32m'Strasbourg'\u001b[0m,\n",
       "        \u001b[32m'Montpellier'\u001b[0m,\n",
       "        \u001b[32m'Bordeaux'\u001b[0m,\n",
       "        \u001b[32m'Lille'\u001b[0m,\n",
       "        \u001b[32m'Rennes'\u001b[0m\n",
       "    \u001b[1m]\u001b[0m\n",
       "\u001b[1m}\u001b[0m\n"
      ]
     },
     "metadata": {},
     "output_type": "display_data"
    },
    {
     "data": {
      "text/html": [
       "<pre style=\"white-space:pre;overflow-x:auto;line-height:normal;font-family:Menlo,'DejaVu Sans Mono',consolas,'Courier New',monospace\"><span style=\"font-weight: bold\">{</span>\n",
       "    <span style=\"color: #008000; text-decoration-color: #008000\">'city'</span>: <span style=\"font-weight: bold\">[</span>\n",
       "        <span style=\"color: #008000; text-decoration-color: #008000\">'Paris'</span>,\n",
       "        <span style=\"color: #008000; text-decoration-color: #008000\">'Marseille'</span>,\n",
       "        <span style=\"color: #008000; text-decoration-color: #008000\">'Lyon'</span>,\n",
       "        <span style=\"color: #008000; text-decoration-color: #008000\">'Toulouse'</span>,\n",
       "        <span style=\"color: #008000; text-decoration-color: #008000\">'Nice'</span>,\n",
       "        <span style=\"color: #008000; text-decoration-color: #008000\">'Nantes'</span>,\n",
       "        <span style=\"color: #008000; text-decoration-color: #008000\">'Strasbourg'</span>,\n",
       "        <span style=\"color: #008000; text-decoration-color: #008000\">'Montpellier'</span>,\n",
       "        <span style=\"color: #008000; text-decoration-color: #008000\">'Bordeaux'</span>,\n",
       "        <span style=\"color: #008000; text-decoration-color: #008000\">'Lille'</span>,\n",
       "        <span style=\"color: #008000; text-decoration-color: #008000\">'Rennes'</span>,\n",
       "        <span style=\"color: #008000; text-decoration-color: #008000\">'Reims'</span>,\n",
       "        <span style=\"color: #008000; text-decoration-color: #008000\">''</span>\n",
       "    <span style=\"font-weight: bold\">]</span>\n",
       "<span style=\"font-weight: bold\">}</span>\n",
       "</pre>\n"
      ],
      "text/plain": [
       "\u001b[1m{\u001b[0m\n",
       "    \u001b[32m'city'\u001b[0m: \u001b[1m[\u001b[0m\n",
       "        \u001b[32m'Paris'\u001b[0m,\n",
       "        \u001b[32m'Marseille'\u001b[0m,\n",
       "        \u001b[32m'Lyon'\u001b[0m,\n",
       "        \u001b[32m'Toulouse'\u001b[0m,\n",
       "        \u001b[32m'Nice'\u001b[0m,\n",
       "        \u001b[32m'Nantes'\u001b[0m,\n",
       "        \u001b[32m'Strasbourg'\u001b[0m,\n",
       "        \u001b[32m'Montpellier'\u001b[0m,\n",
       "        \u001b[32m'Bordeaux'\u001b[0m,\n",
       "        \u001b[32m'Lille'\u001b[0m,\n",
       "        \u001b[32m'Rennes'\u001b[0m,\n",
       "        \u001b[32m'Reims'\u001b[0m,\n",
       "        \u001b[32m''\u001b[0m\n",
       "    \u001b[1m]\u001b[0m\n",
       "\u001b[1m}\u001b[0m\n"
      ]
     },
     "metadata": {},
     "output_type": "display_data"
    },
    {
     "data": {
      "text/html": [
       "<pre style=\"white-space:pre;overflow-x:auto;line-height:normal;font-family:Menlo,'DejaVu Sans Mono',consolas,'Courier New',monospace\"><span style=\"font-weight: bold\">{</span>\n",
       "    <span style=\"color: #008000; text-decoration-color: #008000\">'city'</span>: <span style=\"font-weight: bold\">[</span>\n",
       "        <span style=\"color: #008000; text-decoration-color: #008000\">'Paris'</span>,\n",
       "        <span style=\"color: #008000; text-decoration-color: #008000\">'Marseille'</span>,\n",
       "        <span style=\"color: #008000; text-decoration-color: #008000\">'Lyon'</span>,\n",
       "        <span style=\"color: #008000; text-decoration-color: #008000\">'Toulouse'</span>,\n",
       "        <span style=\"color: #008000; text-decoration-color: #008000\">'Nice'</span>,\n",
       "        <span style=\"color: #008000; text-decoration-color: #008000\">'Nantes'</span>,\n",
       "        <span style=\"color: #008000; text-decoration-color: #008000\">'Strasbourg'</span>,\n",
       "        <span style=\"color: #008000; text-decoration-color: #008000\">'Montpellier'</span>,\n",
       "        <span style=\"color: #008000; text-decoration-color: #008000\">'Bordeaux'</span>,\n",
       "        <span style=\"color: #008000; text-decoration-color: #008000\">'Lille'</span>,\n",
       "        <span style=\"color: #008000; text-decoration-color: #008000\">'Rennes'</span>,\n",
       "        <span style=\"color: #008000; text-decoration-color: #008000\">'Reims'</span>,\n",
       "        <span style=\"color: #008000; text-decoration-color: #008000\">'Le Havre'</span>\n",
       "    <span style=\"font-weight: bold\">]</span>\n",
       "<span style=\"font-weight: bold\">}</span>\n",
       "</pre>\n"
      ],
      "text/plain": [
       "\u001b[1m{\u001b[0m\n",
       "    \u001b[32m'city'\u001b[0m: \u001b[1m[\u001b[0m\n",
       "        \u001b[32m'Paris'\u001b[0m,\n",
       "        \u001b[32m'Marseille'\u001b[0m,\n",
       "        \u001b[32m'Lyon'\u001b[0m,\n",
       "        \u001b[32m'Toulouse'\u001b[0m,\n",
       "        \u001b[32m'Nice'\u001b[0m,\n",
       "        \u001b[32m'Nantes'\u001b[0m,\n",
       "        \u001b[32m'Strasbourg'\u001b[0m,\n",
       "        \u001b[32m'Montpellier'\u001b[0m,\n",
       "        \u001b[32m'Bordeaux'\u001b[0m,\n",
       "        \u001b[32m'Lille'\u001b[0m,\n",
       "        \u001b[32m'Rennes'\u001b[0m,\n",
       "        \u001b[32m'Reims'\u001b[0m,\n",
       "        \u001b[32m'Le Havre'\u001b[0m\n",
       "    \u001b[1m]\u001b[0m\n",
       "\u001b[1m}\u001b[0m\n"
      ]
     },
     "metadata": {},
     "output_type": "display_data"
    },
    {
     "data": {
      "text/html": [
       "<pre style=\"white-space:pre;overflow-x:auto;line-height:normal;font-family:Menlo,'DejaVu Sans Mono',consolas,'Courier New',monospace\"><span style=\"font-weight: bold\">{</span>\n",
       "    <span style=\"color: #008000; text-decoration-color: #008000\">'city'</span>: <span style=\"font-weight: bold\">[</span>\n",
       "        <span style=\"color: #008000; text-decoration-color: #008000\">'Paris'</span>,\n",
       "        <span style=\"color: #008000; text-decoration-color: #008000\">'Marseille'</span>,\n",
       "        <span style=\"color: #008000; text-decoration-color: #008000\">'Lyon'</span>,\n",
       "        <span style=\"color: #008000; text-decoration-color: #008000\">'Toulouse'</span>,\n",
       "        <span style=\"color: #008000; text-decoration-color: #008000\">'Nice'</span>,\n",
       "        <span style=\"color: #008000; text-decoration-color: #008000\">'Nantes'</span>,\n",
       "        <span style=\"color: #008000; text-decoration-color: #008000\">'Strasbourg'</span>,\n",
       "        <span style=\"color: #008000; text-decoration-color: #008000\">'Montpellier'</span>,\n",
       "        <span style=\"color: #008000; text-decoration-color: #008000\">'Bordeaux'</span>,\n",
       "        <span style=\"color: #008000; text-decoration-color: #008000\">'Lille'</span>,\n",
       "        <span style=\"color: #008000; text-decoration-color: #008000\">'Rennes'</span>,\n",
       "        <span style=\"color: #008000; text-decoration-color: #008000\">'Reims'</span>,\n",
       "        <span style=\"color: #008000; text-decoration-color: #008000\">'Le Havre'</span>,\n",
       "        <span style=\"color: #008000; text-decoration-color: #008000\">'Saint-Ét'</span>\n",
       "    <span style=\"font-weight: bold\">]</span>\n",
       "<span style=\"font-weight: bold\">}</span>\n",
       "</pre>\n"
      ],
      "text/plain": [
       "\u001b[1m{\u001b[0m\n",
       "    \u001b[32m'city'\u001b[0m: \u001b[1m[\u001b[0m\n",
       "        \u001b[32m'Paris'\u001b[0m,\n",
       "        \u001b[32m'Marseille'\u001b[0m,\n",
       "        \u001b[32m'Lyon'\u001b[0m,\n",
       "        \u001b[32m'Toulouse'\u001b[0m,\n",
       "        \u001b[32m'Nice'\u001b[0m,\n",
       "        \u001b[32m'Nantes'\u001b[0m,\n",
       "        \u001b[32m'Strasbourg'\u001b[0m,\n",
       "        \u001b[32m'Montpellier'\u001b[0m,\n",
       "        \u001b[32m'Bordeaux'\u001b[0m,\n",
       "        \u001b[32m'Lille'\u001b[0m,\n",
       "        \u001b[32m'Rennes'\u001b[0m,\n",
       "        \u001b[32m'Reims'\u001b[0m,\n",
       "        \u001b[32m'Le Havre'\u001b[0m,\n",
       "        \u001b[32m'Saint-Ét'\u001b[0m\n",
       "    \u001b[1m]\u001b[0m\n",
       "\u001b[1m}\u001b[0m\n"
      ]
     },
     "metadata": {},
     "output_type": "display_data"
    },
    {
     "data": {
      "text/html": [
       "<pre style=\"white-space:pre;overflow-x:auto;line-height:normal;font-family:Menlo,'DejaVu Sans Mono',consolas,'Courier New',monospace\"><span style=\"font-weight: bold\">{</span>\n",
       "    <span style=\"color: #008000; text-decoration-color: #008000\">'city'</span>: <span style=\"font-weight: bold\">[</span>\n",
       "        <span style=\"color: #008000; text-decoration-color: #008000\">'Paris'</span>,\n",
       "        <span style=\"color: #008000; text-decoration-color: #008000\">'Marseille'</span>,\n",
       "        <span style=\"color: #008000; text-decoration-color: #008000\">'Lyon'</span>,\n",
       "        <span style=\"color: #008000; text-decoration-color: #008000\">'Toulouse'</span>,\n",
       "        <span style=\"color: #008000; text-decoration-color: #008000\">'Nice'</span>,\n",
       "        <span style=\"color: #008000; text-decoration-color: #008000\">'Nantes'</span>,\n",
       "        <span style=\"color: #008000; text-decoration-color: #008000\">'Strasbourg'</span>,\n",
       "        <span style=\"color: #008000; text-decoration-color: #008000\">'Montpellier'</span>,\n",
       "        <span style=\"color: #008000; text-decoration-color: #008000\">'Bordeaux'</span>,\n",
       "        <span style=\"color: #008000; text-decoration-color: #008000\">'Lille'</span>,\n",
       "        <span style=\"color: #008000; text-decoration-color: #008000\">'Rennes'</span>,\n",
       "        <span style=\"color: #008000; text-decoration-color: #008000\">'Reims'</span>,\n",
       "        <span style=\"color: #008000; text-decoration-color: #008000\">'Le Havre'</span>,\n",
       "        <span style=\"color: #008000; text-decoration-color: #008000\">'Saint-Étienne'</span>,\n",
       "        <span style=\"color: #008000; text-decoration-color: #008000\">'T'</span>\n",
       "    <span style=\"font-weight: bold\">]</span>\n",
       "<span style=\"font-weight: bold\">}</span>\n",
       "</pre>\n"
      ],
      "text/plain": [
       "\u001b[1m{\u001b[0m\n",
       "    \u001b[32m'city'\u001b[0m: \u001b[1m[\u001b[0m\n",
       "        \u001b[32m'Paris'\u001b[0m,\n",
       "        \u001b[32m'Marseille'\u001b[0m,\n",
       "        \u001b[32m'Lyon'\u001b[0m,\n",
       "        \u001b[32m'Toulouse'\u001b[0m,\n",
       "        \u001b[32m'Nice'\u001b[0m,\n",
       "        \u001b[32m'Nantes'\u001b[0m,\n",
       "        \u001b[32m'Strasbourg'\u001b[0m,\n",
       "        \u001b[32m'Montpellier'\u001b[0m,\n",
       "        \u001b[32m'Bordeaux'\u001b[0m,\n",
       "        \u001b[32m'Lille'\u001b[0m,\n",
       "        \u001b[32m'Rennes'\u001b[0m,\n",
       "        \u001b[32m'Reims'\u001b[0m,\n",
       "        \u001b[32m'Le Havre'\u001b[0m,\n",
       "        \u001b[32m'Saint-Étienne'\u001b[0m,\n",
       "        \u001b[32m'T'\u001b[0m\n",
       "    \u001b[1m]\u001b[0m\n",
       "\u001b[1m}\u001b[0m\n"
      ]
     },
     "metadata": {},
     "output_type": "display_data"
    },
    {
     "data": {
      "text/html": [
       "<pre style=\"white-space:pre;overflow-x:auto;line-height:normal;font-family:Menlo,'DejaVu Sans Mono',consolas,'Courier New',monospace\"><span style=\"font-weight: bold\">{</span>\n",
       "    <span style=\"color: #008000; text-decoration-color: #008000\">'city'</span>: <span style=\"font-weight: bold\">[</span>\n",
       "        <span style=\"color: #008000; text-decoration-color: #008000\">'Paris'</span>,\n",
       "        <span style=\"color: #008000; text-decoration-color: #008000\">'Marseille'</span>,\n",
       "        <span style=\"color: #008000; text-decoration-color: #008000\">'Lyon'</span>,\n",
       "        <span style=\"color: #008000; text-decoration-color: #008000\">'Toulouse'</span>,\n",
       "        <span style=\"color: #008000; text-decoration-color: #008000\">'Nice'</span>,\n",
       "        <span style=\"color: #008000; text-decoration-color: #008000\">'Nantes'</span>,\n",
       "        <span style=\"color: #008000; text-decoration-color: #008000\">'Strasbourg'</span>,\n",
       "        <span style=\"color: #008000; text-decoration-color: #008000\">'Montpellier'</span>,\n",
       "        <span style=\"color: #008000; text-decoration-color: #008000\">'Bordeaux'</span>,\n",
       "        <span style=\"color: #008000; text-decoration-color: #008000\">'Lille'</span>,\n",
       "        <span style=\"color: #008000; text-decoration-color: #008000\">'Rennes'</span>,\n",
       "        <span style=\"color: #008000; text-decoration-color: #008000\">'Reims'</span>,\n",
       "        <span style=\"color: #008000; text-decoration-color: #008000\">'Le Havre'</span>,\n",
       "        <span style=\"color: #008000; text-decoration-color: #008000\">'Saint-Étienne'</span>,\n",
       "        <span style=\"color: #008000; text-decoration-color: #008000\">'Toulon'</span>,\n",
       "        <span style=\"color: #008000; text-decoration-color: #008000\">''</span>\n",
       "    <span style=\"font-weight: bold\">]</span>\n",
       "<span style=\"font-weight: bold\">}</span>\n",
       "</pre>\n"
      ],
      "text/plain": [
       "\u001b[1m{\u001b[0m\n",
       "    \u001b[32m'city'\u001b[0m: \u001b[1m[\u001b[0m\n",
       "        \u001b[32m'Paris'\u001b[0m,\n",
       "        \u001b[32m'Marseille'\u001b[0m,\n",
       "        \u001b[32m'Lyon'\u001b[0m,\n",
       "        \u001b[32m'Toulouse'\u001b[0m,\n",
       "        \u001b[32m'Nice'\u001b[0m,\n",
       "        \u001b[32m'Nantes'\u001b[0m,\n",
       "        \u001b[32m'Strasbourg'\u001b[0m,\n",
       "        \u001b[32m'Montpellier'\u001b[0m,\n",
       "        \u001b[32m'Bordeaux'\u001b[0m,\n",
       "        \u001b[32m'Lille'\u001b[0m,\n",
       "        \u001b[32m'Rennes'\u001b[0m,\n",
       "        \u001b[32m'Reims'\u001b[0m,\n",
       "        \u001b[32m'Le Havre'\u001b[0m,\n",
       "        \u001b[32m'Saint-Étienne'\u001b[0m,\n",
       "        \u001b[32m'Toulon'\u001b[0m,\n",
       "        \u001b[32m''\u001b[0m\n",
       "    \u001b[1m]\u001b[0m\n",
       "\u001b[1m}\u001b[0m\n"
      ]
     },
     "metadata": {},
     "output_type": "display_data"
    },
    {
     "data": {
      "text/html": [
       "<pre style=\"white-space:pre;overflow-x:auto;line-height:normal;font-family:Menlo,'DejaVu Sans Mono',consolas,'Courier New',monospace\"><span style=\"font-weight: bold\">{</span>\n",
       "    <span style=\"color: #008000; text-decoration-color: #008000\">'city'</span>: <span style=\"font-weight: bold\">[</span>\n",
       "        <span style=\"color: #008000; text-decoration-color: #008000\">'Paris'</span>,\n",
       "        <span style=\"color: #008000; text-decoration-color: #008000\">'Marseille'</span>,\n",
       "        <span style=\"color: #008000; text-decoration-color: #008000\">'Lyon'</span>,\n",
       "        <span style=\"color: #008000; text-decoration-color: #008000\">'Toulouse'</span>,\n",
       "        <span style=\"color: #008000; text-decoration-color: #008000\">'Nice'</span>,\n",
       "        <span style=\"color: #008000; text-decoration-color: #008000\">'Nantes'</span>,\n",
       "        <span style=\"color: #008000; text-decoration-color: #008000\">'Strasbourg'</span>,\n",
       "        <span style=\"color: #008000; text-decoration-color: #008000\">'Montpellier'</span>,\n",
       "        <span style=\"color: #008000; text-decoration-color: #008000\">'Bordeaux'</span>,\n",
       "        <span style=\"color: #008000; text-decoration-color: #008000\">'Lille'</span>,\n",
       "        <span style=\"color: #008000; text-decoration-color: #008000\">'Rennes'</span>,\n",
       "        <span style=\"color: #008000; text-decoration-color: #008000\">'Reims'</span>,\n",
       "        <span style=\"color: #008000; text-decoration-color: #008000\">'Le Havre'</span>,\n",
       "        <span style=\"color: #008000; text-decoration-color: #008000\">'Saint-Étienne'</span>,\n",
       "        <span style=\"color: #008000; text-decoration-color: #008000\">'Toulon'</span>,\n",
       "        <span style=\"color: #008000; text-decoration-color: #008000\">'Grenoble'</span>\n",
       "    <span style=\"font-weight: bold\">]</span>\n",
       "<span style=\"font-weight: bold\">}</span>\n",
       "</pre>\n"
      ],
      "text/plain": [
       "\u001b[1m{\u001b[0m\n",
       "    \u001b[32m'city'\u001b[0m: \u001b[1m[\u001b[0m\n",
       "        \u001b[32m'Paris'\u001b[0m,\n",
       "        \u001b[32m'Marseille'\u001b[0m,\n",
       "        \u001b[32m'Lyon'\u001b[0m,\n",
       "        \u001b[32m'Toulouse'\u001b[0m,\n",
       "        \u001b[32m'Nice'\u001b[0m,\n",
       "        \u001b[32m'Nantes'\u001b[0m,\n",
       "        \u001b[32m'Strasbourg'\u001b[0m,\n",
       "        \u001b[32m'Montpellier'\u001b[0m,\n",
       "        \u001b[32m'Bordeaux'\u001b[0m,\n",
       "        \u001b[32m'Lille'\u001b[0m,\n",
       "        \u001b[32m'Rennes'\u001b[0m,\n",
       "        \u001b[32m'Reims'\u001b[0m,\n",
       "        \u001b[32m'Le Havre'\u001b[0m,\n",
       "        \u001b[32m'Saint-Étienne'\u001b[0m,\n",
       "        \u001b[32m'Toulon'\u001b[0m,\n",
       "        \u001b[32m'Grenoble'\u001b[0m\n",
       "    \u001b[1m]\u001b[0m\n",
       "\u001b[1m}\u001b[0m\n"
      ]
     },
     "metadata": {},
     "output_type": "display_data"
    },
    {
     "data": {
      "text/html": [
       "<pre style=\"white-space:pre;overflow-x:auto;line-height:normal;font-family:Menlo,'DejaVu Sans Mono',consolas,'Courier New',monospace\"><span style=\"font-weight: bold\">{</span>\n",
       "    <span style=\"color: #008000; text-decoration-color: #008000\">'city'</span>: <span style=\"font-weight: bold\">[</span>\n",
       "        <span style=\"color: #008000; text-decoration-color: #008000\">'Paris'</span>,\n",
       "        <span style=\"color: #008000; text-decoration-color: #008000\">'Marseille'</span>,\n",
       "        <span style=\"color: #008000; text-decoration-color: #008000\">'Lyon'</span>,\n",
       "        <span style=\"color: #008000; text-decoration-color: #008000\">'Toulouse'</span>,\n",
       "        <span style=\"color: #008000; text-decoration-color: #008000\">'Nice'</span>,\n",
       "        <span style=\"color: #008000; text-decoration-color: #008000\">'Nantes'</span>,\n",
       "        <span style=\"color: #008000; text-decoration-color: #008000\">'Strasbourg'</span>,\n",
       "        <span style=\"color: #008000; text-decoration-color: #008000\">'Montpellier'</span>,\n",
       "        <span style=\"color: #008000; text-decoration-color: #008000\">'Bordeaux'</span>,\n",
       "        <span style=\"color: #008000; text-decoration-color: #008000\">'Lille'</span>,\n",
       "        <span style=\"color: #008000; text-decoration-color: #008000\">'Rennes'</span>,\n",
       "        <span style=\"color: #008000; text-decoration-color: #008000\">'Reims'</span>,\n",
       "        <span style=\"color: #008000; text-decoration-color: #008000\">'Le Havre'</span>,\n",
       "        <span style=\"color: #008000; text-decoration-color: #008000\">'Saint-Étienne'</span>,\n",
       "        <span style=\"color: #008000; text-decoration-color: #008000\">'Toulon'</span>,\n",
       "        <span style=\"color: #008000; text-decoration-color: #008000\">'Grenoble'</span>,\n",
       "        <span style=\"color: #008000; text-decoration-color: #008000\">'Dij'</span>\n",
       "    <span style=\"font-weight: bold\">]</span>\n",
       "<span style=\"font-weight: bold\">}</span>\n",
       "</pre>\n"
      ],
      "text/plain": [
       "\u001b[1m{\u001b[0m\n",
       "    \u001b[32m'city'\u001b[0m: \u001b[1m[\u001b[0m\n",
       "        \u001b[32m'Paris'\u001b[0m,\n",
       "        \u001b[32m'Marseille'\u001b[0m,\n",
       "        \u001b[32m'Lyon'\u001b[0m,\n",
       "        \u001b[32m'Toulouse'\u001b[0m,\n",
       "        \u001b[32m'Nice'\u001b[0m,\n",
       "        \u001b[32m'Nantes'\u001b[0m,\n",
       "        \u001b[32m'Strasbourg'\u001b[0m,\n",
       "        \u001b[32m'Montpellier'\u001b[0m,\n",
       "        \u001b[32m'Bordeaux'\u001b[0m,\n",
       "        \u001b[32m'Lille'\u001b[0m,\n",
       "        \u001b[32m'Rennes'\u001b[0m,\n",
       "        \u001b[32m'Reims'\u001b[0m,\n",
       "        \u001b[32m'Le Havre'\u001b[0m,\n",
       "        \u001b[32m'Saint-Étienne'\u001b[0m,\n",
       "        \u001b[32m'Toulon'\u001b[0m,\n",
       "        \u001b[32m'Grenoble'\u001b[0m,\n",
       "        \u001b[32m'Dij'\u001b[0m\n",
       "    \u001b[1m]\u001b[0m\n",
       "\u001b[1m}\u001b[0m\n"
      ]
     },
     "metadata": {},
     "output_type": "display_data"
    },
    {
     "data": {
      "text/html": [
       "<pre style=\"white-space:pre;overflow-x:auto;line-height:normal;font-family:Menlo,'DejaVu Sans Mono',consolas,'Courier New',monospace\"><span style=\"font-weight: bold\">{</span>\n",
       "    <span style=\"color: #008000; text-decoration-color: #008000\">'city'</span>: <span style=\"font-weight: bold\">[</span>\n",
       "        <span style=\"color: #008000; text-decoration-color: #008000\">'Paris'</span>,\n",
       "        <span style=\"color: #008000; text-decoration-color: #008000\">'Marseille'</span>,\n",
       "        <span style=\"color: #008000; text-decoration-color: #008000\">'Lyon'</span>,\n",
       "        <span style=\"color: #008000; text-decoration-color: #008000\">'Toulouse'</span>,\n",
       "        <span style=\"color: #008000; text-decoration-color: #008000\">'Nice'</span>,\n",
       "        <span style=\"color: #008000; text-decoration-color: #008000\">'Nantes'</span>,\n",
       "        <span style=\"color: #008000; text-decoration-color: #008000\">'Strasbourg'</span>,\n",
       "        <span style=\"color: #008000; text-decoration-color: #008000\">'Montpellier'</span>,\n",
       "        <span style=\"color: #008000; text-decoration-color: #008000\">'Bordeaux'</span>,\n",
       "        <span style=\"color: #008000; text-decoration-color: #008000\">'Lille'</span>,\n",
       "        <span style=\"color: #008000; text-decoration-color: #008000\">'Rennes'</span>,\n",
       "        <span style=\"color: #008000; text-decoration-color: #008000\">'Reims'</span>,\n",
       "        <span style=\"color: #008000; text-decoration-color: #008000\">'Le Havre'</span>,\n",
       "        <span style=\"color: #008000; text-decoration-color: #008000\">'Saint-Étienne'</span>,\n",
       "        <span style=\"color: #008000; text-decoration-color: #008000\">'Toulon'</span>,\n",
       "        <span style=\"color: #008000; text-decoration-color: #008000\">'Grenoble'</span>,\n",
       "        <span style=\"color: #008000; text-decoration-color: #008000\">'Dijon'</span>,\n",
       "        <span style=\"color: #008000; text-decoration-color: #008000\">''</span>\n",
       "    <span style=\"font-weight: bold\">]</span>\n",
       "<span style=\"font-weight: bold\">}</span>\n",
       "</pre>\n"
      ],
      "text/plain": [
       "\u001b[1m{\u001b[0m\n",
       "    \u001b[32m'city'\u001b[0m: \u001b[1m[\u001b[0m\n",
       "        \u001b[32m'Paris'\u001b[0m,\n",
       "        \u001b[32m'Marseille'\u001b[0m,\n",
       "        \u001b[32m'Lyon'\u001b[0m,\n",
       "        \u001b[32m'Toulouse'\u001b[0m,\n",
       "        \u001b[32m'Nice'\u001b[0m,\n",
       "        \u001b[32m'Nantes'\u001b[0m,\n",
       "        \u001b[32m'Strasbourg'\u001b[0m,\n",
       "        \u001b[32m'Montpellier'\u001b[0m,\n",
       "        \u001b[32m'Bordeaux'\u001b[0m,\n",
       "        \u001b[32m'Lille'\u001b[0m,\n",
       "        \u001b[32m'Rennes'\u001b[0m,\n",
       "        \u001b[32m'Reims'\u001b[0m,\n",
       "        \u001b[32m'Le Havre'\u001b[0m,\n",
       "        \u001b[32m'Saint-Étienne'\u001b[0m,\n",
       "        \u001b[32m'Toulon'\u001b[0m,\n",
       "        \u001b[32m'Grenoble'\u001b[0m,\n",
       "        \u001b[32m'Dijon'\u001b[0m,\n",
       "        \u001b[32m''\u001b[0m\n",
       "    \u001b[1m]\u001b[0m\n",
       "\u001b[1m}\u001b[0m\n"
      ]
     },
     "metadata": {},
     "output_type": "display_data"
    },
    {
     "data": {
      "text/html": [
       "<pre style=\"white-space:pre;overflow-x:auto;line-height:normal;font-family:Menlo,'DejaVu Sans Mono',consolas,'Courier New',monospace\"><span style=\"font-weight: bold\">{</span>\n",
       "    <span style=\"color: #008000; text-decoration-color: #008000\">'city'</span>: <span style=\"font-weight: bold\">[</span>\n",
       "        <span style=\"color: #008000; text-decoration-color: #008000\">'Paris'</span>,\n",
       "        <span style=\"color: #008000; text-decoration-color: #008000\">'Marseille'</span>,\n",
       "        <span style=\"color: #008000; text-decoration-color: #008000\">'Lyon'</span>,\n",
       "        <span style=\"color: #008000; text-decoration-color: #008000\">'Toulouse'</span>,\n",
       "        <span style=\"color: #008000; text-decoration-color: #008000\">'Nice'</span>,\n",
       "        <span style=\"color: #008000; text-decoration-color: #008000\">'Nantes'</span>,\n",
       "        <span style=\"color: #008000; text-decoration-color: #008000\">'Strasbourg'</span>,\n",
       "        <span style=\"color: #008000; text-decoration-color: #008000\">'Montpellier'</span>,\n",
       "        <span style=\"color: #008000; text-decoration-color: #008000\">'Bordeaux'</span>,\n",
       "        <span style=\"color: #008000; text-decoration-color: #008000\">'Lille'</span>,\n",
       "        <span style=\"color: #008000; text-decoration-color: #008000\">'Rennes'</span>,\n",
       "        <span style=\"color: #008000; text-decoration-color: #008000\">'Reims'</span>,\n",
       "        <span style=\"color: #008000; text-decoration-color: #008000\">'Le Havre'</span>,\n",
       "        <span style=\"color: #008000; text-decoration-color: #008000\">'Saint-Étienne'</span>,\n",
       "        <span style=\"color: #008000; text-decoration-color: #008000\">'Toulon'</span>,\n",
       "        <span style=\"color: #008000; text-decoration-color: #008000\">'Grenoble'</span>,\n",
       "        <span style=\"color: #008000; text-decoration-color: #008000\">'Dijon'</span>,\n",
       "        <span style=\"color: #008000; text-decoration-color: #008000\">'Angers'</span>\n",
       "    <span style=\"font-weight: bold\">]</span>\n",
       "<span style=\"font-weight: bold\">}</span>\n",
       "</pre>\n"
      ],
      "text/plain": [
       "\u001b[1m{\u001b[0m\n",
       "    \u001b[32m'city'\u001b[0m: \u001b[1m[\u001b[0m\n",
       "        \u001b[32m'Paris'\u001b[0m,\n",
       "        \u001b[32m'Marseille'\u001b[0m,\n",
       "        \u001b[32m'Lyon'\u001b[0m,\n",
       "        \u001b[32m'Toulouse'\u001b[0m,\n",
       "        \u001b[32m'Nice'\u001b[0m,\n",
       "        \u001b[32m'Nantes'\u001b[0m,\n",
       "        \u001b[32m'Strasbourg'\u001b[0m,\n",
       "        \u001b[32m'Montpellier'\u001b[0m,\n",
       "        \u001b[32m'Bordeaux'\u001b[0m,\n",
       "        \u001b[32m'Lille'\u001b[0m,\n",
       "        \u001b[32m'Rennes'\u001b[0m,\n",
       "        \u001b[32m'Reims'\u001b[0m,\n",
       "        \u001b[32m'Le Havre'\u001b[0m,\n",
       "        \u001b[32m'Saint-Étienne'\u001b[0m,\n",
       "        \u001b[32m'Toulon'\u001b[0m,\n",
       "        \u001b[32m'Grenoble'\u001b[0m,\n",
       "        \u001b[32m'Dijon'\u001b[0m,\n",
       "        \u001b[32m'Angers'\u001b[0m\n",
       "    \u001b[1m]\u001b[0m\n",
       "\u001b[1m}\u001b[0m\n"
      ]
     },
     "metadata": {},
     "output_type": "display_data"
    },
    {
     "data": {
      "text/html": [
       "<pre style=\"white-space:pre;overflow-x:auto;line-height:normal;font-family:Menlo,'DejaVu Sans Mono',consolas,'Courier New',monospace\"><span style=\"font-weight: bold\">{</span>\n",
       "    <span style=\"color: #008000; text-decoration-color: #008000\">'city'</span>: <span style=\"font-weight: bold\">[</span>\n",
       "        <span style=\"color: #008000; text-decoration-color: #008000\">'Paris'</span>,\n",
       "        <span style=\"color: #008000; text-decoration-color: #008000\">'Marseille'</span>,\n",
       "        <span style=\"color: #008000; text-decoration-color: #008000\">'Lyon'</span>,\n",
       "        <span style=\"color: #008000; text-decoration-color: #008000\">'Toulouse'</span>,\n",
       "        <span style=\"color: #008000; text-decoration-color: #008000\">'Nice'</span>,\n",
       "        <span style=\"color: #008000; text-decoration-color: #008000\">'Nantes'</span>,\n",
       "        <span style=\"color: #008000; text-decoration-color: #008000\">'Strasbourg'</span>,\n",
       "        <span style=\"color: #008000; text-decoration-color: #008000\">'Montpellier'</span>,\n",
       "        <span style=\"color: #008000; text-decoration-color: #008000\">'Bordeaux'</span>,\n",
       "        <span style=\"color: #008000; text-decoration-color: #008000\">'Lille'</span>,\n",
       "        <span style=\"color: #008000; text-decoration-color: #008000\">'Rennes'</span>,\n",
       "        <span style=\"color: #008000; text-decoration-color: #008000\">'Reims'</span>,\n",
       "        <span style=\"color: #008000; text-decoration-color: #008000\">'Le Havre'</span>,\n",
       "        <span style=\"color: #008000; text-decoration-color: #008000\">'Saint-Étienne'</span>,\n",
       "        <span style=\"color: #008000; text-decoration-color: #008000\">'Toulon'</span>,\n",
       "        <span style=\"color: #008000; text-decoration-color: #008000\">'Grenoble'</span>,\n",
       "        <span style=\"color: #008000; text-decoration-color: #008000\">'Dijon'</span>,\n",
       "        <span style=\"color: #008000; text-decoration-color: #008000\">'Angers'</span>,\n",
       "        <span style=\"color: #008000; text-decoration-color: #008000\">'Nîmes'</span>\n",
       "    <span style=\"font-weight: bold\">]</span>\n",
       "<span style=\"font-weight: bold\">}</span>\n",
       "</pre>\n"
      ],
      "text/plain": [
       "\u001b[1m{\u001b[0m\n",
       "    \u001b[32m'city'\u001b[0m: \u001b[1m[\u001b[0m\n",
       "        \u001b[32m'Paris'\u001b[0m,\n",
       "        \u001b[32m'Marseille'\u001b[0m,\n",
       "        \u001b[32m'Lyon'\u001b[0m,\n",
       "        \u001b[32m'Toulouse'\u001b[0m,\n",
       "        \u001b[32m'Nice'\u001b[0m,\n",
       "        \u001b[32m'Nantes'\u001b[0m,\n",
       "        \u001b[32m'Strasbourg'\u001b[0m,\n",
       "        \u001b[32m'Montpellier'\u001b[0m,\n",
       "        \u001b[32m'Bordeaux'\u001b[0m,\n",
       "        \u001b[32m'Lille'\u001b[0m,\n",
       "        \u001b[32m'Rennes'\u001b[0m,\n",
       "        \u001b[32m'Reims'\u001b[0m,\n",
       "        \u001b[32m'Le Havre'\u001b[0m,\n",
       "        \u001b[32m'Saint-Étienne'\u001b[0m,\n",
       "        \u001b[32m'Toulon'\u001b[0m,\n",
       "        \u001b[32m'Grenoble'\u001b[0m,\n",
       "        \u001b[32m'Dijon'\u001b[0m,\n",
       "        \u001b[32m'Angers'\u001b[0m,\n",
       "        \u001b[32m'Nîmes'\u001b[0m\n",
       "    \u001b[1m]\u001b[0m\n",
       "\u001b[1m}\u001b[0m\n"
      ]
     },
     "metadata": {},
     "output_type": "display_data"
    },
    {
     "data": {
      "text/html": [
       "<pre style=\"white-space:pre;overflow-x:auto;line-height:normal;font-family:Menlo,'DejaVu Sans Mono',consolas,'Courier New',monospace\"><span style=\"font-weight: bold\">{</span>\n",
       "    <span style=\"color: #008000; text-decoration-color: #008000\">'city'</span>: <span style=\"font-weight: bold\">[</span>\n",
       "        <span style=\"color: #008000; text-decoration-color: #008000\">'Paris'</span>,\n",
       "        <span style=\"color: #008000; text-decoration-color: #008000\">'Marseille'</span>,\n",
       "        <span style=\"color: #008000; text-decoration-color: #008000\">'Lyon'</span>,\n",
       "        <span style=\"color: #008000; text-decoration-color: #008000\">'Toulouse'</span>,\n",
       "        <span style=\"color: #008000; text-decoration-color: #008000\">'Nice'</span>,\n",
       "        <span style=\"color: #008000; text-decoration-color: #008000\">'Nantes'</span>,\n",
       "        <span style=\"color: #008000; text-decoration-color: #008000\">'Strasbourg'</span>,\n",
       "        <span style=\"color: #008000; text-decoration-color: #008000\">'Montpellier'</span>,\n",
       "        <span style=\"color: #008000; text-decoration-color: #008000\">'Bordeaux'</span>,\n",
       "        <span style=\"color: #008000; text-decoration-color: #008000\">'Lille'</span>,\n",
       "        <span style=\"color: #008000; text-decoration-color: #008000\">'Rennes'</span>,\n",
       "        <span style=\"color: #008000; text-decoration-color: #008000\">'Reims'</span>,\n",
       "        <span style=\"color: #008000; text-decoration-color: #008000\">'Le Havre'</span>,\n",
       "        <span style=\"color: #008000; text-decoration-color: #008000\">'Saint-Étienne'</span>,\n",
       "        <span style=\"color: #008000; text-decoration-color: #008000\">'Toulon'</span>,\n",
       "        <span style=\"color: #008000; text-decoration-color: #008000\">'Grenoble'</span>,\n",
       "        <span style=\"color: #008000; text-decoration-color: #008000\">'Dijon'</span>,\n",
       "        <span style=\"color: #008000; text-decoration-color: #008000\">'Angers'</span>,\n",
       "        <span style=\"color: #008000; text-decoration-color: #008000\">'Nîmes'</span>,\n",
       "        <span style=\"color: #008000; text-decoration-color: #008000\">'Ville'</span>\n",
       "    <span style=\"font-weight: bold\">]</span>\n",
       "<span style=\"font-weight: bold\">}</span>\n",
       "</pre>\n"
      ],
      "text/plain": [
       "\u001b[1m{\u001b[0m\n",
       "    \u001b[32m'city'\u001b[0m: \u001b[1m[\u001b[0m\n",
       "        \u001b[32m'Paris'\u001b[0m,\n",
       "        \u001b[32m'Marseille'\u001b[0m,\n",
       "        \u001b[32m'Lyon'\u001b[0m,\n",
       "        \u001b[32m'Toulouse'\u001b[0m,\n",
       "        \u001b[32m'Nice'\u001b[0m,\n",
       "        \u001b[32m'Nantes'\u001b[0m,\n",
       "        \u001b[32m'Strasbourg'\u001b[0m,\n",
       "        \u001b[32m'Montpellier'\u001b[0m,\n",
       "        \u001b[32m'Bordeaux'\u001b[0m,\n",
       "        \u001b[32m'Lille'\u001b[0m,\n",
       "        \u001b[32m'Rennes'\u001b[0m,\n",
       "        \u001b[32m'Reims'\u001b[0m,\n",
       "        \u001b[32m'Le Havre'\u001b[0m,\n",
       "        \u001b[32m'Saint-Étienne'\u001b[0m,\n",
       "        \u001b[32m'Toulon'\u001b[0m,\n",
       "        \u001b[32m'Grenoble'\u001b[0m,\n",
       "        \u001b[32m'Dijon'\u001b[0m,\n",
       "        \u001b[32m'Angers'\u001b[0m,\n",
       "        \u001b[32m'Nîmes'\u001b[0m,\n",
       "        \u001b[32m'Ville'\u001b[0m\n",
       "    \u001b[1m]\u001b[0m\n",
       "\u001b[1m}\u001b[0m\n"
      ]
     },
     "metadata": {},
     "output_type": "display_data"
    },
    {
     "data": {
      "text/html": [
       "<pre style=\"white-space:pre;overflow-x:auto;line-height:normal;font-family:Menlo,'DejaVu Sans Mono',consolas,'Courier New',monospace\"><span style=\"font-weight: bold\">{</span>\n",
       "    <span style=\"color: #008000; text-decoration-color: #008000\">'city'</span>: <span style=\"font-weight: bold\">[</span>\n",
       "        <span style=\"color: #008000; text-decoration-color: #008000\">'Paris'</span>,\n",
       "        <span style=\"color: #008000; text-decoration-color: #008000\">'Marseille'</span>,\n",
       "        <span style=\"color: #008000; text-decoration-color: #008000\">'Lyon'</span>,\n",
       "        <span style=\"color: #008000; text-decoration-color: #008000\">'Toulouse'</span>,\n",
       "        <span style=\"color: #008000; text-decoration-color: #008000\">'Nice'</span>,\n",
       "        <span style=\"color: #008000; text-decoration-color: #008000\">'Nantes'</span>,\n",
       "        <span style=\"color: #008000; text-decoration-color: #008000\">'Strasbourg'</span>,\n",
       "        <span style=\"color: #008000; text-decoration-color: #008000\">'Montpellier'</span>,\n",
       "        <span style=\"color: #008000; text-decoration-color: #008000\">'Bordeaux'</span>,\n",
       "        <span style=\"color: #008000; text-decoration-color: #008000\">'Lille'</span>,\n",
       "        <span style=\"color: #008000; text-decoration-color: #008000\">'Rennes'</span>,\n",
       "        <span style=\"color: #008000; text-decoration-color: #008000\">'Reims'</span>,\n",
       "        <span style=\"color: #008000; text-decoration-color: #008000\">'Le Havre'</span>,\n",
       "        <span style=\"color: #008000; text-decoration-color: #008000\">'Saint-Étienne'</span>,\n",
       "        <span style=\"color: #008000; text-decoration-color: #008000\">'Toulon'</span>,\n",
       "        <span style=\"color: #008000; text-decoration-color: #008000\">'Grenoble'</span>,\n",
       "        <span style=\"color: #008000; text-decoration-color: #008000\">'Dijon'</span>,\n",
       "        <span style=\"color: #008000; text-decoration-color: #008000\">'Angers'</span>,\n",
       "        <span style=\"color: #008000; text-decoration-color: #008000\">'Nîmes'</span>,\n",
       "        <span style=\"color: #008000; text-decoration-color: #008000\">'Villeurbanne'</span>\n",
       "    <span style=\"font-weight: bold\">]</span>\n",
       "<span style=\"font-weight: bold\">}</span>\n",
       "</pre>\n"
      ],
      "text/plain": [
       "\u001b[1m{\u001b[0m\n",
       "    \u001b[32m'city'\u001b[0m: \u001b[1m[\u001b[0m\n",
       "        \u001b[32m'Paris'\u001b[0m,\n",
       "        \u001b[32m'Marseille'\u001b[0m,\n",
       "        \u001b[32m'Lyon'\u001b[0m,\n",
       "        \u001b[32m'Toulouse'\u001b[0m,\n",
       "        \u001b[32m'Nice'\u001b[0m,\n",
       "        \u001b[32m'Nantes'\u001b[0m,\n",
       "        \u001b[32m'Strasbourg'\u001b[0m,\n",
       "        \u001b[32m'Montpellier'\u001b[0m,\n",
       "        \u001b[32m'Bordeaux'\u001b[0m,\n",
       "        \u001b[32m'Lille'\u001b[0m,\n",
       "        \u001b[32m'Rennes'\u001b[0m,\n",
       "        \u001b[32m'Reims'\u001b[0m,\n",
       "        \u001b[32m'Le Havre'\u001b[0m,\n",
       "        \u001b[32m'Saint-Étienne'\u001b[0m,\n",
       "        \u001b[32m'Toulon'\u001b[0m,\n",
       "        \u001b[32m'Grenoble'\u001b[0m,\n",
       "        \u001b[32m'Dijon'\u001b[0m,\n",
       "        \u001b[32m'Angers'\u001b[0m,\n",
       "        \u001b[32m'Nîmes'\u001b[0m,\n",
       "        \u001b[32m'Villeurbanne'\u001b[0m\n",
       "    \u001b[1m]\u001b[0m\n",
       "\u001b[1m}\u001b[0m\n"
      ]
     },
     "metadata": {},
     "output_type": "display_data"
    },
    {
     "data": {
      "text/html": [
       "<pre style=\"white-space:pre;overflow-x:auto;line-height:normal;font-family:Menlo,'DejaVu Sans Mono',consolas,'Courier New',monospace\"><span style=\"font-weight: bold\">{</span>\n",
       "    <span style=\"color: #008000; text-decoration-color: #008000\">'city'</span>: <span style=\"font-weight: bold\">[</span>\n",
       "        <span style=\"color: #008000; text-decoration-color: #008000\">'Paris'</span>,\n",
       "        <span style=\"color: #008000; text-decoration-color: #008000\">'Marseille'</span>,\n",
       "        <span style=\"color: #008000; text-decoration-color: #008000\">'Lyon'</span>,\n",
       "        <span style=\"color: #008000; text-decoration-color: #008000\">'Toulouse'</span>,\n",
       "        <span style=\"color: #008000; text-decoration-color: #008000\">'Nice'</span>,\n",
       "        <span style=\"color: #008000; text-decoration-color: #008000\">'Nantes'</span>,\n",
       "        <span style=\"color: #008000; text-decoration-color: #008000\">'Strasbourg'</span>,\n",
       "        <span style=\"color: #008000; text-decoration-color: #008000\">'Montpellier'</span>,\n",
       "        <span style=\"color: #008000; text-decoration-color: #008000\">'Bordeaux'</span>,\n",
       "        <span style=\"color: #008000; text-decoration-color: #008000\">'Lille'</span>,\n",
       "        <span style=\"color: #008000; text-decoration-color: #008000\">'Rennes'</span>,\n",
       "        <span style=\"color: #008000; text-decoration-color: #008000\">'Reims'</span>,\n",
       "        <span style=\"color: #008000; text-decoration-color: #008000\">'Le Havre'</span>,\n",
       "        <span style=\"color: #008000; text-decoration-color: #008000\">'Saint-Étienne'</span>,\n",
       "        <span style=\"color: #008000; text-decoration-color: #008000\">'Toulon'</span>,\n",
       "        <span style=\"color: #008000; text-decoration-color: #008000\">'Grenoble'</span>,\n",
       "        <span style=\"color: #008000; text-decoration-color: #008000\">'Dijon'</span>,\n",
       "        <span style=\"color: #008000; text-decoration-color: #008000\">'Angers'</span>,\n",
       "        <span style=\"color: #008000; text-decoration-color: #008000\">'Nîmes'</span>,\n",
       "        <span style=\"color: #008000; text-decoration-color: #008000\">'Villeurbanne'</span>\n",
       "    <span style=\"font-weight: bold\">]</span>\n",
       "<span style=\"font-weight: bold\">}</span>\n",
       "</pre>\n"
      ],
      "text/plain": [
       "\u001b[1m{\u001b[0m\n",
       "    \u001b[32m'city'\u001b[0m: \u001b[1m[\u001b[0m\n",
       "        \u001b[32m'Paris'\u001b[0m,\n",
       "        \u001b[32m'Marseille'\u001b[0m,\n",
       "        \u001b[32m'Lyon'\u001b[0m,\n",
       "        \u001b[32m'Toulouse'\u001b[0m,\n",
       "        \u001b[32m'Nice'\u001b[0m,\n",
       "        \u001b[32m'Nantes'\u001b[0m,\n",
       "        \u001b[32m'Strasbourg'\u001b[0m,\n",
       "        \u001b[32m'Montpellier'\u001b[0m,\n",
       "        \u001b[32m'Bordeaux'\u001b[0m,\n",
       "        \u001b[32m'Lille'\u001b[0m,\n",
       "        \u001b[32m'Rennes'\u001b[0m,\n",
       "        \u001b[32m'Reims'\u001b[0m,\n",
       "        \u001b[32m'Le Havre'\u001b[0m,\n",
       "        \u001b[32m'Saint-Étienne'\u001b[0m,\n",
       "        \u001b[32m'Toulon'\u001b[0m,\n",
       "        \u001b[32m'Grenoble'\u001b[0m,\n",
       "        \u001b[32m'Dijon'\u001b[0m,\n",
       "        \u001b[32m'Angers'\u001b[0m,\n",
       "        \u001b[32m'Nîmes'\u001b[0m,\n",
       "        \u001b[32m'Villeurbanne'\u001b[0m\n",
       "    \u001b[1m]\u001b[0m\n",
       "\u001b[1m}\u001b[0m\n"
      ]
     },
     "metadata": {},
     "output_type": "display_data"
    },
    {
     "data": {
      "text/html": [
       "<pre style=\"white-space:pre;overflow-x:auto;line-height:normal;font-family:Menlo,'DejaVu Sans Mono',consolas,'Courier New',monospace\"><span style=\"font-weight: bold\">{</span>\n",
       "    <span style=\"color: #008000; text-decoration-color: #008000\">'city'</span>: <span style=\"font-weight: bold\">[</span>\n",
       "        <span style=\"color: #008000; text-decoration-color: #008000\">'Paris'</span>,\n",
       "        <span style=\"color: #008000; text-decoration-color: #008000\">'Marseille'</span>,\n",
       "        <span style=\"color: #008000; text-decoration-color: #008000\">'Lyon'</span>,\n",
       "        <span style=\"color: #008000; text-decoration-color: #008000\">'Toulouse'</span>,\n",
       "        <span style=\"color: #008000; text-decoration-color: #008000\">'Nice'</span>,\n",
       "        <span style=\"color: #008000; text-decoration-color: #008000\">'Nantes'</span>,\n",
       "        <span style=\"color: #008000; text-decoration-color: #008000\">'Strasbourg'</span>,\n",
       "        <span style=\"color: #008000; text-decoration-color: #008000\">'Montpellier'</span>,\n",
       "        <span style=\"color: #008000; text-decoration-color: #008000\">'Bordeaux'</span>,\n",
       "        <span style=\"color: #008000; text-decoration-color: #008000\">'Lille'</span>,\n",
       "        <span style=\"color: #008000; text-decoration-color: #008000\">'Rennes'</span>,\n",
       "        <span style=\"color: #008000; text-decoration-color: #008000\">'Reims'</span>,\n",
       "        <span style=\"color: #008000; text-decoration-color: #008000\">'Le Havre'</span>,\n",
       "        <span style=\"color: #008000; text-decoration-color: #008000\">'Saint-Étienne'</span>,\n",
       "        <span style=\"color: #008000; text-decoration-color: #008000\">'Toulon'</span>,\n",
       "        <span style=\"color: #008000; text-decoration-color: #008000\">'Grenoble'</span>,\n",
       "        <span style=\"color: #008000; text-decoration-color: #008000\">'Dijon'</span>,\n",
       "        <span style=\"color: #008000; text-decoration-color: #008000\">'Angers'</span>,\n",
       "        <span style=\"color: #008000; text-decoration-color: #008000\">'Nîmes'</span>,\n",
       "        <span style=\"color: #008000; text-decoration-color: #008000\">'Villeurbanne'</span>\n",
       "    <span style=\"font-weight: bold\">]</span>,\n",
       "    <span style=\"color: #008000; text-decoration-color: #008000\">'country'</span>: <span style=\"font-weight: bold\">[</span><span style=\"color: #008000; text-decoration-color: #008000\">'Fr'</span><span style=\"font-weight: bold\">]</span>\n",
       "<span style=\"font-weight: bold\">}</span>\n",
       "</pre>\n"
      ],
      "text/plain": [
       "\u001b[1m{\u001b[0m\n",
       "    \u001b[32m'city'\u001b[0m: \u001b[1m[\u001b[0m\n",
       "        \u001b[32m'Paris'\u001b[0m,\n",
       "        \u001b[32m'Marseille'\u001b[0m,\n",
       "        \u001b[32m'Lyon'\u001b[0m,\n",
       "        \u001b[32m'Toulouse'\u001b[0m,\n",
       "        \u001b[32m'Nice'\u001b[0m,\n",
       "        \u001b[32m'Nantes'\u001b[0m,\n",
       "        \u001b[32m'Strasbourg'\u001b[0m,\n",
       "        \u001b[32m'Montpellier'\u001b[0m,\n",
       "        \u001b[32m'Bordeaux'\u001b[0m,\n",
       "        \u001b[32m'Lille'\u001b[0m,\n",
       "        \u001b[32m'Rennes'\u001b[0m,\n",
       "        \u001b[32m'Reims'\u001b[0m,\n",
       "        \u001b[32m'Le Havre'\u001b[0m,\n",
       "        \u001b[32m'Saint-Étienne'\u001b[0m,\n",
       "        \u001b[32m'Toulon'\u001b[0m,\n",
       "        \u001b[32m'Grenoble'\u001b[0m,\n",
       "        \u001b[32m'Dijon'\u001b[0m,\n",
       "        \u001b[32m'Angers'\u001b[0m,\n",
       "        \u001b[32m'Nîmes'\u001b[0m,\n",
       "        \u001b[32m'Villeurbanne'\u001b[0m\n",
       "    \u001b[1m]\u001b[0m,\n",
       "    \u001b[32m'country'\u001b[0m: \u001b[1m[\u001b[0m\u001b[32m'Fr'\u001b[0m\u001b[1m]\u001b[0m\n",
       "\u001b[1m}\u001b[0m\n"
      ]
     },
     "metadata": {},
     "output_type": "display_data"
    },
    {
     "data": {
      "text/html": [
       "<pre style=\"white-space:pre;overflow-x:auto;line-height:normal;font-family:Menlo,'DejaVu Sans Mono',consolas,'Courier New',monospace\"><span style=\"font-weight: bold\">{</span>\n",
       "    <span style=\"color: #008000; text-decoration-color: #008000\">'city'</span>: <span style=\"font-weight: bold\">[</span>\n",
       "        <span style=\"color: #008000; text-decoration-color: #008000\">'Paris'</span>,\n",
       "        <span style=\"color: #008000; text-decoration-color: #008000\">'Marseille'</span>,\n",
       "        <span style=\"color: #008000; text-decoration-color: #008000\">'Lyon'</span>,\n",
       "        <span style=\"color: #008000; text-decoration-color: #008000\">'Toulouse'</span>,\n",
       "        <span style=\"color: #008000; text-decoration-color: #008000\">'Nice'</span>,\n",
       "        <span style=\"color: #008000; text-decoration-color: #008000\">'Nantes'</span>,\n",
       "        <span style=\"color: #008000; text-decoration-color: #008000\">'Strasbourg'</span>,\n",
       "        <span style=\"color: #008000; text-decoration-color: #008000\">'Montpellier'</span>,\n",
       "        <span style=\"color: #008000; text-decoration-color: #008000\">'Bordeaux'</span>,\n",
       "        <span style=\"color: #008000; text-decoration-color: #008000\">'Lille'</span>,\n",
       "        <span style=\"color: #008000; text-decoration-color: #008000\">'Rennes'</span>,\n",
       "        <span style=\"color: #008000; text-decoration-color: #008000\">'Reims'</span>,\n",
       "        <span style=\"color: #008000; text-decoration-color: #008000\">'Le Havre'</span>,\n",
       "        <span style=\"color: #008000; text-decoration-color: #008000\">'Saint-Étienne'</span>,\n",
       "        <span style=\"color: #008000; text-decoration-color: #008000\">'Toulon'</span>,\n",
       "        <span style=\"color: #008000; text-decoration-color: #008000\">'Grenoble'</span>,\n",
       "        <span style=\"color: #008000; text-decoration-color: #008000\">'Dijon'</span>,\n",
       "        <span style=\"color: #008000; text-decoration-color: #008000\">'Angers'</span>,\n",
       "        <span style=\"color: #008000; text-decoration-color: #008000\">'Nîmes'</span>,\n",
       "        <span style=\"color: #008000; text-decoration-color: #008000\">'Villeurbanne'</span>\n",
       "    <span style=\"font-weight: bold\">]</span>,\n",
       "    <span style=\"color: #008000; text-decoration-color: #008000\">'country'</span>: <span style=\"font-weight: bold\">[</span><span style=\"color: #008000; text-decoration-color: #008000\">'France'</span>, <span style=\"color: #008000; text-decoration-color: #008000\">''</span><span style=\"font-weight: bold\">]</span>\n",
       "<span style=\"font-weight: bold\">}</span>\n",
       "</pre>\n"
      ],
      "text/plain": [
       "\u001b[1m{\u001b[0m\n",
       "    \u001b[32m'city'\u001b[0m: \u001b[1m[\u001b[0m\n",
       "        \u001b[32m'Paris'\u001b[0m,\n",
       "        \u001b[32m'Marseille'\u001b[0m,\n",
       "        \u001b[32m'Lyon'\u001b[0m,\n",
       "        \u001b[32m'Toulouse'\u001b[0m,\n",
       "        \u001b[32m'Nice'\u001b[0m,\n",
       "        \u001b[32m'Nantes'\u001b[0m,\n",
       "        \u001b[32m'Strasbourg'\u001b[0m,\n",
       "        \u001b[32m'Montpellier'\u001b[0m,\n",
       "        \u001b[32m'Bordeaux'\u001b[0m,\n",
       "        \u001b[32m'Lille'\u001b[0m,\n",
       "        \u001b[32m'Rennes'\u001b[0m,\n",
       "        \u001b[32m'Reims'\u001b[0m,\n",
       "        \u001b[32m'Le Havre'\u001b[0m,\n",
       "        \u001b[32m'Saint-Étienne'\u001b[0m,\n",
       "        \u001b[32m'Toulon'\u001b[0m,\n",
       "        \u001b[32m'Grenoble'\u001b[0m,\n",
       "        \u001b[32m'Dijon'\u001b[0m,\n",
       "        \u001b[32m'Angers'\u001b[0m,\n",
       "        \u001b[32m'Nîmes'\u001b[0m,\n",
       "        \u001b[32m'Villeurbanne'\u001b[0m\n",
       "    \u001b[1m]\u001b[0m,\n",
       "    \u001b[32m'country'\u001b[0m: \u001b[1m[\u001b[0m\u001b[32m'France'\u001b[0m, \u001b[32m''\u001b[0m\u001b[1m]\u001b[0m\n",
       "\u001b[1m}\u001b[0m\n"
      ]
     },
     "metadata": {},
     "output_type": "display_data"
    },
    {
     "data": {
      "text/html": [
       "<pre style=\"white-space:pre;overflow-x:auto;line-height:normal;font-family:Menlo,'DejaVu Sans Mono',consolas,'Courier New',monospace\"><span style=\"font-weight: bold\">{</span>\n",
       "    <span style=\"color: #008000; text-decoration-color: #008000\">'city'</span>: <span style=\"font-weight: bold\">[</span>\n",
       "        <span style=\"color: #008000; text-decoration-color: #008000\">'Paris'</span>,\n",
       "        <span style=\"color: #008000; text-decoration-color: #008000\">'Marseille'</span>,\n",
       "        <span style=\"color: #008000; text-decoration-color: #008000\">'Lyon'</span>,\n",
       "        <span style=\"color: #008000; text-decoration-color: #008000\">'Toulouse'</span>,\n",
       "        <span style=\"color: #008000; text-decoration-color: #008000\">'Nice'</span>,\n",
       "        <span style=\"color: #008000; text-decoration-color: #008000\">'Nantes'</span>,\n",
       "        <span style=\"color: #008000; text-decoration-color: #008000\">'Strasbourg'</span>,\n",
       "        <span style=\"color: #008000; text-decoration-color: #008000\">'Montpellier'</span>,\n",
       "        <span style=\"color: #008000; text-decoration-color: #008000\">'Bordeaux'</span>,\n",
       "        <span style=\"color: #008000; text-decoration-color: #008000\">'Lille'</span>,\n",
       "        <span style=\"color: #008000; text-decoration-color: #008000\">'Rennes'</span>,\n",
       "        <span style=\"color: #008000; text-decoration-color: #008000\">'Reims'</span>,\n",
       "        <span style=\"color: #008000; text-decoration-color: #008000\">'Le Havre'</span>,\n",
       "        <span style=\"color: #008000; text-decoration-color: #008000\">'Saint-Étienne'</span>,\n",
       "        <span style=\"color: #008000; text-decoration-color: #008000\">'Toulon'</span>,\n",
       "        <span style=\"color: #008000; text-decoration-color: #008000\">'Grenoble'</span>,\n",
       "        <span style=\"color: #008000; text-decoration-color: #008000\">'Dijon'</span>,\n",
       "        <span style=\"color: #008000; text-decoration-color: #008000\">'Angers'</span>,\n",
       "        <span style=\"color: #008000; text-decoration-color: #008000\">'Nîmes'</span>,\n",
       "        <span style=\"color: #008000; text-decoration-color: #008000\">'Villeurbanne'</span>\n",
       "    <span style=\"font-weight: bold\">]</span>,\n",
       "    <span style=\"color: #008000; text-decoration-color: #008000\">'country'</span>: <span style=\"font-weight: bold\">[</span><span style=\"color: #008000; text-decoration-color: #008000\">'France'</span>, <span style=\"color: #008000; text-decoration-color: #008000\">'France'</span><span style=\"font-weight: bold\">]</span>\n",
       "<span style=\"font-weight: bold\">}</span>\n",
       "</pre>\n"
      ],
      "text/plain": [
       "\u001b[1m{\u001b[0m\n",
       "    \u001b[32m'city'\u001b[0m: \u001b[1m[\u001b[0m\n",
       "        \u001b[32m'Paris'\u001b[0m,\n",
       "        \u001b[32m'Marseille'\u001b[0m,\n",
       "        \u001b[32m'Lyon'\u001b[0m,\n",
       "        \u001b[32m'Toulouse'\u001b[0m,\n",
       "        \u001b[32m'Nice'\u001b[0m,\n",
       "        \u001b[32m'Nantes'\u001b[0m,\n",
       "        \u001b[32m'Strasbourg'\u001b[0m,\n",
       "        \u001b[32m'Montpellier'\u001b[0m,\n",
       "        \u001b[32m'Bordeaux'\u001b[0m,\n",
       "        \u001b[32m'Lille'\u001b[0m,\n",
       "        \u001b[32m'Rennes'\u001b[0m,\n",
       "        \u001b[32m'Reims'\u001b[0m,\n",
       "        \u001b[32m'Le Havre'\u001b[0m,\n",
       "        \u001b[32m'Saint-Étienne'\u001b[0m,\n",
       "        \u001b[32m'Toulon'\u001b[0m,\n",
       "        \u001b[32m'Grenoble'\u001b[0m,\n",
       "        \u001b[32m'Dijon'\u001b[0m,\n",
       "        \u001b[32m'Angers'\u001b[0m,\n",
       "        \u001b[32m'Nîmes'\u001b[0m,\n",
       "        \u001b[32m'Villeurbanne'\u001b[0m\n",
       "    \u001b[1m]\u001b[0m,\n",
       "    \u001b[32m'country'\u001b[0m: \u001b[1m[\u001b[0m\u001b[32m'France'\u001b[0m, \u001b[32m'France'\u001b[0m\u001b[1m]\u001b[0m\n",
       "\u001b[1m}\u001b[0m\n"
      ]
     },
     "metadata": {},
     "output_type": "display_data"
    },
    {
     "data": {
      "text/html": [
       "<pre style=\"white-space:pre;overflow-x:auto;line-height:normal;font-family:Menlo,'DejaVu Sans Mono',consolas,'Courier New',monospace\"><span style=\"font-weight: bold\">{</span>\n",
       "    <span style=\"color: #008000; text-decoration-color: #008000\">'city'</span>: <span style=\"font-weight: bold\">[</span>\n",
       "        <span style=\"color: #008000; text-decoration-color: #008000\">'Paris'</span>,\n",
       "        <span style=\"color: #008000; text-decoration-color: #008000\">'Marseille'</span>,\n",
       "        <span style=\"color: #008000; text-decoration-color: #008000\">'Lyon'</span>,\n",
       "        <span style=\"color: #008000; text-decoration-color: #008000\">'Toulouse'</span>,\n",
       "        <span style=\"color: #008000; text-decoration-color: #008000\">'Nice'</span>,\n",
       "        <span style=\"color: #008000; text-decoration-color: #008000\">'Nantes'</span>,\n",
       "        <span style=\"color: #008000; text-decoration-color: #008000\">'Strasbourg'</span>,\n",
       "        <span style=\"color: #008000; text-decoration-color: #008000\">'Montpellier'</span>,\n",
       "        <span style=\"color: #008000; text-decoration-color: #008000\">'Bordeaux'</span>,\n",
       "        <span style=\"color: #008000; text-decoration-color: #008000\">'Lille'</span>,\n",
       "        <span style=\"color: #008000; text-decoration-color: #008000\">'Rennes'</span>,\n",
       "        <span style=\"color: #008000; text-decoration-color: #008000\">'Reims'</span>,\n",
       "        <span style=\"color: #008000; text-decoration-color: #008000\">'Le Havre'</span>,\n",
       "        <span style=\"color: #008000; text-decoration-color: #008000\">'Saint-Étienne'</span>,\n",
       "        <span style=\"color: #008000; text-decoration-color: #008000\">'Toulon'</span>,\n",
       "        <span style=\"color: #008000; text-decoration-color: #008000\">'Grenoble'</span>,\n",
       "        <span style=\"color: #008000; text-decoration-color: #008000\">'Dijon'</span>,\n",
       "        <span style=\"color: #008000; text-decoration-color: #008000\">'Angers'</span>,\n",
       "        <span style=\"color: #008000; text-decoration-color: #008000\">'Nîmes'</span>,\n",
       "        <span style=\"color: #008000; text-decoration-color: #008000\">'Villeurbanne'</span>\n",
       "    <span style=\"font-weight: bold\">]</span>,\n",
       "    <span style=\"color: #008000; text-decoration-color: #008000\">'country'</span>: <span style=\"font-weight: bold\">[</span><span style=\"color: #008000; text-decoration-color: #008000\">'France'</span>, <span style=\"color: #008000; text-decoration-color: #008000\">'France'</span>, <span style=\"color: #008000; text-decoration-color: #008000\">'France'</span><span style=\"font-weight: bold\">]</span>\n",
       "<span style=\"font-weight: bold\">}</span>\n",
       "</pre>\n"
      ],
      "text/plain": [
       "\u001b[1m{\u001b[0m\n",
       "    \u001b[32m'city'\u001b[0m: \u001b[1m[\u001b[0m\n",
       "        \u001b[32m'Paris'\u001b[0m,\n",
       "        \u001b[32m'Marseille'\u001b[0m,\n",
       "        \u001b[32m'Lyon'\u001b[0m,\n",
       "        \u001b[32m'Toulouse'\u001b[0m,\n",
       "        \u001b[32m'Nice'\u001b[0m,\n",
       "        \u001b[32m'Nantes'\u001b[0m,\n",
       "        \u001b[32m'Strasbourg'\u001b[0m,\n",
       "        \u001b[32m'Montpellier'\u001b[0m,\n",
       "        \u001b[32m'Bordeaux'\u001b[0m,\n",
       "        \u001b[32m'Lille'\u001b[0m,\n",
       "        \u001b[32m'Rennes'\u001b[0m,\n",
       "        \u001b[32m'Reims'\u001b[0m,\n",
       "        \u001b[32m'Le Havre'\u001b[0m,\n",
       "        \u001b[32m'Saint-Étienne'\u001b[0m,\n",
       "        \u001b[32m'Toulon'\u001b[0m,\n",
       "        \u001b[32m'Grenoble'\u001b[0m,\n",
       "        \u001b[32m'Dijon'\u001b[0m,\n",
       "        \u001b[32m'Angers'\u001b[0m,\n",
       "        \u001b[32m'Nîmes'\u001b[0m,\n",
       "        \u001b[32m'Villeurbanne'\u001b[0m\n",
       "    \u001b[1m]\u001b[0m,\n",
       "    \u001b[32m'country'\u001b[0m: \u001b[1m[\u001b[0m\u001b[32m'France'\u001b[0m, \u001b[32m'France'\u001b[0m, \u001b[32m'France'\u001b[0m\u001b[1m]\u001b[0m\n",
       "\u001b[1m}\u001b[0m\n"
      ]
     },
     "metadata": {},
     "output_type": "display_data"
    },
    {
     "data": {
      "text/html": [
       "<pre style=\"white-space:pre;overflow-x:auto;line-height:normal;font-family:Menlo,'DejaVu Sans Mono',consolas,'Courier New',monospace\"><span style=\"font-weight: bold\">{</span>\n",
       "    <span style=\"color: #008000; text-decoration-color: #008000\">'city'</span>: <span style=\"font-weight: bold\">[</span>\n",
       "        <span style=\"color: #008000; text-decoration-color: #008000\">'Paris'</span>,\n",
       "        <span style=\"color: #008000; text-decoration-color: #008000\">'Marseille'</span>,\n",
       "        <span style=\"color: #008000; text-decoration-color: #008000\">'Lyon'</span>,\n",
       "        <span style=\"color: #008000; text-decoration-color: #008000\">'Toulouse'</span>,\n",
       "        <span style=\"color: #008000; text-decoration-color: #008000\">'Nice'</span>,\n",
       "        <span style=\"color: #008000; text-decoration-color: #008000\">'Nantes'</span>,\n",
       "        <span style=\"color: #008000; text-decoration-color: #008000\">'Strasbourg'</span>,\n",
       "        <span style=\"color: #008000; text-decoration-color: #008000\">'Montpellier'</span>,\n",
       "        <span style=\"color: #008000; text-decoration-color: #008000\">'Bordeaux'</span>,\n",
       "        <span style=\"color: #008000; text-decoration-color: #008000\">'Lille'</span>,\n",
       "        <span style=\"color: #008000; text-decoration-color: #008000\">'Rennes'</span>,\n",
       "        <span style=\"color: #008000; text-decoration-color: #008000\">'Reims'</span>,\n",
       "        <span style=\"color: #008000; text-decoration-color: #008000\">'Le Havre'</span>,\n",
       "        <span style=\"color: #008000; text-decoration-color: #008000\">'Saint-Étienne'</span>,\n",
       "        <span style=\"color: #008000; text-decoration-color: #008000\">'Toulon'</span>,\n",
       "        <span style=\"color: #008000; text-decoration-color: #008000\">'Grenoble'</span>,\n",
       "        <span style=\"color: #008000; text-decoration-color: #008000\">'Dijon'</span>,\n",
       "        <span style=\"color: #008000; text-decoration-color: #008000\">'Angers'</span>,\n",
       "        <span style=\"color: #008000; text-decoration-color: #008000\">'Nîmes'</span>,\n",
       "        <span style=\"color: #008000; text-decoration-color: #008000\">'Villeurbanne'</span>\n",
       "    <span style=\"font-weight: bold\">]</span>,\n",
       "    <span style=\"color: #008000; text-decoration-color: #008000\">'country'</span>: <span style=\"font-weight: bold\">[</span><span style=\"color: #008000; text-decoration-color: #008000\">'France'</span>, <span style=\"color: #008000; text-decoration-color: #008000\">'France'</span>, <span style=\"color: #008000; text-decoration-color: #008000\">'France'</span>, <span style=\"color: #008000; text-decoration-color: #008000\">'France'</span><span style=\"font-weight: bold\">]</span>\n",
       "<span style=\"font-weight: bold\">}</span>\n",
       "</pre>\n"
      ],
      "text/plain": [
       "\u001b[1m{\u001b[0m\n",
       "    \u001b[32m'city'\u001b[0m: \u001b[1m[\u001b[0m\n",
       "        \u001b[32m'Paris'\u001b[0m,\n",
       "        \u001b[32m'Marseille'\u001b[0m,\n",
       "        \u001b[32m'Lyon'\u001b[0m,\n",
       "        \u001b[32m'Toulouse'\u001b[0m,\n",
       "        \u001b[32m'Nice'\u001b[0m,\n",
       "        \u001b[32m'Nantes'\u001b[0m,\n",
       "        \u001b[32m'Strasbourg'\u001b[0m,\n",
       "        \u001b[32m'Montpellier'\u001b[0m,\n",
       "        \u001b[32m'Bordeaux'\u001b[0m,\n",
       "        \u001b[32m'Lille'\u001b[0m,\n",
       "        \u001b[32m'Rennes'\u001b[0m,\n",
       "        \u001b[32m'Reims'\u001b[0m,\n",
       "        \u001b[32m'Le Havre'\u001b[0m,\n",
       "        \u001b[32m'Saint-Étienne'\u001b[0m,\n",
       "        \u001b[32m'Toulon'\u001b[0m,\n",
       "        \u001b[32m'Grenoble'\u001b[0m,\n",
       "        \u001b[32m'Dijon'\u001b[0m,\n",
       "        \u001b[32m'Angers'\u001b[0m,\n",
       "        \u001b[32m'Nîmes'\u001b[0m,\n",
       "        \u001b[32m'Villeurbanne'\u001b[0m\n",
       "    \u001b[1m]\u001b[0m,\n",
       "    \u001b[32m'country'\u001b[0m: \u001b[1m[\u001b[0m\u001b[32m'France'\u001b[0m, \u001b[32m'France'\u001b[0m, \u001b[32m'France'\u001b[0m, \u001b[32m'France'\u001b[0m\u001b[1m]\u001b[0m\n",
       "\u001b[1m}\u001b[0m\n"
      ]
     },
     "metadata": {},
     "output_type": "display_data"
    },
    {
     "data": {
      "text/html": [
       "<pre style=\"white-space:pre;overflow-x:auto;line-height:normal;font-family:Menlo,'DejaVu Sans Mono',consolas,'Courier New',monospace\"><span style=\"font-weight: bold\">{</span>\n",
       "    <span style=\"color: #008000; text-decoration-color: #008000\">'city'</span>: <span style=\"font-weight: bold\">[</span>\n",
       "        <span style=\"color: #008000; text-decoration-color: #008000\">'Paris'</span>,\n",
       "        <span style=\"color: #008000; text-decoration-color: #008000\">'Marseille'</span>,\n",
       "        <span style=\"color: #008000; text-decoration-color: #008000\">'Lyon'</span>,\n",
       "        <span style=\"color: #008000; text-decoration-color: #008000\">'Toulouse'</span>,\n",
       "        <span style=\"color: #008000; text-decoration-color: #008000\">'Nice'</span>,\n",
       "        <span style=\"color: #008000; text-decoration-color: #008000\">'Nantes'</span>,\n",
       "        <span style=\"color: #008000; text-decoration-color: #008000\">'Strasbourg'</span>,\n",
       "        <span style=\"color: #008000; text-decoration-color: #008000\">'Montpellier'</span>,\n",
       "        <span style=\"color: #008000; text-decoration-color: #008000\">'Bordeaux'</span>,\n",
       "        <span style=\"color: #008000; text-decoration-color: #008000\">'Lille'</span>,\n",
       "        <span style=\"color: #008000; text-decoration-color: #008000\">'Rennes'</span>,\n",
       "        <span style=\"color: #008000; text-decoration-color: #008000\">'Reims'</span>,\n",
       "        <span style=\"color: #008000; text-decoration-color: #008000\">'Le Havre'</span>,\n",
       "        <span style=\"color: #008000; text-decoration-color: #008000\">'Saint-Étienne'</span>,\n",
       "        <span style=\"color: #008000; text-decoration-color: #008000\">'Toulon'</span>,\n",
       "        <span style=\"color: #008000; text-decoration-color: #008000\">'Grenoble'</span>,\n",
       "        <span style=\"color: #008000; text-decoration-color: #008000\">'Dijon'</span>,\n",
       "        <span style=\"color: #008000; text-decoration-color: #008000\">'Angers'</span>,\n",
       "        <span style=\"color: #008000; text-decoration-color: #008000\">'Nîmes'</span>,\n",
       "        <span style=\"color: #008000; text-decoration-color: #008000\">'Villeurbanne'</span>\n",
       "    <span style=\"font-weight: bold\">]</span>,\n",
       "    <span style=\"color: #008000; text-decoration-color: #008000\">'country'</span>: <span style=\"font-weight: bold\">[</span><span style=\"color: #008000; text-decoration-color: #008000\">'France'</span>, <span style=\"color: #008000; text-decoration-color: #008000\">'France'</span>, <span style=\"color: #008000; text-decoration-color: #008000\">'France'</span>, <span style=\"color: #008000; text-decoration-color: #008000\">'France'</span>, <span style=\"color: #008000; text-decoration-color: #008000\">'France'</span><span style=\"font-weight: bold\">]</span>\n",
       "<span style=\"font-weight: bold\">}</span>\n",
       "</pre>\n"
      ],
      "text/plain": [
       "\u001b[1m{\u001b[0m\n",
       "    \u001b[32m'city'\u001b[0m: \u001b[1m[\u001b[0m\n",
       "        \u001b[32m'Paris'\u001b[0m,\n",
       "        \u001b[32m'Marseille'\u001b[0m,\n",
       "        \u001b[32m'Lyon'\u001b[0m,\n",
       "        \u001b[32m'Toulouse'\u001b[0m,\n",
       "        \u001b[32m'Nice'\u001b[0m,\n",
       "        \u001b[32m'Nantes'\u001b[0m,\n",
       "        \u001b[32m'Strasbourg'\u001b[0m,\n",
       "        \u001b[32m'Montpellier'\u001b[0m,\n",
       "        \u001b[32m'Bordeaux'\u001b[0m,\n",
       "        \u001b[32m'Lille'\u001b[0m,\n",
       "        \u001b[32m'Rennes'\u001b[0m,\n",
       "        \u001b[32m'Reims'\u001b[0m,\n",
       "        \u001b[32m'Le Havre'\u001b[0m,\n",
       "        \u001b[32m'Saint-Étienne'\u001b[0m,\n",
       "        \u001b[32m'Toulon'\u001b[0m,\n",
       "        \u001b[32m'Grenoble'\u001b[0m,\n",
       "        \u001b[32m'Dijon'\u001b[0m,\n",
       "        \u001b[32m'Angers'\u001b[0m,\n",
       "        \u001b[32m'Nîmes'\u001b[0m,\n",
       "        \u001b[32m'Villeurbanne'\u001b[0m\n",
       "    \u001b[1m]\u001b[0m,\n",
       "    \u001b[32m'country'\u001b[0m: \u001b[1m[\u001b[0m\u001b[32m'France'\u001b[0m, \u001b[32m'France'\u001b[0m, \u001b[32m'France'\u001b[0m, \u001b[32m'France'\u001b[0m, \u001b[32m'France'\u001b[0m\u001b[1m]\u001b[0m\n",
       "\u001b[1m}\u001b[0m\n"
      ]
     },
     "metadata": {},
     "output_type": "display_data"
    },
    {
     "data": {
      "text/html": [
       "<pre style=\"white-space:pre;overflow-x:auto;line-height:normal;font-family:Menlo,'DejaVu Sans Mono',consolas,'Courier New',monospace\"><span style=\"font-weight: bold\">{</span>\n",
       "    <span style=\"color: #008000; text-decoration-color: #008000\">'city'</span>: <span style=\"font-weight: bold\">[</span>\n",
       "        <span style=\"color: #008000; text-decoration-color: #008000\">'Paris'</span>,\n",
       "        <span style=\"color: #008000; text-decoration-color: #008000\">'Marseille'</span>,\n",
       "        <span style=\"color: #008000; text-decoration-color: #008000\">'Lyon'</span>,\n",
       "        <span style=\"color: #008000; text-decoration-color: #008000\">'Toulouse'</span>,\n",
       "        <span style=\"color: #008000; text-decoration-color: #008000\">'Nice'</span>,\n",
       "        <span style=\"color: #008000; text-decoration-color: #008000\">'Nantes'</span>,\n",
       "        <span style=\"color: #008000; text-decoration-color: #008000\">'Strasbourg'</span>,\n",
       "        <span style=\"color: #008000; text-decoration-color: #008000\">'Montpellier'</span>,\n",
       "        <span style=\"color: #008000; text-decoration-color: #008000\">'Bordeaux'</span>,\n",
       "        <span style=\"color: #008000; text-decoration-color: #008000\">'Lille'</span>,\n",
       "        <span style=\"color: #008000; text-decoration-color: #008000\">'Rennes'</span>,\n",
       "        <span style=\"color: #008000; text-decoration-color: #008000\">'Reims'</span>,\n",
       "        <span style=\"color: #008000; text-decoration-color: #008000\">'Le Havre'</span>,\n",
       "        <span style=\"color: #008000; text-decoration-color: #008000\">'Saint-Étienne'</span>,\n",
       "        <span style=\"color: #008000; text-decoration-color: #008000\">'Toulon'</span>,\n",
       "        <span style=\"color: #008000; text-decoration-color: #008000\">'Grenoble'</span>,\n",
       "        <span style=\"color: #008000; text-decoration-color: #008000\">'Dijon'</span>,\n",
       "        <span style=\"color: #008000; text-decoration-color: #008000\">'Angers'</span>,\n",
       "        <span style=\"color: #008000; text-decoration-color: #008000\">'Nîmes'</span>,\n",
       "        <span style=\"color: #008000; text-decoration-color: #008000\">'Villeurbanne'</span>\n",
       "    <span style=\"font-weight: bold\">]</span>,\n",
       "    <span style=\"color: #008000; text-decoration-color: #008000\">'country'</span>: <span style=\"font-weight: bold\">[</span><span style=\"color: #008000; text-decoration-color: #008000\">'France'</span>, <span style=\"color: #008000; text-decoration-color: #008000\">'France'</span>, <span style=\"color: #008000; text-decoration-color: #008000\">'France'</span>, <span style=\"color: #008000; text-decoration-color: #008000\">'France'</span>, <span style=\"color: #008000; text-decoration-color: #008000\">'France'</span>, <span style=\"color: #008000; text-decoration-color: #008000\">'France'</span><span style=\"font-weight: bold\">]</span>\n",
       "<span style=\"font-weight: bold\">}</span>\n",
       "</pre>\n"
      ],
      "text/plain": [
       "\u001b[1m{\u001b[0m\n",
       "    \u001b[32m'city'\u001b[0m: \u001b[1m[\u001b[0m\n",
       "        \u001b[32m'Paris'\u001b[0m,\n",
       "        \u001b[32m'Marseille'\u001b[0m,\n",
       "        \u001b[32m'Lyon'\u001b[0m,\n",
       "        \u001b[32m'Toulouse'\u001b[0m,\n",
       "        \u001b[32m'Nice'\u001b[0m,\n",
       "        \u001b[32m'Nantes'\u001b[0m,\n",
       "        \u001b[32m'Strasbourg'\u001b[0m,\n",
       "        \u001b[32m'Montpellier'\u001b[0m,\n",
       "        \u001b[32m'Bordeaux'\u001b[0m,\n",
       "        \u001b[32m'Lille'\u001b[0m,\n",
       "        \u001b[32m'Rennes'\u001b[0m,\n",
       "        \u001b[32m'Reims'\u001b[0m,\n",
       "        \u001b[32m'Le Havre'\u001b[0m,\n",
       "        \u001b[32m'Saint-Étienne'\u001b[0m,\n",
       "        \u001b[32m'Toulon'\u001b[0m,\n",
       "        \u001b[32m'Grenoble'\u001b[0m,\n",
       "        \u001b[32m'Dijon'\u001b[0m,\n",
       "        \u001b[32m'Angers'\u001b[0m,\n",
       "        \u001b[32m'Nîmes'\u001b[0m,\n",
       "        \u001b[32m'Villeurbanne'\u001b[0m\n",
       "    \u001b[1m]\u001b[0m,\n",
       "    \u001b[32m'country'\u001b[0m: \u001b[1m[\u001b[0m\u001b[32m'France'\u001b[0m, \u001b[32m'France'\u001b[0m, \u001b[32m'France'\u001b[0m, \u001b[32m'France'\u001b[0m, \u001b[32m'France'\u001b[0m, \u001b[32m'France'\u001b[0m\u001b[1m]\u001b[0m\n",
       "\u001b[1m}\u001b[0m\n"
      ]
     },
     "metadata": {},
     "output_type": "display_data"
    },
    {
     "data": {
      "text/html": [
       "<pre style=\"white-space:pre;overflow-x:auto;line-height:normal;font-family:Menlo,'DejaVu Sans Mono',consolas,'Courier New',monospace\"><span style=\"font-weight: bold\">{</span>\n",
       "    <span style=\"color: #008000; text-decoration-color: #008000\">'city'</span>: <span style=\"font-weight: bold\">[</span>\n",
       "        <span style=\"color: #008000; text-decoration-color: #008000\">'Paris'</span>,\n",
       "        <span style=\"color: #008000; text-decoration-color: #008000\">'Marseille'</span>,\n",
       "        <span style=\"color: #008000; text-decoration-color: #008000\">'Lyon'</span>,\n",
       "        <span style=\"color: #008000; text-decoration-color: #008000\">'Toulouse'</span>,\n",
       "        <span style=\"color: #008000; text-decoration-color: #008000\">'Nice'</span>,\n",
       "        <span style=\"color: #008000; text-decoration-color: #008000\">'Nantes'</span>,\n",
       "        <span style=\"color: #008000; text-decoration-color: #008000\">'Strasbourg'</span>,\n",
       "        <span style=\"color: #008000; text-decoration-color: #008000\">'Montpellier'</span>,\n",
       "        <span style=\"color: #008000; text-decoration-color: #008000\">'Bordeaux'</span>,\n",
       "        <span style=\"color: #008000; text-decoration-color: #008000\">'Lille'</span>,\n",
       "        <span style=\"color: #008000; text-decoration-color: #008000\">'Rennes'</span>,\n",
       "        <span style=\"color: #008000; text-decoration-color: #008000\">'Reims'</span>,\n",
       "        <span style=\"color: #008000; text-decoration-color: #008000\">'Le Havre'</span>,\n",
       "        <span style=\"color: #008000; text-decoration-color: #008000\">'Saint-Étienne'</span>,\n",
       "        <span style=\"color: #008000; text-decoration-color: #008000\">'Toulon'</span>,\n",
       "        <span style=\"color: #008000; text-decoration-color: #008000\">'Grenoble'</span>,\n",
       "        <span style=\"color: #008000; text-decoration-color: #008000\">'Dijon'</span>,\n",
       "        <span style=\"color: #008000; text-decoration-color: #008000\">'Angers'</span>,\n",
       "        <span style=\"color: #008000; text-decoration-color: #008000\">'Nîmes'</span>,\n",
       "        <span style=\"color: #008000; text-decoration-color: #008000\">'Villeurbanne'</span>\n",
       "    <span style=\"font-weight: bold\">]</span>,\n",
       "    <span style=\"color: #008000; text-decoration-color: #008000\">'country'</span>: <span style=\"font-weight: bold\">[</span><span style=\"color: #008000; text-decoration-color: #008000\">'France'</span>, <span style=\"color: #008000; text-decoration-color: #008000\">'France'</span>, <span style=\"color: #008000; text-decoration-color: #008000\">'France'</span>, <span style=\"color: #008000; text-decoration-color: #008000\">'France'</span>, <span style=\"color: #008000; text-decoration-color: #008000\">'France'</span>, <span style=\"color: #008000; text-decoration-color: #008000\">'France'</span>, <span style=\"color: #008000; text-decoration-color: #008000\">'Fr'</span><span style=\"font-weight: bold\">]</span>\n",
       "<span style=\"font-weight: bold\">}</span>\n",
       "</pre>\n"
      ],
      "text/plain": [
       "\u001b[1m{\u001b[0m\n",
       "    \u001b[32m'city'\u001b[0m: \u001b[1m[\u001b[0m\n",
       "        \u001b[32m'Paris'\u001b[0m,\n",
       "        \u001b[32m'Marseille'\u001b[0m,\n",
       "        \u001b[32m'Lyon'\u001b[0m,\n",
       "        \u001b[32m'Toulouse'\u001b[0m,\n",
       "        \u001b[32m'Nice'\u001b[0m,\n",
       "        \u001b[32m'Nantes'\u001b[0m,\n",
       "        \u001b[32m'Strasbourg'\u001b[0m,\n",
       "        \u001b[32m'Montpellier'\u001b[0m,\n",
       "        \u001b[32m'Bordeaux'\u001b[0m,\n",
       "        \u001b[32m'Lille'\u001b[0m,\n",
       "        \u001b[32m'Rennes'\u001b[0m,\n",
       "        \u001b[32m'Reims'\u001b[0m,\n",
       "        \u001b[32m'Le Havre'\u001b[0m,\n",
       "        \u001b[32m'Saint-Étienne'\u001b[0m,\n",
       "        \u001b[32m'Toulon'\u001b[0m,\n",
       "        \u001b[32m'Grenoble'\u001b[0m,\n",
       "        \u001b[32m'Dijon'\u001b[0m,\n",
       "        \u001b[32m'Angers'\u001b[0m,\n",
       "        \u001b[32m'Nîmes'\u001b[0m,\n",
       "        \u001b[32m'Villeurbanne'\u001b[0m\n",
       "    \u001b[1m]\u001b[0m,\n",
       "    \u001b[32m'country'\u001b[0m: \u001b[1m[\u001b[0m\u001b[32m'France'\u001b[0m, \u001b[32m'France'\u001b[0m, \u001b[32m'France'\u001b[0m, \u001b[32m'France'\u001b[0m, \u001b[32m'France'\u001b[0m, \u001b[32m'France'\u001b[0m, \u001b[32m'Fr'\u001b[0m\u001b[1m]\u001b[0m\n",
       "\u001b[1m}\u001b[0m\n"
      ]
     },
     "metadata": {},
     "output_type": "display_data"
    },
    {
     "data": {
      "text/html": [
       "<pre style=\"white-space:pre;overflow-x:auto;line-height:normal;font-family:Menlo,'DejaVu Sans Mono',consolas,'Courier New',monospace\"><span style=\"font-weight: bold\">{</span>\n",
       "    <span style=\"color: #008000; text-decoration-color: #008000\">'city'</span>: <span style=\"font-weight: bold\">[</span>\n",
       "        <span style=\"color: #008000; text-decoration-color: #008000\">'Paris'</span>,\n",
       "        <span style=\"color: #008000; text-decoration-color: #008000\">'Marseille'</span>,\n",
       "        <span style=\"color: #008000; text-decoration-color: #008000\">'Lyon'</span>,\n",
       "        <span style=\"color: #008000; text-decoration-color: #008000\">'Toulouse'</span>,\n",
       "        <span style=\"color: #008000; text-decoration-color: #008000\">'Nice'</span>,\n",
       "        <span style=\"color: #008000; text-decoration-color: #008000\">'Nantes'</span>,\n",
       "        <span style=\"color: #008000; text-decoration-color: #008000\">'Strasbourg'</span>,\n",
       "        <span style=\"color: #008000; text-decoration-color: #008000\">'Montpellier'</span>,\n",
       "        <span style=\"color: #008000; text-decoration-color: #008000\">'Bordeaux'</span>,\n",
       "        <span style=\"color: #008000; text-decoration-color: #008000\">'Lille'</span>,\n",
       "        <span style=\"color: #008000; text-decoration-color: #008000\">'Rennes'</span>,\n",
       "        <span style=\"color: #008000; text-decoration-color: #008000\">'Reims'</span>,\n",
       "        <span style=\"color: #008000; text-decoration-color: #008000\">'Le Havre'</span>,\n",
       "        <span style=\"color: #008000; text-decoration-color: #008000\">'Saint-Étienne'</span>,\n",
       "        <span style=\"color: #008000; text-decoration-color: #008000\">'Toulon'</span>,\n",
       "        <span style=\"color: #008000; text-decoration-color: #008000\">'Grenoble'</span>,\n",
       "        <span style=\"color: #008000; text-decoration-color: #008000\">'Dijon'</span>,\n",
       "        <span style=\"color: #008000; text-decoration-color: #008000\">'Angers'</span>,\n",
       "        <span style=\"color: #008000; text-decoration-color: #008000\">'Nîmes'</span>,\n",
       "        <span style=\"color: #008000; text-decoration-color: #008000\">'Villeurbanne'</span>\n",
       "    <span style=\"font-weight: bold\">]</span>,\n",
       "    <span style=\"color: #008000; text-decoration-color: #008000\">'country'</span>: <span style=\"font-weight: bold\">[</span><span style=\"color: #008000; text-decoration-color: #008000\">'France'</span>, <span style=\"color: #008000; text-decoration-color: #008000\">'France'</span>, <span style=\"color: #008000; text-decoration-color: #008000\">'France'</span>, <span style=\"color: #008000; text-decoration-color: #008000\">'France'</span>, <span style=\"color: #008000; text-decoration-color: #008000\">'France'</span>, <span style=\"color: #008000; text-decoration-color: #008000\">'France'</span>, <span style=\"color: #008000; text-decoration-color: #008000\">'France'</span><span style=\"font-weight: bold\">]</span>\n",
       "<span style=\"font-weight: bold\">}</span>\n",
       "</pre>\n"
      ],
      "text/plain": [
       "\u001b[1m{\u001b[0m\n",
       "    \u001b[32m'city'\u001b[0m: \u001b[1m[\u001b[0m\n",
       "        \u001b[32m'Paris'\u001b[0m,\n",
       "        \u001b[32m'Marseille'\u001b[0m,\n",
       "        \u001b[32m'Lyon'\u001b[0m,\n",
       "        \u001b[32m'Toulouse'\u001b[0m,\n",
       "        \u001b[32m'Nice'\u001b[0m,\n",
       "        \u001b[32m'Nantes'\u001b[0m,\n",
       "        \u001b[32m'Strasbourg'\u001b[0m,\n",
       "        \u001b[32m'Montpellier'\u001b[0m,\n",
       "        \u001b[32m'Bordeaux'\u001b[0m,\n",
       "        \u001b[32m'Lille'\u001b[0m,\n",
       "        \u001b[32m'Rennes'\u001b[0m,\n",
       "        \u001b[32m'Reims'\u001b[0m,\n",
       "        \u001b[32m'Le Havre'\u001b[0m,\n",
       "        \u001b[32m'Saint-Étienne'\u001b[0m,\n",
       "        \u001b[32m'Toulon'\u001b[0m,\n",
       "        \u001b[32m'Grenoble'\u001b[0m,\n",
       "        \u001b[32m'Dijon'\u001b[0m,\n",
       "        \u001b[32m'Angers'\u001b[0m,\n",
       "        \u001b[32m'Nîmes'\u001b[0m,\n",
       "        \u001b[32m'Villeurbanne'\u001b[0m\n",
       "    \u001b[1m]\u001b[0m,\n",
       "    \u001b[32m'country'\u001b[0m: \u001b[1m[\u001b[0m\u001b[32m'France'\u001b[0m, \u001b[32m'France'\u001b[0m, \u001b[32m'France'\u001b[0m, \u001b[32m'France'\u001b[0m, \u001b[32m'France'\u001b[0m, \u001b[32m'France'\u001b[0m, \u001b[32m'France'\u001b[0m\u001b[1m]\u001b[0m\n",
       "\u001b[1m}\u001b[0m\n"
      ]
     },
     "metadata": {},
     "output_type": "display_data"
    },
    {
     "data": {
      "text/html": [
       "<pre style=\"white-space:pre;overflow-x:auto;line-height:normal;font-family:Menlo,'DejaVu Sans Mono',consolas,'Courier New',monospace\"><span style=\"font-weight: bold\">{</span>\n",
       "    <span style=\"color: #008000; text-decoration-color: #008000\">'city'</span>: <span style=\"font-weight: bold\">[</span>\n",
       "        <span style=\"color: #008000; text-decoration-color: #008000\">'Paris'</span>,\n",
       "        <span style=\"color: #008000; text-decoration-color: #008000\">'Marseille'</span>,\n",
       "        <span style=\"color: #008000; text-decoration-color: #008000\">'Lyon'</span>,\n",
       "        <span style=\"color: #008000; text-decoration-color: #008000\">'Toulouse'</span>,\n",
       "        <span style=\"color: #008000; text-decoration-color: #008000\">'Nice'</span>,\n",
       "        <span style=\"color: #008000; text-decoration-color: #008000\">'Nantes'</span>,\n",
       "        <span style=\"color: #008000; text-decoration-color: #008000\">'Strasbourg'</span>,\n",
       "        <span style=\"color: #008000; text-decoration-color: #008000\">'Montpellier'</span>,\n",
       "        <span style=\"color: #008000; text-decoration-color: #008000\">'Bordeaux'</span>,\n",
       "        <span style=\"color: #008000; text-decoration-color: #008000\">'Lille'</span>,\n",
       "        <span style=\"color: #008000; text-decoration-color: #008000\">'Rennes'</span>,\n",
       "        <span style=\"color: #008000; text-decoration-color: #008000\">'Reims'</span>,\n",
       "        <span style=\"color: #008000; text-decoration-color: #008000\">'Le Havre'</span>,\n",
       "        <span style=\"color: #008000; text-decoration-color: #008000\">'Saint-Étienne'</span>,\n",
       "        <span style=\"color: #008000; text-decoration-color: #008000\">'Toulon'</span>,\n",
       "        <span style=\"color: #008000; text-decoration-color: #008000\">'Grenoble'</span>,\n",
       "        <span style=\"color: #008000; text-decoration-color: #008000\">'Dijon'</span>,\n",
       "        <span style=\"color: #008000; text-decoration-color: #008000\">'Angers'</span>,\n",
       "        <span style=\"color: #008000; text-decoration-color: #008000\">'Nîmes'</span>,\n",
       "        <span style=\"color: #008000; text-decoration-color: #008000\">'Villeurbanne'</span>\n",
       "    <span style=\"font-weight: bold\">]</span>,\n",
       "    <span style=\"color: #008000; text-decoration-color: #008000\">'country'</span>: <span style=\"font-weight: bold\">[</span><span style=\"color: #008000; text-decoration-color: #008000\">'France'</span>, <span style=\"color: #008000; text-decoration-color: #008000\">'France'</span>, <span style=\"color: #008000; text-decoration-color: #008000\">'France'</span>, <span style=\"color: #008000; text-decoration-color: #008000\">'France'</span>, <span style=\"color: #008000; text-decoration-color: #008000\">'France'</span>, <span style=\"color: #008000; text-decoration-color: #008000\">'France'</span>, <span style=\"color: #008000; text-decoration-color: #008000\">'France'</span>, <span style=\"color: #008000; text-decoration-color: #008000\">'France'</span><span style=\"font-weight: bold\">]</span>\n",
       "<span style=\"font-weight: bold\">}</span>\n",
       "</pre>\n"
      ],
      "text/plain": [
       "\u001b[1m{\u001b[0m\n",
       "    \u001b[32m'city'\u001b[0m: \u001b[1m[\u001b[0m\n",
       "        \u001b[32m'Paris'\u001b[0m,\n",
       "        \u001b[32m'Marseille'\u001b[0m,\n",
       "        \u001b[32m'Lyon'\u001b[0m,\n",
       "        \u001b[32m'Toulouse'\u001b[0m,\n",
       "        \u001b[32m'Nice'\u001b[0m,\n",
       "        \u001b[32m'Nantes'\u001b[0m,\n",
       "        \u001b[32m'Strasbourg'\u001b[0m,\n",
       "        \u001b[32m'Montpellier'\u001b[0m,\n",
       "        \u001b[32m'Bordeaux'\u001b[0m,\n",
       "        \u001b[32m'Lille'\u001b[0m,\n",
       "        \u001b[32m'Rennes'\u001b[0m,\n",
       "        \u001b[32m'Reims'\u001b[0m,\n",
       "        \u001b[32m'Le Havre'\u001b[0m,\n",
       "        \u001b[32m'Saint-Étienne'\u001b[0m,\n",
       "        \u001b[32m'Toulon'\u001b[0m,\n",
       "        \u001b[32m'Grenoble'\u001b[0m,\n",
       "        \u001b[32m'Dijon'\u001b[0m,\n",
       "        \u001b[32m'Angers'\u001b[0m,\n",
       "        \u001b[32m'Nîmes'\u001b[0m,\n",
       "        \u001b[32m'Villeurbanne'\u001b[0m\n",
       "    \u001b[1m]\u001b[0m,\n",
       "    \u001b[32m'country'\u001b[0m: \u001b[1m[\u001b[0m\u001b[32m'France'\u001b[0m, \u001b[32m'France'\u001b[0m, \u001b[32m'France'\u001b[0m, \u001b[32m'France'\u001b[0m, \u001b[32m'France'\u001b[0m, \u001b[32m'France'\u001b[0m, \u001b[32m'France'\u001b[0m, \u001b[32m'France'\u001b[0m\u001b[1m]\u001b[0m\n",
       "\u001b[1m}\u001b[0m\n"
      ]
     },
     "metadata": {},
     "output_type": "display_data"
    },
    {
     "data": {
      "text/html": [
       "<pre style=\"white-space:pre;overflow-x:auto;line-height:normal;font-family:Menlo,'DejaVu Sans Mono',consolas,'Courier New',monospace\"><span style=\"font-weight: bold\">{</span>\n",
       "    <span style=\"color: #008000; text-decoration-color: #008000\">'city'</span>: <span style=\"font-weight: bold\">[</span>\n",
       "        <span style=\"color: #008000; text-decoration-color: #008000\">'Paris'</span>,\n",
       "        <span style=\"color: #008000; text-decoration-color: #008000\">'Marseille'</span>,\n",
       "        <span style=\"color: #008000; text-decoration-color: #008000\">'Lyon'</span>,\n",
       "        <span style=\"color: #008000; text-decoration-color: #008000\">'Toulouse'</span>,\n",
       "        <span style=\"color: #008000; text-decoration-color: #008000\">'Nice'</span>,\n",
       "        <span style=\"color: #008000; text-decoration-color: #008000\">'Nantes'</span>,\n",
       "        <span style=\"color: #008000; text-decoration-color: #008000\">'Strasbourg'</span>,\n",
       "        <span style=\"color: #008000; text-decoration-color: #008000\">'Montpellier'</span>,\n",
       "        <span style=\"color: #008000; text-decoration-color: #008000\">'Bordeaux'</span>,\n",
       "        <span style=\"color: #008000; text-decoration-color: #008000\">'Lille'</span>,\n",
       "        <span style=\"color: #008000; text-decoration-color: #008000\">'Rennes'</span>,\n",
       "        <span style=\"color: #008000; text-decoration-color: #008000\">'Reims'</span>,\n",
       "        <span style=\"color: #008000; text-decoration-color: #008000\">'Le Havre'</span>,\n",
       "        <span style=\"color: #008000; text-decoration-color: #008000\">'Saint-Étienne'</span>,\n",
       "        <span style=\"color: #008000; text-decoration-color: #008000\">'Toulon'</span>,\n",
       "        <span style=\"color: #008000; text-decoration-color: #008000\">'Grenoble'</span>,\n",
       "        <span style=\"color: #008000; text-decoration-color: #008000\">'Dijon'</span>,\n",
       "        <span style=\"color: #008000; text-decoration-color: #008000\">'Angers'</span>,\n",
       "        <span style=\"color: #008000; text-decoration-color: #008000\">'Nîmes'</span>,\n",
       "        <span style=\"color: #008000; text-decoration-color: #008000\">'Villeurbanne'</span>\n",
       "    <span style=\"font-weight: bold\">]</span>,\n",
       "    <span style=\"color: #008000; text-decoration-color: #008000\">'country'</span>: <span style=\"font-weight: bold\">[</span><span style=\"color: #008000; text-decoration-color: #008000\">'France'</span>, <span style=\"color: #008000; text-decoration-color: #008000\">'France'</span>, <span style=\"color: #008000; text-decoration-color: #008000\">'France'</span>, <span style=\"color: #008000; text-decoration-color: #008000\">'France'</span>, <span style=\"color: #008000; text-decoration-color: #008000\">'France'</span>, <span style=\"color: #008000; text-decoration-color: #008000\">'France'</span>, <span style=\"color: #008000; text-decoration-color: #008000\">'France'</span>, <span style=\"color: #008000; text-decoration-color: #008000\">'France'</span>, <span style=\"color: #008000; text-decoration-color: #008000\">'France'</span><span style=\"font-weight: bold\">]</span>\n",
       "<span style=\"font-weight: bold\">}</span>\n",
       "</pre>\n"
      ],
      "text/plain": [
       "\u001b[1m{\u001b[0m\n",
       "    \u001b[32m'city'\u001b[0m: \u001b[1m[\u001b[0m\n",
       "        \u001b[32m'Paris'\u001b[0m,\n",
       "        \u001b[32m'Marseille'\u001b[0m,\n",
       "        \u001b[32m'Lyon'\u001b[0m,\n",
       "        \u001b[32m'Toulouse'\u001b[0m,\n",
       "        \u001b[32m'Nice'\u001b[0m,\n",
       "        \u001b[32m'Nantes'\u001b[0m,\n",
       "        \u001b[32m'Strasbourg'\u001b[0m,\n",
       "        \u001b[32m'Montpellier'\u001b[0m,\n",
       "        \u001b[32m'Bordeaux'\u001b[0m,\n",
       "        \u001b[32m'Lille'\u001b[0m,\n",
       "        \u001b[32m'Rennes'\u001b[0m,\n",
       "        \u001b[32m'Reims'\u001b[0m,\n",
       "        \u001b[32m'Le Havre'\u001b[0m,\n",
       "        \u001b[32m'Saint-Étienne'\u001b[0m,\n",
       "        \u001b[32m'Toulon'\u001b[0m,\n",
       "        \u001b[32m'Grenoble'\u001b[0m,\n",
       "        \u001b[32m'Dijon'\u001b[0m,\n",
       "        \u001b[32m'Angers'\u001b[0m,\n",
       "        \u001b[32m'Nîmes'\u001b[0m,\n",
       "        \u001b[32m'Villeurbanne'\u001b[0m\n",
       "    \u001b[1m]\u001b[0m,\n",
       "    \u001b[32m'country'\u001b[0m: \u001b[1m[\u001b[0m\u001b[32m'France'\u001b[0m, \u001b[32m'France'\u001b[0m, \u001b[32m'France'\u001b[0m, \u001b[32m'France'\u001b[0m, \u001b[32m'France'\u001b[0m, \u001b[32m'France'\u001b[0m, \u001b[32m'France'\u001b[0m, \u001b[32m'France'\u001b[0m, \u001b[32m'France'\u001b[0m\u001b[1m]\u001b[0m\n",
       "\u001b[1m}\u001b[0m\n"
      ]
     },
     "metadata": {},
     "output_type": "display_data"
    },
    {
     "data": {
      "text/html": [
       "<pre style=\"white-space:pre;overflow-x:auto;line-height:normal;font-family:Menlo,'DejaVu Sans Mono',consolas,'Courier New',monospace\"><span style=\"font-weight: bold\">{</span>\n",
       "    <span style=\"color: #008000; text-decoration-color: #008000\">'city'</span>: <span style=\"font-weight: bold\">[</span>\n",
       "        <span style=\"color: #008000; text-decoration-color: #008000\">'Paris'</span>,\n",
       "        <span style=\"color: #008000; text-decoration-color: #008000\">'Marseille'</span>,\n",
       "        <span style=\"color: #008000; text-decoration-color: #008000\">'Lyon'</span>,\n",
       "        <span style=\"color: #008000; text-decoration-color: #008000\">'Toulouse'</span>,\n",
       "        <span style=\"color: #008000; text-decoration-color: #008000\">'Nice'</span>,\n",
       "        <span style=\"color: #008000; text-decoration-color: #008000\">'Nantes'</span>,\n",
       "        <span style=\"color: #008000; text-decoration-color: #008000\">'Strasbourg'</span>,\n",
       "        <span style=\"color: #008000; text-decoration-color: #008000\">'Montpellier'</span>,\n",
       "        <span style=\"color: #008000; text-decoration-color: #008000\">'Bordeaux'</span>,\n",
       "        <span style=\"color: #008000; text-decoration-color: #008000\">'Lille'</span>,\n",
       "        <span style=\"color: #008000; text-decoration-color: #008000\">'Rennes'</span>,\n",
       "        <span style=\"color: #008000; text-decoration-color: #008000\">'Reims'</span>,\n",
       "        <span style=\"color: #008000; text-decoration-color: #008000\">'Le Havre'</span>,\n",
       "        <span style=\"color: #008000; text-decoration-color: #008000\">'Saint-Étienne'</span>,\n",
       "        <span style=\"color: #008000; text-decoration-color: #008000\">'Toulon'</span>,\n",
       "        <span style=\"color: #008000; text-decoration-color: #008000\">'Grenoble'</span>,\n",
       "        <span style=\"color: #008000; text-decoration-color: #008000\">'Dijon'</span>,\n",
       "        <span style=\"color: #008000; text-decoration-color: #008000\">'Angers'</span>,\n",
       "        <span style=\"color: #008000; text-decoration-color: #008000\">'Nîmes'</span>,\n",
       "        <span style=\"color: #008000; text-decoration-color: #008000\">'Villeurbanne'</span>\n",
       "    <span style=\"font-weight: bold\">]</span>,\n",
       "    <span style=\"color: #008000; text-decoration-color: #008000\">'country'</span>: <span style=\"font-weight: bold\">[</span>\n",
       "        <span style=\"color: #008000; text-decoration-color: #008000\">'France'</span>,\n",
       "        <span style=\"color: #008000; text-decoration-color: #008000\">'France'</span>,\n",
       "        <span style=\"color: #008000; text-decoration-color: #008000\">'France'</span>,\n",
       "        <span style=\"color: #008000; text-decoration-color: #008000\">'France'</span>,\n",
       "        <span style=\"color: #008000; text-decoration-color: #008000\">'France'</span>,\n",
       "        <span style=\"color: #008000; text-decoration-color: #008000\">'France'</span>,\n",
       "        <span style=\"color: #008000; text-decoration-color: #008000\">'France'</span>,\n",
       "        <span style=\"color: #008000; text-decoration-color: #008000\">'France'</span>,\n",
       "        <span style=\"color: #008000; text-decoration-color: #008000\">'France'</span>,\n",
       "        <span style=\"color: #008000; text-decoration-color: #008000\">'France'</span>\n",
       "    <span style=\"font-weight: bold\">]</span>\n",
       "<span style=\"font-weight: bold\">}</span>\n",
       "</pre>\n"
      ],
      "text/plain": [
       "\u001b[1m{\u001b[0m\n",
       "    \u001b[32m'city'\u001b[0m: \u001b[1m[\u001b[0m\n",
       "        \u001b[32m'Paris'\u001b[0m,\n",
       "        \u001b[32m'Marseille'\u001b[0m,\n",
       "        \u001b[32m'Lyon'\u001b[0m,\n",
       "        \u001b[32m'Toulouse'\u001b[0m,\n",
       "        \u001b[32m'Nice'\u001b[0m,\n",
       "        \u001b[32m'Nantes'\u001b[0m,\n",
       "        \u001b[32m'Strasbourg'\u001b[0m,\n",
       "        \u001b[32m'Montpellier'\u001b[0m,\n",
       "        \u001b[32m'Bordeaux'\u001b[0m,\n",
       "        \u001b[32m'Lille'\u001b[0m,\n",
       "        \u001b[32m'Rennes'\u001b[0m,\n",
       "        \u001b[32m'Reims'\u001b[0m,\n",
       "        \u001b[32m'Le Havre'\u001b[0m,\n",
       "        \u001b[32m'Saint-Étienne'\u001b[0m,\n",
       "        \u001b[32m'Toulon'\u001b[0m,\n",
       "        \u001b[32m'Grenoble'\u001b[0m,\n",
       "        \u001b[32m'Dijon'\u001b[0m,\n",
       "        \u001b[32m'Angers'\u001b[0m,\n",
       "        \u001b[32m'Nîmes'\u001b[0m,\n",
       "        \u001b[32m'Villeurbanne'\u001b[0m\n",
       "    \u001b[1m]\u001b[0m,\n",
       "    \u001b[32m'country'\u001b[0m: \u001b[1m[\u001b[0m\n",
       "        \u001b[32m'France'\u001b[0m,\n",
       "        \u001b[32m'France'\u001b[0m,\n",
       "        \u001b[32m'France'\u001b[0m,\n",
       "        \u001b[32m'France'\u001b[0m,\n",
       "        \u001b[32m'France'\u001b[0m,\n",
       "        \u001b[32m'France'\u001b[0m,\n",
       "        \u001b[32m'France'\u001b[0m,\n",
       "        \u001b[32m'France'\u001b[0m,\n",
       "        \u001b[32m'France'\u001b[0m,\n",
       "        \u001b[32m'France'\u001b[0m\n",
       "    \u001b[1m]\u001b[0m\n",
       "\u001b[1m}\u001b[0m\n"
      ]
     },
     "metadata": {},
     "output_type": "display_data"
    },
    {
     "data": {
      "text/html": [
       "<pre style=\"white-space:pre;overflow-x:auto;line-height:normal;font-family:Menlo,'DejaVu Sans Mono',consolas,'Courier New',monospace\"><span style=\"font-weight: bold\">{</span>\n",
       "    <span style=\"color: #008000; text-decoration-color: #008000\">'city'</span>: <span style=\"font-weight: bold\">[</span>\n",
       "        <span style=\"color: #008000; text-decoration-color: #008000\">'Paris'</span>,\n",
       "        <span style=\"color: #008000; text-decoration-color: #008000\">'Marseille'</span>,\n",
       "        <span style=\"color: #008000; text-decoration-color: #008000\">'Lyon'</span>,\n",
       "        <span style=\"color: #008000; text-decoration-color: #008000\">'Toulouse'</span>,\n",
       "        <span style=\"color: #008000; text-decoration-color: #008000\">'Nice'</span>,\n",
       "        <span style=\"color: #008000; text-decoration-color: #008000\">'Nantes'</span>,\n",
       "        <span style=\"color: #008000; text-decoration-color: #008000\">'Strasbourg'</span>,\n",
       "        <span style=\"color: #008000; text-decoration-color: #008000\">'Montpellier'</span>,\n",
       "        <span style=\"color: #008000; text-decoration-color: #008000\">'Bordeaux'</span>,\n",
       "        <span style=\"color: #008000; text-decoration-color: #008000\">'Lille'</span>,\n",
       "        <span style=\"color: #008000; text-decoration-color: #008000\">'Rennes'</span>,\n",
       "        <span style=\"color: #008000; text-decoration-color: #008000\">'Reims'</span>,\n",
       "        <span style=\"color: #008000; text-decoration-color: #008000\">'Le Havre'</span>,\n",
       "        <span style=\"color: #008000; text-decoration-color: #008000\">'Saint-Étienne'</span>,\n",
       "        <span style=\"color: #008000; text-decoration-color: #008000\">'Toulon'</span>,\n",
       "        <span style=\"color: #008000; text-decoration-color: #008000\">'Grenoble'</span>,\n",
       "        <span style=\"color: #008000; text-decoration-color: #008000\">'Dijon'</span>,\n",
       "        <span style=\"color: #008000; text-decoration-color: #008000\">'Angers'</span>,\n",
       "        <span style=\"color: #008000; text-decoration-color: #008000\">'Nîmes'</span>,\n",
       "        <span style=\"color: #008000; text-decoration-color: #008000\">'Villeurbanne'</span>\n",
       "    <span style=\"font-weight: bold\">]</span>,\n",
       "    <span style=\"color: #008000; text-decoration-color: #008000\">'country'</span>: <span style=\"font-weight: bold\">[</span>\n",
       "        <span style=\"color: #008000; text-decoration-color: #008000\">'France'</span>,\n",
       "        <span style=\"color: #008000; text-decoration-color: #008000\">'France'</span>,\n",
       "        <span style=\"color: #008000; text-decoration-color: #008000\">'France'</span>,\n",
       "        <span style=\"color: #008000; text-decoration-color: #008000\">'France'</span>,\n",
       "        <span style=\"color: #008000; text-decoration-color: #008000\">'France'</span>,\n",
       "        <span style=\"color: #008000; text-decoration-color: #008000\">'France'</span>,\n",
       "        <span style=\"color: #008000; text-decoration-color: #008000\">'France'</span>,\n",
       "        <span style=\"color: #008000; text-decoration-color: #008000\">'France'</span>,\n",
       "        <span style=\"color: #008000; text-decoration-color: #008000\">'France'</span>,\n",
       "        <span style=\"color: #008000; text-decoration-color: #008000\">'France'</span>,\n",
       "        <span style=\"color: #008000; text-decoration-color: #008000\">'France'</span>\n",
       "    <span style=\"font-weight: bold\">]</span>\n",
       "<span style=\"font-weight: bold\">}</span>\n",
       "</pre>\n"
      ],
      "text/plain": [
       "\u001b[1m{\u001b[0m\n",
       "    \u001b[32m'city'\u001b[0m: \u001b[1m[\u001b[0m\n",
       "        \u001b[32m'Paris'\u001b[0m,\n",
       "        \u001b[32m'Marseille'\u001b[0m,\n",
       "        \u001b[32m'Lyon'\u001b[0m,\n",
       "        \u001b[32m'Toulouse'\u001b[0m,\n",
       "        \u001b[32m'Nice'\u001b[0m,\n",
       "        \u001b[32m'Nantes'\u001b[0m,\n",
       "        \u001b[32m'Strasbourg'\u001b[0m,\n",
       "        \u001b[32m'Montpellier'\u001b[0m,\n",
       "        \u001b[32m'Bordeaux'\u001b[0m,\n",
       "        \u001b[32m'Lille'\u001b[0m,\n",
       "        \u001b[32m'Rennes'\u001b[0m,\n",
       "        \u001b[32m'Reims'\u001b[0m,\n",
       "        \u001b[32m'Le Havre'\u001b[0m,\n",
       "        \u001b[32m'Saint-Étienne'\u001b[0m,\n",
       "        \u001b[32m'Toulon'\u001b[0m,\n",
       "        \u001b[32m'Grenoble'\u001b[0m,\n",
       "        \u001b[32m'Dijon'\u001b[0m,\n",
       "        \u001b[32m'Angers'\u001b[0m,\n",
       "        \u001b[32m'Nîmes'\u001b[0m,\n",
       "        \u001b[32m'Villeurbanne'\u001b[0m\n",
       "    \u001b[1m]\u001b[0m,\n",
       "    \u001b[32m'country'\u001b[0m: \u001b[1m[\u001b[0m\n",
       "        \u001b[32m'France'\u001b[0m,\n",
       "        \u001b[32m'France'\u001b[0m,\n",
       "        \u001b[32m'France'\u001b[0m,\n",
       "        \u001b[32m'France'\u001b[0m,\n",
       "        \u001b[32m'France'\u001b[0m,\n",
       "        \u001b[32m'France'\u001b[0m,\n",
       "        \u001b[32m'France'\u001b[0m,\n",
       "        \u001b[32m'France'\u001b[0m,\n",
       "        \u001b[32m'France'\u001b[0m,\n",
       "        \u001b[32m'France'\u001b[0m,\n",
       "        \u001b[32m'France'\u001b[0m\n",
       "    \u001b[1m]\u001b[0m\n",
       "\u001b[1m}\u001b[0m\n"
      ]
     },
     "metadata": {},
     "output_type": "display_data"
    },
    {
     "data": {
      "text/html": [
       "<pre style=\"white-space:pre;overflow-x:auto;line-height:normal;font-family:Menlo,'DejaVu Sans Mono',consolas,'Courier New',monospace\"><span style=\"font-weight: bold\">{</span>\n",
       "    <span style=\"color: #008000; text-decoration-color: #008000\">'city'</span>: <span style=\"font-weight: bold\">[</span>\n",
       "        <span style=\"color: #008000; text-decoration-color: #008000\">'Paris'</span>,\n",
       "        <span style=\"color: #008000; text-decoration-color: #008000\">'Marseille'</span>,\n",
       "        <span style=\"color: #008000; text-decoration-color: #008000\">'Lyon'</span>,\n",
       "        <span style=\"color: #008000; text-decoration-color: #008000\">'Toulouse'</span>,\n",
       "        <span style=\"color: #008000; text-decoration-color: #008000\">'Nice'</span>,\n",
       "        <span style=\"color: #008000; text-decoration-color: #008000\">'Nantes'</span>,\n",
       "        <span style=\"color: #008000; text-decoration-color: #008000\">'Strasbourg'</span>,\n",
       "        <span style=\"color: #008000; text-decoration-color: #008000\">'Montpellier'</span>,\n",
       "        <span style=\"color: #008000; text-decoration-color: #008000\">'Bordeaux'</span>,\n",
       "        <span style=\"color: #008000; text-decoration-color: #008000\">'Lille'</span>,\n",
       "        <span style=\"color: #008000; text-decoration-color: #008000\">'Rennes'</span>,\n",
       "        <span style=\"color: #008000; text-decoration-color: #008000\">'Reims'</span>,\n",
       "        <span style=\"color: #008000; text-decoration-color: #008000\">'Le Havre'</span>,\n",
       "        <span style=\"color: #008000; text-decoration-color: #008000\">'Saint-Étienne'</span>,\n",
       "        <span style=\"color: #008000; text-decoration-color: #008000\">'Toulon'</span>,\n",
       "        <span style=\"color: #008000; text-decoration-color: #008000\">'Grenoble'</span>,\n",
       "        <span style=\"color: #008000; text-decoration-color: #008000\">'Dijon'</span>,\n",
       "        <span style=\"color: #008000; text-decoration-color: #008000\">'Angers'</span>,\n",
       "        <span style=\"color: #008000; text-decoration-color: #008000\">'Nîmes'</span>,\n",
       "        <span style=\"color: #008000; text-decoration-color: #008000\">'Villeurbanne'</span>\n",
       "    <span style=\"font-weight: bold\">]</span>,\n",
       "    <span style=\"color: #008000; text-decoration-color: #008000\">'country'</span>: <span style=\"font-weight: bold\">[</span>\n",
       "        <span style=\"color: #008000; text-decoration-color: #008000\">'France'</span>,\n",
       "        <span style=\"color: #008000; text-decoration-color: #008000\">'France'</span>,\n",
       "        <span style=\"color: #008000; text-decoration-color: #008000\">'France'</span>,\n",
       "        <span style=\"color: #008000; text-decoration-color: #008000\">'France'</span>,\n",
       "        <span style=\"color: #008000; text-decoration-color: #008000\">'France'</span>,\n",
       "        <span style=\"color: #008000; text-decoration-color: #008000\">'France'</span>,\n",
       "        <span style=\"color: #008000; text-decoration-color: #008000\">'France'</span>,\n",
       "        <span style=\"color: #008000; text-decoration-color: #008000\">'France'</span>,\n",
       "        <span style=\"color: #008000; text-decoration-color: #008000\">'France'</span>,\n",
       "        <span style=\"color: #008000; text-decoration-color: #008000\">'France'</span>,\n",
       "        <span style=\"color: #008000; text-decoration-color: #008000\">'France'</span>,\n",
       "        <span style=\"color: #008000; text-decoration-color: #008000\">'Fr'</span>\n",
       "    <span style=\"font-weight: bold\">]</span>\n",
       "<span style=\"font-weight: bold\">}</span>\n",
       "</pre>\n"
      ],
      "text/plain": [
       "\u001b[1m{\u001b[0m\n",
       "    \u001b[32m'city'\u001b[0m: \u001b[1m[\u001b[0m\n",
       "        \u001b[32m'Paris'\u001b[0m,\n",
       "        \u001b[32m'Marseille'\u001b[0m,\n",
       "        \u001b[32m'Lyon'\u001b[0m,\n",
       "        \u001b[32m'Toulouse'\u001b[0m,\n",
       "        \u001b[32m'Nice'\u001b[0m,\n",
       "        \u001b[32m'Nantes'\u001b[0m,\n",
       "        \u001b[32m'Strasbourg'\u001b[0m,\n",
       "        \u001b[32m'Montpellier'\u001b[0m,\n",
       "        \u001b[32m'Bordeaux'\u001b[0m,\n",
       "        \u001b[32m'Lille'\u001b[0m,\n",
       "        \u001b[32m'Rennes'\u001b[0m,\n",
       "        \u001b[32m'Reims'\u001b[0m,\n",
       "        \u001b[32m'Le Havre'\u001b[0m,\n",
       "        \u001b[32m'Saint-Étienne'\u001b[0m,\n",
       "        \u001b[32m'Toulon'\u001b[0m,\n",
       "        \u001b[32m'Grenoble'\u001b[0m,\n",
       "        \u001b[32m'Dijon'\u001b[0m,\n",
       "        \u001b[32m'Angers'\u001b[0m,\n",
       "        \u001b[32m'Nîmes'\u001b[0m,\n",
       "        \u001b[32m'Villeurbanne'\u001b[0m\n",
       "    \u001b[1m]\u001b[0m,\n",
       "    \u001b[32m'country'\u001b[0m: \u001b[1m[\u001b[0m\n",
       "        \u001b[32m'France'\u001b[0m,\n",
       "        \u001b[32m'France'\u001b[0m,\n",
       "        \u001b[32m'France'\u001b[0m,\n",
       "        \u001b[32m'France'\u001b[0m,\n",
       "        \u001b[32m'France'\u001b[0m,\n",
       "        \u001b[32m'France'\u001b[0m,\n",
       "        \u001b[32m'France'\u001b[0m,\n",
       "        \u001b[32m'France'\u001b[0m,\n",
       "        \u001b[32m'France'\u001b[0m,\n",
       "        \u001b[32m'France'\u001b[0m,\n",
       "        \u001b[32m'France'\u001b[0m,\n",
       "        \u001b[32m'Fr'\u001b[0m\n",
       "    \u001b[1m]\u001b[0m\n",
       "\u001b[1m}\u001b[0m\n"
      ]
     },
     "metadata": {},
     "output_type": "display_data"
    },
    {
     "data": {
      "text/html": [
       "<pre style=\"white-space:pre;overflow-x:auto;line-height:normal;font-family:Menlo,'DejaVu Sans Mono',consolas,'Courier New',monospace\"><span style=\"font-weight: bold\">{</span>\n",
       "    <span style=\"color: #008000; text-decoration-color: #008000\">'city'</span>: <span style=\"font-weight: bold\">[</span>\n",
       "        <span style=\"color: #008000; text-decoration-color: #008000\">'Paris'</span>,\n",
       "        <span style=\"color: #008000; text-decoration-color: #008000\">'Marseille'</span>,\n",
       "        <span style=\"color: #008000; text-decoration-color: #008000\">'Lyon'</span>,\n",
       "        <span style=\"color: #008000; text-decoration-color: #008000\">'Toulouse'</span>,\n",
       "        <span style=\"color: #008000; text-decoration-color: #008000\">'Nice'</span>,\n",
       "        <span style=\"color: #008000; text-decoration-color: #008000\">'Nantes'</span>,\n",
       "        <span style=\"color: #008000; text-decoration-color: #008000\">'Strasbourg'</span>,\n",
       "        <span style=\"color: #008000; text-decoration-color: #008000\">'Montpellier'</span>,\n",
       "        <span style=\"color: #008000; text-decoration-color: #008000\">'Bordeaux'</span>,\n",
       "        <span style=\"color: #008000; text-decoration-color: #008000\">'Lille'</span>,\n",
       "        <span style=\"color: #008000; text-decoration-color: #008000\">'Rennes'</span>,\n",
       "        <span style=\"color: #008000; text-decoration-color: #008000\">'Reims'</span>,\n",
       "        <span style=\"color: #008000; text-decoration-color: #008000\">'Le Havre'</span>,\n",
       "        <span style=\"color: #008000; text-decoration-color: #008000\">'Saint-Étienne'</span>,\n",
       "        <span style=\"color: #008000; text-decoration-color: #008000\">'Toulon'</span>,\n",
       "        <span style=\"color: #008000; text-decoration-color: #008000\">'Grenoble'</span>,\n",
       "        <span style=\"color: #008000; text-decoration-color: #008000\">'Dijon'</span>,\n",
       "        <span style=\"color: #008000; text-decoration-color: #008000\">'Angers'</span>,\n",
       "        <span style=\"color: #008000; text-decoration-color: #008000\">'Nîmes'</span>,\n",
       "        <span style=\"color: #008000; text-decoration-color: #008000\">'Villeurbanne'</span>\n",
       "    <span style=\"font-weight: bold\">]</span>,\n",
       "    <span style=\"color: #008000; text-decoration-color: #008000\">'country'</span>: <span style=\"font-weight: bold\">[</span>\n",
       "        <span style=\"color: #008000; text-decoration-color: #008000\">'France'</span>,\n",
       "        <span style=\"color: #008000; text-decoration-color: #008000\">'France'</span>,\n",
       "        <span style=\"color: #008000; text-decoration-color: #008000\">'France'</span>,\n",
       "        <span style=\"color: #008000; text-decoration-color: #008000\">'France'</span>,\n",
       "        <span style=\"color: #008000; text-decoration-color: #008000\">'France'</span>,\n",
       "        <span style=\"color: #008000; text-decoration-color: #008000\">'France'</span>,\n",
       "        <span style=\"color: #008000; text-decoration-color: #008000\">'France'</span>,\n",
       "        <span style=\"color: #008000; text-decoration-color: #008000\">'France'</span>,\n",
       "        <span style=\"color: #008000; text-decoration-color: #008000\">'France'</span>,\n",
       "        <span style=\"color: #008000; text-decoration-color: #008000\">'France'</span>,\n",
       "        <span style=\"color: #008000; text-decoration-color: #008000\">'France'</span>,\n",
       "        <span style=\"color: #008000; text-decoration-color: #008000\">'France'</span>,\n",
       "        <span style=\"color: #008000; text-decoration-color: #008000\">''</span>\n",
       "    <span style=\"font-weight: bold\">]</span>\n",
       "<span style=\"font-weight: bold\">}</span>\n",
       "</pre>\n"
      ],
      "text/plain": [
       "\u001b[1m{\u001b[0m\n",
       "    \u001b[32m'city'\u001b[0m: \u001b[1m[\u001b[0m\n",
       "        \u001b[32m'Paris'\u001b[0m,\n",
       "        \u001b[32m'Marseille'\u001b[0m,\n",
       "        \u001b[32m'Lyon'\u001b[0m,\n",
       "        \u001b[32m'Toulouse'\u001b[0m,\n",
       "        \u001b[32m'Nice'\u001b[0m,\n",
       "        \u001b[32m'Nantes'\u001b[0m,\n",
       "        \u001b[32m'Strasbourg'\u001b[0m,\n",
       "        \u001b[32m'Montpellier'\u001b[0m,\n",
       "        \u001b[32m'Bordeaux'\u001b[0m,\n",
       "        \u001b[32m'Lille'\u001b[0m,\n",
       "        \u001b[32m'Rennes'\u001b[0m,\n",
       "        \u001b[32m'Reims'\u001b[0m,\n",
       "        \u001b[32m'Le Havre'\u001b[0m,\n",
       "        \u001b[32m'Saint-Étienne'\u001b[0m,\n",
       "        \u001b[32m'Toulon'\u001b[0m,\n",
       "        \u001b[32m'Grenoble'\u001b[0m,\n",
       "        \u001b[32m'Dijon'\u001b[0m,\n",
       "        \u001b[32m'Angers'\u001b[0m,\n",
       "        \u001b[32m'Nîmes'\u001b[0m,\n",
       "        \u001b[32m'Villeurbanne'\u001b[0m\n",
       "    \u001b[1m]\u001b[0m,\n",
       "    \u001b[32m'country'\u001b[0m: \u001b[1m[\u001b[0m\n",
       "        \u001b[32m'France'\u001b[0m,\n",
       "        \u001b[32m'France'\u001b[0m,\n",
       "        \u001b[32m'France'\u001b[0m,\n",
       "        \u001b[32m'France'\u001b[0m,\n",
       "        \u001b[32m'France'\u001b[0m,\n",
       "        \u001b[32m'France'\u001b[0m,\n",
       "        \u001b[32m'France'\u001b[0m,\n",
       "        \u001b[32m'France'\u001b[0m,\n",
       "        \u001b[32m'France'\u001b[0m,\n",
       "        \u001b[32m'France'\u001b[0m,\n",
       "        \u001b[32m'France'\u001b[0m,\n",
       "        \u001b[32m'France'\u001b[0m,\n",
       "        \u001b[32m''\u001b[0m\n",
       "    \u001b[1m]\u001b[0m\n",
       "\u001b[1m}\u001b[0m\n"
      ]
     },
     "metadata": {},
     "output_type": "display_data"
    },
    {
     "data": {
      "text/html": [
       "<pre style=\"white-space:pre;overflow-x:auto;line-height:normal;font-family:Menlo,'DejaVu Sans Mono',consolas,'Courier New',monospace\"><span style=\"font-weight: bold\">{</span>\n",
       "    <span style=\"color: #008000; text-decoration-color: #008000\">'city'</span>: <span style=\"font-weight: bold\">[</span>\n",
       "        <span style=\"color: #008000; text-decoration-color: #008000\">'Paris'</span>,\n",
       "        <span style=\"color: #008000; text-decoration-color: #008000\">'Marseille'</span>,\n",
       "        <span style=\"color: #008000; text-decoration-color: #008000\">'Lyon'</span>,\n",
       "        <span style=\"color: #008000; text-decoration-color: #008000\">'Toulouse'</span>,\n",
       "        <span style=\"color: #008000; text-decoration-color: #008000\">'Nice'</span>,\n",
       "        <span style=\"color: #008000; text-decoration-color: #008000\">'Nantes'</span>,\n",
       "        <span style=\"color: #008000; text-decoration-color: #008000\">'Strasbourg'</span>,\n",
       "        <span style=\"color: #008000; text-decoration-color: #008000\">'Montpellier'</span>,\n",
       "        <span style=\"color: #008000; text-decoration-color: #008000\">'Bordeaux'</span>,\n",
       "        <span style=\"color: #008000; text-decoration-color: #008000\">'Lille'</span>,\n",
       "        <span style=\"color: #008000; text-decoration-color: #008000\">'Rennes'</span>,\n",
       "        <span style=\"color: #008000; text-decoration-color: #008000\">'Reims'</span>,\n",
       "        <span style=\"color: #008000; text-decoration-color: #008000\">'Le Havre'</span>,\n",
       "        <span style=\"color: #008000; text-decoration-color: #008000\">'Saint-Étienne'</span>,\n",
       "        <span style=\"color: #008000; text-decoration-color: #008000\">'Toulon'</span>,\n",
       "        <span style=\"color: #008000; text-decoration-color: #008000\">'Grenoble'</span>,\n",
       "        <span style=\"color: #008000; text-decoration-color: #008000\">'Dijon'</span>,\n",
       "        <span style=\"color: #008000; text-decoration-color: #008000\">'Angers'</span>,\n",
       "        <span style=\"color: #008000; text-decoration-color: #008000\">'Nîmes'</span>,\n",
       "        <span style=\"color: #008000; text-decoration-color: #008000\">'Villeurbanne'</span>\n",
       "    <span style=\"font-weight: bold\">]</span>,\n",
       "    <span style=\"color: #008000; text-decoration-color: #008000\">'country'</span>: <span style=\"font-weight: bold\">[</span>\n",
       "        <span style=\"color: #008000; text-decoration-color: #008000\">'France'</span>,\n",
       "        <span style=\"color: #008000; text-decoration-color: #008000\">'France'</span>,\n",
       "        <span style=\"color: #008000; text-decoration-color: #008000\">'France'</span>,\n",
       "        <span style=\"color: #008000; text-decoration-color: #008000\">'France'</span>,\n",
       "        <span style=\"color: #008000; text-decoration-color: #008000\">'France'</span>,\n",
       "        <span style=\"color: #008000; text-decoration-color: #008000\">'France'</span>,\n",
       "        <span style=\"color: #008000; text-decoration-color: #008000\">'France'</span>,\n",
       "        <span style=\"color: #008000; text-decoration-color: #008000\">'France'</span>,\n",
       "        <span style=\"color: #008000; text-decoration-color: #008000\">'France'</span>,\n",
       "        <span style=\"color: #008000; text-decoration-color: #008000\">'France'</span>,\n",
       "        <span style=\"color: #008000; text-decoration-color: #008000\">'France'</span>,\n",
       "        <span style=\"color: #008000; text-decoration-color: #008000\">'France'</span>,\n",
       "        <span style=\"color: #008000; text-decoration-color: #008000\">'France'</span>\n",
       "    <span style=\"font-weight: bold\">]</span>\n",
       "<span style=\"font-weight: bold\">}</span>\n",
       "</pre>\n"
      ],
      "text/plain": [
       "\u001b[1m{\u001b[0m\n",
       "    \u001b[32m'city'\u001b[0m: \u001b[1m[\u001b[0m\n",
       "        \u001b[32m'Paris'\u001b[0m,\n",
       "        \u001b[32m'Marseille'\u001b[0m,\n",
       "        \u001b[32m'Lyon'\u001b[0m,\n",
       "        \u001b[32m'Toulouse'\u001b[0m,\n",
       "        \u001b[32m'Nice'\u001b[0m,\n",
       "        \u001b[32m'Nantes'\u001b[0m,\n",
       "        \u001b[32m'Strasbourg'\u001b[0m,\n",
       "        \u001b[32m'Montpellier'\u001b[0m,\n",
       "        \u001b[32m'Bordeaux'\u001b[0m,\n",
       "        \u001b[32m'Lille'\u001b[0m,\n",
       "        \u001b[32m'Rennes'\u001b[0m,\n",
       "        \u001b[32m'Reims'\u001b[0m,\n",
       "        \u001b[32m'Le Havre'\u001b[0m,\n",
       "        \u001b[32m'Saint-Étienne'\u001b[0m,\n",
       "        \u001b[32m'Toulon'\u001b[0m,\n",
       "        \u001b[32m'Grenoble'\u001b[0m,\n",
       "        \u001b[32m'Dijon'\u001b[0m,\n",
       "        \u001b[32m'Angers'\u001b[0m,\n",
       "        \u001b[32m'Nîmes'\u001b[0m,\n",
       "        \u001b[32m'Villeurbanne'\u001b[0m\n",
       "    \u001b[1m]\u001b[0m,\n",
       "    \u001b[32m'country'\u001b[0m: \u001b[1m[\u001b[0m\n",
       "        \u001b[32m'France'\u001b[0m,\n",
       "        \u001b[32m'France'\u001b[0m,\n",
       "        \u001b[32m'France'\u001b[0m,\n",
       "        \u001b[32m'France'\u001b[0m,\n",
       "        \u001b[32m'France'\u001b[0m,\n",
       "        \u001b[32m'France'\u001b[0m,\n",
       "        \u001b[32m'France'\u001b[0m,\n",
       "        \u001b[32m'France'\u001b[0m,\n",
       "        \u001b[32m'France'\u001b[0m,\n",
       "        \u001b[32m'France'\u001b[0m,\n",
       "        \u001b[32m'France'\u001b[0m,\n",
       "        \u001b[32m'France'\u001b[0m,\n",
       "        \u001b[32m'France'\u001b[0m\n",
       "    \u001b[1m]\u001b[0m\n",
       "\u001b[1m}\u001b[0m\n"
      ]
     },
     "metadata": {},
     "output_type": "display_data"
    },
    {
     "data": {
      "text/html": [
       "<pre style=\"white-space:pre;overflow-x:auto;line-height:normal;font-family:Menlo,'DejaVu Sans Mono',consolas,'Courier New',monospace\"><span style=\"font-weight: bold\">{</span>\n",
       "    <span style=\"color: #008000; text-decoration-color: #008000\">'city'</span>: <span style=\"font-weight: bold\">[</span>\n",
       "        <span style=\"color: #008000; text-decoration-color: #008000\">'Paris'</span>,\n",
       "        <span style=\"color: #008000; text-decoration-color: #008000\">'Marseille'</span>,\n",
       "        <span style=\"color: #008000; text-decoration-color: #008000\">'Lyon'</span>,\n",
       "        <span style=\"color: #008000; text-decoration-color: #008000\">'Toulouse'</span>,\n",
       "        <span style=\"color: #008000; text-decoration-color: #008000\">'Nice'</span>,\n",
       "        <span style=\"color: #008000; text-decoration-color: #008000\">'Nantes'</span>,\n",
       "        <span style=\"color: #008000; text-decoration-color: #008000\">'Strasbourg'</span>,\n",
       "        <span style=\"color: #008000; text-decoration-color: #008000\">'Montpellier'</span>,\n",
       "        <span style=\"color: #008000; text-decoration-color: #008000\">'Bordeaux'</span>,\n",
       "        <span style=\"color: #008000; text-decoration-color: #008000\">'Lille'</span>,\n",
       "        <span style=\"color: #008000; text-decoration-color: #008000\">'Rennes'</span>,\n",
       "        <span style=\"color: #008000; text-decoration-color: #008000\">'Reims'</span>,\n",
       "        <span style=\"color: #008000; text-decoration-color: #008000\">'Le Havre'</span>,\n",
       "        <span style=\"color: #008000; text-decoration-color: #008000\">'Saint-Étienne'</span>,\n",
       "        <span style=\"color: #008000; text-decoration-color: #008000\">'Toulon'</span>,\n",
       "        <span style=\"color: #008000; text-decoration-color: #008000\">'Grenoble'</span>,\n",
       "        <span style=\"color: #008000; text-decoration-color: #008000\">'Dijon'</span>,\n",
       "        <span style=\"color: #008000; text-decoration-color: #008000\">'Angers'</span>,\n",
       "        <span style=\"color: #008000; text-decoration-color: #008000\">'Nîmes'</span>,\n",
       "        <span style=\"color: #008000; text-decoration-color: #008000\">'Villeurbanne'</span>\n",
       "    <span style=\"font-weight: bold\">]</span>,\n",
       "    <span style=\"color: #008000; text-decoration-color: #008000\">'country'</span>: <span style=\"font-weight: bold\">[</span>\n",
       "        <span style=\"color: #008000; text-decoration-color: #008000\">'France'</span>,\n",
       "        <span style=\"color: #008000; text-decoration-color: #008000\">'France'</span>,\n",
       "        <span style=\"color: #008000; text-decoration-color: #008000\">'France'</span>,\n",
       "        <span style=\"color: #008000; text-decoration-color: #008000\">'France'</span>,\n",
       "        <span style=\"color: #008000; text-decoration-color: #008000\">'France'</span>,\n",
       "        <span style=\"color: #008000; text-decoration-color: #008000\">'France'</span>,\n",
       "        <span style=\"color: #008000; text-decoration-color: #008000\">'France'</span>,\n",
       "        <span style=\"color: #008000; text-decoration-color: #008000\">'France'</span>,\n",
       "        <span style=\"color: #008000; text-decoration-color: #008000\">'France'</span>,\n",
       "        <span style=\"color: #008000; text-decoration-color: #008000\">'France'</span>,\n",
       "        <span style=\"color: #008000; text-decoration-color: #008000\">'France'</span>,\n",
       "        <span style=\"color: #008000; text-decoration-color: #008000\">'France'</span>,\n",
       "        <span style=\"color: #008000; text-decoration-color: #008000\">'France'</span>,\n",
       "        <span style=\"color: #008000; text-decoration-color: #008000\">'France'</span>\n",
       "    <span style=\"font-weight: bold\">]</span>\n",
       "<span style=\"font-weight: bold\">}</span>\n",
       "</pre>\n"
      ],
      "text/plain": [
       "\u001b[1m{\u001b[0m\n",
       "    \u001b[32m'city'\u001b[0m: \u001b[1m[\u001b[0m\n",
       "        \u001b[32m'Paris'\u001b[0m,\n",
       "        \u001b[32m'Marseille'\u001b[0m,\n",
       "        \u001b[32m'Lyon'\u001b[0m,\n",
       "        \u001b[32m'Toulouse'\u001b[0m,\n",
       "        \u001b[32m'Nice'\u001b[0m,\n",
       "        \u001b[32m'Nantes'\u001b[0m,\n",
       "        \u001b[32m'Strasbourg'\u001b[0m,\n",
       "        \u001b[32m'Montpellier'\u001b[0m,\n",
       "        \u001b[32m'Bordeaux'\u001b[0m,\n",
       "        \u001b[32m'Lille'\u001b[0m,\n",
       "        \u001b[32m'Rennes'\u001b[0m,\n",
       "        \u001b[32m'Reims'\u001b[0m,\n",
       "        \u001b[32m'Le Havre'\u001b[0m,\n",
       "        \u001b[32m'Saint-Étienne'\u001b[0m,\n",
       "        \u001b[32m'Toulon'\u001b[0m,\n",
       "        \u001b[32m'Grenoble'\u001b[0m,\n",
       "        \u001b[32m'Dijon'\u001b[0m,\n",
       "        \u001b[32m'Angers'\u001b[0m,\n",
       "        \u001b[32m'Nîmes'\u001b[0m,\n",
       "        \u001b[32m'Villeurbanne'\u001b[0m\n",
       "    \u001b[1m]\u001b[0m,\n",
       "    \u001b[32m'country'\u001b[0m: \u001b[1m[\u001b[0m\n",
       "        \u001b[32m'France'\u001b[0m,\n",
       "        \u001b[32m'France'\u001b[0m,\n",
       "        \u001b[32m'France'\u001b[0m,\n",
       "        \u001b[32m'France'\u001b[0m,\n",
       "        \u001b[32m'France'\u001b[0m,\n",
       "        \u001b[32m'France'\u001b[0m,\n",
       "        \u001b[32m'France'\u001b[0m,\n",
       "        \u001b[32m'France'\u001b[0m,\n",
       "        \u001b[32m'France'\u001b[0m,\n",
       "        \u001b[32m'France'\u001b[0m,\n",
       "        \u001b[32m'France'\u001b[0m,\n",
       "        \u001b[32m'France'\u001b[0m,\n",
       "        \u001b[32m'France'\u001b[0m,\n",
       "        \u001b[32m'France'\u001b[0m\n",
       "    \u001b[1m]\u001b[0m\n",
       "\u001b[1m}\u001b[0m\n"
      ]
     },
     "metadata": {},
     "output_type": "display_data"
    },
    {
     "data": {
      "text/html": [
       "<pre style=\"white-space:pre;overflow-x:auto;line-height:normal;font-family:Menlo,'DejaVu Sans Mono',consolas,'Courier New',monospace\"><span style=\"font-weight: bold\">{</span>\n",
       "    <span style=\"color: #008000; text-decoration-color: #008000\">'city'</span>: <span style=\"font-weight: bold\">[</span>\n",
       "        <span style=\"color: #008000; text-decoration-color: #008000\">'Paris'</span>,\n",
       "        <span style=\"color: #008000; text-decoration-color: #008000\">'Marseille'</span>,\n",
       "        <span style=\"color: #008000; text-decoration-color: #008000\">'Lyon'</span>,\n",
       "        <span style=\"color: #008000; text-decoration-color: #008000\">'Toulouse'</span>,\n",
       "        <span style=\"color: #008000; text-decoration-color: #008000\">'Nice'</span>,\n",
       "        <span style=\"color: #008000; text-decoration-color: #008000\">'Nantes'</span>,\n",
       "        <span style=\"color: #008000; text-decoration-color: #008000\">'Strasbourg'</span>,\n",
       "        <span style=\"color: #008000; text-decoration-color: #008000\">'Montpellier'</span>,\n",
       "        <span style=\"color: #008000; text-decoration-color: #008000\">'Bordeaux'</span>,\n",
       "        <span style=\"color: #008000; text-decoration-color: #008000\">'Lille'</span>,\n",
       "        <span style=\"color: #008000; text-decoration-color: #008000\">'Rennes'</span>,\n",
       "        <span style=\"color: #008000; text-decoration-color: #008000\">'Reims'</span>,\n",
       "        <span style=\"color: #008000; text-decoration-color: #008000\">'Le Havre'</span>,\n",
       "        <span style=\"color: #008000; text-decoration-color: #008000\">'Saint-Étienne'</span>,\n",
       "        <span style=\"color: #008000; text-decoration-color: #008000\">'Toulon'</span>,\n",
       "        <span style=\"color: #008000; text-decoration-color: #008000\">'Grenoble'</span>,\n",
       "        <span style=\"color: #008000; text-decoration-color: #008000\">'Dijon'</span>,\n",
       "        <span style=\"color: #008000; text-decoration-color: #008000\">'Angers'</span>,\n",
       "        <span style=\"color: #008000; text-decoration-color: #008000\">'Nîmes'</span>,\n",
       "        <span style=\"color: #008000; text-decoration-color: #008000\">'Villeurbanne'</span>\n",
       "    <span style=\"font-weight: bold\">]</span>,\n",
       "    <span style=\"color: #008000; text-decoration-color: #008000\">'country'</span>: <span style=\"font-weight: bold\">[</span>\n",
       "        <span style=\"color: #008000; text-decoration-color: #008000\">'France'</span>,\n",
       "        <span style=\"color: #008000; text-decoration-color: #008000\">'France'</span>,\n",
       "        <span style=\"color: #008000; text-decoration-color: #008000\">'France'</span>,\n",
       "        <span style=\"color: #008000; text-decoration-color: #008000\">'France'</span>,\n",
       "        <span style=\"color: #008000; text-decoration-color: #008000\">'France'</span>,\n",
       "        <span style=\"color: #008000; text-decoration-color: #008000\">'France'</span>,\n",
       "        <span style=\"color: #008000; text-decoration-color: #008000\">'France'</span>,\n",
       "        <span style=\"color: #008000; text-decoration-color: #008000\">'France'</span>,\n",
       "        <span style=\"color: #008000; text-decoration-color: #008000\">'France'</span>,\n",
       "        <span style=\"color: #008000; text-decoration-color: #008000\">'France'</span>,\n",
       "        <span style=\"color: #008000; text-decoration-color: #008000\">'France'</span>,\n",
       "        <span style=\"color: #008000; text-decoration-color: #008000\">'France'</span>,\n",
       "        <span style=\"color: #008000; text-decoration-color: #008000\">'France'</span>,\n",
       "        <span style=\"color: #008000; text-decoration-color: #008000\">'France'</span>,\n",
       "        <span style=\"color: #008000; text-decoration-color: #008000\">'France'</span>\n",
       "    <span style=\"font-weight: bold\">]</span>\n",
       "<span style=\"font-weight: bold\">}</span>\n",
       "</pre>\n"
      ],
      "text/plain": [
       "\u001b[1m{\u001b[0m\n",
       "    \u001b[32m'city'\u001b[0m: \u001b[1m[\u001b[0m\n",
       "        \u001b[32m'Paris'\u001b[0m,\n",
       "        \u001b[32m'Marseille'\u001b[0m,\n",
       "        \u001b[32m'Lyon'\u001b[0m,\n",
       "        \u001b[32m'Toulouse'\u001b[0m,\n",
       "        \u001b[32m'Nice'\u001b[0m,\n",
       "        \u001b[32m'Nantes'\u001b[0m,\n",
       "        \u001b[32m'Strasbourg'\u001b[0m,\n",
       "        \u001b[32m'Montpellier'\u001b[0m,\n",
       "        \u001b[32m'Bordeaux'\u001b[0m,\n",
       "        \u001b[32m'Lille'\u001b[0m,\n",
       "        \u001b[32m'Rennes'\u001b[0m,\n",
       "        \u001b[32m'Reims'\u001b[0m,\n",
       "        \u001b[32m'Le Havre'\u001b[0m,\n",
       "        \u001b[32m'Saint-Étienne'\u001b[0m,\n",
       "        \u001b[32m'Toulon'\u001b[0m,\n",
       "        \u001b[32m'Grenoble'\u001b[0m,\n",
       "        \u001b[32m'Dijon'\u001b[0m,\n",
       "        \u001b[32m'Angers'\u001b[0m,\n",
       "        \u001b[32m'Nîmes'\u001b[0m,\n",
       "        \u001b[32m'Villeurbanne'\u001b[0m\n",
       "    \u001b[1m]\u001b[0m,\n",
       "    \u001b[32m'country'\u001b[0m: \u001b[1m[\u001b[0m\n",
       "        \u001b[32m'France'\u001b[0m,\n",
       "        \u001b[32m'France'\u001b[0m,\n",
       "        \u001b[32m'France'\u001b[0m,\n",
       "        \u001b[32m'France'\u001b[0m,\n",
       "        \u001b[32m'France'\u001b[0m,\n",
       "        \u001b[32m'France'\u001b[0m,\n",
       "        \u001b[32m'France'\u001b[0m,\n",
       "        \u001b[32m'France'\u001b[0m,\n",
       "        \u001b[32m'France'\u001b[0m,\n",
       "        \u001b[32m'France'\u001b[0m,\n",
       "        \u001b[32m'France'\u001b[0m,\n",
       "        \u001b[32m'France'\u001b[0m,\n",
       "        \u001b[32m'France'\u001b[0m,\n",
       "        \u001b[32m'France'\u001b[0m,\n",
       "        \u001b[32m'France'\u001b[0m\n",
       "    \u001b[1m]\u001b[0m\n",
       "\u001b[1m}\u001b[0m\n"
      ]
     },
     "metadata": {},
     "output_type": "display_data"
    },
    {
     "data": {
      "text/html": [
       "<pre style=\"white-space:pre;overflow-x:auto;line-height:normal;font-family:Menlo,'DejaVu Sans Mono',consolas,'Courier New',monospace\"><span style=\"font-weight: bold\">{</span>\n",
       "    <span style=\"color: #008000; text-decoration-color: #008000\">'city'</span>: <span style=\"font-weight: bold\">[</span>\n",
       "        <span style=\"color: #008000; text-decoration-color: #008000\">'Paris'</span>,\n",
       "        <span style=\"color: #008000; text-decoration-color: #008000\">'Marseille'</span>,\n",
       "        <span style=\"color: #008000; text-decoration-color: #008000\">'Lyon'</span>,\n",
       "        <span style=\"color: #008000; text-decoration-color: #008000\">'Toulouse'</span>,\n",
       "        <span style=\"color: #008000; text-decoration-color: #008000\">'Nice'</span>,\n",
       "        <span style=\"color: #008000; text-decoration-color: #008000\">'Nantes'</span>,\n",
       "        <span style=\"color: #008000; text-decoration-color: #008000\">'Strasbourg'</span>,\n",
       "        <span style=\"color: #008000; text-decoration-color: #008000\">'Montpellier'</span>,\n",
       "        <span style=\"color: #008000; text-decoration-color: #008000\">'Bordeaux'</span>,\n",
       "        <span style=\"color: #008000; text-decoration-color: #008000\">'Lille'</span>,\n",
       "        <span style=\"color: #008000; text-decoration-color: #008000\">'Rennes'</span>,\n",
       "        <span style=\"color: #008000; text-decoration-color: #008000\">'Reims'</span>,\n",
       "        <span style=\"color: #008000; text-decoration-color: #008000\">'Le Havre'</span>,\n",
       "        <span style=\"color: #008000; text-decoration-color: #008000\">'Saint-Étienne'</span>,\n",
       "        <span style=\"color: #008000; text-decoration-color: #008000\">'Toulon'</span>,\n",
       "        <span style=\"color: #008000; text-decoration-color: #008000\">'Grenoble'</span>,\n",
       "        <span style=\"color: #008000; text-decoration-color: #008000\">'Dijon'</span>,\n",
       "        <span style=\"color: #008000; text-decoration-color: #008000\">'Angers'</span>,\n",
       "        <span style=\"color: #008000; text-decoration-color: #008000\">'Nîmes'</span>,\n",
       "        <span style=\"color: #008000; text-decoration-color: #008000\">'Villeurbanne'</span>\n",
       "    <span style=\"font-weight: bold\">]</span>,\n",
       "    <span style=\"color: #008000; text-decoration-color: #008000\">'country'</span>: <span style=\"font-weight: bold\">[</span>\n",
       "        <span style=\"color: #008000; text-decoration-color: #008000\">'France'</span>,\n",
       "        <span style=\"color: #008000; text-decoration-color: #008000\">'France'</span>,\n",
       "        <span style=\"color: #008000; text-decoration-color: #008000\">'France'</span>,\n",
       "        <span style=\"color: #008000; text-decoration-color: #008000\">'France'</span>,\n",
       "        <span style=\"color: #008000; text-decoration-color: #008000\">'France'</span>,\n",
       "        <span style=\"color: #008000; text-decoration-color: #008000\">'France'</span>,\n",
       "        <span style=\"color: #008000; text-decoration-color: #008000\">'France'</span>,\n",
       "        <span style=\"color: #008000; text-decoration-color: #008000\">'France'</span>,\n",
       "        <span style=\"color: #008000; text-decoration-color: #008000\">'France'</span>,\n",
       "        <span style=\"color: #008000; text-decoration-color: #008000\">'France'</span>,\n",
       "        <span style=\"color: #008000; text-decoration-color: #008000\">'France'</span>,\n",
       "        <span style=\"color: #008000; text-decoration-color: #008000\">'France'</span>,\n",
       "        <span style=\"color: #008000; text-decoration-color: #008000\">'France'</span>,\n",
       "        <span style=\"color: #008000; text-decoration-color: #008000\">'France'</span>,\n",
       "        <span style=\"color: #008000; text-decoration-color: #008000\">'France'</span>,\n",
       "        <span style=\"color: #008000; text-decoration-color: #008000\">'France'</span>,\n",
       "        <span style=\"color: #008000; text-decoration-color: #008000\">''</span>\n",
       "    <span style=\"font-weight: bold\">]</span>\n",
       "<span style=\"font-weight: bold\">}</span>\n",
       "</pre>\n"
      ],
      "text/plain": [
       "\u001b[1m{\u001b[0m\n",
       "    \u001b[32m'city'\u001b[0m: \u001b[1m[\u001b[0m\n",
       "        \u001b[32m'Paris'\u001b[0m,\n",
       "        \u001b[32m'Marseille'\u001b[0m,\n",
       "        \u001b[32m'Lyon'\u001b[0m,\n",
       "        \u001b[32m'Toulouse'\u001b[0m,\n",
       "        \u001b[32m'Nice'\u001b[0m,\n",
       "        \u001b[32m'Nantes'\u001b[0m,\n",
       "        \u001b[32m'Strasbourg'\u001b[0m,\n",
       "        \u001b[32m'Montpellier'\u001b[0m,\n",
       "        \u001b[32m'Bordeaux'\u001b[0m,\n",
       "        \u001b[32m'Lille'\u001b[0m,\n",
       "        \u001b[32m'Rennes'\u001b[0m,\n",
       "        \u001b[32m'Reims'\u001b[0m,\n",
       "        \u001b[32m'Le Havre'\u001b[0m,\n",
       "        \u001b[32m'Saint-Étienne'\u001b[0m,\n",
       "        \u001b[32m'Toulon'\u001b[0m,\n",
       "        \u001b[32m'Grenoble'\u001b[0m,\n",
       "        \u001b[32m'Dijon'\u001b[0m,\n",
       "        \u001b[32m'Angers'\u001b[0m,\n",
       "        \u001b[32m'Nîmes'\u001b[0m,\n",
       "        \u001b[32m'Villeurbanne'\u001b[0m\n",
       "    \u001b[1m]\u001b[0m,\n",
       "    \u001b[32m'country'\u001b[0m: \u001b[1m[\u001b[0m\n",
       "        \u001b[32m'France'\u001b[0m,\n",
       "        \u001b[32m'France'\u001b[0m,\n",
       "        \u001b[32m'France'\u001b[0m,\n",
       "        \u001b[32m'France'\u001b[0m,\n",
       "        \u001b[32m'France'\u001b[0m,\n",
       "        \u001b[32m'France'\u001b[0m,\n",
       "        \u001b[32m'France'\u001b[0m,\n",
       "        \u001b[32m'France'\u001b[0m,\n",
       "        \u001b[32m'France'\u001b[0m,\n",
       "        \u001b[32m'France'\u001b[0m,\n",
       "        \u001b[32m'France'\u001b[0m,\n",
       "        \u001b[32m'France'\u001b[0m,\n",
       "        \u001b[32m'France'\u001b[0m,\n",
       "        \u001b[32m'France'\u001b[0m,\n",
       "        \u001b[32m'France'\u001b[0m,\n",
       "        \u001b[32m'France'\u001b[0m,\n",
       "        \u001b[32m''\u001b[0m\n",
       "    \u001b[1m]\u001b[0m\n",
       "\u001b[1m}\u001b[0m\n"
      ]
     },
     "metadata": {},
     "output_type": "display_data"
    },
    {
     "data": {
      "text/html": [
       "<pre style=\"white-space:pre;overflow-x:auto;line-height:normal;font-family:Menlo,'DejaVu Sans Mono',consolas,'Courier New',monospace\"><span style=\"font-weight: bold\">{</span>\n",
       "    <span style=\"color: #008000; text-decoration-color: #008000\">'city'</span>: <span style=\"font-weight: bold\">[</span>\n",
       "        <span style=\"color: #008000; text-decoration-color: #008000\">'Paris'</span>,\n",
       "        <span style=\"color: #008000; text-decoration-color: #008000\">'Marseille'</span>,\n",
       "        <span style=\"color: #008000; text-decoration-color: #008000\">'Lyon'</span>,\n",
       "        <span style=\"color: #008000; text-decoration-color: #008000\">'Toulouse'</span>,\n",
       "        <span style=\"color: #008000; text-decoration-color: #008000\">'Nice'</span>,\n",
       "        <span style=\"color: #008000; text-decoration-color: #008000\">'Nantes'</span>,\n",
       "        <span style=\"color: #008000; text-decoration-color: #008000\">'Strasbourg'</span>,\n",
       "        <span style=\"color: #008000; text-decoration-color: #008000\">'Montpellier'</span>,\n",
       "        <span style=\"color: #008000; text-decoration-color: #008000\">'Bordeaux'</span>,\n",
       "        <span style=\"color: #008000; text-decoration-color: #008000\">'Lille'</span>,\n",
       "        <span style=\"color: #008000; text-decoration-color: #008000\">'Rennes'</span>,\n",
       "        <span style=\"color: #008000; text-decoration-color: #008000\">'Reims'</span>,\n",
       "        <span style=\"color: #008000; text-decoration-color: #008000\">'Le Havre'</span>,\n",
       "        <span style=\"color: #008000; text-decoration-color: #008000\">'Saint-Étienne'</span>,\n",
       "        <span style=\"color: #008000; text-decoration-color: #008000\">'Toulon'</span>,\n",
       "        <span style=\"color: #008000; text-decoration-color: #008000\">'Grenoble'</span>,\n",
       "        <span style=\"color: #008000; text-decoration-color: #008000\">'Dijon'</span>,\n",
       "        <span style=\"color: #008000; text-decoration-color: #008000\">'Angers'</span>,\n",
       "        <span style=\"color: #008000; text-decoration-color: #008000\">'Nîmes'</span>,\n",
       "        <span style=\"color: #008000; text-decoration-color: #008000\">'Villeurbanne'</span>\n",
       "    <span style=\"font-weight: bold\">]</span>,\n",
       "    <span style=\"color: #008000; text-decoration-color: #008000\">'country'</span>: <span style=\"font-weight: bold\">[</span>\n",
       "        <span style=\"color: #008000; text-decoration-color: #008000\">'France'</span>,\n",
       "        <span style=\"color: #008000; text-decoration-color: #008000\">'France'</span>,\n",
       "        <span style=\"color: #008000; text-decoration-color: #008000\">'France'</span>,\n",
       "        <span style=\"color: #008000; text-decoration-color: #008000\">'France'</span>,\n",
       "        <span style=\"color: #008000; text-decoration-color: #008000\">'France'</span>,\n",
       "        <span style=\"color: #008000; text-decoration-color: #008000\">'France'</span>,\n",
       "        <span style=\"color: #008000; text-decoration-color: #008000\">'France'</span>,\n",
       "        <span style=\"color: #008000; text-decoration-color: #008000\">'France'</span>,\n",
       "        <span style=\"color: #008000; text-decoration-color: #008000\">'France'</span>,\n",
       "        <span style=\"color: #008000; text-decoration-color: #008000\">'France'</span>,\n",
       "        <span style=\"color: #008000; text-decoration-color: #008000\">'France'</span>,\n",
       "        <span style=\"color: #008000; text-decoration-color: #008000\">'France'</span>,\n",
       "        <span style=\"color: #008000; text-decoration-color: #008000\">'France'</span>,\n",
       "        <span style=\"color: #008000; text-decoration-color: #008000\">'France'</span>,\n",
       "        <span style=\"color: #008000; text-decoration-color: #008000\">'France'</span>,\n",
       "        <span style=\"color: #008000; text-decoration-color: #008000\">'France'</span>,\n",
       "        <span style=\"color: #008000; text-decoration-color: #008000\">'France'</span>\n",
       "    <span style=\"font-weight: bold\">]</span>\n",
       "<span style=\"font-weight: bold\">}</span>\n",
       "</pre>\n"
      ],
      "text/plain": [
       "\u001b[1m{\u001b[0m\n",
       "    \u001b[32m'city'\u001b[0m: \u001b[1m[\u001b[0m\n",
       "        \u001b[32m'Paris'\u001b[0m,\n",
       "        \u001b[32m'Marseille'\u001b[0m,\n",
       "        \u001b[32m'Lyon'\u001b[0m,\n",
       "        \u001b[32m'Toulouse'\u001b[0m,\n",
       "        \u001b[32m'Nice'\u001b[0m,\n",
       "        \u001b[32m'Nantes'\u001b[0m,\n",
       "        \u001b[32m'Strasbourg'\u001b[0m,\n",
       "        \u001b[32m'Montpellier'\u001b[0m,\n",
       "        \u001b[32m'Bordeaux'\u001b[0m,\n",
       "        \u001b[32m'Lille'\u001b[0m,\n",
       "        \u001b[32m'Rennes'\u001b[0m,\n",
       "        \u001b[32m'Reims'\u001b[0m,\n",
       "        \u001b[32m'Le Havre'\u001b[0m,\n",
       "        \u001b[32m'Saint-Étienne'\u001b[0m,\n",
       "        \u001b[32m'Toulon'\u001b[0m,\n",
       "        \u001b[32m'Grenoble'\u001b[0m,\n",
       "        \u001b[32m'Dijon'\u001b[0m,\n",
       "        \u001b[32m'Angers'\u001b[0m,\n",
       "        \u001b[32m'Nîmes'\u001b[0m,\n",
       "        \u001b[32m'Villeurbanne'\u001b[0m\n",
       "    \u001b[1m]\u001b[0m,\n",
       "    \u001b[32m'country'\u001b[0m: \u001b[1m[\u001b[0m\n",
       "        \u001b[32m'France'\u001b[0m,\n",
       "        \u001b[32m'France'\u001b[0m,\n",
       "        \u001b[32m'France'\u001b[0m,\n",
       "        \u001b[32m'France'\u001b[0m,\n",
       "        \u001b[32m'France'\u001b[0m,\n",
       "        \u001b[32m'France'\u001b[0m,\n",
       "        \u001b[32m'France'\u001b[0m,\n",
       "        \u001b[32m'France'\u001b[0m,\n",
       "        \u001b[32m'France'\u001b[0m,\n",
       "        \u001b[32m'France'\u001b[0m,\n",
       "        \u001b[32m'France'\u001b[0m,\n",
       "        \u001b[32m'France'\u001b[0m,\n",
       "        \u001b[32m'France'\u001b[0m,\n",
       "        \u001b[32m'France'\u001b[0m,\n",
       "        \u001b[32m'France'\u001b[0m,\n",
       "        \u001b[32m'France'\u001b[0m,\n",
       "        \u001b[32m'France'\u001b[0m\n",
       "    \u001b[1m]\u001b[0m\n",
       "\u001b[1m}\u001b[0m\n"
      ]
     },
     "metadata": {},
     "output_type": "display_data"
    },
    {
     "data": {
      "text/html": [
       "<pre style=\"white-space:pre;overflow-x:auto;line-height:normal;font-family:Menlo,'DejaVu Sans Mono',consolas,'Courier New',monospace\"><span style=\"font-weight: bold\">{</span>\n",
       "    <span style=\"color: #008000; text-decoration-color: #008000\">'city'</span>: <span style=\"font-weight: bold\">[</span>\n",
       "        <span style=\"color: #008000; text-decoration-color: #008000\">'Paris'</span>,\n",
       "        <span style=\"color: #008000; text-decoration-color: #008000\">'Marseille'</span>,\n",
       "        <span style=\"color: #008000; text-decoration-color: #008000\">'Lyon'</span>,\n",
       "        <span style=\"color: #008000; text-decoration-color: #008000\">'Toulouse'</span>,\n",
       "        <span style=\"color: #008000; text-decoration-color: #008000\">'Nice'</span>,\n",
       "        <span style=\"color: #008000; text-decoration-color: #008000\">'Nantes'</span>,\n",
       "        <span style=\"color: #008000; text-decoration-color: #008000\">'Strasbourg'</span>,\n",
       "        <span style=\"color: #008000; text-decoration-color: #008000\">'Montpellier'</span>,\n",
       "        <span style=\"color: #008000; text-decoration-color: #008000\">'Bordeaux'</span>,\n",
       "        <span style=\"color: #008000; text-decoration-color: #008000\">'Lille'</span>,\n",
       "        <span style=\"color: #008000; text-decoration-color: #008000\">'Rennes'</span>,\n",
       "        <span style=\"color: #008000; text-decoration-color: #008000\">'Reims'</span>,\n",
       "        <span style=\"color: #008000; text-decoration-color: #008000\">'Le Havre'</span>,\n",
       "        <span style=\"color: #008000; text-decoration-color: #008000\">'Saint-Étienne'</span>,\n",
       "        <span style=\"color: #008000; text-decoration-color: #008000\">'Toulon'</span>,\n",
       "        <span style=\"color: #008000; text-decoration-color: #008000\">'Grenoble'</span>,\n",
       "        <span style=\"color: #008000; text-decoration-color: #008000\">'Dijon'</span>,\n",
       "        <span style=\"color: #008000; text-decoration-color: #008000\">'Angers'</span>,\n",
       "        <span style=\"color: #008000; text-decoration-color: #008000\">'Nîmes'</span>,\n",
       "        <span style=\"color: #008000; text-decoration-color: #008000\">'Villeurbanne'</span>\n",
       "    <span style=\"font-weight: bold\">]</span>,\n",
       "    <span style=\"color: #008000; text-decoration-color: #008000\">'country'</span>: <span style=\"font-weight: bold\">[</span>\n",
       "        <span style=\"color: #008000; text-decoration-color: #008000\">'France'</span>,\n",
       "        <span style=\"color: #008000; text-decoration-color: #008000\">'France'</span>,\n",
       "        <span style=\"color: #008000; text-decoration-color: #008000\">'France'</span>,\n",
       "        <span style=\"color: #008000; text-decoration-color: #008000\">'France'</span>,\n",
       "        <span style=\"color: #008000; text-decoration-color: #008000\">'France'</span>,\n",
       "        <span style=\"color: #008000; text-decoration-color: #008000\">'France'</span>,\n",
       "        <span style=\"color: #008000; text-decoration-color: #008000\">'France'</span>,\n",
       "        <span style=\"color: #008000; text-decoration-color: #008000\">'France'</span>,\n",
       "        <span style=\"color: #008000; text-decoration-color: #008000\">'France'</span>,\n",
       "        <span style=\"color: #008000; text-decoration-color: #008000\">'France'</span>,\n",
       "        <span style=\"color: #008000; text-decoration-color: #008000\">'France'</span>,\n",
       "        <span style=\"color: #008000; text-decoration-color: #008000\">'France'</span>,\n",
       "        <span style=\"color: #008000; text-decoration-color: #008000\">'France'</span>,\n",
       "        <span style=\"color: #008000; text-decoration-color: #008000\">'France'</span>,\n",
       "        <span style=\"color: #008000; text-decoration-color: #008000\">'France'</span>,\n",
       "        <span style=\"color: #008000; text-decoration-color: #008000\">'France'</span>,\n",
       "        <span style=\"color: #008000; text-decoration-color: #008000\">'France'</span>,\n",
       "        <span style=\"color: #008000; text-decoration-color: #008000\">'France'</span>\n",
       "    <span style=\"font-weight: bold\">]</span>\n",
       "<span style=\"font-weight: bold\">}</span>\n",
       "</pre>\n"
      ],
      "text/plain": [
       "\u001b[1m{\u001b[0m\n",
       "    \u001b[32m'city'\u001b[0m: \u001b[1m[\u001b[0m\n",
       "        \u001b[32m'Paris'\u001b[0m,\n",
       "        \u001b[32m'Marseille'\u001b[0m,\n",
       "        \u001b[32m'Lyon'\u001b[0m,\n",
       "        \u001b[32m'Toulouse'\u001b[0m,\n",
       "        \u001b[32m'Nice'\u001b[0m,\n",
       "        \u001b[32m'Nantes'\u001b[0m,\n",
       "        \u001b[32m'Strasbourg'\u001b[0m,\n",
       "        \u001b[32m'Montpellier'\u001b[0m,\n",
       "        \u001b[32m'Bordeaux'\u001b[0m,\n",
       "        \u001b[32m'Lille'\u001b[0m,\n",
       "        \u001b[32m'Rennes'\u001b[0m,\n",
       "        \u001b[32m'Reims'\u001b[0m,\n",
       "        \u001b[32m'Le Havre'\u001b[0m,\n",
       "        \u001b[32m'Saint-Étienne'\u001b[0m,\n",
       "        \u001b[32m'Toulon'\u001b[0m,\n",
       "        \u001b[32m'Grenoble'\u001b[0m,\n",
       "        \u001b[32m'Dijon'\u001b[0m,\n",
       "        \u001b[32m'Angers'\u001b[0m,\n",
       "        \u001b[32m'Nîmes'\u001b[0m,\n",
       "        \u001b[32m'Villeurbanne'\u001b[0m\n",
       "    \u001b[1m]\u001b[0m,\n",
       "    \u001b[32m'country'\u001b[0m: \u001b[1m[\u001b[0m\n",
       "        \u001b[32m'France'\u001b[0m,\n",
       "        \u001b[32m'France'\u001b[0m,\n",
       "        \u001b[32m'France'\u001b[0m,\n",
       "        \u001b[32m'France'\u001b[0m,\n",
       "        \u001b[32m'France'\u001b[0m,\n",
       "        \u001b[32m'France'\u001b[0m,\n",
       "        \u001b[32m'France'\u001b[0m,\n",
       "        \u001b[32m'France'\u001b[0m,\n",
       "        \u001b[32m'France'\u001b[0m,\n",
       "        \u001b[32m'France'\u001b[0m,\n",
       "        \u001b[32m'France'\u001b[0m,\n",
       "        \u001b[32m'France'\u001b[0m,\n",
       "        \u001b[32m'France'\u001b[0m,\n",
       "        \u001b[32m'France'\u001b[0m,\n",
       "        \u001b[32m'France'\u001b[0m,\n",
       "        \u001b[32m'France'\u001b[0m,\n",
       "        \u001b[32m'France'\u001b[0m,\n",
       "        \u001b[32m'France'\u001b[0m\n",
       "    \u001b[1m]\u001b[0m\n",
       "\u001b[1m}\u001b[0m\n"
      ]
     },
     "metadata": {},
     "output_type": "display_data"
    },
    {
     "data": {
      "text/html": [
       "<pre style=\"white-space:pre;overflow-x:auto;line-height:normal;font-family:Menlo,'DejaVu Sans Mono',consolas,'Courier New',monospace\"><span style=\"font-weight: bold\">{</span>\n",
       "    <span style=\"color: #008000; text-decoration-color: #008000\">'city'</span>: <span style=\"font-weight: bold\">[</span>\n",
       "        <span style=\"color: #008000; text-decoration-color: #008000\">'Paris'</span>,\n",
       "        <span style=\"color: #008000; text-decoration-color: #008000\">'Marseille'</span>,\n",
       "        <span style=\"color: #008000; text-decoration-color: #008000\">'Lyon'</span>,\n",
       "        <span style=\"color: #008000; text-decoration-color: #008000\">'Toulouse'</span>,\n",
       "        <span style=\"color: #008000; text-decoration-color: #008000\">'Nice'</span>,\n",
       "        <span style=\"color: #008000; text-decoration-color: #008000\">'Nantes'</span>,\n",
       "        <span style=\"color: #008000; text-decoration-color: #008000\">'Strasbourg'</span>,\n",
       "        <span style=\"color: #008000; text-decoration-color: #008000\">'Montpellier'</span>,\n",
       "        <span style=\"color: #008000; text-decoration-color: #008000\">'Bordeaux'</span>,\n",
       "        <span style=\"color: #008000; text-decoration-color: #008000\">'Lille'</span>,\n",
       "        <span style=\"color: #008000; text-decoration-color: #008000\">'Rennes'</span>,\n",
       "        <span style=\"color: #008000; text-decoration-color: #008000\">'Reims'</span>,\n",
       "        <span style=\"color: #008000; text-decoration-color: #008000\">'Le Havre'</span>,\n",
       "        <span style=\"color: #008000; text-decoration-color: #008000\">'Saint-Étienne'</span>,\n",
       "        <span style=\"color: #008000; text-decoration-color: #008000\">'Toulon'</span>,\n",
       "        <span style=\"color: #008000; text-decoration-color: #008000\">'Grenoble'</span>,\n",
       "        <span style=\"color: #008000; text-decoration-color: #008000\">'Dijon'</span>,\n",
       "        <span style=\"color: #008000; text-decoration-color: #008000\">'Angers'</span>,\n",
       "        <span style=\"color: #008000; text-decoration-color: #008000\">'Nîmes'</span>,\n",
       "        <span style=\"color: #008000; text-decoration-color: #008000\">'Villeurbanne'</span>\n",
       "    <span style=\"font-weight: bold\">]</span>,\n",
       "    <span style=\"color: #008000; text-decoration-color: #008000\">'country'</span>: <span style=\"font-weight: bold\">[</span>\n",
       "        <span style=\"color: #008000; text-decoration-color: #008000\">'France'</span>,\n",
       "        <span style=\"color: #008000; text-decoration-color: #008000\">'France'</span>,\n",
       "        <span style=\"color: #008000; text-decoration-color: #008000\">'France'</span>,\n",
       "        <span style=\"color: #008000; text-decoration-color: #008000\">'France'</span>,\n",
       "        <span style=\"color: #008000; text-decoration-color: #008000\">'France'</span>,\n",
       "        <span style=\"color: #008000; text-decoration-color: #008000\">'France'</span>,\n",
       "        <span style=\"color: #008000; text-decoration-color: #008000\">'France'</span>,\n",
       "        <span style=\"color: #008000; text-decoration-color: #008000\">'France'</span>,\n",
       "        <span style=\"color: #008000; text-decoration-color: #008000\">'France'</span>,\n",
       "        <span style=\"color: #008000; text-decoration-color: #008000\">'France'</span>,\n",
       "        <span style=\"color: #008000; text-decoration-color: #008000\">'France'</span>,\n",
       "        <span style=\"color: #008000; text-decoration-color: #008000\">'France'</span>,\n",
       "        <span style=\"color: #008000; text-decoration-color: #008000\">'France'</span>,\n",
       "        <span style=\"color: #008000; text-decoration-color: #008000\">'France'</span>,\n",
       "        <span style=\"color: #008000; text-decoration-color: #008000\">'France'</span>,\n",
       "        <span style=\"color: #008000; text-decoration-color: #008000\">'France'</span>,\n",
       "        <span style=\"color: #008000; text-decoration-color: #008000\">'France'</span>,\n",
       "        <span style=\"color: #008000; text-decoration-color: #008000\">'France'</span>,\n",
       "        <span style=\"color: #008000; text-decoration-color: #008000\">'France'</span>\n",
       "    <span style=\"font-weight: bold\">]</span>\n",
       "<span style=\"font-weight: bold\">}</span>\n",
       "</pre>\n"
      ],
      "text/plain": [
       "\u001b[1m{\u001b[0m\n",
       "    \u001b[32m'city'\u001b[0m: \u001b[1m[\u001b[0m\n",
       "        \u001b[32m'Paris'\u001b[0m,\n",
       "        \u001b[32m'Marseille'\u001b[0m,\n",
       "        \u001b[32m'Lyon'\u001b[0m,\n",
       "        \u001b[32m'Toulouse'\u001b[0m,\n",
       "        \u001b[32m'Nice'\u001b[0m,\n",
       "        \u001b[32m'Nantes'\u001b[0m,\n",
       "        \u001b[32m'Strasbourg'\u001b[0m,\n",
       "        \u001b[32m'Montpellier'\u001b[0m,\n",
       "        \u001b[32m'Bordeaux'\u001b[0m,\n",
       "        \u001b[32m'Lille'\u001b[0m,\n",
       "        \u001b[32m'Rennes'\u001b[0m,\n",
       "        \u001b[32m'Reims'\u001b[0m,\n",
       "        \u001b[32m'Le Havre'\u001b[0m,\n",
       "        \u001b[32m'Saint-Étienne'\u001b[0m,\n",
       "        \u001b[32m'Toulon'\u001b[0m,\n",
       "        \u001b[32m'Grenoble'\u001b[0m,\n",
       "        \u001b[32m'Dijon'\u001b[0m,\n",
       "        \u001b[32m'Angers'\u001b[0m,\n",
       "        \u001b[32m'Nîmes'\u001b[0m,\n",
       "        \u001b[32m'Villeurbanne'\u001b[0m\n",
       "    \u001b[1m]\u001b[0m,\n",
       "    \u001b[32m'country'\u001b[0m: \u001b[1m[\u001b[0m\n",
       "        \u001b[32m'France'\u001b[0m,\n",
       "        \u001b[32m'France'\u001b[0m,\n",
       "        \u001b[32m'France'\u001b[0m,\n",
       "        \u001b[32m'France'\u001b[0m,\n",
       "        \u001b[32m'France'\u001b[0m,\n",
       "        \u001b[32m'France'\u001b[0m,\n",
       "        \u001b[32m'France'\u001b[0m,\n",
       "        \u001b[32m'France'\u001b[0m,\n",
       "        \u001b[32m'France'\u001b[0m,\n",
       "        \u001b[32m'France'\u001b[0m,\n",
       "        \u001b[32m'France'\u001b[0m,\n",
       "        \u001b[32m'France'\u001b[0m,\n",
       "        \u001b[32m'France'\u001b[0m,\n",
       "        \u001b[32m'France'\u001b[0m,\n",
       "        \u001b[32m'France'\u001b[0m,\n",
       "        \u001b[32m'France'\u001b[0m,\n",
       "        \u001b[32m'France'\u001b[0m,\n",
       "        \u001b[32m'France'\u001b[0m,\n",
       "        \u001b[32m'France'\u001b[0m\n",
       "    \u001b[1m]\u001b[0m\n",
       "\u001b[1m}\u001b[0m\n"
      ]
     },
     "metadata": {},
     "output_type": "display_data"
    },
    {
     "data": {
      "text/html": [
       "<pre style=\"white-space:pre;overflow-x:auto;line-height:normal;font-family:Menlo,'DejaVu Sans Mono',consolas,'Courier New',monospace\"><span style=\"font-weight: bold\">{</span>\n",
       "    <span style=\"color: #008000; text-decoration-color: #008000\">'city'</span>: <span style=\"font-weight: bold\">[</span>\n",
       "        <span style=\"color: #008000; text-decoration-color: #008000\">'Paris'</span>,\n",
       "        <span style=\"color: #008000; text-decoration-color: #008000\">'Marseille'</span>,\n",
       "        <span style=\"color: #008000; text-decoration-color: #008000\">'Lyon'</span>,\n",
       "        <span style=\"color: #008000; text-decoration-color: #008000\">'Toulouse'</span>,\n",
       "        <span style=\"color: #008000; text-decoration-color: #008000\">'Nice'</span>,\n",
       "        <span style=\"color: #008000; text-decoration-color: #008000\">'Nantes'</span>,\n",
       "        <span style=\"color: #008000; text-decoration-color: #008000\">'Strasbourg'</span>,\n",
       "        <span style=\"color: #008000; text-decoration-color: #008000\">'Montpellier'</span>,\n",
       "        <span style=\"color: #008000; text-decoration-color: #008000\">'Bordeaux'</span>,\n",
       "        <span style=\"color: #008000; text-decoration-color: #008000\">'Lille'</span>,\n",
       "        <span style=\"color: #008000; text-decoration-color: #008000\">'Rennes'</span>,\n",
       "        <span style=\"color: #008000; text-decoration-color: #008000\">'Reims'</span>,\n",
       "        <span style=\"color: #008000; text-decoration-color: #008000\">'Le Havre'</span>,\n",
       "        <span style=\"color: #008000; text-decoration-color: #008000\">'Saint-Étienne'</span>,\n",
       "        <span style=\"color: #008000; text-decoration-color: #008000\">'Toulon'</span>,\n",
       "        <span style=\"color: #008000; text-decoration-color: #008000\">'Grenoble'</span>,\n",
       "        <span style=\"color: #008000; text-decoration-color: #008000\">'Dijon'</span>,\n",
       "        <span style=\"color: #008000; text-decoration-color: #008000\">'Angers'</span>,\n",
       "        <span style=\"color: #008000; text-decoration-color: #008000\">'Nîmes'</span>,\n",
       "        <span style=\"color: #008000; text-decoration-color: #008000\">'Villeurbanne'</span>\n",
       "    <span style=\"font-weight: bold\">]</span>,\n",
       "    <span style=\"color: #008000; text-decoration-color: #008000\">'country'</span>: <span style=\"font-weight: bold\">[</span>\n",
       "        <span style=\"color: #008000; text-decoration-color: #008000\">'France'</span>,\n",
       "        <span style=\"color: #008000; text-decoration-color: #008000\">'France'</span>,\n",
       "        <span style=\"color: #008000; text-decoration-color: #008000\">'France'</span>,\n",
       "        <span style=\"color: #008000; text-decoration-color: #008000\">'France'</span>,\n",
       "        <span style=\"color: #008000; text-decoration-color: #008000\">'France'</span>,\n",
       "        <span style=\"color: #008000; text-decoration-color: #008000\">'France'</span>,\n",
       "        <span style=\"color: #008000; text-decoration-color: #008000\">'France'</span>,\n",
       "        <span style=\"color: #008000; text-decoration-color: #008000\">'France'</span>,\n",
       "        <span style=\"color: #008000; text-decoration-color: #008000\">'France'</span>,\n",
       "        <span style=\"color: #008000; text-decoration-color: #008000\">'France'</span>,\n",
       "        <span style=\"color: #008000; text-decoration-color: #008000\">'France'</span>,\n",
       "        <span style=\"color: #008000; text-decoration-color: #008000\">'France'</span>,\n",
       "        <span style=\"color: #008000; text-decoration-color: #008000\">'France'</span>,\n",
       "        <span style=\"color: #008000; text-decoration-color: #008000\">'France'</span>,\n",
       "        <span style=\"color: #008000; text-decoration-color: #008000\">'France'</span>,\n",
       "        <span style=\"color: #008000; text-decoration-color: #008000\">'France'</span>,\n",
       "        <span style=\"color: #008000; text-decoration-color: #008000\">'France'</span>,\n",
       "        <span style=\"color: #008000; text-decoration-color: #008000\">'France'</span>,\n",
       "        <span style=\"color: #008000; text-decoration-color: #008000\">'France'</span>,\n",
       "        <span style=\"color: #008000; text-decoration-color: #008000\">'France'</span>\n",
       "    <span style=\"font-weight: bold\">]</span>\n",
       "<span style=\"font-weight: bold\">}</span>\n",
       "</pre>\n"
      ],
      "text/plain": [
       "\u001b[1m{\u001b[0m\n",
       "    \u001b[32m'city'\u001b[0m: \u001b[1m[\u001b[0m\n",
       "        \u001b[32m'Paris'\u001b[0m,\n",
       "        \u001b[32m'Marseille'\u001b[0m,\n",
       "        \u001b[32m'Lyon'\u001b[0m,\n",
       "        \u001b[32m'Toulouse'\u001b[0m,\n",
       "        \u001b[32m'Nice'\u001b[0m,\n",
       "        \u001b[32m'Nantes'\u001b[0m,\n",
       "        \u001b[32m'Strasbourg'\u001b[0m,\n",
       "        \u001b[32m'Montpellier'\u001b[0m,\n",
       "        \u001b[32m'Bordeaux'\u001b[0m,\n",
       "        \u001b[32m'Lille'\u001b[0m,\n",
       "        \u001b[32m'Rennes'\u001b[0m,\n",
       "        \u001b[32m'Reims'\u001b[0m,\n",
       "        \u001b[32m'Le Havre'\u001b[0m,\n",
       "        \u001b[32m'Saint-Étienne'\u001b[0m,\n",
       "        \u001b[32m'Toulon'\u001b[0m,\n",
       "        \u001b[32m'Grenoble'\u001b[0m,\n",
       "        \u001b[32m'Dijon'\u001b[0m,\n",
       "        \u001b[32m'Angers'\u001b[0m,\n",
       "        \u001b[32m'Nîmes'\u001b[0m,\n",
       "        \u001b[32m'Villeurbanne'\u001b[0m\n",
       "    \u001b[1m]\u001b[0m,\n",
       "    \u001b[32m'country'\u001b[0m: \u001b[1m[\u001b[0m\n",
       "        \u001b[32m'France'\u001b[0m,\n",
       "        \u001b[32m'France'\u001b[0m,\n",
       "        \u001b[32m'France'\u001b[0m,\n",
       "        \u001b[32m'France'\u001b[0m,\n",
       "        \u001b[32m'France'\u001b[0m,\n",
       "        \u001b[32m'France'\u001b[0m,\n",
       "        \u001b[32m'France'\u001b[0m,\n",
       "        \u001b[32m'France'\u001b[0m,\n",
       "        \u001b[32m'France'\u001b[0m,\n",
       "        \u001b[32m'France'\u001b[0m,\n",
       "        \u001b[32m'France'\u001b[0m,\n",
       "        \u001b[32m'France'\u001b[0m,\n",
       "        \u001b[32m'France'\u001b[0m,\n",
       "        \u001b[32m'France'\u001b[0m,\n",
       "        \u001b[32m'France'\u001b[0m,\n",
       "        \u001b[32m'France'\u001b[0m,\n",
       "        \u001b[32m'France'\u001b[0m,\n",
       "        \u001b[32m'France'\u001b[0m,\n",
       "        \u001b[32m'France'\u001b[0m,\n",
       "        \u001b[32m'France'\u001b[0m\n",
       "    \u001b[1m]\u001b[0m\n",
       "\u001b[1m}\u001b[0m\n"
      ]
     },
     "metadata": {},
     "output_type": "display_data"
    },
    {
     "data": {
      "text/html": [
       "<pre style=\"white-space:pre;overflow-x:auto;line-height:normal;font-family:Menlo,'DejaVu Sans Mono',consolas,'Courier New',monospace\"><span style=\"font-weight: bold\">{</span>\n",
       "    <span style=\"color: #008000; text-decoration-color: #008000\">'city'</span>: <span style=\"font-weight: bold\">[</span>\n",
       "        <span style=\"color: #008000; text-decoration-color: #008000\">'Paris'</span>,\n",
       "        <span style=\"color: #008000; text-decoration-color: #008000\">'Marseille'</span>,\n",
       "        <span style=\"color: #008000; text-decoration-color: #008000\">'Lyon'</span>,\n",
       "        <span style=\"color: #008000; text-decoration-color: #008000\">'Toulouse'</span>,\n",
       "        <span style=\"color: #008000; text-decoration-color: #008000\">'Nice'</span>,\n",
       "        <span style=\"color: #008000; text-decoration-color: #008000\">'Nantes'</span>,\n",
       "        <span style=\"color: #008000; text-decoration-color: #008000\">'Strasbourg'</span>,\n",
       "        <span style=\"color: #008000; text-decoration-color: #008000\">'Montpellier'</span>,\n",
       "        <span style=\"color: #008000; text-decoration-color: #008000\">'Bordeaux'</span>,\n",
       "        <span style=\"color: #008000; text-decoration-color: #008000\">'Lille'</span>,\n",
       "        <span style=\"color: #008000; text-decoration-color: #008000\">'Rennes'</span>,\n",
       "        <span style=\"color: #008000; text-decoration-color: #008000\">'Reims'</span>,\n",
       "        <span style=\"color: #008000; text-decoration-color: #008000\">'Le Havre'</span>,\n",
       "        <span style=\"color: #008000; text-decoration-color: #008000\">'Saint-Étienne'</span>,\n",
       "        <span style=\"color: #008000; text-decoration-color: #008000\">'Toulon'</span>,\n",
       "        <span style=\"color: #008000; text-decoration-color: #008000\">'Grenoble'</span>,\n",
       "        <span style=\"color: #008000; text-decoration-color: #008000\">'Dijon'</span>,\n",
       "        <span style=\"color: #008000; text-decoration-color: #008000\">'Angers'</span>,\n",
       "        <span style=\"color: #008000; text-decoration-color: #008000\">'Nîmes'</span>,\n",
       "        <span style=\"color: #008000; text-decoration-color: #008000\">'Villeurbanne'</span>\n",
       "    <span style=\"font-weight: bold\">]</span>,\n",
       "    <span style=\"color: #008000; text-decoration-color: #008000\">'country'</span>: <span style=\"font-weight: bold\">[</span>\n",
       "        <span style=\"color: #008000; text-decoration-color: #008000\">'France'</span>,\n",
       "        <span style=\"color: #008000; text-decoration-color: #008000\">'France'</span>,\n",
       "        <span style=\"color: #008000; text-decoration-color: #008000\">'France'</span>,\n",
       "        <span style=\"color: #008000; text-decoration-color: #008000\">'France'</span>,\n",
       "        <span style=\"color: #008000; text-decoration-color: #008000\">'France'</span>,\n",
       "        <span style=\"color: #008000; text-decoration-color: #008000\">'France'</span>,\n",
       "        <span style=\"color: #008000; text-decoration-color: #008000\">'France'</span>,\n",
       "        <span style=\"color: #008000; text-decoration-color: #008000\">'France'</span>,\n",
       "        <span style=\"color: #008000; text-decoration-color: #008000\">'France'</span>,\n",
       "        <span style=\"color: #008000; text-decoration-color: #008000\">'France'</span>,\n",
       "        <span style=\"color: #008000; text-decoration-color: #008000\">'France'</span>,\n",
       "        <span style=\"color: #008000; text-decoration-color: #008000\">'France'</span>,\n",
       "        <span style=\"color: #008000; text-decoration-color: #008000\">'France'</span>,\n",
       "        <span style=\"color: #008000; text-decoration-color: #008000\">'France'</span>,\n",
       "        <span style=\"color: #008000; text-decoration-color: #008000\">'France'</span>,\n",
       "        <span style=\"color: #008000; text-decoration-color: #008000\">'France'</span>,\n",
       "        <span style=\"color: #008000; text-decoration-color: #008000\">'France'</span>,\n",
       "        <span style=\"color: #008000; text-decoration-color: #008000\">'France'</span>,\n",
       "        <span style=\"color: #008000; text-decoration-color: #008000\">'France'</span>,\n",
       "        <span style=\"color: #008000; text-decoration-color: #008000\">'France'</span>\n",
       "    <span style=\"font-weight: bold\">]</span>\n",
       "<span style=\"font-weight: bold\">}</span>\n",
       "</pre>\n"
      ],
      "text/plain": [
       "\u001b[1m{\u001b[0m\n",
       "    \u001b[32m'city'\u001b[0m: \u001b[1m[\u001b[0m\n",
       "        \u001b[32m'Paris'\u001b[0m,\n",
       "        \u001b[32m'Marseille'\u001b[0m,\n",
       "        \u001b[32m'Lyon'\u001b[0m,\n",
       "        \u001b[32m'Toulouse'\u001b[0m,\n",
       "        \u001b[32m'Nice'\u001b[0m,\n",
       "        \u001b[32m'Nantes'\u001b[0m,\n",
       "        \u001b[32m'Strasbourg'\u001b[0m,\n",
       "        \u001b[32m'Montpellier'\u001b[0m,\n",
       "        \u001b[32m'Bordeaux'\u001b[0m,\n",
       "        \u001b[32m'Lille'\u001b[0m,\n",
       "        \u001b[32m'Rennes'\u001b[0m,\n",
       "        \u001b[32m'Reims'\u001b[0m,\n",
       "        \u001b[32m'Le Havre'\u001b[0m,\n",
       "        \u001b[32m'Saint-Étienne'\u001b[0m,\n",
       "        \u001b[32m'Toulon'\u001b[0m,\n",
       "        \u001b[32m'Grenoble'\u001b[0m,\n",
       "        \u001b[32m'Dijon'\u001b[0m,\n",
       "        \u001b[32m'Angers'\u001b[0m,\n",
       "        \u001b[32m'Nîmes'\u001b[0m,\n",
       "        \u001b[32m'Villeurbanne'\u001b[0m\n",
       "    \u001b[1m]\u001b[0m,\n",
       "    \u001b[32m'country'\u001b[0m: \u001b[1m[\u001b[0m\n",
       "        \u001b[32m'France'\u001b[0m,\n",
       "        \u001b[32m'France'\u001b[0m,\n",
       "        \u001b[32m'France'\u001b[0m,\n",
       "        \u001b[32m'France'\u001b[0m,\n",
       "        \u001b[32m'France'\u001b[0m,\n",
       "        \u001b[32m'France'\u001b[0m,\n",
       "        \u001b[32m'France'\u001b[0m,\n",
       "        \u001b[32m'France'\u001b[0m,\n",
       "        \u001b[32m'France'\u001b[0m,\n",
       "        \u001b[32m'France'\u001b[0m,\n",
       "        \u001b[32m'France'\u001b[0m,\n",
       "        \u001b[32m'France'\u001b[0m,\n",
       "        \u001b[32m'France'\u001b[0m,\n",
       "        \u001b[32m'France'\u001b[0m,\n",
       "        \u001b[32m'France'\u001b[0m,\n",
       "        \u001b[32m'France'\u001b[0m,\n",
       "        \u001b[32m'France'\u001b[0m,\n",
       "        \u001b[32m'France'\u001b[0m,\n",
       "        \u001b[32m'France'\u001b[0m,\n",
       "        \u001b[32m'France'\u001b[0m\n",
       "    \u001b[1m]\u001b[0m\n",
       "\u001b[1m}\u001b[0m\n"
      ]
     },
     "metadata": {},
     "output_type": "display_data"
    },
    {
     "data": {
      "text/html": [
       "<pre style=\"white-space:pre;overflow-x:auto;line-height:normal;font-family:Menlo,'DejaVu Sans Mono',consolas,'Courier New',monospace\"><span style=\"font-weight: bold\">{</span>\n",
       "    <span style=\"color: #008000; text-decoration-color: #008000\">'city'</span>: <span style=\"font-weight: bold\">[</span>\n",
       "        <span style=\"color: #008000; text-decoration-color: #008000\">'Paris'</span>,\n",
       "        <span style=\"color: #008000; text-decoration-color: #008000\">'Marseille'</span>,\n",
       "        <span style=\"color: #008000; text-decoration-color: #008000\">'Lyon'</span>,\n",
       "        <span style=\"color: #008000; text-decoration-color: #008000\">'Toulouse'</span>,\n",
       "        <span style=\"color: #008000; text-decoration-color: #008000\">'Nice'</span>,\n",
       "        <span style=\"color: #008000; text-decoration-color: #008000\">'Nantes'</span>,\n",
       "        <span style=\"color: #008000; text-decoration-color: #008000\">'Strasbourg'</span>,\n",
       "        <span style=\"color: #008000; text-decoration-color: #008000\">'Montpellier'</span>,\n",
       "        <span style=\"color: #008000; text-decoration-color: #008000\">'Bordeaux'</span>,\n",
       "        <span style=\"color: #008000; text-decoration-color: #008000\">'Lille'</span>,\n",
       "        <span style=\"color: #008000; text-decoration-color: #008000\">'Rennes'</span>,\n",
       "        <span style=\"color: #008000; text-decoration-color: #008000\">'Reims'</span>,\n",
       "        <span style=\"color: #008000; text-decoration-color: #008000\">'Le Havre'</span>,\n",
       "        <span style=\"color: #008000; text-decoration-color: #008000\">'Saint-Étienne'</span>,\n",
       "        <span style=\"color: #008000; text-decoration-color: #008000\">'Toulon'</span>,\n",
       "        <span style=\"color: #008000; text-decoration-color: #008000\">'Grenoble'</span>,\n",
       "        <span style=\"color: #008000; text-decoration-color: #008000\">'Dijon'</span>,\n",
       "        <span style=\"color: #008000; text-decoration-color: #008000\">'Angers'</span>,\n",
       "        <span style=\"color: #008000; text-decoration-color: #008000\">'Nîmes'</span>,\n",
       "        <span style=\"color: #008000; text-decoration-color: #008000\">'Villeurbanne'</span>\n",
       "    <span style=\"font-weight: bold\">]</span>,\n",
       "    <span style=\"color: #008000; text-decoration-color: #008000\">'country'</span>: <span style=\"font-weight: bold\">[</span>\n",
       "        <span style=\"color: #008000; text-decoration-color: #008000\">'France'</span>,\n",
       "        <span style=\"color: #008000; text-decoration-color: #008000\">'France'</span>,\n",
       "        <span style=\"color: #008000; text-decoration-color: #008000\">'France'</span>,\n",
       "        <span style=\"color: #008000; text-decoration-color: #008000\">'France'</span>,\n",
       "        <span style=\"color: #008000; text-decoration-color: #008000\">'France'</span>,\n",
       "        <span style=\"color: #008000; text-decoration-color: #008000\">'France'</span>,\n",
       "        <span style=\"color: #008000; text-decoration-color: #008000\">'France'</span>,\n",
       "        <span style=\"color: #008000; text-decoration-color: #008000\">'France'</span>,\n",
       "        <span style=\"color: #008000; text-decoration-color: #008000\">'France'</span>,\n",
       "        <span style=\"color: #008000; text-decoration-color: #008000\">'France'</span>,\n",
       "        <span style=\"color: #008000; text-decoration-color: #008000\">'France'</span>,\n",
       "        <span style=\"color: #008000; text-decoration-color: #008000\">'France'</span>,\n",
       "        <span style=\"color: #008000; text-decoration-color: #008000\">'France'</span>,\n",
       "        <span style=\"color: #008000; text-decoration-color: #008000\">'France'</span>,\n",
       "        <span style=\"color: #008000; text-decoration-color: #008000\">'France'</span>,\n",
       "        <span style=\"color: #008000; text-decoration-color: #008000\">'France'</span>,\n",
       "        <span style=\"color: #008000; text-decoration-color: #008000\">'France'</span>,\n",
       "        <span style=\"color: #008000; text-decoration-color: #008000\">'France'</span>,\n",
       "        <span style=\"color: #008000; text-decoration-color: #008000\">'France'</span>,\n",
       "        <span style=\"color: #008000; text-decoration-color: #008000\">'France'</span>\n",
       "    <span style=\"font-weight: bold\">]</span>\n",
       "<span style=\"font-weight: bold\">}</span>\n",
       "</pre>\n"
      ],
      "text/plain": [
       "\u001b[1m{\u001b[0m\n",
       "    \u001b[32m'city'\u001b[0m: \u001b[1m[\u001b[0m\n",
       "        \u001b[32m'Paris'\u001b[0m,\n",
       "        \u001b[32m'Marseille'\u001b[0m,\n",
       "        \u001b[32m'Lyon'\u001b[0m,\n",
       "        \u001b[32m'Toulouse'\u001b[0m,\n",
       "        \u001b[32m'Nice'\u001b[0m,\n",
       "        \u001b[32m'Nantes'\u001b[0m,\n",
       "        \u001b[32m'Strasbourg'\u001b[0m,\n",
       "        \u001b[32m'Montpellier'\u001b[0m,\n",
       "        \u001b[32m'Bordeaux'\u001b[0m,\n",
       "        \u001b[32m'Lille'\u001b[0m,\n",
       "        \u001b[32m'Rennes'\u001b[0m,\n",
       "        \u001b[32m'Reims'\u001b[0m,\n",
       "        \u001b[32m'Le Havre'\u001b[0m,\n",
       "        \u001b[32m'Saint-Étienne'\u001b[0m,\n",
       "        \u001b[32m'Toulon'\u001b[0m,\n",
       "        \u001b[32m'Grenoble'\u001b[0m,\n",
       "        \u001b[32m'Dijon'\u001b[0m,\n",
       "        \u001b[32m'Angers'\u001b[0m,\n",
       "        \u001b[32m'Nîmes'\u001b[0m,\n",
       "        \u001b[32m'Villeurbanne'\u001b[0m\n",
       "    \u001b[1m]\u001b[0m,\n",
       "    \u001b[32m'country'\u001b[0m: \u001b[1m[\u001b[0m\n",
       "        \u001b[32m'France'\u001b[0m,\n",
       "        \u001b[32m'France'\u001b[0m,\n",
       "        \u001b[32m'France'\u001b[0m,\n",
       "        \u001b[32m'France'\u001b[0m,\n",
       "        \u001b[32m'France'\u001b[0m,\n",
       "        \u001b[32m'France'\u001b[0m,\n",
       "        \u001b[32m'France'\u001b[0m,\n",
       "        \u001b[32m'France'\u001b[0m,\n",
       "        \u001b[32m'France'\u001b[0m,\n",
       "        \u001b[32m'France'\u001b[0m,\n",
       "        \u001b[32m'France'\u001b[0m,\n",
       "        \u001b[32m'France'\u001b[0m,\n",
       "        \u001b[32m'France'\u001b[0m,\n",
       "        \u001b[32m'France'\u001b[0m,\n",
       "        \u001b[32m'France'\u001b[0m,\n",
       "        \u001b[32m'France'\u001b[0m,\n",
       "        \u001b[32m'France'\u001b[0m,\n",
       "        \u001b[32m'France'\u001b[0m,\n",
       "        \u001b[32m'France'\u001b[0m,\n",
       "        \u001b[32m'France'\u001b[0m\n",
       "    \u001b[1m]\u001b[0m\n",
       "\u001b[1m}\u001b[0m\n"
      ]
     },
     "metadata": {},
     "output_type": "display_data"
    }
   ],
   "source": [
    "from typing_extensions import TypedDict\n",
    "\n",
    "\n",
    "class CityLocation(TypedDict, total=False):\n",
    "    city: list[str] \n",
    "    country: list[str]\n",
    "     \n",
    "model = MistralModel(\n",
    "    model_name='mistral-large-latest', \n",
    "    api_key=os.environ.get('MISTRAL_API_KEY')\n",
    ")\n",
    "agent = Agent(model,result_type=CityLocation)\n",
    "async with agent.run_stream('Could you give a 20 random city? in france') as result:\n",
    "    async for profile in result.stream():\n",
    "        print(profile)\n"
   ]
  },
  {
   "cell_type": "code",
   "execution_count": 16,
   "metadata": {},
   "outputs": [
    {
     "name": "stdout",
     "output_type": "stream",
     "text": [
      "21:16:05.880 agent run stream prompt=Could you give a 20 random city? in france\n",
      "21:16:05.881   preparing model and tools run_step=1\n",
      "21:16:05.881   model request run_step=1\n",
      "21:16:06.057   handle model response\n",
      "21:16:06.163     response stream structured\n"
     ]
    },
    {
     "data": {
      "text/html": [
       "<pre style=\"white-space:pre;overflow-x:auto;line-height:normal;font-family:Menlo,'DejaVu Sans Mono',consolas,'Courier New',monospace\"><span style=\"color: #800080; text-decoration-color: #800080; font-weight: bold\">CityLocation</span><span style=\"font-weight: bold\">(</span><span style=\"color: #808000; text-decoration-color: #808000\">city</span>=<span style=\"font-weight: bold\">[</span><span style=\"color: #008000; text-decoration-color: #008000\">'L'</span><span style=\"font-weight: bold\">]</span>, <span style=\"color: #808000; text-decoration-color: #808000\">country</span>=<span style=\"font-weight: bold\">[])</span>\n",
       "</pre>\n"
      ],
      "text/plain": [
       "\u001b[1;35mCityLocation\u001b[0m\u001b[1m(\u001b[0m\u001b[33mcity\u001b[0m=\u001b[1m[\u001b[0m\u001b[32m'L'\u001b[0m\u001b[1m]\u001b[0m, \u001b[33mcountry\u001b[0m=\u001b[1m[\u001b[0m\u001b[1m]\u001b[0m\u001b[1m)\u001b[0m\n"
      ]
     },
     "metadata": {},
     "output_type": "display_data"
    },
    {
     "data": {
      "text/html": [
       "<pre style=\"white-space:pre;overflow-x:auto;line-height:normal;font-family:Menlo,'DejaVu Sans Mono',consolas,'Courier New',monospace\"><span style=\"color: #800080; text-decoration-color: #800080; font-weight: bold\">CityLocation</span><span style=\"font-weight: bold\">(</span><span style=\"color: #808000; text-decoration-color: #808000\">city</span>=<span style=\"font-weight: bold\">[</span><span style=\"color: #008000; text-decoration-color: #008000\">'Lille'</span>, <span style=\"color: #008000; text-decoration-color: #008000\">'L'</span><span style=\"font-weight: bold\">]</span>, <span style=\"color: #808000; text-decoration-color: #808000\">country</span>=<span style=\"font-weight: bold\">[])</span>\n",
       "</pre>\n"
      ],
      "text/plain": [
       "\u001b[1;35mCityLocation\u001b[0m\u001b[1m(\u001b[0m\u001b[33mcity\u001b[0m=\u001b[1m[\u001b[0m\u001b[32m'Lille'\u001b[0m, \u001b[32m'L'\u001b[0m\u001b[1m]\u001b[0m, \u001b[33mcountry\u001b[0m=\u001b[1m[\u001b[0m\u001b[1m]\u001b[0m\u001b[1m)\u001b[0m\n"
      ]
     },
     "metadata": {},
     "output_type": "display_data"
    },
    {
     "data": {
      "text/html": [
       "<pre style=\"white-space:pre;overflow-x:auto;line-height:normal;font-family:Menlo,'DejaVu Sans Mono',consolas,'Courier New',monospace\"><span style=\"color: #800080; text-decoration-color: #800080; font-weight: bold\">CityLocation</span><span style=\"font-weight: bold\">(</span><span style=\"color: #808000; text-decoration-color: #808000\">city</span>=<span style=\"font-weight: bold\">[</span><span style=\"color: #008000; text-decoration-color: #008000\">'Lille'</span>, <span style=\"color: #008000; text-decoration-color: #008000\">'Lyon'</span>, <span style=\"color: #008000; text-decoration-color: #008000\">'Mar'</span><span style=\"font-weight: bold\">]</span>, <span style=\"color: #808000; text-decoration-color: #808000\">country</span>=<span style=\"font-weight: bold\">[])</span>\n",
       "</pre>\n"
      ],
      "text/plain": [
       "\u001b[1;35mCityLocation\u001b[0m\u001b[1m(\u001b[0m\u001b[33mcity\u001b[0m=\u001b[1m[\u001b[0m\u001b[32m'Lille'\u001b[0m, \u001b[32m'Lyon'\u001b[0m, \u001b[32m'Mar'\u001b[0m\u001b[1m]\u001b[0m, \u001b[33mcountry\u001b[0m=\u001b[1m[\u001b[0m\u001b[1m]\u001b[0m\u001b[1m)\u001b[0m\n"
      ]
     },
     "metadata": {},
     "output_type": "display_data"
    },
    {
     "data": {
      "text/html": [
       "<pre style=\"white-space:pre;overflow-x:auto;line-height:normal;font-family:Menlo,'DejaVu Sans Mono',consolas,'Courier New',monospace\"><span style=\"color: #800080; text-decoration-color: #800080; font-weight: bold\">CityLocation</span><span style=\"font-weight: bold\">(</span><span style=\"color: #808000; text-decoration-color: #808000\">city</span>=<span style=\"font-weight: bold\">[</span><span style=\"color: #008000; text-decoration-color: #008000\">'Lille'</span>, <span style=\"color: #008000; text-decoration-color: #008000\">'Lyon'</span>, <span style=\"color: #008000; text-decoration-color: #008000\">'Marseille'</span>, <span style=\"color: #008000; text-decoration-color: #008000\">'T'</span><span style=\"font-weight: bold\">]</span>, <span style=\"color: #808000; text-decoration-color: #808000\">country</span>=<span style=\"font-weight: bold\">[])</span>\n",
       "</pre>\n"
      ],
      "text/plain": [
       "\u001b[1;35mCityLocation\u001b[0m\u001b[1m(\u001b[0m\u001b[33mcity\u001b[0m=\u001b[1m[\u001b[0m\u001b[32m'Lille'\u001b[0m, \u001b[32m'Lyon'\u001b[0m, \u001b[32m'Marseille'\u001b[0m, \u001b[32m'T'\u001b[0m\u001b[1m]\u001b[0m, \u001b[33mcountry\u001b[0m=\u001b[1m[\u001b[0m\u001b[1m]\u001b[0m\u001b[1m)\u001b[0m\n"
      ]
     },
     "metadata": {},
     "output_type": "display_data"
    },
    {
     "data": {
      "text/html": [
       "<pre style=\"white-space:pre;overflow-x:auto;line-height:normal;font-family:Menlo,'DejaVu Sans Mono',consolas,'Courier New',monospace\"><span style=\"color: #800080; text-decoration-color: #800080; font-weight: bold\">CityLocation</span><span style=\"font-weight: bold\">(</span><span style=\"color: #808000; text-decoration-color: #808000\">city</span>=<span style=\"font-weight: bold\">[</span><span style=\"color: #008000; text-decoration-color: #008000\">'Lille'</span>, <span style=\"color: #008000; text-decoration-color: #008000\">'Lyon'</span>, <span style=\"color: #008000; text-decoration-color: #008000\">'Marseille'</span>, <span style=\"color: #008000; text-decoration-color: #008000\">'Toulouse'</span>, <span style=\"color: #008000; text-decoration-color: #008000\">'N'</span><span style=\"font-weight: bold\">]</span>, <span style=\"color: #808000; text-decoration-color: #808000\">country</span>=<span style=\"font-weight: bold\">[])</span>\n",
       "</pre>\n"
      ],
      "text/plain": [
       "\u001b[1;35mCityLocation\u001b[0m\u001b[1m(\u001b[0m\u001b[33mcity\u001b[0m=\u001b[1m[\u001b[0m\u001b[32m'Lille'\u001b[0m, \u001b[32m'Lyon'\u001b[0m, \u001b[32m'Marseille'\u001b[0m, \u001b[32m'Toulouse'\u001b[0m, \u001b[32m'N'\u001b[0m\u001b[1m]\u001b[0m, \u001b[33mcountry\u001b[0m=\u001b[1m[\u001b[0m\u001b[1m]\u001b[0m\u001b[1m)\u001b[0m\n"
      ]
     },
     "metadata": {},
     "output_type": "display_data"
    },
    {
     "data": {
      "text/html": [
       "<pre style=\"white-space:pre;overflow-x:auto;line-height:normal;font-family:Menlo,'DejaVu Sans Mono',consolas,'Courier New',monospace\"><span style=\"color: #800080; text-decoration-color: #800080; font-weight: bold\">CityLocation</span><span style=\"font-weight: bold\">(</span><span style=\"color: #808000; text-decoration-color: #808000\">city</span>=<span style=\"font-weight: bold\">[</span><span style=\"color: #008000; text-decoration-color: #008000\">'Lille'</span>, <span style=\"color: #008000; text-decoration-color: #008000\">'Lyon'</span>, <span style=\"color: #008000; text-decoration-color: #008000\">'Marseille'</span>, <span style=\"color: #008000; text-decoration-color: #008000\">'Toulouse'</span>, <span style=\"color: #008000; text-decoration-color: #008000\">'Nantes'</span>, <span style=\"color: #008000; text-decoration-color: #008000\">'N'</span><span style=\"font-weight: bold\">]</span>, <span style=\"color: #808000; text-decoration-color: #808000\">country</span>=<span style=\"font-weight: bold\">[])</span>\n",
       "</pre>\n"
      ],
      "text/plain": [
       "\u001b[1;35mCityLocation\u001b[0m\u001b[1m(\u001b[0m\u001b[33mcity\u001b[0m=\u001b[1m[\u001b[0m\u001b[32m'Lille'\u001b[0m, \u001b[32m'Lyon'\u001b[0m, \u001b[32m'Marseille'\u001b[0m, \u001b[32m'Toulouse'\u001b[0m, \u001b[32m'Nantes'\u001b[0m, \u001b[32m'N'\u001b[0m\u001b[1m]\u001b[0m, \u001b[33mcountry\u001b[0m=\u001b[1m[\u001b[0m\u001b[1m]\u001b[0m\u001b[1m)\u001b[0m\n"
      ]
     },
     "metadata": {},
     "output_type": "display_data"
    },
    {
     "data": {
      "text/html": [
       "<pre style=\"white-space:pre;overflow-x:auto;line-height:normal;font-family:Menlo,'DejaVu Sans Mono',consolas,'Courier New',monospace\"><span style=\"color: #800080; text-decoration-color: #800080; font-weight: bold\">CityLocation</span><span style=\"font-weight: bold\">(</span><span style=\"color: #808000; text-decoration-color: #808000\">city</span>=<span style=\"font-weight: bold\">[</span><span style=\"color: #008000; text-decoration-color: #008000\">'Lille'</span>, <span style=\"color: #008000; text-decoration-color: #008000\">'Lyon'</span>, <span style=\"color: #008000; text-decoration-color: #008000\">'Marseille'</span>, <span style=\"color: #008000; text-decoration-color: #008000\">'Toulouse'</span>, <span style=\"color: #008000; text-decoration-color: #008000\">'Nantes'</span>, <span style=\"color: #008000; text-decoration-color: #008000\">'Nice'</span>, <span style=\"color: #008000; text-decoration-color: #008000\">'Str'</span><span style=\"font-weight: bold\">]</span>, <span style=\"color: #808000; text-decoration-color: #808000\">country</span>=<span style=\"font-weight: bold\">[])</span>\n",
       "</pre>\n"
      ],
      "text/plain": [
       "\u001b[1;35mCityLocation\u001b[0m\u001b[1m(\u001b[0m\u001b[33mcity\u001b[0m=\u001b[1m[\u001b[0m\u001b[32m'Lille'\u001b[0m, \u001b[32m'Lyon'\u001b[0m, \u001b[32m'Marseille'\u001b[0m, \u001b[32m'Toulouse'\u001b[0m, \u001b[32m'Nantes'\u001b[0m, \u001b[32m'Nice'\u001b[0m, \u001b[32m'Str'\u001b[0m\u001b[1m]\u001b[0m, \u001b[33mcountry\u001b[0m=\u001b[1m[\u001b[0m\u001b[1m]\u001b[0m\u001b[1m)\u001b[0m\n"
      ]
     },
     "metadata": {},
     "output_type": "display_data"
    },
    {
     "data": {
      "text/html": [
       "<pre style=\"white-space:pre;overflow-x:auto;line-height:normal;font-family:Menlo,'DejaVu Sans Mono',consolas,'Courier New',monospace\"><span style=\"color: #800080; text-decoration-color: #800080; font-weight: bold\">CityLocation</span><span style=\"font-weight: bold\">(</span><span style=\"color: #808000; text-decoration-color: #808000\">city</span>=<span style=\"font-weight: bold\">[</span><span style=\"color: #008000; text-decoration-color: #008000\">'Lille'</span>, <span style=\"color: #008000; text-decoration-color: #008000\">'Lyon'</span>, <span style=\"color: #008000; text-decoration-color: #008000\">'Marseille'</span>, <span style=\"color: #008000; text-decoration-color: #008000\">'Toulouse'</span>, <span style=\"color: #008000; text-decoration-color: #008000\">'Nantes'</span>, <span style=\"color: #008000; text-decoration-color: #008000\">'Nice'</span>, <span style=\"color: #008000; text-decoration-color: #008000\">'Strasbourg'</span>, <span style=\"color: #008000; text-decoration-color: #008000\">'Rennes'</span><span style=\"font-weight: bold\">]</span>, <span style=\"color: #808000; text-decoration-color: #808000\">country</span>=<span style=\"font-weight: bold\">[])</span>\n",
       "</pre>\n"
      ],
      "text/plain": [
       "\u001b[1;35mCityLocation\u001b[0m\u001b[1m(\u001b[0m\u001b[33mcity\u001b[0m=\u001b[1m[\u001b[0m\u001b[32m'Lille'\u001b[0m, \u001b[32m'Lyon'\u001b[0m, \u001b[32m'Marseille'\u001b[0m, \u001b[32m'Toulouse'\u001b[0m, \u001b[32m'Nantes'\u001b[0m, \u001b[32m'Nice'\u001b[0m, \u001b[32m'Strasbourg'\u001b[0m, \u001b[32m'Rennes'\u001b[0m\u001b[1m]\u001b[0m, \u001b[33mcountry\u001b[0m=\u001b[1m[\u001b[0m\u001b[1m]\u001b[0m\u001b[1m)\u001b[0m\n"
      ]
     },
     "metadata": {},
     "output_type": "display_data"
    },
    {
     "data": {
      "text/html": [
       "<pre style=\"white-space:pre;overflow-x:auto;line-height:normal;font-family:Menlo,'DejaVu Sans Mono',consolas,'Courier New',monospace\"><span style=\"color: #800080; text-decoration-color: #800080; font-weight: bold\">CityLocation</span><span style=\"font-weight: bold\">(</span>\n",
       "    <span style=\"color: #808000; text-decoration-color: #808000\">city</span>=<span style=\"font-weight: bold\">[</span><span style=\"color: #008000; text-decoration-color: #008000\">'Lille'</span>, <span style=\"color: #008000; text-decoration-color: #008000\">'Lyon'</span>, <span style=\"color: #008000; text-decoration-color: #008000\">'Marseille'</span>, <span style=\"color: #008000; text-decoration-color: #008000\">'Toulouse'</span>, <span style=\"color: #008000; text-decoration-color: #008000\">'Nantes'</span>, <span style=\"color: #008000; text-decoration-color: #008000\">'Nice'</span>, <span style=\"color: #008000; text-decoration-color: #008000\">'Strasbourg'</span>, <span style=\"color: #008000; text-decoration-color: #008000\">'Rennes'</span>, <span style=\"color: #008000; text-decoration-color: #008000\">'Grenoble'</span><span style=\"font-weight: bold\">]</span>,\n",
       "    <span style=\"color: #808000; text-decoration-color: #808000\">country</span>=<span style=\"font-weight: bold\">[]</span>\n",
       "<span style=\"font-weight: bold\">)</span>\n",
       "</pre>\n"
      ],
      "text/plain": [
       "\u001b[1;35mCityLocation\u001b[0m\u001b[1m(\u001b[0m\n",
       "    \u001b[33mcity\u001b[0m=\u001b[1m[\u001b[0m\u001b[32m'Lille'\u001b[0m, \u001b[32m'Lyon'\u001b[0m, \u001b[32m'Marseille'\u001b[0m, \u001b[32m'Toulouse'\u001b[0m, \u001b[32m'Nantes'\u001b[0m, \u001b[32m'Nice'\u001b[0m, \u001b[32m'Strasbourg'\u001b[0m, \u001b[32m'Rennes'\u001b[0m, \u001b[32m'Grenoble'\u001b[0m\u001b[1m]\u001b[0m,\n",
       "    \u001b[33mcountry\u001b[0m=\u001b[1m[\u001b[0m\u001b[1m]\u001b[0m\n",
       "\u001b[1m)\u001b[0m\n"
      ]
     },
     "metadata": {},
     "output_type": "display_data"
    },
    {
     "data": {
      "text/html": [
       "<pre style=\"white-space:pre;overflow-x:auto;line-height:normal;font-family:Menlo,'DejaVu Sans Mono',consolas,'Courier New',monospace\"><span style=\"color: #800080; text-decoration-color: #800080; font-weight: bold\">CityLocation</span><span style=\"font-weight: bold\">(</span>\n",
       "    <span style=\"color: #808000; text-decoration-color: #808000\">city</span>=<span style=\"font-weight: bold\">[</span>\n",
       "        <span style=\"color: #008000; text-decoration-color: #008000\">'Lille'</span>,\n",
       "        <span style=\"color: #008000; text-decoration-color: #008000\">'Lyon'</span>,\n",
       "        <span style=\"color: #008000; text-decoration-color: #008000\">'Marseille'</span>,\n",
       "        <span style=\"color: #008000; text-decoration-color: #008000\">'Toulouse'</span>,\n",
       "        <span style=\"color: #008000; text-decoration-color: #008000\">'Nantes'</span>,\n",
       "        <span style=\"color: #008000; text-decoration-color: #008000\">'Nice'</span>,\n",
       "        <span style=\"color: #008000; text-decoration-color: #008000\">'Strasbourg'</span>,\n",
       "        <span style=\"color: #008000; text-decoration-color: #008000\">'Rennes'</span>,\n",
       "        <span style=\"color: #008000; text-decoration-color: #008000\">'Grenoble'</span>,\n",
       "        <span style=\"color: #008000; text-decoration-color: #008000\">'Rouen'</span>,\n",
       "        <span style=\"color: #008000; text-decoration-color: #008000\">''</span>\n",
       "    <span style=\"font-weight: bold\">]</span>,\n",
       "    <span style=\"color: #808000; text-decoration-color: #808000\">country</span>=<span style=\"font-weight: bold\">[]</span>\n",
       "<span style=\"font-weight: bold\">)</span>\n",
       "</pre>\n"
      ],
      "text/plain": [
       "\u001b[1;35mCityLocation\u001b[0m\u001b[1m(\u001b[0m\n",
       "    \u001b[33mcity\u001b[0m=\u001b[1m[\u001b[0m\n",
       "        \u001b[32m'Lille'\u001b[0m,\n",
       "        \u001b[32m'Lyon'\u001b[0m,\n",
       "        \u001b[32m'Marseille'\u001b[0m,\n",
       "        \u001b[32m'Toulouse'\u001b[0m,\n",
       "        \u001b[32m'Nantes'\u001b[0m,\n",
       "        \u001b[32m'Nice'\u001b[0m,\n",
       "        \u001b[32m'Strasbourg'\u001b[0m,\n",
       "        \u001b[32m'Rennes'\u001b[0m,\n",
       "        \u001b[32m'Grenoble'\u001b[0m,\n",
       "        \u001b[32m'Rouen'\u001b[0m,\n",
       "        \u001b[32m''\u001b[0m\n",
       "    \u001b[1m]\u001b[0m,\n",
       "    \u001b[33mcountry\u001b[0m=\u001b[1m[\u001b[0m\u001b[1m]\u001b[0m\n",
       "\u001b[1m)\u001b[0m\n"
      ]
     },
     "metadata": {},
     "output_type": "display_data"
    },
    {
     "data": {
      "text/html": [
       "<pre style=\"white-space:pre;overflow-x:auto;line-height:normal;font-family:Menlo,'DejaVu Sans Mono',consolas,'Courier New',monospace\"><span style=\"color: #800080; text-decoration-color: #800080; font-weight: bold\">CityLocation</span><span style=\"font-weight: bold\">(</span>\n",
       "    <span style=\"color: #808000; text-decoration-color: #808000\">city</span>=<span style=\"font-weight: bold\">[</span>\n",
       "        <span style=\"color: #008000; text-decoration-color: #008000\">'Lille'</span>,\n",
       "        <span style=\"color: #008000; text-decoration-color: #008000\">'Lyon'</span>,\n",
       "        <span style=\"color: #008000; text-decoration-color: #008000\">'Marseille'</span>,\n",
       "        <span style=\"color: #008000; text-decoration-color: #008000\">'Toulouse'</span>,\n",
       "        <span style=\"color: #008000; text-decoration-color: #008000\">'Nantes'</span>,\n",
       "        <span style=\"color: #008000; text-decoration-color: #008000\">'Nice'</span>,\n",
       "        <span style=\"color: #008000; text-decoration-color: #008000\">'Strasbourg'</span>,\n",
       "        <span style=\"color: #008000; text-decoration-color: #008000\">'Rennes'</span>,\n",
       "        <span style=\"color: #008000; text-decoration-color: #008000\">'Grenoble'</span>,\n",
       "        <span style=\"color: #008000; text-decoration-color: #008000\">'Rouen'</span>,\n",
       "        <span style=\"color: #008000; text-decoration-color: #008000\">'Tours'</span>,\n",
       "        <span style=\"color: #008000; text-decoration-color: #008000\">''</span>\n",
       "    <span style=\"font-weight: bold\">]</span>,\n",
       "    <span style=\"color: #808000; text-decoration-color: #808000\">country</span>=<span style=\"font-weight: bold\">[]</span>\n",
       "<span style=\"font-weight: bold\">)</span>\n",
       "</pre>\n"
      ],
      "text/plain": [
       "\u001b[1;35mCityLocation\u001b[0m\u001b[1m(\u001b[0m\n",
       "    \u001b[33mcity\u001b[0m=\u001b[1m[\u001b[0m\n",
       "        \u001b[32m'Lille'\u001b[0m,\n",
       "        \u001b[32m'Lyon'\u001b[0m,\n",
       "        \u001b[32m'Marseille'\u001b[0m,\n",
       "        \u001b[32m'Toulouse'\u001b[0m,\n",
       "        \u001b[32m'Nantes'\u001b[0m,\n",
       "        \u001b[32m'Nice'\u001b[0m,\n",
       "        \u001b[32m'Strasbourg'\u001b[0m,\n",
       "        \u001b[32m'Rennes'\u001b[0m,\n",
       "        \u001b[32m'Grenoble'\u001b[0m,\n",
       "        \u001b[32m'Rouen'\u001b[0m,\n",
       "        \u001b[32m'Tours'\u001b[0m,\n",
       "        \u001b[32m''\u001b[0m\n",
       "    \u001b[1m]\u001b[0m,\n",
       "    \u001b[33mcountry\u001b[0m=\u001b[1m[\u001b[0m\u001b[1m]\u001b[0m\n",
       "\u001b[1m)\u001b[0m\n"
      ]
     },
     "metadata": {},
     "output_type": "display_data"
    },
    {
     "data": {
      "text/html": [
       "<pre style=\"white-space:pre;overflow-x:auto;line-height:normal;font-family:Menlo,'DejaVu Sans Mono',consolas,'Courier New',monospace\"><span style=\"color: #800080; text-decoration-color: #800080; font-weight: bold\">CityLocation</span><span style=\"font-weight: bold\">(</span>\n",
       "    <span style=\"color: #808000; text-decoration-color: #808000\">city</span>=<span style=\"font-weight: bold\">[</span>\n",
       "        <span style=\"color: #008000; text-decoration-color: #008000\">'Lille'</span>,\n",
       "        <span style=\"color: #008000; text-decoration-color: #008000\">'Lyon'</span>,\n",
       "        <span style=\"color: #008000; text-decoration-color: #008000\">'Marseille'</span>,\n",
       "        <span style=\"color: #008000; text-decoration-color: #008000\">'Toulouse'</span>,\n",
       "        <span style=\"color: #008000; text-decoration-color: #008000\">'Nantes'</span>,\n",
       "        <span style=\"color: #008000; text-decoration-color: #008000\">'Nice'</span>,\n",
       "        <span style=\"color: #008000; text-decoration-color: #008000\">'Strasbourg'</span>,\n",
       "        <span style=\"color: #008000; text-decoration-color: #008000\">'Rennes'</span>,\n",
       "        <span style=\"color: #008000; text-decoration-color: #008000\">'Grenoble'</span>,\n",
       "        <span style=\"color: #008000; text-decoration-color: #008000\">'Rouen'</span>,\n",
       "        <span style=\"color: #008000; text-decoration-color: #008000\">'Tours'</span>,\n",
       "        <span style=\"color: #008000; text-decoration-color: #008000\">'Montpellier'</span>,\n",
       "        <span style=\"color: #008000; text-decoration-color: #008000\">''</span>\n",
       "    <span style=\"font-weight: bold\">]</span>,\n",
       "    <span style=\"color: #808000; text-decoration-color: #808000\">country</span>=<span style=\"font-weight: bold\">[]</span>\n",
       "<span style=\"font-weight: bold\">)</span>\n",
       "</pre>\n"
      ],
      "text/plain": [
       "\u001b[1;35mCityLocation\u001b[0m\u001b[1m(\u001b[0m\n",
       "    \u001b[33mcity\u001b[0m=\u001b[1m[\u001b[0m\n",
       "        \u001b[32m'Lille'\u001b[0m,\n",
       "        \u001b[32m'Lyon'\u001b[0m,\n",
       "        \u001b[32m'Marseille'\u001b[0m,\n",
       "        \u001b[32m'Toulouse'\u001b[0m,\n",
       "        \u001b[32m'Nantes'\u001b[0m,\n",
       "        \u001b[32m'Nice'\u001b[0m,\n",
       "        \u001b[32m'Strasbourg'\u001b[0m,\n",
       "        \u001b[32m'Rennes'\u001b[0m,\n",
       "        \u001b[32m'Grenoble'\u001b[0m,\n",
       "        \u001b[32m'Rouen'\u001b[0m,\n",
       "        \u001b[32m'Tours'\u001b[0m,\n",
       "        \u001b[32m'Montpellier'\u001b[0m,\n",
       "        \u001b[32m''\u001b[0m\n",
       "    \u001b[1m]\u001b[0m,\n",
       "    \u001b[33mcountry\u001b[0m=\u001b[1m[\u001b[0m\u001b[1m]\u001b[0m\n",
       "\u001b[1m)\u001b[0m\n"
      ]
     },
     "metadata": {},
     "output_type": "display_data"
    },
    {
     "data": {
      "text/html": [
       "<pre style=\"white-space:pre;overflow-x:auto;line-height:normal;font-family:Menlo,'DejaVu Sans Mono',consolas,'Courier New',monospace\"><span style=\"color: #800080; text-decoration-color: #800080; font-weight: bold\">CityLocation</span><span style=\"font-weight: bold\">(</span>\n",
       "    <span style=\"color: #808000; text-decoration-color: #808000\">city</span>=<span style=\"font-weight: bold\">[</span>\n",
       "        <span style=\"color: #008000; text-decoration-color: #008000\">'Lille'</span>,\n",
       "        <span style=\"color: #008000; text-decoration-color: #008000\">'Lyon'</span>,\n",
       "        <span style=\"color: #008000; text-decoration-color: #008000\">'Marseille'</span>,\n",
       "        <span style=\"color: #008000; text-decoration-color: #008000\">'Toulouse'</span>,\n",
       "        <span style=\"color: #008000; text-decoration-color: #008000\">'Nantes'</span>,\n",
       "        <span style=\"color: #008000; text-decoration-color: #008000\">'Nice'</span>,\n",
       "        <span style=\"color: #008000; text-decoration-color: #008000\">'Strasbourg'</span>,\n",
       "        <span style=\"color: #008000; text-decoration-color: #008000\">'Rennes'</span>,\n",
       "        <span style=\"color: #008000; text-decoration-color: #008000\">'Grenoble'</span>,\n",
       "        <span style=\"color: #008000; text-decoration-color: #008000\">'Rouen'</span>,\n",
       "        <span style=\"color: #008000; text-decoration-color: #008000\">'Tours'</span>,\n",
       "        <span style=\"color: #008000; text-decoration-color: #008000\">'Montpellier'</span>,\n",
       "        <span style=\"color: #008000; text-decoration-color: #008000\">'Bordeaux'</span>\n",
       "    <span style=\"font-weight: bold\">]</span>,\n",
       "    <span style=\"color: #808000; text-decoration-color: #808000\">country</span>=<span style=\"font-weight: bold\">[]</span>\n",
       "<span style=\"font-weight: bold\">)</span>\n",
       "</pre>\n"
      ],
      "text/plain": [
       "\u001b[1;35mCityLocation\u001b[0m\u001b[1m(\u001b[0m\n",
       "    \u001b[33mcity\u001b[0m=\u001b[1m[\u001b[0m\n",
       "        \u001b[32m'Lille'\u001b[0m,\n",
       "        \u001b[32m'Lyon'\u001b[0m,\n",
       "        \u001b[32m'Marseille'\u001b[0m,\n",
       "        \u001b[32m'Toulouse'\u001b[0m,\n",
       "        \u001b[32m'Nantes'\u001b[0m,\n",
       "        \u001b[32m'Nice'\u001b[0m,\n",
       "        \u001b[32m'Strasbourg'\u001b[0m,\n",
       "        \u001b[32m'Rennes'\u001b[0m,\n",
       "        \u001b[32m'Grenoble'\u001b[0m,\n",
       "        \u001b[32m'Rouen'\u001b[0m,\n",
       "        \u001b[32m'Tours'\u001b[0m,\n",
       "        \u001b[32m'Montpellier'\u001b[0m,\n",
       "        \u001b[32m'Bordeaux'\u001b[0m\n",
       "    \u001b[1m]\u001b[0m,\n",
       "    \u001b[33mcountry\u001b[0m=\u001b[1m[\u001b[0m\u001b[1m]\u001b[0m\n",
       "\u001b[1m)\u001b[0m\n"
      ]
     },
     "metadata": {},
     "output_type": "display_data"
    },
    {
     "data": {
      "text/html": [
       "<pre style=\"white-space:pre;overflow-x:auto;line-height:normal;font-family:Menlo,'DejaVu Sans Mono',consolas,'Courier New',monospace\"><span style=\"color: #800080; text-decoration-color: #800080; font-weight: bold\">CityLocation</span><span style=\"font-weight: bold\">(</span>\n",
       "    <span style=\"color: #808000; text-decoration-color: #808000\">city</span>=<span style=\"font-weight: bold\">[</span>\n",
       "        <span style=\"color: #008000; text-decoration-color: #008000\">'Lille'</span>,\n",
       "        <span style=\"color: #008000; text-decoration-color: #008000\">'Lyon'</span>,\n",
       "        <span style=\"color: #008000; text-decoration-color: #008000\">'Marseille'</span>,\n",
       "        <span style=\"color: #008000; text-decoration-color: #008000\">'Toulouse'</span>,\n",
       "        <span style=\"color: #008000; text-decoration-color: #008000\">'Nantes'</span>,\n",
       "        <span style=\"color: #008000; text-decoration-color: #008000\">'Nice'</span>,\n",
       "        <span style=\"color: #008000; text-decoration-color: #008000\">'Strasbourg'</span>,\n",
       "        <span style=\"color: #008000; text-decoration-color: #008000\">'Rennes'</span>,\n",
       "        <span style=\"color: #008000; text-decoration-color: #008000\">'Grenoble'</span>,\n",
       "        <span style=\"color: #008000; text-decoration-color: #008000\">'Rouen'</span>,\n",
       "        <span style=\"color: #008000; text-decoration-color: #008000\">'Tours'</span>,\n",
       "        <span style=\"color: #008000; text-decoration-color: #008000\">'Montpellier'</span>,\n",
       "        <span style=\"color: #008000; text-decoration-color: #008000\">'Bordeaux'</span>,\n",
       "        <span style=\"color: #008000; text-decoration-color: #008000\">'Saint-É'</span>\n",
       "    <span style=\"font-weight: bold\">]</span>,\n",
       "    <span style=\"color: #808000; text-decoration-color: #808000\">country</span>=<span style=\"font-weight: bold\">[]</span>\n",
       "<span style=\"font-weight: bold\">)</span>\n",
       "</pre>\n"
      ],
      "text/plain": [
       "\u001b[1;35mCityLocation\u001b[0m\u001b[1m(\u001b[0m\n",
       "    \u001b[33mcity\u001b[0m=\u001b[1m[\u001b[0m\n",
       "        \u001b[32m'Lille'\u001b[0m,\n",
       "        \u001b[32m'Lyon'\u001b[0m,\n",
       "        \u001b[32m'Marseille'\u001b[0m,\n",
       "        \u001b[32m'Toulouse'\u001b[0m,\n",
       "        \u001b[32m'Nantes'\u001b[0m,\n",
       "        \u001b[32m'Nice'\u001b[0m,\n",
       "        \u001b[32m'Strasbourg'\u001b[0m,\n",
       "        \u001b[32m'Rennes'\u001b[0m,\n",
       "        \u001b[32m'Grenoble'\u001b[0m,\n",
       "        \u001b[32m'Rouen'\u001b[0m,\n",
       "        \u001b[32m'Tours'\u001b[0m,\n",
       "        \u001b[32m'Montpellier'\u001b[0m,\n",
       "        \u001b[32m'Bordeaux'\u001b[0m,\n",
       "        \u001b[32m'Saint-É'\u001b[0m\n",
       "    \u001b[1m]\u001b[0m,\n",
       "    \u001b[33mcountry\u001b[0m=\u001b[1m[\u001b[0m\u001b[1m]\u001b[0m\n",
       "\u001b[1m)\u001b[0m\n"
      ]
     },
     "metadata": {},
     "output_type": "display_data"
    },
    {
     "data": {
      "text/html": [
       "<pre style=\"white-space:pre;overflow-x:auto;line-height:normal;font-family:Menlo,'DejaVu Sans Mono',consolas,'Courier New',monospace\"><span style=\"color: #800080; text-decoration-color: #800080; font-weight: bold\">CityLocation</span><span style=\"font-weight: bold\">(</span>\n",
       "    <span style=\"color: #808000; text-decoration-color: #808000\">city</span>=<span style=\"font-weight: bold\">[</span>\n",
       "        <span style=\"color: #008000; text-decoration-color: #008000\">'Lille'</span>,\n",
       "        <span style=\"color: #008000; text-decoration-color: #008000\">'Lyon'</span>,\n",
       "        <span style=\"color: #008000; text-decoration-color: #008000\">'Marseille'</span>,\n",
       "        <span style=\"color: #008000; text-decoration-color: #008000\">'Toulouse'</span>,\n",
       "        <span style=\"color: #008000; text-decoration-color: #008000\">'Nantes'</span>,\n",
       "        <span style=\"color: #008000; text-decoration-color: #008000\">'Nice'</span>,\n",
       "        <span style=\"color: #008000; text-decoration-color: #008000\">'Strasbourg'</span>,\n",
       "        <span style=\"color: #008000; text-decoration-color: #008000\">'Rennes'</span>,\n",
       "        <span style=\"color: #008000; text-decoration-color: #008000\">'Grenoble'</span>,\n",
       "        <span style=\"color: #008000; text-decoration-color: #008000\">'Rouen'</span>,\n",
       "        <span style=\"color: #008000; text-decoration-color: #008000\">'Tours'</span>,\n",
       "        <span style=\"color: #008000; text-decoration-color: #008000\">'Montpellier'</span>,\n",
       "        <span style=\"color: #008000; text-decoration-color: #008000\">'Bordeaux'</span>,\n",
       "        <span style=\"color: #008000; text-decoration-color: #008000\">'Saint-Étienne'</span>,\n",
       "        <span style=\"color: #008000; text-decoration-color: #008000\">'Le Havre'</span>\n",
       "    <span style=\"font-weight: bold\">]</span>,\n",
       "    <span style=\"color: #808000; text-decoration-color: #808000\">country</span>=<span style=\"font-weight: bold\">[]</span>\n",
       "<span style=\"font-weight: bold\">)</span>\n",
       "</pre>\n"
      ],
      "text/plain": [
       "\u001b[1;35mCityLocation\u001b[0m\u001b[1m(\u001b[0m\n",
       "    \u001b[33mcity\u001b[0m=\u001b[1m[\u001b[0m\n",
       "        \u001b[32m'Lille'\u001b[0m,\n",
       "        \u001b[32m'Lyon'\u001b[0m,\n",
       "        \u001b[32m'Marseille'\u001b[0m,\n",
       "        \u001b[32m'Toulouse'\u001b[0m,\n",
       "        \u001b[32m'Nantes'\u001b[0m,\n",
       "        \u001b[32m'Nice'\u001b[0m,\n",
       "        \u001b[32m'Strasbourg'\u001b[0m,\n",
       "        \u001b[32m'Rennes'\u001b[0m,\n",
       "        \u001b[32m'Grenoble'\u001b[0m,\n",
       "        \u001b[32m'Rouen'\u001b[0m,\n",
       "        \u001b[32m'Tours'\u001b[0m,\n",
       "        \u001b[32m'Montpellier'\u001b[0m,\n",
       "        \u001b[32m'Bordeaux'\u001b[0m,\n",
       "        \u001b[32m'Saint-Étienne'\u001b[0m,\n",
       "        \u001b[32m'Le Havre'\u001b[0m\n",
       "    \u001b[1m]\u001b[0m,\n",
       "    \u001b[33mcountry\u001b[0m=\u001b[1m[\u001b[0m\u001b[1m]\u001b[0m\n",
       "\u001b[1m)\u001b[0m\n"
      ]
     },
     "metadata": {},
     "output_type": "display_data"
    },
    {
     "data": {
      "text/html": [
       "<pre style=\"white-space:pre;overflow-x:auto;line-height:normal;font-family:Menlo,'DejaVu Sans Mono',consolas,'Courier New',monospace\"><span style=\"color: #800080; text-decoration-color: #800080; font-weight: bold\">CityLocation</span><span style=\"font-weight: bold\">(</span>\n",
       "    <span style=\"color: #808000; text-decoration-color: #808000\">city</span>=<span style=\"font-weight: bold\">[</span>\n",
       "        <span style=\"color: #008000; text-decoration-color: #008000\">'Lille'</span>,\n",
       "        <span style=\"color: #008000; text-decoration-color: #008000\">'Lyon'</span>,\n",
       "        <span style=\"color: #008000; text-decoration-color: #008000\">'Marseille'</span>,\n",
       "        <span style=\"color: #008000; text-decoration-color: #008000\">'Toulouse'</span>,\n",
       "        <span style=\"color: #008000; text-decoration-color: #008000\">'Nantes'</span>,\n",
       "        <span style=\"color: #008000; text-decoration-color: #008000\">'Nice'</span>,\n",
       "        <span style=\"color: #008000; text-decoration-color: #008000\">'Strasbourg'</span>,\n",
       "        <span style=\"color: #008000; text-decoration-color: #008000\">'Rennes'</span>,\n",
       "        <span style=\"color: #008000; text-decoration-color: #008000\">'Grenoble'</span>,\n",
       "        <span style=\"color: #008000; text-decoration-color: #008000\">'Rouen'</span>,\n",
       "        <span style=\"color: #008000; text-decoration-color: #008000\">'Tours'</span>,\n",
       "        <span style=\"color: #008000; text-decoration-color: #008000\">'Montpellier'</span>,\n",
       "        <span style=\"color: #008000; text-decoration-color: #008000\">'Bordeaux'</span>,\n",
       "        <span style=\"color: #008000; text-decoration-color: #008000\">'Saint-Étienne'</span>,\n",
       "        <span style=\"color: #008000; text-decoration-color: #008000\">'Le Havre'</span>,\n",
       "        <span style=\"color: #008000; text-decoration-color: #008000\">'Reims'</span>,\n",
       "        <span style=\"color: #008000; text-decoration-color: #008000\">'A'</span>\n",
       "    <span style=\"font-weight: bold\">]</span>,\n",
       "    <span style=\"color: #808000; text-decoration-color: #808000\">country</span>=<span style=\"font-weight: bold\">[]</span>\n",
       "<span style=\"font-weight: bold\">)</span>\n",
       "</pre>\n"
      ],
      "text/plain": [
       "\u001b[1;35mCityLocation\u001b[0m\u001b[1m(\u001b[0m\n",
       "    \u001b[33mcity\u001b[0m=\u001b[1m[\u001b[0m\n",
       "        \u001b[32m'Lille'\u001b[0m,\n",
       "        \u001b[32m'Lyon'\u001b[0m,\n",
       "        \u001b[32m'Marseille'\u001b[0m,\n",
       "        \u001b[32m'Toulouse'\u001b[0m,\n",
       "        \u001b[32m'Nantes'\u001b[0m,\n",
       "        \u001b[32m'Nice'\u001b[0m,\n",
       "        \u001b[32m'Strasbourg'\u001b[0m,\n",
       "        \u001b[32m'Rennes'\u001b[0m,\n",
       "        \u001b[32m'Grenoble'\u001b[0m,\n",
       "        \u001b[32m'Rouen'\u001b[0m,\n",
       "        \u001b[32m'Tours'\u001b[0m,\n",
       "        \u001b[32m'Montpellier'\u001b[0m,\n",
       "        \u001b[32m'Bordeaux'\u001b[0m,\n",
       "        \u001b[32m'Saint-Étienne'\u001b[0m,\n",
       "        \u001b[32m'Le Havre'\u001b[0m,\n",
       "        \u001b[32m'Reims'\u001b[0m,\n",
       "        \u001b[32m'A'\u001b[0m\n",
       "    \u001b[1m]\u001b[0m,\n",
       "    \u001b[33mcountry\u001b[0m=\u001b[1m[\u001b[0m\u001b[1m]\u001b[0m\n",
       "\u001b[1m)\u001b[0m\n"
      ]
     },
     "metadata": {},
     "output_type": "display_data"
    },
    {
     "data": {
      "text/html": [
       "<pre style=\"white-space:pre;overflow-x:auto;line-height:normal;font-family:Menlo,'DejaVu Sans Mono',consolas,'Courier New',monospace\"><span style=\"color: #800080; text-decoration-color: #800080; font-weight: bold\">CityLocation</span><span style=\"font-weight: bold\">(</span>\n",
       "    <span style=\"color: #808000; text-decoration-color: #808000\">city</span>=<span style=\"font-weight: bold\">[</span>\n",
       "        <span style=\"color: #008000; text-decoration-color: #008000\">'Lille'</span>,\n",
       "        <span style=\"color: #008000; text-decoration-color: #008000\">'Lyon'</span>,\n",
       "        <span style=\"color: #008000; text-decoration-color: #008000\">'Marseille'</span>,\n",
       "        <span style=\"color: #008000; text-decoration-color: #008000\">'Toulouse'</span>,\n",
       "        <span style=\"color: #008000; text-decoration-color: #008000\">'Nantes'</span>,\n",
       "        <span style=\"color: #008000; text-decoration-color: #008000\">'Nice'</span>,\n",
       "        <span style=\"color: #008000; text-decoration-color: #008000\">'Strasbourg'</span>,\n",
       "        <span style=\"color: #008000; text-decoration-color: #008000\">'Rennes'</span>,\n",
       "        <span style=\"color: #008000; text-decoration-color: #008000\">'Grenoble'</span>,\n",
       "        <span style=\"color: #008000; text-decoration-color: #008000\">'Rouen'</span>,\n",
       "        <span style=\"color: #008000; text-decoration-color: #008000\">'Tours'</span>,\n",
       "        <span style=\"color: #008000; text-decoration-color: #008000\">'Montpellier'</span>,\n",
       "        <span style=\"color: #008000; text-decoration-color: #008000\">'Bordeaux'</span>,\n",
       "        <span style=\"color: #008000; text-decoration-color: #008000\">'Saint-Étienne'</span>,\n",
       "        <span style=\"color: #008000; text-decoration-color: #008000\">'Le Havre'</span>,\n",
       "        <span style=\"color: #008000; text-decoration-color: #008000\">'Reims'</span>,\n",
       "        <span style=\"color: #008000; text-decoration-color: #008000\">'Amiens'</span>,\n",
       "        <span style=\"color: #008000; text-decoration-color: #008000\">''</span>\n",
       "    <span style=\"font-weight: bold\">]</span>,\n",
       "    <span style=\"color: #808000; text-decoration-color: #808000\">country</span>=<span style=\"font-weight: bold\">[]</span>\n",
       "<span style=\"font-weight: bold\">)</span>\n",
       "</pre>\n"
      ],
      "text/plain": [
       "\u001b[1;35mCityLocation\u001b[0m\u001b[1m(\u001b[0m\n",
       "    \u001b[33mcity\u001b[0m=\u001b[1m[\u001b[0m\n",
       "        \u001b[32m'Lille'\u001b[0m,\n",
       "        \u001b[32m'Lyon'\u001b[0m,\n",
       "        \u001b[32m'Marseille'\u001b[0m,\n",
       "        \u001b[32m'Toulouse'\u001b[0m,\n",
       "        \u001b[32m'Nantes'\u001b[0m,\n",
       "        \u001b[32m'Nice'\u001b[0m,\n",
       "        \u001b[32m'Strasbourg'\u001b[0m,\n",
       "        \u001b[32m'Rennes'\u001b[0m,\n",
       "        \u001b[32m'Grenoble'\u001b[0m,\n",
       "        \u001b[32m'Rouen'\u001b[0m,\n",
       "        \u001b[32m'Tours'\u001b[0m,\n",
       "        \u001b[32m'Montpellier'\u001b[0m,\n",
       "        \u001b[32m'Bordeaux'\u001b[0m,\n",
       "        \u001b[32m'Saint-Étienne'\u001b[0m,\n",
       "        \u001b[32m'Le Havre'\u001b[0m,\n",
       "        \u001b[32m'Reims'\u001b[0m,\n",
       "        \u001b[32m'Amiens'\u001b[0m,\n",
       "        \u001b[32m''\u001b[0m\n",
       "    \u001b[1m]\u001b[0m,\n",
       "    \u001b[33mcountry\u001b[0m=\u001b[1m[\u001b[0m\u001b[1m]\u001b[0m\n",
       "\u001b[1m)\u001b[0m\n"
      ]
     },
     "metadata": {},
     "output_type": "display_data"
    },
    {
     "data": {
      "text/html": [
       "<pre style=\"white-space:pre;overflow-x:auto;line-height:normal;font-family:Menlo,'DejaVu Sans Mono',consolas,'Courier New',monospace\"><span style=\"color: #800080; text-decoration-color: #800080; font-weight: bold\">CityLocation</span><span style=\"font-weight: bold\">(</span>\n",
       "    <span style=\"color: #808000; text-decoration-color: #808000\">city</span>=<span style=\"font-weight: bold\">[</span>\n",
       "        <span style=\"color: #008000; text-decoration-color: #008000\">'Lille'</span>,\n",
       "        <span style=\"color: #008000; text-decoration-color: #008000\">'Lyon'</span>,\n",
       "        <span style=\"color: #008000; text-decoration-color: #008000\">'Marseille'</span>,\n",
       "        <span style=\"color: #008000; text-decoration-color: #008000\">'Toulouse'</span>,\n",
       "        <span style=\"color: #008000; text-decoration-color: #008000\">'Nantes'</span>,\n",
       "        <span style=\"color: #008000; text-decoration-color: #008000\">'Nice'</span>,\n",
       "        <span style=\"color: #008000; text-decoration-color: #008000\">'Strasbourg'</span>,\n",
       "        <span style=\"color: #008000; text-decoration-color: #008000\">'Rennes'</span>,\n",
       "        <span style=\"color: #008000; text-decoration-color: #008000\">'Grenoble'</span>,\n",
       "        <span style=\"color: #008000; text-decoration-color: #008000\">'Rouen'</span>,\n",
       "        <span style=\"color: #008000; text-decoration-color: #008000\">'Tours'</span>,\n",
       "        <span style=\"color: #008000; text-decoration-color: #008000\">'Montpellier'</span>,\n",
       "        <span style=\"color: #008000; text-decoration-color: #008000\">'Bordeaux'</span>,\n",
       "        <span style=\"color: #008000; text-decoration-color: #008000\">'Saint-Étienne'</span>,\n",
       "        <span style=\"color: #008000; text-decoration-color: #008000\">'Le Havre'</span>,\n",
       "        <span style=\"color: #008000; text-decoration-color: #008000\">'Reims'</span>,\n",
       "        <span style=\"color: #008000; text-decoration-color: #008000\">'Amiens'</span>,\n",
       "        <span style=\"color: #008000; text-decoration-color: #008000\">'Brest'</span>\n",
       "    <span style=\"font-weight: bold\">]</span>,\n",
       "    <span style=\"color: #808000; text-decoration-color: #808000\">country</span>=<span style=\"font-weight: bold\">[]</span>\n",
       "<span style=\"font-weight: bold\">)</span>\n",
       "</pre>\n"
      ],
      "text/plain": [
       "\u001b[1;35mCityLocation\u001b[0m\u001b[1m(\u001b[0m\n",
       "    \u001b[33mcity\u001b[0m=\u001b[1m[\u001b[0m\n",
       "        \u001b[32m'Lille'\u001b[0m,\n",
       "        \u001b[32m'Lyon'\u001b[0m,\n",
       "        \u001b[32m'Marseille'\u001b[0m,\n",
       "        \u001b[32m'Toulouse'\u001b[0m,\n",
       "        \u001b[32m'Nantes'\u001b[0m,\n",
       "        \u001b[32m'Nice'\u001b[0m,\n",
       "        \u001b[32m'Strasbourg'\u001b[0m,\n",
       "        \u001b[32m'Rennes'\u001b[0m,\n",
       "        \u001b[32m'Grenoble'\u001b[0m,\n",
       "        \u001b[32m'Rouen'\u001b[0m,\n",
       "        \u001b[32m'Tours'\u001b[0m,\n",
       "        \u001b[32m'Montpellier'\u001b[0m,\n",
       "        \u001b[32m'Bordeaux'\u001b[0m,\n",
       "        \u001b[32m'Saint-Étienne'\u001b[0m,\n",
       "        \u001b[32m'Le Havre'\u001b[0m,\n",
       "        \u001b[32m'Reims'\u001b[0m,\n",
       "        \u001b[32m'Amiens'\u001b[0m,\n",
       "        \u001b[32m'Brest'\u001b[0m\n",
       "    \u001b[1m]\u001b[0m,\n",
       "    \u001b[33mcountry\u001b[0m=\u001b[1m[\u001b[0m\u001b[1m]\u001b[0m\n",
       "\u001b[1m)\u001b[0m\n"
      ]
     },
     "metadata": {},
     "output_type": "display_data"
    },
    {
     "data": {
      "text/html": [
       "<pre style=\"white-space:pre;overflow-x:auto;line-height:normal;font-family:Menlo,'DejaVu Sans Mono',consolas,'Courier New',monospace\"><span style=\"color: #800080; text-decoration-color: #800080; font-weight: bold\">CityLocation</span><span style=\"font-weight: bold\">(</span>\n",
       "    <span style=\"color: #808000; text-decoration-color: #808000\">city</span>=<span style=\"font-weight: bold\">[</span>\n",
       "        <span style=\"color: #008000; text-decoration-color: #008000\">'Lille'</span>,\n",
       "        <span style=\"color: #008000; text-decoration-color: #008000\">'Lyon'</span>,\n",
       "        <span style=\"color: #008000; text-decoration-color: #008000\">'Marseille'</span>,\n",
       "        <span style=\"color: #008000; text-decoration-color: #008000\">'Toulouse'</span>,\n",
       "        <span style=\"color: #008000; text-decoration-color: #008000\">'Nantes'</span>,\n",
       "        <span style=\"color: #008000; text-decoration-color: #008000\">'Nice'</span>,\n",
       "        <span style=\"color: #008000; text-decoration-color: #008000\">'Strasbourg'</span>,\n",
       "        <span style=\"color: #008000; text-decoration-color: #008000\">'Rennes'</span>,\n",
       "        <span style=\"color: #008000; text-decoration-color: #008000\">'Grenoble'</span>,\n",
       "        <span style=\"color: #008000; text-decoration-color: #008000\">'Rouen'</span>,\n",
       "        <span style=\"color: #008000; text-decoration-color: #008000\">'Tours'</span>,\n",
       "        <span style=\"color: #008000; text-decoration-color: #008000\">'Montpellier'</span>,\n",
       "        <span style=\"color: #008000; text-decoration-color: #008000\">'Bordeaux'</span>,\n",
       "        <span style=\"color: #008000; text-decoration-color: #008000\">'Saint-Étienne'</span>,\n",
       "        <span style=\"color: #008000; text-decoration-color: #008000\">'Le Havre'</span>,\n",
       "        <span style=\"color: #008000; text-decoration-color: #008000\">'Reims'</span>,\n",
       "        <span style=\"color: #008000; text-decoration-color: #008000\">'Amiens'</span>,\n",
       "        <span style=\"color: #008000; text-decoration-color: #008000\">'Brest'</span>,\n",
       "        <span style=\"color: #008000; text-decoration-color: #008000\">'Le Mans'</span>\n",
       "    <span style=\"font-weight: bold\">]</span>,\n",
       "    <span style=\"color: #808000; text-decoration-color: #808000\">country</span>=<span style=\"font-weight: bold\">[]</span>\n",
       "<span style=\"font-weight: bold\">)</span>\n",
       "</pre>\n"
      ],
      "text/plain": [
       "\u001b[1;35mCityLocation\u001b[0m\u001b[1m(\u001b[0m\n",
       "    \u001b[33mcity\u001b[0m=\u001b[1m[\u001b[0m\n",
       "        \u001b[32m'Lille'\u001b[0m,\n",
       "        \u001b[32m'Lyon'\u001b[0m,\n",
       "        \u001b[32m'Marseille'\u001b[0m,\n",
       "        \u001b[32m'Toulouse'\u001b[0m,\n",
       "        \u001b[32m'Nantes'\u001b[0m,\n",
       "        \u001b[32m'Nice'\u001b[0m,\n",
       "        \u001b[32m'Strasbourg'\u001b[0m,\n",
       "        \u001b[32m'Rennes'\u001b[0m,\n",
       "        \u001b[32m'Grenoble'\u001b[0m,\n",
       "        \u001b[32m'Rouen'\u001b[0m,\n",
       "        \u001b[32m'Tours'\u001b[0m,\n",
       "        \u001b[32m'Montpellier'\u001b[0m,\n",
       "        \u001b[32m'Bordeaux'\u001b[0m,\n",
       "        \u001b[32m'Saint-Étienne'\u001b[0m,\n",
       "        \u001b[32m'Le Havre'\u001b[0m,\n",
       "        \u001b[32m'Reims'\u001b[0m,\n",
       "        \u001b[32m'Amiens'\u001b[0m,\n",
       "        \u001b[32m'Brest'\u001b[0m,\n",
       "        \u001b[32m'Le Mans'\u001b[0m\n",
       "    \u001b[1m]\u001b[0m,\n",
       "    \u001b[33mcountry\u001b[0m=\u001b[1m[\u001b[0m\u001b[1m]\u001b[0m\n",
       "\u001b[1m)\u001b[0m\n"
      ]
     },
     "metadata": {},
     "output_type": "display_data"
    },
    {
     "data": {
      "text/html": [
       "<pre style=\"white-space:pre;overflow-x:auto;line-height:normal;font-family:Menlo,'DejaVu Sans Mono',consolas,'Courier New',monospace\"><span style=\"color: #800080; text-decoration-color: #800080; font-weight: bold\">CityLocation</span><span style=\"font-weight: bold\">(</span>\n",
       "    <span style=\"color: #808000; text-decoration-color: #808000\">city</span>=<span style=\"font-weight: bold\">[</span>\n",
       "        <span style=\"color: #008000; text-decoration-color: #008000\">'Lille'</span>,\n",
       "        <span style=\"color: #008000; text-decoration-color: #008000\">'Lyon'</span>,\n",
       "        <span style=\"color: #008000; text-decoration-color: #008000\">'Marseille'</span>,\n",
       "        <span style=\"color: #008000; text-decoration-color: #008000\">'Toulouse'</span>,\n",
       "        <span style=\"color: #008000; text-decoration-color: #008000\">'Nantes'</span>,\n",
       "        <span style=\"color: #008000; text-decoration-color: #008000\">'Nice'</span>,\n",
       "        <span style=\"color: #008000; text-decoration-color: #008000\">'Strasbourg'</span>,\n",
       "        <span style=\"color: #008000; text-decoration-color: #008000\">'Rennes'</span>,\n",
       "        <span style=\"color: #008000; text-decoration-color: #008000\">'Grenoble'</span>,\n",
       "        <span style=\"color: #008000; text-decoration-color: #008000\">'Rouen'</span>,\n",
       "        <span style=\"color: #008000; text-decoration-color: #008000\">'Tours'</span>,\n",
       "        <span style=\"color: #008000; text-decoration-color: #008000\">'Montpellier'</span>,\n",
       "        <span style=\"color: #008000; text-decoration-color: #008000\">'Bordeaux'</span>,\n",
       "        <span style=\"color: #008000; text-decoration-color: #008000\">'Saint-Étienne'</span>,\n",
       "        <span style=\"color: #008000; text-decoration-color: #008000\">'Le Havre'</span>,\n",
       "        <span style=\"color: #008000; text-decoration-color: #008000\">'Reims'</span>,\n",
       "        <span style=\"color: #008000; text-decoration-color: #008000\">'Amiens'</span>,\n",
       "        <span style=\"color: #008000; text-decoration-color: #008000\">'Brest'</span>,\n",
       "        <span style=\"color: #008000; text-decoration-color: #008000\">'Le Mans'</span>,\n",
       "        <span style=\"color: #008000; text-decoration-color: #008000\">'Clermont-Ferrand'</span>\n",
       "    <span style=\"font-weight: bold\">]</span>,\n",
       "    <span style=\"color: #808000; text-decoration-color: #808000\">country</span>=<span style=\"font-weight: bold\">[]</span>\n",
       "<span style=\"font-weight: bold\">)</span>\n",
       "</pre>\n"
      ],
      "text/plain": [
       "\u001b[1;35mCityLocation\u001b[0m\u001b[1m(\u001b[0m\n",
       "    \u001b[33mcity\u001b[0m=\u001b[1m[\u001b[0m\n",
       "        \u001b[32m'Lille'\u001b[0m,\n",
       "        \u001b[32m'Lyon'\u001b[0m,\n",
       "        \u001b[32m'Marseille'\u001b[0m,\n",
       "        \u001b[32m'Toulouse'\u001b[0m,\n",
       "        \u001b[32m'Nantes'\u001b[0m,\n",
       "        \u001b[32m'Nice'\u001b[0m,\n",
       "        \u001b[32m'Strasbourg'\u001b[0m,\n",
       "        \u001b[32m'Rennes'\u001b[0m,\n",
       "        \u001b[32m'Grenoble'\u001b[0m,\n",
       "        \u001b[32m'Rouen'\u001b[0m,\n",
       "        \u001b[32m'Tours'\u001b[0m,\n",
       "        \u001b[32m'Montpellier'\u001b[0m,\n",
       "        \u001b[32m'Bordeaux'\u001b[0m,\n",
       "        \u001b[32m'Saint-Étienne'\u001b[0m,\n",
       "        \u001b[32m'Le Havre'\u001b[0m,\n",
       "        \u001b[32m'Reims'\u001b[0m,\n",
       "        \u001b[32m'Amiens'\u001b[0m,\n",
       "        \u001b[32m'Brest'\u001b[0m,\n",
       "        \u001b[32m'Le Mans'\u001b[0m,\n",
       "        \u001b[32m'Clermont-Ferrand'\u001b[0m\n",
       "    \u001b[1m]\u001b[0m,\n",
       "    \u001b[33mcountry\u001b[0m=\u001b[1m[\u001b[0m\u001b[1m]\u001b[0m\n",
       "\u001b[1m)\u001b[0m\n"
      ]
     },
     "metadata": {},
     "output_type": "display_data"
    },
    {
     "data": {
      "text/html": [
       "<pre style=\"white-space:pre;overflow-x:auto;line-height:normal;font-family:Menlo,'DejaVu Sans Mono',consolas,'Courier New',monospace\"><span style=\"color: #800080; text-decoration-color: #800080; font-weight: bold\">CityLocation</span><span style=\"font-weight: bold\">(</span>\n",
       "    <span style=\"color: #808000; text-decoration-color: #808000\">city</span>=<span style=\"font-weight: bold\">[</span>\n",
       "        <span style=\"color: #008000; text-decoration-color: #008000\">'Lille'</span>,\n",
       "        <span style=\"color: #008000; text-decoration-color: #008000\">'Lyon'</span>,\n",
       "        <span style=\"color: #008000; text-decoration-color: #008000\">'Marseille'</span>,\n",
       "        <span style=\"color: #008000; text-decoration-color: #008000\">'Toulouse'</span>,\n",
       "        <span style=\"color: #008000; text-decoration-color: #008000\">'Nantes'</span>,\n",
       "        <span style=\"color: #008000; text-decoration-color: #008000\">'Nice'</span>,\n",
       "        <span style=\"color: #008000; text-decoration-color: #008000\">'Strasbourg'</span>,\n",
       "        <span style=\"color: #008000; text-decoration-color: #008000\">'Rennes'</span>,\n",
       "        <span style=\"color: #008000; text-decoration-color: #008000\">'Grenoble'</span>,\n",
       "        <span style=\"color: #008000; text-decoration-color: #008000\">'Rouen'</span>,\n",
       "        <span style=\"color: #008000; text-decoration-color: #008000\">'Tours'</span>,\n",
       "        <span style=\"color: #008000; text-decoration-color: #008000\">'Montpellier'</span>,\n",
       "        <span style=\"color: #008000; text-decoration-color: #008000\">'Bordeaux'</span>,\n",
       "        <span style=\"color: #008000; text-decoration-color: #008000\">'Saint-Étienne'</span>,\n",
       "        <span style=\"color: #008000; text-decoration-color: #008000\">'Le Havre'</span>,\n",
       "        <span style=\"color: #008000; text-decoration-color: #008000\">'Reims'</span>,\n",
       "        <span style=\"color: #008000; text-decoration-color: #008000\">'Amiens'</span>,\n",
       "        <span style=\"color: #008000; text-decoration-color: #008000\">'Brest'</span>,\n",
       "        <span style=\"color: #008000; text-decoration-color: #008000\">'Le Mans'</span>,\n",
       "        <span style=\"color: #008000; text-decoration-color: #008000\">'Clermont-Ferrand'</span>\n",
       "    <span style=\"font-weight: bold\">]</span>,\n",
       "    <span style=\"color: #808000; text-decoration-color: #808000\">country</span>=<span style=\"font-weight: bold\">[</span><span style=\"color: #008000; text-decoration-color: #008000\">'France'</span>, <span style=\"color: #008000; text-decoration-color: #008000\">'France'</span><span style=\"font-weight: bold\">]</span>\n",
       "<span style=\"font-weight: bold\">)</span>\n",
       "</pre>\n"
      ],
      "text/plain": [
       "\u001b[1;35mCityLocation\u001b[0m\u001b[1m(\u001b[0m\n",
       "    \u001b[33mcity\u001b[0m=\u001b[1m[\u001b[0m\n",
       "        \u001b[32m'Lille'\u001b[0m,\n",
       "        \u001b[32m'Lyon'\u001b[0m,\n",
       "        \u001b[32m'Marseille'\u001b[0m,\n",
       "        \u001b[32m'Toulouse'\u001b[0m,\n",
       "        \u001b[32m'Nantes'\u001b[0m,\n",
       "        \u001b[32m'Nice'\u001b[0m,\n",
       "        \u001b[32m'Strasbourg'\u001b[0m,\n",
       "        \u001b[32m'Rennes'\u001b[0m,\n",
       "        \u001b[32m'Grenoble'\u001b[0m,\n",
       "        \u001b[32m'Rouen'\u001b[0m,\n",
       "        \u001b[32m'Tours'\u001b[0m,\n",
       "        \u001b[32m'Montpellier'\u001b[0m,\n",
       "        \u001b[32m'Bordeaux'\u001b[0m,\n",
       "        \u001b[32m'Saint-Étienne'\u001b[0m,\n",
       "        \u001b[32m'Le Havre'\u001b[0m,\n",
       "        \u001b[32m'Reims'\u001b[0m,\n",
       "        \u001b[32m'Amiens'\u001b[0m,\n",
       "        \u001b[32m'Brest'\u001b[0m,\n",
       "        \u001b[32m'Le Mans'\u001b[0m,\n",
       "        \u001b[32m'Clermont-Ferrand'\u001b[0m\n",
       "    \u001b[1m]\u001b[0m,\n",
       "    \u001b[33mcountry\u001b[0m=\u001b[1m[\u001b[0m\u001b[32m'France'\u001b[0m, \u001b[32m'France'\u001b[0m\u001b[1m]\u001b[0m\n",
       "\u001b[1m)\u001b[0m\n"
      ]
     },
     "metadata": {},
     "output_type": "display_data"
    },
    {
     "data": {
      "text/html": [
       "<pre style=\"white-space:pre;overflow-x:auto;line-height:normal;font-family:Menlo,'DejaVu Sans Mono',consolas,'Courier New',monospace\"><span style=\"color: #800080; text-decoration-color: #800080; font-weight: bold\">CityLocation</span><span style=\"font-weight: bold\">(</span>\n",
       "    <span style=\"color: #808000; text-decoration-color: #808000\">city</span>=<span style=\"font-weight: bold\">[</span>\n",
       "        <span style=\"color: #008000; text-decoration-color: #008000\">'Lille'</span>,\n",
       "        <span style=\"color: #008000; text-decoration-color: #008000\">'Lyon'</span>,\n",
       "        <span style=\"color: #008000; text-decoration-color: #008000\">'Marseille'</span>,\n",
       "        <span style=\"color: #008000; text-decoration-color: #008000\">'Toulouse'</span>,\n",
       "        <span style=\"color: #008000; text-decoration-color: #008000\">'Nantes'</span>,\n",
       "        <span style=\"color: #008000; text-decoration-color: #008000\">'Nice'</span>,\n",
       "        <span style=\"color: #008000; text-decoration-color: #008000\">'Strasbourg'</span>,\n",
       "        <span style=\"color: #008000; text-decoration-color: #008000\">'Rennes'</span>,\n",
       "        <span style=\"color: #008000; text-decoration-color: #008000\">'Grenoble'</span>,\n",
       "        <span style=\"color: #008000; text-decoration-color: #008000\">'Rouen'</span>,\n",
       "        <span style=\"color: #008000; text-decoration-color: #008000\">'Tours'</span>,\n",
       "        <span style=\"color: #008000; text-decoration-color: #008000\">'Montpellier'</span>,\n",
       "        <span style=\"color: #008000; text-decoration-color: #008000\">'Bordeaux'</span>,\n",
       "        <span style=\"color: #008000; text-decoration-color: #008000\">'Saint-Étienne'</span>,\n",
       "        <span style=\"color: #008000; text-decoration-color: #008000\">'Le Havre'</span>,\n",
       "        <span style=\"color: #008000; text-decoration-color: #008000\">'Reims'</span>,\n",
       "        <span style=\"color: #008000; text-decoration-color: #008000\">'Amiens'</span>,\n",
       "        <span style=\"color: #008000; text-decoration-color: #008000\">'Brest'</span>,\n",
       "        <span style=\"color: #008000; text-decoration-color: #008000\">'Le Mans'</span>,\n",
       "        <span style=\"color: #008000; text-decoration-color: #008000\">'Clermont-Ferrand'</span>\n",
       "    <span style=\"font-weight: bold\">]</span>,\n",
       "    <span style=\"color: #808000; text-decoration-color: #808000\">country</span>=<span style=\"font-weight: bold\">[</span><span style=\"color: #008000; text-decoration-color: #008000\">'France'</span>, <span style=\"color: #008000; text-decoration-color: #008000\">'France'</span>, <span style=\"color: #008000; text-decoration-color: #008000\">'France'</span>, <span style=\"color: #008000; text-decoration-color: #008000\">'France'</span>, <span style=\"color: #008000; text-decoration-color: #008000\">'France'</span>, <span style=\"color: #008000; text-decoration-color: #008000\">'Fr'</span><span style=\"font-weight: bold\">]</span>\n",
       "<span style=\"font-weight: bold\">)</span>\n",
       "</pre>\n"
      ],
      "text/plain": [
       "\u001b[1;35mCityLocation\u001b[0m\u001b[1m(\u001b[0m\n",
       "    \u001b[33mcity\u001b[0m=\u001b[1m[\u001b[0m\n",
       "        \u001b[32m'Lille'\u001b[0m,\n",
       "        \u001b[32m'Lyon'\u001b[0m,\n",
       "        \u001b[32m'Marseille'\u001b[0m,\n",
       "        \u001b[32m'Toulouse'\u001b[0m,\n",
       "        \u001b[32m'Nantes'\u001b[0m,\n",
       "        \u001b[32m'Nice'\u001b[0m,\n",
       "        \u001b[32m'Strasbourg'\u001b[0m,\n",
       "        \u001b[32m'Rennes'\u001b[0m,\n",
       "        \u001b[32m'Grenoble'\u001b[0m,\n",
       "        \u001b[32m'Rouen'\u001b[0m,\n",
       "        \u001b[32m'Tours'\u001b[0m,\n",
       "        \u001b[32m'Montpellier'\u001b[0m,\n",
       "        \u001b[32m'Bordeaux'\u001b[0m,\n",
       "        \u001b[32m'Saint-Étienne'\u001b[0m,\n",
       "        \u001b[32m'Le Havre'\u001b[0m,\n",
       "        \u001b[32m'Reims'\u001b[0m,\n",
       "        \u001b[32m'Amiens'\u001b[0m,\n",
       "        \u001b[32m'Brest'\u001b[0m,\n",
       "        \u001b[32m'Le Mans'\u001b[0m,\n",
       "        \u001b[32m'Clermont-Ferrand'\u001b[0m\n",
       "    \u001b[1m]\u001b[0m,\n",
       "    \u001b[33mcountry\u001b[0m=\u001b[1m[\u001b[0m\u001b[32m'France'\u001b[0m, \u001b[32m'France'\u001b[0m, \u001b[32m'France'\u001b[0m, \u001b[32m'France'\u001b[0m, \u001b[32m'France'\u001b[0m, \u001b[32m'Fr'\u001b[0m\u001b[1m]\u001b[0m\n",
       "\u001b[1m)\u001b[0m\n"
      ]
     },
     "metadata": {},
     "output_type": "display_data"
    },
    {
     "data": {
      "text/html": [
       "<pre style=\"white-space:pre;overflow-x:auto;line-height:normal;font-family:Menlo,'DejaVu Sans Mono',consolas,'Courier New',monospace\"><span style=\"color: #800080; text-decoration-color: #800080; font-weight: bold\">CityLocation</span><span style=\"font-weight: bold\">(</span>\n",
       "    <span style=\"color: #808000; text-decoration-color: #808000\">city</span>=<span style=\"font-weight: bold\">[</span>\n",
       "        <span style=\"color: #008000; text-decoration-color: #008000\">'Lille'</span>,\n",
       "        <span style=\"color: #008000; text-decoration-color: #008000\">'Lyon'</span>,\n",
       "        <span style=\"color: #008000; text-decoration-color: #008000\">'Marseille'</span>,\n",
       "        <span style=\"color: #008000; text-decoration-color: #008000\">'Toulouse'</span>,\n",
       "        <span style=\"color: #008000; text-decoration-color: #008000\">'Nantes'</span>,\n",
       "        <span style=\"color: #008000; text-decoration-color: #008000\">'Nice'</span>,\n",
       "        <span style=\"color: #008000; text-decoration-color: #008000\">'Strasbourg'</span>,\n",
       "        <span style=\"color: #008000; text-decoration-color: #008000\">'Rennes'</span>,\n",
       "        <span style=\"color: #008000; text-decoration-color: #008000\">'Grenoble'</span>,\n",
       "        <span style=\"color: #008000; text-decoration-color: #008000\">'Rouen'</span>,\n",
       "        <span style=\"color: #008000; text-decoration-color: #008000\">'Tours'</span>,\n",
       "        <span style=\"color: #008000; text-decoration-color: #008000\">'Montpellier'</span>,\n",
       "        <span style=\"color: #008000; text-decoration-color: #008000\">'Bordeaux'</span>,\n",
       "        <span style=\"color: #008000; text-decoration-color: #008000\">'Saint-Étienne'</span>,\n",
       "        <span style=\"color: #008000; text-decoration-color: #008000\">'Le Havre'</span>,\n",
       "        <span style=\"color: #008000; text-decoration-color: #008000\">'Reims'</span>,\n",
       "        <span style=\"color: #008000; text-decoration-color: #008000\">'Amiens'</span>,\n",
       "        <span style=\"color: #008000; text-decoration-color: #008000\">'Brest'</span>,\n",
       "        <span style=\"color: #008000; text-decoration-color: #008000\">'Le Mans'</span>,\n",
       "        <span style=\"color: #008000; text-decoration-color: #008000\">'Clermont-Ferrand'</span>\n",
       "    <span style=\"font-weight: bold\">]</span>,\n",
       "    <span style=\"color: #808000; text-decoration-color: #808000\">country</span>=<span style=\"font-weight: bold\">[</span><span style=\"color: #008000; text-decoration-color: #008000\">'France'</span>, <span style=\"color: #008000; text-decoration-color: #008000\">'France'</span>, <span style=\"color: #008000; text-decoration-color: #008000\">'France'</span>, <span style=\"color: #008000; text-decoration-color: #008000\">'France'</span>, <span style=\"color: #008000; text-decoration-color: #008000\">'France'</span>, <span style=\"color: #008000; text-decoration-color: #008000\">'France'</span>, <span style=\"color: #008000; text-decoration-color: #008000\">'France'</span>, <span style=\"color: #008000; text-decoration-color: #008000\">'France'</span>, <span style=\"color: #008000; text-decoration-color: #008000\">'France'</span>, <span style=\"color: #008000; text-decoration-color: #008000\">'France'</span><span style=\"font-weight: bold\">]</span>\n",
       "<span style=\"font-weight: bold\">)</span>\n",
       "</pre>\n"
      ],
      "text/plain": [
       "\u001b[1;35mCityLocation\u001b[0m\u001b[1m(\u001b[0m\n",
       "    \u001b[33mcity\u001b[0m=\u001b[1m[\u001b[0m\n",
       "        \u001b[32m'Lille'\u001b[0m,\n",
       "        \u001b[32m'Lyon'\u001b[0m,\n",
       "        \u001b[32m'Marseille'\u001b[0m,\n",
       "        \u001b[32m'Toulouse'\u001b[0m,\n",
       "        \u001b[32m'Nantes'\u001b[0m,\n",
       "        \u001b[32m'Nice'\u001b[0m,\n",
       "        \u001b[32m'Strasbourg'\u001b[0m,\n",
       "        \u001b[32m'Rennes'\u001b[0m,\n",
       "        \u001b[32m'Grenoble'\u001b[0m,\n",
       "        \u001b[32m'Rouen'\u001b[0m,\n",
       "        \u001b[32m'Tours'\u001b[0m,\n",
       "        \u001b[32m'Montpellier'\u001b[0m,\n",
       "        \u001b[32m'Bordeaux'\u001b[0m,\n",
       "        \u001b[32m'Saint-Étienne'\u001b[0m,\n",
       "        \u001b[32m'Le Havre'\u001b[0m,\n",
       "        \u001b[32m'Reims'\u001b[0m,\n",
       "        \u001b[32m'Amiens'\u001b[0m,\n",
       "        \u001b[32m'Brest'\u001b[0m,\n",
       "        \u001b[32m'Le Mans'\u001b[0m,\n",
       "        \u001b[32m'Clermont-Ferrand'\u001b[0m\n",
       "    \u001b[1m]\u001b[0m,\n",
       "    \u001b[33mcountry\u001b[0m=\u001b[1m[\u001b[0m\u001b[32m'France'\u001b[0m, \u001b[32m'France'\u001b[0m, \u001b[32m'France'\u001b[0m, \u001b[32m'France'\u001b[0m, \u001b[32m'France'\u001b[0m, \u001b[32m'France'\u001b[0m, \u001b[32m'France'\u001b[0m, \u001b[32m'France'\u001b[0m, \u001b[32m'France'\u001b[0m, \u001b[32m'France'\u001b[0m\u001b[1m]\u001b[0m\n",
       "\u001b[1m)\u001b[0m\n"
      ]
     },
     "metadata": {},
     "output_type": "display_data"
    },
    {
     "data": {
      "text/html": [
       "<pre style=\"white-space:pre;overflow-x:auto;line-height:normal;font-family:Menlo,'DejaVu Sans Mono',consolas,'Courier New',monospace\"><span style=\"color: #800080; text-decoration-color: #800080; font-weight: bold\">CityLocation</span><span style=\"font-weight: bold\">(</span>\n",
       "    <span style=\"color: #808000; text-decoration-color: #808000\">city</span>=<span style=\"font-weight: bold\">[</span>\n",
       "        <span style=\"color: #008000; text-decoration-color: #008000\">'Lille'</span>,\n",
       "        <span style=\"color: #008000; text-decoration-color: #008000\">'Lyon'</span>,\n",
       "        <span style=\"color: #008000; text-decoration-color: #008000\">'Marseille'</span>,\n",
       "        <span style=\"color: #008000; text-decoration-color: #008000\">'Toulouse'</span>,\n",
       "        <span style=\"color: #008000; text-decoration-color: #008000\">'Nantes'</span>,\n",
       "        <span style=\"color: #008000; text-decoration-color: #008000\">'Nice'</span>,\n",
       "        <span style=\"color: #008000; text-decoration-color: #008000\">'Strasbourg'</span>,\n",
       "        <span style=\"color: #008000; text-decoration-color: #008000\">'Rennes'</span>,\n",
       "        <span style=\"color: #008000; text-decoration-color: #008000\">'Grenoble'</span>,\n",
       "        <span style=\"color: #008000; text-decoration-color: #008000\">'Rouen'</span>,\n",
       "        <span style=\"color: #008000; text-decoration-color: #008000\">'Tours'</span>,\n",
       "        <span style=\"color: #008000; text-decoration-color: #008000\">'Montpellier'</span>,\n",
       "        <span style=\"color: #008000; text-decoration-color: #008000\">'Bordeaux'</span>,\n",
       "        <span style=\"color: #008000; text-decoration-color: #008000\">'Saint-Étienne'</span>,\n",
       "        <span style=\"color: #008000; text-decoration-color: #008000\">'Le Havre'</span>,\n",
       "        <span style=\"color: #008000; text-decoration-color: #008000\">'Reims'</span>,\n",
       "        <span style=\"color: #008000; text-decoration-color: #008000\">'Amiens'</span>,\n",
       "        <span style=\"color: #008000; text-decoration-color: #008000\">'Brest'</span>,\n",
       "        <span style=\"color: #008000; text-decoration-color: #008000\">'Le Mans'</span>,\n",
       "        <span style=\"color: #008000; text-decoration-color: #008000\">'Clermont-Ferrand'</span>\n",
       "    <span style=\"font-weight: bold\">]</span>,\n",
       "    <span style=\"color: #808000; text-decoration-color: #808000\">country</span>=<span style=\"font-weight: bold\">[</span>\n",
       "        <span style=\"color: #008000; text-decoration-color: #008000\">'France'</span>,\n",
       "        <span style=\"color: #008000; text-decoration-color: #008000\">'France'</span>,\n",
       "        <span style=\"color: #008000; text-decoration-color: #008000\">'France'</span>,\n",
       "        <span style=\"color: #008000; text-decoration-color: #008000\">'France'</span>,\n",
       "        <span style=\"color: #008000; text-decoration-color: #008000\">'France'</span>,\n",
       "        <span style=\"color: #008000; text-decoration-color: #008000\">'France'</span>,\n",
       "        <span style=\"color: #008000; text-decoration-color: #008000\">'France'</span>,\n",
       "        <span style=\"color: #008000; text-decoration-color: #008000\">'France'</span>,\n",
       "        <span style=\"color: #008000; text-decoration-color: #008000\">'France'</span>,\n",
       "        <span style=\"color: #008000; text-decoration-color: #008000\">'France'</span>,\n",
       "        <span style=\"color: #008000; text-decoration-color: #008000\">'France'</span>,\n",
       "        <span style=\"color: #008000; text-decoration-color: #008000\">'France'</span>,\n",
       "        <span style=\"color: #008000; text-decoration-color: #008000\">'France'</span>\n",
       "    <span style=\"font-weight: bold\">]</span>\n",
       "<span style=\"font-weight: bold\">)</span>\n",
       "</pre>\n"
      ],
      "text/plain": [
       "\u001b[1;35mCityLocation\u001b[0m\u001b[1m(\u001b[0m\n",
       "    \u001b[33mcity\u001b[0m=\u001b[1m[\u001b[0m\n",
       "        \u001b[32m'Lille'\u001b[0m,\n",
       "        \u001b[32m'Lyon'\u001b[0m,\n",
       "        \u001b[32m'Marseille'\u001b[0m,\n",
       "        \u001b[32m'Toulouse'\u001b[0m,\n",
       "        \u001b[32m'Nantes'\u001b[0m,\n",
       "        \u001b[32m'Nice'\u001b[0m,\n",
       "        \u001b[32m'Strasbourg'\u001b[0m,\n",
       "        \u001b[32m'Rennes'\u001b[0m,\n",
       "        \u001b[32m'Grenoble'\u001b[0m,\n",
       "        \u001b[32m'Rouen'\u001b[0m,\n",
       "        \u001b[32m'Tours'\u001b[0m,\n",
       "        \u001b[32m'Montpellier'\u001b[0m,\n",
       "        \u001b[32m'Bordeaux'\u001b[0m,\n",
       "        \u001b[32m'Saint-Étienne'\u001b[0m,\n",
       "        \u001b[32m'Le Havre'\u001b[0m,\n",
       "        \u001b[32m'Reims'\u001b[0m,\n",
       "        \u001b[32m'Amiens'\u001b[0m,\n",
       "        \u001b[32m'Brest'\u001b[0m,\n",
       "        \u001b[32m'Le Mans'\u001b[0m,\n",
       "        \u001b[32m'Clermont-Ferrand'\u001b[0m\n",
       "    \u001b[1m]\u001b[0m,\n",
       "    \u001b[33mcountry\u001b[0m=\u001b[1m[\u001b[0m\n",
       "        \u001b[32m'France'\u001b[0m,\n",
       "        \u001b[32m'France'\u001b[0m,\n",
       "        \u001b[32m'France'\u001b[0m,\n",
       "        \u001b[32m'France'\u001b[0m,\n",
       "        \u001b[32m'France'\u001b[0m,\n",
       "        \u001b[32m'France'\u001b[0m,\n",
       "        \u001b[32m'France'\u001b[0m,\n",
       "        \u001b[32m'France'\u001b[0m,\n",
       "        \u001b[32m'France'\u001b[0m,\n",
       "        \u001b[32m'France'\u001b[0m,\n",
       "        \u001b[32m'France'\u001b[0m,\n",
       "        \u001b[32m'France'\u001b[0m,\n",
       "        \u001b[32m'France'\u001b[0m\n",
       "    \u001b[1m]\u001b[0m\n",
       "\u001b[1m)\u001b[0m\n"
      ]
     },
     "metadata": {},
     "output_type": "display_data"
    },
    {
     "data": {
      "text/html": [
       "<pre style=\"white-space:pre;overflow-x:auto;line-height:normal;font-family:Menlo,'DejaVu Sans Mono',consolas,'Courier New',monospace\"><span style=\"color: #800080; text-decoration-color: #800080; font-weight: bold\">CityLocation</span><span style=\"font-weight: bold\">(</span>\n",
       "    <span style=\"color: #808000; text-decoration-color: #808000\">city</span>=<span style=\"font-weight: bold\">[</span>\n",
       "        <span style=\"color: #008000; text-decoration-color: #008000\">'Lille'</span>,\n",
       "        <span style=\"color: #008000; text-decoration-color: #008000\">'Lyon'</span>,\n",
       "        <span style=\"color: #008000; text-decoration-color: #008000\">'Marseille'</span>,\n",
       "        <span style=\"color: #008000; text-decoration-color: #008000\">'Toulouse'</span>,\n",
       "        <span style=\"color: #008000; text-decoration-color: #008000\">'Nantes'</span>,\n",
       "        <span style=\"color: #008000; text-decoration-color: #008000\">'Nice'</span>,\n",
       "        <span style=\"color: #008000; text-decoration-color: #008000\">'Strasbourg'</span>,\n",
       "        <span style=\"color: #008000; text-decoration-color: #008000\">'Rennes'</span>,\n",
       "        <span style=\"color: #008000; text-decoration-color: #008000\">'Grenoble'</span>,\n",
       "        <span style=\"color: #008000; text-decoration-color: #008000\">'Rouen'</span>,\n",
       "        <span style=\"color: #008000; text-decoration-color: #008000\">'Tours'</span>,\n",
       "        <span style=\"color: #008000; text-decoration-color: #008000\">'Montpellier'</span>,\n",
       "        <span style=\"color: #008000; text-decoration-color: #008000\">'Bordeaux'</span>,\n",
       "        <span style=\"color: #008000; text-decoration-color: #008000\">'Saint-Étienne'</span>,\n",
       "        <span style=\"color: #008000; text-decoration-color: #008000\">'Le Havre'</span>,\n",
       "        <span style=\"color: #008000; text-decoration-color: #008000\">'Reims'</span>,\n",
       "        <span style=\"color: #008000; text-decoration-color: #008000\">'Amiens'</span>,\n",
       "        <span style=\"color: #008000; text-decoration-color: #008000\">'Brest'</span>,\n",
       "        <span style=\"color: #008000; text-decoration-color: #008000\">'Le Mans'</span>,\n",
       "        <span style=\"color: #008000; text-decoration-color: #008000\">'Clermont-Ferrand'</span>\n",
       "    <span style=\"font-weight: bold\">]</span>,\n",
       "    <span style=\"color: #808000; text-decoration-color: #808000\">country</span>=<span style=\"font-weight: bold\">[</span>\n",
       "        <span style=\"color: #008000; text-decoration-color: #008000\">'France'</span>,\n",
       "        <span style=\"color: #008000; text-decoration-color: #008000\">'France'</span>,\n",
       "        <span style=\"color: #008000; text-decoration-color: #008000\">'France'</span>,\n",
       "        <span style=\"color: #008000; text-decoration-color: #008000\">'France'</span>,\n",
       "        <span style=\"color: #008000; text-decoration-color: #008000\">'France'</span>,\n",
       "        <span style=\"color: #008000; text-decoration-color: #008000\">'France'</span>,\n",
       "        <span style=\"color: #008000; text-decoration-color: #008000\">'France'</span>,\n",
       "        <span style=\"color: #008000; text-decoration-color: #008000\">'France'</span>,\n",
       "        <span style=\"color: #008000; text-decoration-color: #008000\">'France'</span>,\n",
       "        <span style=\"color: #008000; text-decoration-color: #008000\">'France'</span>,\n",
       "        <span style=\"color: #008000; text-decoration-color: #008000\">'France'</span>,\n",
       "        <span style=\"color: #008000; text-decoration-color: #008000\">'France'</span>,\n",
       "        <span style=\"color: #008000; text-decoration-color: #008000\">'France'</span>,\n",
       "        <span style=\"color: #008000; text-decoration-color: #008000\">'France'</span>,\n",
       "        <span style=\"color: #008000; text-decoration-color: #008000\">'France'</span>,\n",
       "        <span style=\"color: #008000; text-decoration-color: #008000\">'France'</span>,\n",
       "        <span style=\"color: #008000; text-decoration-color: #008000\">'France'</span>\n",
       "    <span style=\"font-weight: bold\">]</span>\n",
       "<span style=\"font-weight: bold\">)</span>\n",
       "</pre>\n"
      ],
      "text/plain": [
       "\u001b[1;35mCityLocation\u001b[0m\u001b[1m(\u001b[0m\n",
       "    \u001b[33mcity\u001b[0m=\u001b[1m[\u001b[0m\n",
       "        \u001b[32m'Lille'\u001b[0m,\n",
       "        \u001b[32m'Lyon'\u001b[0m,\n",
       "        \u001b[32m'Marseille'\u001b[0m,\n",
       "        \u001b[32m'Toulouse'\u001b[0m,\n",
       "        \u001b[32m'Nantes'\u001b[0m,\n",
       "        \u001b[32m'Nice'\u001b[0m,\n",
       "        \u001b[32m'Strasbourg'\u001b[0m,\n",
       "        \u001b[32m'Rennes'\u001b[0m,\n",
       "        \u001b[32m'Grenoble'\u001b[0m,\n",
       "        \u001b[32m'Rouen'\u001b[0m,\n",
       "        \u001b[32m'Tours'\u001b[0m,\n",
       "        \u001b[32m'Montpellier'\u001b[0m,\n",
       "        \u001b[32m'Bordeaux'\u001b[0m,\n",
       "        \u001b[32m'Saint-Étienne'\u001b[0m,\n",
       "        \u001b[32m'Le Havre'\u001b[0m,\n",
       "        \u001b[32m'Reims'\u001b[0m,\n",
       "        \u001b[32m'Amiens'\u001b[0m,\n",
       "        \u001b[32m'Brest'\u001b[0m,\n",
       "        \u001b[32m'Le Mans'\u001b[0m,\n",
       "        \u001b[32m'Clermont-Ferrand'\u001b[0m\n",
       "    \u001b[1m]\u001b[0m,\n",
       "    \u001b[33mcountry\u001b[0m=\u001b[1m[\u001b[0m\n",
       "        \u001b[32m'France'\u001b[0m,\n",
       "        \u001b[32m'France'\u001b[0m,\n",
       "        \u001b[32m'France'\u001b[0m,\n",
       "        \u001b[32m'France'\u001b[0m,\n",
       "        \u001b[32m'France'\u001b[0m,\n",
       "        \u001b[32m'France'\u001b[0m,\n",
       "        \u001b[32m'France'\u001b[0m,\n",
       "        \u001b[32m'France'\u001b[0m,\n",
       "        \u001b[32m'France'\u001b[0m,\n",
       "        \u001b[32m'France'\u001b[0m,\n",
       "        \u001b[32m'France'\u001b[0m,\n",
       "        \u001b[32m'France'\u001b[0m,\n",
       "        \u001b[32m'France'\u001b[0m,\n",
       "        \u001b[32m'France'\u001b[0m,\n",
       "        \u001b[32m'France'\u001b[0m,\n",
       "        \u001b[32m'France'\u001b[0m,\n",
       "        \u001b[32m'France'\u001b[0m\n",
       "    \u001b[1m]\u001b[0m\n",
       "\u001b[1m)\u001b[0m\n"
      ]
     },
     "metadata": {},
     "output_type": "display_data"
    },
    {
     "data": {
      "text/html": [
       "<pre style=\"white-space:pre;overflow-x:auto;line-height:normal;font-family:Menlo,'DejaVu Sans Mono',consolas,'Courier New',monospace\"><span style=\"color: #800080; text-decoration-color: #800080; font-weight: bold\">CityLocation</span><span style=\"font-weight: bold\">(</span>\n",
       "    <span style=\"color: #808000; text-decoration-color: #808000\">city</span>=<span style=\"font-weight: bold\">[</span>\n",
       "        <span style=\"color: #008000; text-decoration-color: #008000\">'Lille'</span>,\n",
       "        <span style=\"color: #008000; text-decoration-color: #008000\">'Lyon'</span>,\n",
       "        <span style=\"color: #008000; text-decoration-color: #008000\">'Marseille'</span>,\n",
       "        <span style=\"color: #008000; text-decoration-color: #008000\">'Toulouse'</span>,\n",
       "        <span style=\"color: #008000; text-decoration-color: #008000\">'Nantes'</span>,\n",
       "        <span style=\"color: #008000; text-decoration-color: #008000\">'Nice'</span>,\n",
       "        <span style=\"color: #008000; text-decoration-color: #008000\">'Strasbourg'</span>,\n",
       "        <span style=\"color: #008000; text-decoration-color: #008000\">'Rennes'</span>,\n",
       "        <span style=\"color: #008000; text-decoration-color: #008000\">'Grenoble'</span>,\n",
       "        <span style=\"color: #008000; text-decoration-color: #008000\">'Rouen'</span>,\n",
       "        <span style=\"color: #008000; text-decoration-color: #008000\">'Tours'</span>,\n",
       "        <span style=\"color: #008000; text-decoration-color: #008000\">'Montpellier'</span>,\n",
       "        <span style=\"color: #008000; text-decoration-color: #008000\">'Bordeaux'</span>,\n",
       "        <span style=\"color: #008000; text-decoration-color: #008000\">'Saint-Étienne'</span>,\n",
       "        <span style=\"color: #008000; text-decoration-color: #008000\">'Le Havre'</span>,\n",
       "        <span style=\"color: #008000; text-decoration-color: #008000\">'Reims'</span>,\n",
       "        <span style=\"color: #008000; text-decoration-color: #008000\">'Amiens'</span>,\n",
       "        <span style=\"color: #008000; text-decoration-color: #008000\">'Brest'</span>,\n",
       "        <span style=\"color: #008000; text-decoration-color: #008000\">'Le Mans'</span>,\n",
       "        <span style=\"color: #008000; text-decoration-color: #008000\">'Clermont-Ferrand'</span>\n",
       "    <span style=\"font-weight: bold\">]</span>,\n",
       "    <span style=\"color: #808000; text-decoration-color: #808000\">country</span>=<span style=\"font-weight: bold\">[</span>\n",
       "        <span style=\"color: #008000; text-decoration-color: #008000\">'France'</span>,\n",
       "        <span style=\"color: #008000; text-decoration-color: #008000\">'France'</span>,\n",
       "        <span style=\"color: #008000; text-decoration-color: #008000\">'France'</span>,\n",
       "        <span style=\"color: #008000; text-decoration-color: #008000\">'France'</span>,\n",
       "        <span style=\"color: #008000; text-decoration-color: #008000\">'France'</span>,\n",
       "        <span style=\"color: #008000; text-decoration-color: #008000\">'France'</span>,\n",
       "        <span style=\"color: #008000; text-decoration-color: #008000\">'France'</span>,\n",
       "        <span style=\"color: #008000; text-decoration-color: #008000\">'France'</span>,\n",
       "        <span style=\"color: #008000; text-decoration-color: #008000\">'France'</span>,\n",
       "        <span style=\"color: #008000; text-decoration-color: #008000\">'France'</span>,\n",
       "        <span style=\"color: #008000; text-decoration-color: #008000\">'France'</span>,\n",
       "        <span style=\"color: #008000; text-decoration-color: #008000\">'France'</span>,\n",
       "        <span style=\"color: #008000; text-decoration-color: #008000\">'France'</span>,\n",
       "        <span style=\"color: #008000; text-decoration-color: #008000\">'France'</span>,\n",
       "        <span style=\"color: #008000; text-decoration-color: #008000\">'France'</span>,\n",
       "        <span style=\"color: #008000; text-decoration-color: #008000\">'France'</span>,\n",
       "        <span style=\"color: #008000; text-decoration-color: #008000\">'France'</span>,\n",
       "        <span style=\"color: #008000; text-decoration-color: #008000\">'France'</span>,\n",
       "        <span style=\"color: #008000; text-decoration-color: #008000\">'France'</span>,\n",
       "        <span style=\"color: #008000; text-decoration-color: #008000\">'France'</span>\n",
       "    <span style=\"font-weight: bold\">]</span>\n",
       "<span style=\"font-weight: bold\">)</span>\n",
       "</pre>\n"
      ],
      "text/plain": [
       "\u001b[1;35mCityLocation\u001b[0m\u001b[1m(\u001b[0m\n",
       "    \u001b[33mcity\u001b[0m=\u001b[1m[\u001b[0m\n",
       "        \u001b[32m'Lille'\u001b[0m,\n",
       "        \u001b[32m'Lyon'\u001b[0m,\n",
       "        \u001b[32m'Marseille'\u001b[0m,\n",
       "        \u001b[32m'Toulouse'\u001b[0m,\n",
       "        \u001b[32m'Nantes'\u001b[0m,\n",
       "        \u001b[32m'Nice'\u001b[0m,\n",
       "        \u001b[32m'Strasbourg'\u001b[0m,\n",
       "        \u001b[32m'Rennes'\u001b[0m,\n",
       "        \u001b[32m'Grenoble'\u001b[0m,\n",
       "        \u001b[32m'Rouen'\u001b[0m,\n",
       "        \u001b[32m'Tours'\u001b[0m,\n",
       "        \u001b[32m'Montpellier'\u001b[0m,\n",
       "        \u001b[32m'Bordeaux'\u001b[0m,\n",
       "        \u001b[32m'Saint-Étienne'\u001b[0m,\n",
       "        \u001b[32m'Le Havre'\u001b[0m,\n",
       "        \u001b[32m'Reims'\u001b[0m,\n",
       "        \u001b[32m'Amiens'\u001b[0m,\n",
       "        \u001b[32m'Brest'\u001b[0m,\n",
       "        \u001b[32m'Le Mans'\u001b[0m,\n",
       "        \u001b[32m'Clermont-Ferrand'\u001b[0m\n",
       "    \u001b[1m]\u001b[0m,\n",
       "    \u001b[33mcountry\u001b[0m=\u001b[1m[\u001b[0m\n",
       "        \u001b[32m'France'\u001b[0m,\n",
       "        \u001b[32m'France'\u001b[0m,\n",
       "        \u001b[32m'France'\u001b[0m,\n",
       "        \u001b[32m'France'\u001b[0m,\n",
       "        \u001b[32m'France'\u001b[0m,\n",
       "        \u001b[32m'France'\u001b[0m,\n",
       "        \u001b[32m'France'\u001b[0m,\n",
       "        \u001b[32m'France'\u001b[0m,\n",
       "        \u001b[32m'France'\u001b[0m,\n",
       "        \u001b[32m'France'\u001b[0m,\n",
       "        \u001b[32m'France'\u001b[0m,\n",
       "        \u001b[32m'France'\u001b[0m,\n",
       "        \u001b[32m'France'\u001b[0m,\n",
       "        \u001b[32m'France'\u001b[0m,\n",
       "        \u001b[32m'France'\u001b[0m,\n",
       "        \u001b[32m'France'\u001b[0m,\n",
       "        \u001b[32m'France'\u001b[0m,\n",
       "        \u001b[32m'France'\u001b[0m,\n",
       "        \u001b[32m'France'\u001b[0m,\n",
       "        \u001b[32m'France'\u001b[0m\n",
       "    \u001b[1m]\u001b[0m\n",
       "\u001b[1m)\u001b[0m\n"
      ]
     },
     "metadata": {},
     "output_type": "display_data"
    },
    {
     "data": {
      "text/html": [
       "<pre style=\"white-space:pre;overflow-x:auto;line-height:normal;font-family:Menlo,'DejaVu Sans Mono',consolas,'Courier New',monospace\"><span style=\"color: #800080; text-decoration-color: #800080; font-weight: bold\">CityLocation</span><span style=\"font-weight: bold\">(</span>\n",
       "    <span style=\"color: #808000; text-decoration-color: #808000\">city</span>=<span style=\"font-weight: bold\">[</span>\n",
       "        <span style=\"color: #008000; text-decoration-color: #008000\">'Lille'</span>,\n",
       "        <span style=\"color: #008000; text-decoration-color: #008000\">'Lyon'</span>,\n",
       "        <span style=\"color: #008000; text-decoration-color: #008000\">'Marseille'</span>,\n",
       "        <span style=\"color: #008000; text-decoration-color: #008000\">'Toulouse'</span>,\n",
       "        <span style=\"color: #008000; text-decoration-color: #008000\">'Nantes'</span>,\n",
       "        <span style=\"color: #008000; text-decoration-color: #008000\">'Nice'</span>,\n",
       "        <span style=\"color: #008000; text-decoration-color: #008000\">'Strasbourg'</span>,\n",
       "        <span style=\"color: #008000; text-decoration-color: #008000\">'Rennes'</span>,\n",
       "        <span style=\"color: #008000; text-decoration-color: #008000\">'Grenoble'</span>,\n",
       "        <span style=\"color: #008000; text-decoration-color: #008000\">'Rouen'</span>,\n",
       "        <span style=\"color: #008000; text-decoration-color: #008000\">'Tours'</span>,\n",
       "        <span style=\"color: #008000; text-decoration-color: #008000\">'Montpellier'</span>,\n",
       "        <span style=\"color: #008000; text-decoration-color: #008000\">'Bordeaux'</span>,\n",
       "        <span style=\"color: #008000; text-decoration-color: #008000\">'Saint-Étienne'</span>,\n",
       "        <span style=\"color: #008000; text-decoration-color: #008000\">'Le Havre'</span>,\n",
       "        <span style=\"color: #008000; text-decoration-color: #008000\">'Reims'</span>,\n",
       "        <span style=\"color: #008000; text-decoration-color: #008000\">'Amiens'</span>,\n",
       "        <span style=\"color: #008000; text-decoration-color: #008000\">'Brest'</span>,\n",
       "        <span style=\"color: #008000; text-decoration-color: #008000\">'Le Mans'</span>,\n",
       "        <span style=\"color: #008000; text-decoration-color: #008000\">'Clermont-Ferrand'</span>\n",
       "    <span style=\"font-weight: bold\">]</span>,\n",
       "    <span style=\"color: #808000; text-decoration-color: #808000\">country</span>=<span style=\"font-weight: bold\">[</span>\n",
       "        <span style=\"color: #008000; text-decoration-color: #008000\">'France'</span>,\n",
       "        <span style=\"color: #008000; text-decoration-color: #008000\">'France'</span>,\n",
       "        <span style=\"color: #008000; text-decoration-color: #008000\">'France'</span>,\n",
       "        <span style=\"color: #008000; text-decoration-color: #008000\">'France'</span>,\n",
       "        <span style=\"color: #008000; text-decoration-color: #008000\">'France'</span>,\n",
       "        <span style=\"color: #008000; text-decoration-color: #008000\">'France'</span>,\n",
       "        <span style=\"color: #008000; text-decoration-color: #008000\">'France'</span>,\n",
       "        <span style=\"color: #008000; text-decoration-color: #008000\">'France'</span>,\n",
       "        <span style=\"color: #008000; text-decoration-color: #008000\">'France'</span>,\n",
       "        <span style=\"color: #008000; text-decoration-color: #008000\">'France'</span>,\n",
       "        <span style=\"color: #008000; text-decoration-color: #008000\">'France'</span>,\n",
       "        <span style=\"color: #008000; text-decoration-color: #008000\">'France'</span>,\n",
       "        <span style=\"color: #008000; text-decoration-color: #008000\">'France'</span>,\n",
       "        <span style=\"color: #008000; text-decoration-color: #008000\">'France'</span>,\n",
       "        <span style=\"color: #008000; text-decoration-color: #008000\">'France'</span>,\n",
       "        <span style=\"color: #008000; text-decoration-color: #008000\">'France'</span>,\n",
       "        <span style=\"color: #008000; text-decoration-color: #008000\">'France'</span>,\n",
       "        <span style=\"color: #008000; text-decoration-color: #008000\">'France'</span>,\n",
       "        <span style=\"color: #008000; text-decoration-color: #008000\">'France'</span>,\n",
       "        <span style=\"color: #008000; text-decoration-color: #008000\">'France'</span>\n",
       "    <span style=\"font-weight: bold\">]</span>\n",
       "<span style=\"font-weight: bold\">)</span>\n",
       "</pre>\n"
      ],
      "text/plain": [
       "\u001b[1;35mCityLocation\u001b[0m\u001b[1m(\u001b[0m\n",
       "    \u001b[33mcity\u001b[0m=\u001b[1m[\u001b[0m\n",
       "        \u001b[32m'Lille'\u001b[0m,\n",
       "        \u001b[32m'Lyon'\u001b[0m,\n",
       "        \u001b[32m'Marseille'\u001b[0m,\n",
       "        \u001b[32m'Toulouse'\u001b[0m,\n",
       "        \u001b[32m'Nantes'\u001b[0m,\n",
       "        \u001b[32m'Nice'\u001b[0m,\n",
       "        \u001b[32m'Strasbourg'\u001b[0m,\n",
       "        \u001b[32m'Rennes'\u001b[0m,\n",
       "        \u001b[32m'Grenoble'\u001b[0m,\n",
       "        \u001b[32m'Rouen'\u001b[0m,\n",
       "        \u001b[32m'Tours'\u001b[0m,\n",
       "        \u001b[32m'Montpellier'\u001b[0m,\n",
       "        \u001b[32m'Bordeaux'\u001b[0m,\n",
       "        \u001b[32m'Saint-Étienne'\u001b[0m,\n",
       "        \u001b[32m'Le Havre'\u001b[0m,\n",
       "        \u001b[32m'Reims'\u001b[0m,\n",
       "        \u001b[32m'Amiens'\u001b[0m,\n",
       "        \u001b[32m'Brest'\u001b[0m,\n",
       "        \u001b[32m'Le Mans'\u001b[0m,\n",
       "        \u001b[32m'Clermont-Ferrand'\u001b[0m\n",
       "    \u001b[1m]\u001b[0m,\n",
       "    \u001b[33mcountry\u001b[0m=\u001b[1m[\u001b[0m\n",
       "        \u001b[32m'France'\u001b[0m,\n",
       "        \u001b[32m'France'\u001b[0m,\n",
       "        \u001b[32m'France'\u001b[0m,\n",
       "        \u001b[32m'France'\u001b[0m,\n",
       "        \u001b[32m'France'\u001b[0m,\n",
       "        \u001b[32m'France'\u001b[0m,\n",
       "        \u001b[32m'France'\u001b[0m,\n",
       "        \u001b[32m'France'\u001b[0m,\n",
       "        \u001b[32m'France'\u001b[0m,\n",
       "        \u001b[32m'France'\u001b[0m,\n",
       "        \u001b[32m'France'\u001b[0m,\n",
       "        \u001b[32m'France'\u001b[0m,\n",
       "        \u001b[32m'France'\u001b[0m,\n",
       "        \u001b[32m'France'\u001b[0m,\n",
       "        \u001b[32m'France'\u001b[0m,\n",
       "        \u001b[32m'France'\u001b[0m,\n",
       "        \u001b[32m'France'\u001b[0m,\n",
       "        \u001b[32m'France'\u001b[0m,\n",
       "        \u001b[32m'France'\u001b[0m,\n",
       "        \u001b[32m'France'\u001b[0m\n",
       "    \u001b[1m]\u001b[0m\n",
       "\u001b[1m)\u001b[0m\n"
      ]
     },
     "metadata": {},
     "output_type": "display_data"
    }
   ],
   "source": [
    "from typing_extensions import TypedDict\n",
    "\n",
    "\n",
    "class CityLocation(BaseModel):\n",
    "    city: list[str]\n",
    "    country: list[str] = []\n",
    "     \n",
    "model = MistralModel(\n",
    "    model_name='mistral-large-latest', \n",
    "    api_key=os.environ.get('MISTRAL_API_KEY')\n",
    ")\n",
    "agent = Agent(model,result_type=CityLocation)\n",
    "async with agent.run_stream('Could you give a 20 random city? in france') as result:\n",
    "    async for profile in result.stream():\n",
    "        print(profile)\n"
   ]
  },
  {
   "cell_type": "markdown",
   "metadata": {},
   "source": [
    "# Function"
   ]
  },
  {
   "cell_type": "code",
   "execution_count": 17,
   "metadata": {},
   "outputs": [],
   "source": [
    "from pydantic_ai import Agent, RunContext\n",
    "\n",
    "\n",
    "model = MistralModel(\n",
    "    model_name='mistral-large-latest', \n",
    "    api_key=os.environ.get('MISTRAL_API_KEY')\n",
    ")\n",
    "agent = Agent(  \n",
    "    model,\n",
    "    deps_type=int,\n",
    "    result_type=str,\n",
    "    system_prompt=(\n",
    "        'Use the `roulette_wheel` function to see if the '\n",
    "        'customer has won based on the number they provide. please explain why'\n",
    "    ),\n",
    ")\n",
    "\n",
    "\n",
    "@agent.tool\n",
    "async def roulette_wheel(ctx: RunContext[int], square: int) -> str:  \n",
    "    \"\"\"check if the square is a winner\"\"\"\n",
    "    return 'winner' if square == ctx.deps else 'loser'\n",
    "\n",
    "success_number = 18  "
   ]
  },
  {
   "cell_type": "code",
   "execution_count": 18,
   "metadata": {},
   "outputs": [
    {
     "name": "stdout",
     "output_type": "stream",
     "text": [
      "21:16:09.925 agent run prompt=Put my money on square eighteen\n",
      "21:16:09.928   preparing model and tools run_step=1\n",
      "21:16:09.932   model request\n",
      "21:16:14.488   handle model response\n",
      "21:16:14.489     running tools=['roulette_wheel']\n",
      "21:16:14.490   preparing model and tools run_step=2\n",
      "21:16:14.490   model request\n",
      "21:16:15.476   handle model response\n"
     ]
    },
    {
     "data": {
      "text/html": [
       "<pre style=\"white-space:pre;overflow-x:auto;line-height:normal;font-family:Menlo,'DejaVu Sans Mono',consolas,'Courier New',monospace\">The customer has won because the square they provided, <span style=\"color: #008080; text-decoration-color: #008080; font-weight: bold\">18</span>, was a winning square according to the `roulette_wheel` \n",
       "function. This function determines whether a given square is a winner based on the rules of the game.\n",
       "</pre>\n"
      ],
      "text/plain": [
       "The customer has won because the square they provided, \u001b[1;36m18\u001b[0m, was a winning square according to the `roulette_wheel` \n",
       "function. This function determines whether a given square is a winner based on the rules of the game.\n"
      ]
     },
     "metadata": {},
     "output_type": "display_data"
    }
   ],
   "source": [
    "# Run the agent\n",
    "\n",
    "result = agent.run_sync('Put my money on square eighteen', deps=success_number)\n",
    "print(result.data)  \n",
    "\n",
    "\n"
   ]
  },
  {
   "cell_type": "code",
   "execution_count": 19,
   "metadata": {},
   "outputs": [
    {
     "name": "stdout",
     "output_type": "stream",
     "text": [
      "21:16:15.485 agent run stream prompt=Put my money on square eighteen\n",
      "21:16:15.486   preparing model and tools run_step=1\n",
      "21:16:15.487   model request run_step=1\n",
      "21:16:16.050   handle model response\n",
      "21:16:16.052     running tools=['roulette_wheel']\n",
      "21:16:16.053   preparing model and tools run_step=2\n",
      "21:16:16.053   model request run_step=2\n",
      "21:16:16.187   handle model response\n",
      "21:16:16.188     response stream text\n"
     ]
    },
    {
     "data": {
      "text/html": [
       "<pre style=\"white-space:pre;overflow-x:auto;line-height:normal;font-family:Menlo,'DejaVu Sans Mono',consolas,'Courier New',monospace\">You are a winner\n",
       "</pre>\n"
      ],
      "text/plain": [
       "You are a winner\n"
      ]
     },
     "metadata": {},
     "output_type": "display_data"
    },
    {
     "data": {
      "text/html": [
       "<pre style=\"white-space:pre;overflow-x:auto;line-height:normal;font-family:Menlo,'DejaVu Sans Mono',consolas,'Courier New',monospace\">You are a winner! The reason is the number you chose\n",
       "</pre>\n"
      ],
      "text/plain": [
       "You are a winner! The reason is the number you chose\n"
      ]
     },
     "metadata": {},
     "output_type": "display_data"
    },
    {
     "data": {
      "text/html": [
       "<pre style=\"white-space:pre;overflow-x:auto;line-height:normal;font-family:Menlo,'DejaVu Sans Mono',consolas,'Courier New',monospace\">You are a winner! The reason is the number you chose <span style=\"color: #008080; text-decoration-color: #008080; font-weight: bold\">18</span> is an\n",
       "</pre>\n"
      ],
      "text/plain": [
       "You are a winner! The reason is the number you chose \u001b[1;36m18\u001b[0m is an\n"
      ]
     },
     "metadata": {},
     "output_type": "display_data"
    },
    {
     "data": {
      "text/html": [
       "<pre style=\"white-space:pre;overflow-x:auto;line-height:normal;font-family:Menlo,'DejaVu Sans Mono',consolas,'Courier New',monospace\">You are a winner! The reason is the number you chose <span style=\"color: #008080; text-decoration-color: #008080; font-weight: bold\">18</span> is an even number. In Roulette\n",
       "</pre>\n"
      ],
      "text/plain": [
       "You are a winner! The reason is the number you chose \u001b[1;36m18\u001b[0m is an even number. In Roulette\n"
      ]
     },
     "metadata": {},
     "output_type": "display_data"
    },
    {
     "data": {
      "text/html": [
       "<pre style=\"white-space:pre;overflow-x:auto;line-height:normal;font-family:Menlo,'DejaVu Sans Mono',consolas,'Courier New',monospace\">You are a winner! The reason is the number you chose <span style=\"color: #008080; text-decoration-color: #008080; font-weight: bold\">18</span> is an even number. In Roulette, you can place your\n",
       "</pre>\n"
      ],
      "text/plain": [
       "You are a winner! The reason is the number you chose \u001b[1;36m18\u001b[0m is an even number. In Roulette, you can place your\n"
      ]
     },
     "metadata": {},
     "output_type": "display_data"
    },
    {
     "data": {
      "text/html": [
       "<pre style=\"white-space:pre;overflow-x:auto;line-height:normal;font-family:Menlo,'DejaVu Sans Mono',consolas,'Courier New',monospace\">You are a winner! The reason is the number you chose <span style=\"color: #008080; text-decoration-color: #008080; font-weight: bold\">18</span> is an even number. In Roulette, you can place your bets on \n",
       "individual\n",
       "</pre>\n"
      ],
      "text/plain": [
       "You are a winner! The reason is the number you chose \u001b[1;36m18\u001b[0m is an even number. In Roulette, you can place your bets on \n",
       "individual\n"
      ]
     },
     "metadata": {},
     "output_type": "display_data"
    },
    {
     "data": {
      "text/html": [
       "<pre style=\"white-space:pre;overflow-x:auto;line-height:normal;font-family:Menlo,'DejaVu Sans Mono',consolas,'Courier New',monospace\">You are a winner! The reason is the number you chose <span style=\"color: #008080; text-decoration-color: #008080; font-weight: bold\">18</span> is an even number. In Roulette, you can place your bets on \n",
       "individual numbers or on groups of numbers. One common way to bet on groups of numbers is to bet on all even or all\n",
       "odd numbers. If the ball lands on an even number <span style=\"font-weight: bold\">(</span>such as <span style=\"color: #008080; text-decoration-color: #008080; font-weight: bold\">18</span><span style=\"font-weight: bold\">)</span> and you have placed a bet on even, you win. \n",
       "Similarly, if the ball lands on an odd number and you have placed a bet on odd, you win. This is a\n",
       "</pre>\n"
      ],
      "text/plain": [
       "You are a winner! The reason is the number you chose \u001b[1;36m18\u001b[0m is an even number. In Roulette, you can place your bets on \n",
       "individual numbers or on groups of numbers. One common way to bet on groups of numbers is to bet on all even or all\n",
       "odd numbers. If the ball lands on an even number \u001b[1m(\u001b[0msuch as \u001b[1;36m18\u001b[0m\u001b[1m)\u001b[0m and you have placed a bet on even, you win. \n",
       "Similarly, if the ball lands on an odd number and you have placed a bet on odd, you win. This is a\n"
      ]
     },
     "metadata": {},
     "output_type": "display_data"
    },
    {
     "data": {
      "text/html": [
       "<pre style=\"white-space:pre;overflow-x:auto;line-height:normal;font-family:Menlo,'DejaVu Sans Mono',consolas,'Courier New',monospace\">You are a winner! The reason is the number you chose <span style=\"color: #008080; text-decoration-color: #008080; font-weight: bold\">18</span> is an even number. In Roulette, you can place your bets on \n",
       "individual numbers or on groups of numbers. One common way to bet on groups of numbers is to bet on all even or all\n",
       "odd numbers. If the ball lands on an even number <span style=\"font-weight: bold\">(</span>such as <span style=\"color: #008080; text-decoration-color: #008080; font-weight: bold\">18</span><span style=\"font-weight: bold\">)</span> and you have placed a bet on even, you win. \n",
       "Similarly, if the ball lands on an odd number and you have placed a bet on odd, you win. This is a straightforward \n",
       "way to play and offers\n",
       "</pre>\n"
      ],
      "text/plain": [
       "You are a winner! The reason is the number you chose \u001b[1;36m18\u001b[0m is an even number. In Roulette, you can place your bets on \n",
       "individual numbers or on groups of numbers. One common way to bet on groups of numbers is to bet on all even or all\n",
       "odd numbers. If the ball lands on an even number \u001b[1m(\u001b[0msuch as \u001b[1;36m18\u001b[0m\u001b[1m)\u001b[0m and you have placed a bet on even, you win. \n",
       "Similarly, if the ball lands on an odd number and you have placed a bet on odd, you win. This is a straightforward \n",
       "way to play and offers\n"
      ]
     },
     "metadata": {},
     "output_type": "display_data"
    },
    {
     "data": {
      "text/html": [
       "<pre style=\"white-space:pre;overflow-x:auto;line-height:normal;font-family:Menlo,'DejaVu Sans Mono',consolas,'Courier New',monospace\">You are a winner! The reason is the number you chose <span style=\"color: #008080; text-decoration-color: #008080; font-weight: bold\">18</span> is an even number. In Roulette, you can place your bets on \n",
       "individual numbers or on groups of numbers. One common way to bet on groups of numbers is to bet on all even or all\n",
       "odd numbers. If the ball lands on an even number <span style=\"font-weight: bold\">(</span>such as <span style=\"color: #008080; text-decoration-color: #008080; font-weight: bold\">18</span><span style=\"font-weight: bold\">)</span> and you have placed a bet on even, you win. \n",
       "Similarly, if the ball lands on an odd number and you have placed a bet on odd, you win. This is a straightforward \n",
       "way to play and offers a nearly <span style=\"color: #008080; text-decoration-color: #008080; font-weight: bold\">50</span>/<span style=\"color: #008080; text-decoration-color: #008080; font-weight: bold\">50</span> chance\n",
       "</pre>\n"
      ],
      "text/plain": [
       "You are a winner! The reason is the number you chose \u001b[1;36m18\u001b[0m is an even number. In Roulette, you can place your bets on \n",
       "individual numbers or on groups of numbers. One common way to bet on groups of numbers is to bet on all even or all\n",
       "odd numbers. If the ball lands on an even number \u001b[1m(\u001b[0msuch as \u001b[1;36m18\u001b[0m\u001b[1m)\u001b[0m and you have placed a bet on even, you win. \n",
       "Similarly, if the ball lands on an odd number and you have placed a bet on odd, you win. This is a straightforward \n",
       "way to play and offers a nearly \u001b[1;36m50\u001b[0m/\u001b[1;36m50\u001b[0m chance\n"
      ]
     },
     "metadata": {},
     "output_type": "display_data"
    },
    {
     "data": {
      "text/html": [
       "<pre style=\"white-space:pre;overflow-x:auto;line-height:normal;font-family:Menlo,'DejaVu Sans Mono',consolas,'Courier New',monospace\">You are a winner! The reason is the number you chose <span style=\"color: #008080; text-decoration-color: #008080; font-weight: bold\">18</span> is an even number. In Roulette, you can place your bets on \n",
       "individual numbers or on groups of numbers. One common way to bet on groups of numbers is to bet on all even or all\n",
       "odd numbers. If the ball lands on an even number <span style=\"font-weight: bold\">(</span>such as <span style=\"color: #008080; text-decoration-color: #008080; font-weight: bold\">18</span><span style=\"font-weight: bold\">)</span> and you have placed a bet on even, you win. \n",
       "Similarly, if the ball lands on an odd number and you have placed a bet on odd, you win. This is a straightforward \n",
       "way to play and offers a nearly <span style=\"color: #008080; text-decoration-color: #008080; font-weight: bold\">50</span>/<span style=\"color: #008080; text-decoration-color: #008080; font-weight: bold\">50</span> chance of winning, with the\n",
       "</pre>\n"
      ],
      "text/plain": [
       "You are a winner! The reason is the number you chose \u001b[1;36m18\u001b[0m is an even number. In Roulette, you can place your bets on \n",
       "individual numbers or on groups of numbers. One common way to bet on groups of numbers is to bet on all even or all\n",
       "odd numbers. If the ball lands on an even number \u001b[1m(\u001b[0msuch as \u001b[1;36m18\u001b[0m\u001b[1m)\u001b[0m and you have placed a bet on even, you win. \n",
       "Similarly, if the ball lands on an odd number and you have placed a bet on odd, you win. This is a straightforward \n",
       "way to play and offers a nearly \u001b[1;36m50\u001b[0m/\u001b[1;36m50\u001b[0m chance of winning, with the\n"
      ]
     },
     "metadata": {},
     "output_type": "display_data"
    },
    {
     "data": {
      "text/html": [
       "<pre style=\"white-space:pre;overflow-x:auto;line-height:normal;font-family:Menlo,'DejaVu Sans Mono',consolas,'Courier New',monospace\">You are a winner! The reason is the number you chose <span style=\"color: #008080; text-decoration-color: #008080; font-weight: bold\">18</span> is an even number. In Roulette, you can place your bets on \n",
       "individual numbers or on groups of numbers. One common way to bet on groups of numbers is to bet on all even or all\n",
       "odd numbers. If the ball lands on an even number <span style=\"font-weight: bold\">(</span>such as <span style=\"color: #008080; text-decoration-color: #008080; font-weight: bold\">18</span><span style=\"font-weight: bold\">)</span> and you have placed a bet on even, you win. \n",
       "Similarly, if the ball lands on an odd number and you have placed a bet on odd, you win. This is a straightforward \n",
       "way to play and offers a nearly <span style=\"color: #008080; text-decoration-color: #008080; font-weight: bold\">50</span>/<span style=\"color: #008080; text-decoration-color: #008080; font-weight: bold\">50</span> chance of winning, with the exception of\n",
       "</pre>\n"
      ],
      "text/plain": [
       "You are a winner! The reason is the number you chose \u001b[1;36m18\u001b[0m is an even number. In Roulette, you can place your bets on \n",
       "individual numbers or on groups of numbers. One common way to bet on groups of numbers is to bet on all even or all\n",
       "odd numbers. If the ball lands on an even number \u001b[1m(\u001b[0msuch as \u001b[1;36m18\u001b[0m\u001b[1m)\u001b[0m and you have placed a bet on even, you win. \n",
       "Similarly, if the ball lands on an odd number and you have placed a bet on odd, you win. This is a straightforward \n",
       "way to play and offers a nearly \u001b[1;36m50\u001b[0m/\u001b[1;36m50\u001b[0m chance of winning, with the exception of\n"
      ]
     },
     "metadata": {},
     "output_type": "display_data"
    },
    {
     "data": {
      "text/html": [
       "<pre style=\"white-space:pre;overflow-x:auto;line-height:normal;font-family:Menlo,'DejaVu Sans Mono',consolas,'Courier New',monospace\">You are a winner! The reason is the number you chose <span style=\"color: #008080; text-decoration-color: #008080; font-weight: bold\">18</span> is an even number. In Roulette, you can place your bets on \n",
       "individual numbers or on groups of numbers. One common way to bet on groups of numbers is to bet on all even or all\n",
       "odd numbers. If the ball lands on an even number <span style=\"font-weight: bold\">(</span>such as <span style=\"color: #008080; text-decoration-color: #008080; font-weight: bold\">18</span><span style=\"font-weight: bold\">)</span> and you have placed a bet on even, you win. \n",
       "Similarly, if the ball lands on an odd number and you have placed a bet on odd, you win. This is a straightforward \n",
       "way to play and offers a nearly <span style=\"color: #008080; text-decoration-color: #008080; font-weight: bold\">50</span>/<span style=\"color: #008080; text-decoration-color: #008080; font-weight: bold\">50</span> chance of winning, with the exception of the zero <span style=\"font-weight: bold\">(</span>and double zero in \n",
       "American roulette<span style=\"font-weight: bold\">)</span>, which does not count as either even or odd.\n",
       "</pre>\n"
      ],
      "text/plain": [
       "You are a winner! The reason is the number you chose \u001b[1;36m18\u001b[0m is an even number. In Roulette, you can place your bets on \n",
       "individual numbers or on groups of numbers. One common way to bet on groups of numbers is to bet on all even or all\n",
       "odd numbers. If the ball lands on an even number \u001b[1m(\u001b[0msuch as \u001b[1;36m18\u001b[0m\u001b[1m)\u001b[0m and you have placed a bet on even, you win. \n",
       "Similarly, if the ball lands on an odd number and you have placed a bet on odd, you win. This is a straightforward \n",
       "way to play and offers a nearly \u001b[1;36m50\u001b[0m/\u001b[1;36m50\u001b[0m chance of winning, with the exception of the zero \u001b[1m(\u001b[0mand double zero in \n",
       "American roulette\u001b[1m)\u001b[0m, which does not count as either even or odd.\n"
      ]
     },
     "metadata": {},
     "output_type": "display_data"
    }
   ],
   "source": [
    "async with agent.run_stream('Put my money on square eighteen', deps=success_number) as result:\n",
    "    async for profile in result.stream():\n",
    "        print(profile)"
   ]
  },
  {
   "cell_type": "code",
   "execution_count": 20,
   "metadata": {},
   "outputs": [],
   "source": [
    "from typing import TypedDict\n",
    "from pydantic_ai import Agent, RunContext\n",
    "\n",
    "class MyTypedDict(TypedDict, total=False):\n",
    "    won: bool\n",
    "    \n",
    "model = MistralModel(\n",
    "    model_name='mistral-large-latest', \n",
    "    api_key=os.environ.get('MISTRAL_API_KEY')\n",
    ")\n",
    "agent = Agent(  \n",
    "    model,\n",
    "    deps_type=int,\n",
    "    result_type=MyTypedDict,\n",
    "    system_prompt=(\n",
    "        'Use the `roulette_wheel` function to see if the '\n",
    "        'customer has won based on the number they provide. please explain why'\n",
    "    ),\n",
    ")\n",
    "\n",
    "\n",
    "@agent.tool\n",
    "async def roulette_wheel(ctx: RunContext[int], square: int) -> str:  \n",
    "    \"\"\"check if the square is a winner\"\"\"\n",
    "    return 'winner' if square == ctx.deps else 'loser'\n"
   ]
  },
  {
   "cell_type": "code",
   "execution_count": 21,
   "metadata": {},
   "outputs": [
    {
     "name": "stdout",
     "output_type": "stream",
     "text": [
      "21:16:19.499 agent run prompt=Put my money on square eighteen\n",
      "21:16:19.499   preparing model and tools run_step=1\n",
      "21:16:19.500   model request\n",
      "21:16:20.145   handle model response\n",
      "21:16:20.145     running tools=['roulette_wheel']\n",
      "21:16:20.146   preparing model and tools run_step=2\n",
      "21:16:20.146   model request\n",
      "21:16:20.599   handle model response\n"
     ]
    },
    {
     "data": {
      "text/html": [
       "<pre style=\"white-space:pre;overflow-x:auto;line-height:normal;font-family:Menlo,'DejaVu Sans Mono',consolas,'Courier New',monospace\"><span style=\"font-weight: bold\">{</span><span style=\"color: #008000; text-decoration-color: #008000\">'won'</span>: <span style=\"color: #00ff00; text-decoration-color: #00ff00; font-style: italic\">True</span><span style=\"font-weight: bold\">}</span>\n",
       "</pre>\n"
      ],
      "text/plain": [
       "\u001b[1m{\u001b[0m\u001b[32m'won'\u001b[0m: \u001b[3;92mTrue\u001b[0m\u001b[1m}\u001b[0m\n"
      ]
     },
     "metadata": {},
     "output_type": "display_data"
    }
   ],
   "source": [
    "# Run the agent\n",
    "success_number = 18  \n",
    "result = agent.run_sync('Put my money on square eighteen', deps=success_number)\n",
    "print(result.data)  \n",
    "\n",
    "\n"
   ]
  },
  {
   "cell_type": "code",
   "execution_count": 22,
   "metadata": {},
   "outputs": [
    {
     "name": "stdout",
     "output_type": "stream",
     "text": [
      "21:16:20.608 agent run stream prompt=Put my money on square eighteen\n",
      "21:16:20.610   preparing model and tools run_step=1\n",
      "21:16:20.611   model request run_step=1\n",
      "21:16:21.990   handle model response\n",
      "21:16:21.992     running tools=['roulette_wheel']\n",
      "21:16:21.995   preparing model and tools run_step=2\n",
      "21:16:21.996   model request run_step=2\n",
      "21:16:22.492   handle model response\n",
      "21:16:22.493     response stream structured\n"
     ]
    },
    {
     "data": {
      "text/html": [
       "<pre style=\"white-space:pre;overflow-x:auto;line-height:normal;font-family:Menlo,'DejaVu Sans Mono',consolas,'Courier New',monospace\"><span style=\"font-weight: bold\">{</span><span style=\"color: #008000; text-decoration-color: #008000\">'won'</span>: <span style=\"color: #00ff00; text-decoration-color: #00ff00; font-style: italic\">True</span><span style=\"font-weight: bold\">}</span>\n",
       "</pre>\n"
      ],
      "text/plain": [
       "\u001b[1m{\u001b[0m\u001b[32m'won'\u001b[0m: \u001b[3;92mTrue\u001b[0m\u001b[1m}\u001b[0m\n"
      ]
     },
     "metadata": {},
     "output_type": "display_data"
    },
    {
     "data": {
      "text/html": [
       "<pre style=\"white-space:pre;overflow-x:auto;line-height:normal;font-family:Menlo,'DejaVu Sans Mono',consolas,'Courier New',monospace\"><span style=\"font-weight: bold\">{</span><span style=\"color: #008000; text-decoration-color: #008000\">'won'</span>: <span style=\"color: #00ff00; text-decoration-color: #00ff00; font-style: italic\">True</span><span style=\"font-weight: bold\">}</span>\n",
       "</pre>\n"
      ],
      "text/plain": [
       "\u001b[1m{\u001b[0m\u001b[32m'won'\u001b[0m: \u001b[3;92mTrue\u001b[0m\u001b[1m}\u001b[0m\n"
      ]
     },
     "metadata": {},
     "output_type": "display_data"
    }
   ],
   "source": [
    "async with agent.run_stream('Put my money on square eighteen', deps=success_number) as result:\n",
    "    async for profile in result.stream():\n",
    "        print(profile)"
   ]
  },
  {
   "cell_type": "code",
   "execution_count": 23,
   "metadata": {},
   "outputs": [
    {
     "name": "stdout",
     "output_type": "stream",
     "text": [
      "21:16:22.522 agent run stream prompt=Put my money on square eighteen\n",
      "21:16:22.523   preparing model and tools run_step=1\n",
      "21:16:22.525   model request run_step=1\n",
      "21:16:23.092   handle model response\n",
      "21:16:23.093     running tools=['roulette_wheel']\n"
     ]
    },
    {
     "data": {
      "text/html": [
       "<pre style=\"white-space:pre;overflow-x:auto;line-height:normal;font-family:Menlo,'DejaVu Sans Mono',consolas,'Courier New',monospace\">a\n",
       "</pre>\n"
      ],
      "text/plain": [
       "a\n"
      ]
     },
     "metadata": {},
     "output_type": "display_data"
    },
    {
     "name": "stdout",
     "output_type": "stream",
     "text": [
      "21:16:23.096   preparing model and tools run_step=2\n",
      "21:16:23.096   model request run_step=2\n",
      "21:16:23.839   handle model response\n",
      "21:16:23.841     running tools=['roulette_wheel_part_2']\n"
     ]
    },
    {
     "data": {
      "text/html": [
       "<pre style=\"white-space:pre;overflow-x:auto;line-height:normal;font-family:Menlo,'DejaVu Sans Mono',consolas,'Courier New',monospace\">b\n",
       "</pre>\n"
      ],
      "text/plain": [
       "b\n"
      ]
     },
     "metadata": {},
     "output_type": "display_data"
    },
    {
     "name": "stdout",
     "output_type": "stream",
     "text": [
      "21:16:23.846   preparing model and tools run_step=3\n",
      "21:16:23.847   model request run_step=3\n",
      "21:16:24.002   handle model response\n",
      "21:16:24.005     response stream text\n"
     ]
    },
    {
     "data": {
      "text/html": [
       "<pre style=\"white-space:pre;overflow-x:auto;line-height:normal;font-family:Menlo,'DejaVu Sans Mono',consolas,'Courier New',monospace\">The customer won both parts\n",
       "</pre>\n"
      ],
      "text/plain": [
       "The customer won both parts\n"
      ]
     },
     "metadata": {},
     "output_type": "display_data"
    },
    {
     "data": {
      "text/html": [
       "<pre style=\"white-space:pre;overflow-x:auto;line-height:normal;font-family:Menlo,'DejaVu Sans Mono',consolas,'Courier New',monospace\">The customer won both parts of the roulette game by betting\n",
       "</pre>\n"
      ],
      "text/plain": [
       "The customer won both parts of the roulette game by betting\n"
      ]
     },
     "metadata": {},
     "output_type": "display_data"
    },
    {
     "data": {
      "text/html": [
       "<pre style=\"white-space:pre;overflow-x:auto;line-height:normal;font-family:Menlo,'DejaVu Sans Mono',consolas,'Courier New',monospace\">The customer won both parts of the roulette game by betting on square <span style=\"color: #008080; text-decoration-color: #008080; font-weight: bold\">18</span>\n",
       "</pre>\n"
      ],
      "text/plain": [
       "The customer won both parts of the roulette game by betting on square \u001b[1;36m18\u001b[0m\n"
      ]
     },
     "metadata": {},
     "output_type": "display_data"
    },
    {
     "data": {
      "text/html": [
       "<pre style=\"white-space:pre;overflow-x:auto;line-height:normal;font-family:Menlo,'DejaVu Sans Mono',consolas,'Courier New',monospace\">The customer won both parts of the roulette game by betting on square <span style=\"color: #008080; text-decoration-color: #008080; font-weight: bold\">18</span>. The `roulette_\n",
       "</pre>\n"
      ],
      "text/plain": [
       "The customer won both parts of the roulette game by betting on square \u001b[1;36m18\u001b[0m. The `roulette_\n"
      ]
     },
     "metadata": {},
     "output_type": "display_data"
    },
    {
     "data": {
      "text/html": [
       "<pre style=\"white-space:pre;overflow-x:auto;line-height:normal;font-family:Menlo,'DejaVu Sans Mono',consolas,'Courier New',monospace\">The customer won both parts of the roulette game by betting on square <span style=\"color: #008080; text-decoration-color: #008080; font-weight: bold\">18</span>. The `roulette_wheel` function determined \n",
       "that \n",
       "</pre>\n"
      ],
      "text/plain": [
       "The customer won both parts of the roulette game by betting on square \u001b[1;36m18\u001b[0m. The `roulette_wheel` function determined \n",
       "that \n"
      ]
     },
     "metadata": {},
     "output_type": "display_data"
    },
    {
     "data": {
      "text/html": [
       "<pre style=\"white-space:pre;overflow-x:auto;line-height:normal;font-family:Menlo,'DejaVu Sans Mono',consolas,'Courier New',monospace\">The customer won both parts of the roulette game by betting on square <span style=\"color: #008080; text-decoration-color: #008080; font-weight: bold\">18</span>. The `roulette_wheel` function determined \n",
       "that <span style=\"color: #008080; text-decoration-color: #008080; font-weight: bold\">18</span> was a winning square\n",
       "</pre>\n"
      ],
      "text/plain": [
       "The customer won both parts of the roulette game by betting on square \u001b[1;36m18\u001b[0m. The `roulette_wheel` function determined \n",
       "that \u001b[1;36m18\u001b[0m was a winning square\n"
      ]
     },
     "metadata": {},
     "output_type": "display_data"
    },
    {
     "data": {
      "text/html": [
       "<pre style=\"white-space:pre;overflow-x:auto;line-height:normal;font-family:Menlo,'DejaVu Sans Mono',consolas,'Courier New',monospace\">The customer won both parts of the roulette game by betting on square <span style=\"color: #008080; text-decoration-color: #008080; font-weight: bold\">18</span>. The `roulette_wheel` function determined \n",
       "that <span style=\"color: #008080; text-decoration-color: #008080; font-weight: bold\">18</span> was a winning square in the first part,\n",
       "</pre>\n"
      ],
      "text/plain": [
       "The customer won both parts of the roulette game by betting on square \u001b[1;36m18\u001b[0m. The `roulette_wheel` function determined \n",
       "that \u001b[1;36m18\u001b[0m was a winning square in the first part,\n"
      ]
     },
     "metadata": {},
     "output_type": "display_data"
    },
    {
     "data": {
      "text/html": [
       "<pre style=\"white-space:pre;overflow-x:auto;line-height:normal;font-family:Menlo,'DejaVu Sans Mono',consolas,'Courier New',monospace\">The customer won both parts of the roulette game by betting on square <span style=\"color: #008080; text-decoration-color: #008080; font-weight: bold\">18</span>. The `roulette_wheel` function determined \n",
       "that <span style=\"color: #008080; text-decoration-color: #008080; font-weight: bold\">18</span> was a winning square in the first part, and the `roulette\n",
       "</pre>\n"
      ],
      "text/plain": [
       "The customer won both parts of the roulette game by betting on square \u001b[1;36m18\u001b[0m. The `roulette_wheel` function determined \n",
       "that \u001b[1;36m18\u001b[0m was a winning square in the first part, and the `roulette\n"
      ]
     },
     "metadata": {},
     "output_type": "display_data"
    },
    {
     "data": {
      "text/html": [
       "<pre style=\"white-space:pre;overflow-x:auto;line-height:normal;font-family:Menlo,'DejaVu Sans Mono',consolas,'Courier New',monospace\">The customer won both parts of the roulette game by betting on square <span style=\"color: #008080; text-decoration-color: #008080; font-weight: bold\">18</span>. The `roulette_wheel` function determined \n",
       "that <span style=\"color: #008080; text-decoration-color: #008080; font-weight: bold\">18</span> was a winning square in the first part, and the `roulette_wheel_part_\n",
       "</pre>\n"
      ],
      "text/plain": [
       "The customer won both parts of the roulette game by betting on square \u001b[1;36m18\u001b[0m. The `roulette_wheel` function determined \n",
       "that \u001b[1;36m18\u001b[0m was a winning square in the first part, and the `roulette_wheel_part_\n"
      ]
     },
     "metadata": {},
     "output_type": "display_data"
    },
    {
     "data": {
      "text/html": [
       "<pre style=\"white-space:pre;overflow-x:auto;line-height:normal;font-family:Menlo,'DejaVu Sans Mono',consolas,'Courier New',monospace\">The customer won both parts of the roulette game by betting on square <span style=\"color: #008080; text-decoration-color: #008080; font-weight: bold\">18</span>. The `roulette_wheel` function determined \n",
       "that <span style=\"color: #008080; text-decoration-color: #008080; font-weight: bold\">18</span> was a winning square in the first part, and the `roulette_wheel_part_2` function confirmed that \n",
       "</pre>\n"
      ],
      "text/plain": [
       "The customer won both parts of the roulette game by betting on square \u001b[1;36m18\u001b[0m. The `roulette_wheel` function determined \n",
       "that \u001b[1;36m18\u001b[0m was a winning square in the first part, and the `roulette_wheel_part_2` function confirmed that \n"
      ]
     },
     "metadata": {},
     "output_type": "display_data"
    },
    {
     "data": {
      "text/html": [
       "<pre style=\"white-space:pre;overflow-x:auto;line-height:normal;font-family:Menlo,'DejaVu Sans Mono',consolas,'Courier New',monospace\">The customer won both parts of the roulette game by betting on square <span style=\"color: #008080; text-decoration-color: #008080; font-weight: bold\">18</span>. The `roulette_wheel` function determined \n",
       "that <span style=\"color: #008080; text-decoration-color: #008080; font-weight: bold\">18</span> was a winning square in the first part, and the `roulette_wheel_part_2` function confirmed that <span style=\"color: #008080; text-decoration-color: #008080; font-weight: bold\">18</span> was also\n",
       "a\n",
       "</pre>\n"
      ],
      "text/plain": [
       "The customer won both parts of the roulette game by betting on square \u001b[1;36m18\u001b[0m. The `roulette_wheel` function determined \n",
       "that \u001b[1;36m18\u001b[0m was a winning square in the first part, and the `roulette_wheel_part_2` function confirmed that \u001b[1;36m18\u001b[0m was also\n",
       "a\n"
      ]
     },
     "metadata": {},
     "output_type": "display_data"
    },
    {
     "data": {
      "text/html": [
       "<pre style=\"white-space:pre;overflow-x:auto;line-height:normal;font-family:Menlo,'DejaVu Sans Mono',consolas,'Courier New',monospace\">The customer won both parts of the roulette game by betting on square <span style=\"color: #008080; text-decoration-color: #008080; font-weight: bold\">18</span>. The `roulette_wheel` function determined \n",
       "that <span style=\"color: #008080; text-decoration-color: #008080; font-weight: bold\">18</span> was a winning square in the first part, and the `roulette_wheel_part_2` function confirmed that <span style=\"color: #008080; text-decoration-color: #008080; font-weight: bold\">18</span> was also\n",
       "a winning square in the second\n",
       "</pre>\n"
      ],
      "text/plain": [
       "The customer won both parts of the roulette game by betting on square \u001b[1;36m18\u001b[0m. The `roulette_wheel` function determined \n",
       "that \u001b[1;36m18\u001b[0m was a winning square in the first part, and the `roulette_wheel_part_2` function confirmed that \u001b[1;36m18\u001b[0m was also\n",
       "a winning square in the second\n"
      ]
     },
     "metadata": {},
     "output_type": "display_data"
    },
    {
     "data": {
      "text/html": [
       "<pre style=\"white-space:pre;overflow-x:auto;line-height:normal;font-family:Menlo,'DejaVu Sans Mono',consolas,'Courier New',monospace\">The customer won both parts of the roulette game by betting on square <span style=\"color: #008080; text-decoration-color: #008080; font-weight: bold\">18</span>. The `roulette_wheel` function determined \n",
       "that <span style=\"color: #008080; text-decoration-color: #008080; font-weight: bold\">18</span> was a winning square in the first part, and the `roulette_wheel_part_2` function confirmed that <span style=\"color: #008080; text-decoration-color: #008080; font-weight: bold\">18</span> was also\n",
       "a winning square in the second part. Therefore, the customer has won\n",
       "</pre>\n"
      ],
      "text/plain": [
       "The customer won both parts of the roulette game by betting on square \u001b[1;36m18\u001b[0m. The `roulette_wheel` function determined \n",
       "that \u001b[1;36m18\u001b[0m was a winning square in the first part, and the `roulette_wheel_part_2` function confirmed that \u001b[1;36m18\u001b[0m was also\n",
       "a winning square in the second part. Therefore, the customer has won\n"
      ]
     },
     "metadata": {},
     "output_type": "display_data"
    },
    {
     "data": {
      "text/html": [
       "<pre style=\"white-space:pre;overflow-x:auto;line-height:normal;font-family:Menlo,'DejaVu Sans Mono',consolas,'Courier New',monospace\">The customer won both parts of the roulette game by betting on square <span style=\"color: #008080; text-decoration-color: #008080; font-weight: bold\">18</span>. The `roulette_wheel` function determined \n",
       "that <span style=\"color: #008080; text-decoration-color: #008080; font-weight: bold\">18</span> was a winning square in the first part, and the `roulette_wheel_part_2` function confirmed that <span style=\"color: #008080; text-decoration-color: #008080; font-weight: bold\">18</span> was also\n",
       "a winning square in the second part. Therefore, the customer has won based on the number they\n",
       "</pre>\n"
      ],
      "text/plain": [
       "The customer won both parts of the roulette game by betting on square \u001b[1;36m18\u001b[0m. The `roulette_wheel` function determined \n",
       "that \u001b[1;36m18\u001b[0m was a winning square in the first part, and the `roulette_wheel_part_2` function confirmed that \u001b[1;36m18\u001b[0m was also\n",
       "a winning square in the second part. Therefore, the customer has won based on the number they\n"
      ]
     },
     "metadata": {},
     "output_type": "display_data"
    },
    {
     "data": {
      "text/html": [
       "<pre style=\"white-space:pre;overflow-x:auto;line-height:normal;font-family:Menlo,'DejaVu Sans Mono',consolas,'Courier New',monospace\">The customer won both parts of the roulette game by betting on square <span style=\"color: #008080; text-decoration-color: #008080; font-weight: bold\">18</span>. The `roulette_wheel` function determined \n",
       "that <span style=\"color: #008080; text-decoration-color: #008080; font-weight: bold\">18</span> was a winning square in the first part, and the `roulette_wheel_part_2` function confirmed that <span style=\"color: #008080; text-decoration-color: #008080; font-weight: bold\">18</span> was also\n",
       "a winning square in the second part. Therefore, the customer has won based on the number they provided.\n",
       "</pre>\n"
      ],
      "text/plain": [
       "The customer won both parts of the roulette game by betting on square \u001b[1;36m18\u001b[0m. The `roulette_wheel` function determined \n",
       "that \u001b[1;36m18\u001b[0m was a winning square in the first part, and the `roulette_wheel_part_2` function confirmed that \u001b[1;36m18\u001b[0m was also\n",
       "a winning square in the second part. Therefore, the customer has won based on the number they provided.\n"
      ]
     },
     "metadata": {},
     "output_type": "display_data"
    }
   ],
   "source": [
    "from typing import TypedDict\n",
    "from pydantic_ai import Agent, RunContext\n",
    "\n",
    "class MyTypedDict(TypedDict, total=False):\n",
    "    won: bool\n",
    "    \n",
    "model = MistralModel(\n",
    "    model_name='mistral-large-latest', \n",
    "    api_key=os.environ.get('MISTRAL_API_KEY')\n",
    ")\n",
    "agent = Agent(  \n",
    "    model,\n",
    "    deps_type=int,\n",
    "    system_prompt=(\n",
    "        'Use the `roulette_wheel` and after `roulette_wheel_part_2` function to see if the '\n",
    "        'customer has won based on the number they provide. please explain why'\n",
    "    ),\n",
    ")\n",
    "\n",
    "\n",
    "@agent.tool\n",
    "async def roulette_wheel(ctx: RunContext[int], square: int) -> str:  \n",
    "    \"\"\"check if the square is a winner\"\"\"\n",
    "    print(\"a\")\n",
    "    return 'winner' if square == ctx.deps else 'loser'\n",
    "\n",
    "@agent.tool\n",
    "async def roulette_wheel_part_2(ctx: RunContext[int], square: int) -> str:  \n",
    "    \"\"\"check if the square is a winner for part 2\"\"\"\n",
    "    print(\"b\")\n",
    "    return 'winner' if square == ctx.deps else 'loser'\n",
    "\n",
    "\n",
    "async with agent.run_stream('Put my money on square eighteen', deps=success_number) as result:\n",
    "    async for profile in result.stream():\n",
    "        print(profile)"
   ]
  },
  {
   "cell_type": "code",
   "execution_count": 24,
   "metadata": {},
   "outputs": [
    {
     "name": "stdout",
     "output_type": "stream",
     "text": [
      "21:16:25.701 agent run stream prompt=Put my money on square eighteen\n",
      "21:16:25.701   preparing model and tools run_step=1\n",
      "21:16:25.702   model request run_step=1\n",
      "21:16:26.294   handle model response\n",
      "21:16:26.295     running tools=['roulette_wheel']\n",
      "21:16:26.296   preparing model and tools run_step=2\n",
      "21:16:26.297   model request run_step=2\n",
      "21:16:26.428   handle model response\n",
      "21:16:26.430     response stream text\n"
     ]
    },
    {
     "data": {
      "text/html": [
       "<pre style=\"white-space:pre;overflow-x:auto;line-height:normal;font-family:Menlo,'DejaVu Sans Mono',consolas,'Courier New',monospace\">Congratulations! The number\n",
       "</pre>\n"
      ],
      "text/plain": [
       "Congratulations! The number\n"
      ]
     },
     "metadata": {},
     "output_type": "display_data"
    },
    {
     "data": {
      "text/html": [
       "<pre style=\"white-space:pre;overflow-x:auto;line-height:normal;font-family:Menlo,'DejaVu Sans Mono',consolas,'Courier New',monospace\">Congratulations! The number <span style=\"color: #008080; text-decoration-color: #008080; font-weight: bold\">18</span> has won on\n",
       "</pre>\n"
      ],
      "text/plain": [
       "Congratulations! The number \u001b[1;36m18\u001b[0m has won on\n"
      ]
     },
     "metadata": {},
     "output_type": "display_data"
    },
    {
     "data": {
      "text/html": [
       "<pre style=\"white-space:pre;overflow-x:auto;line-height:normal;font-family:Menlo,'DejaVu Sans Mono',consolas,'Courier New',monospace\">Congratulations! The number <span style=\"color: #008080; text-decoration-color: #008080; font-weight: bold\">18</span> has won on the roulette wheel. In\n",
       "</pre>\n"
      ],
      "text/plain": [
       "Congratulations! The number \u001b[1;36m18\u001b[0m has won on the roulette wheel. In\n"
      ]
     },
     "metadata": {},
     "output_type": "display_data"
    },
    {
     "data": {
      "text/html": [
       "<pre style=\"white-space:pre;overflow-x:auto;line-height:normal;font-family:Menlo,'DejaVu Sans Mono',consolas,'Courier New',monospace\">Congratulations! The number <span style=\"color: #008080; text-decoration-color: #008080; font-weight: bold\">18</span> has won on the roulette wheel. In roulette, the wheel is\n",
       "</pre>\n"
      ],
      "text/plain": [
       "Congratulations! The number \u001b[1;36m18\u001b[0m has won on the roulette wheel. In roulette, the wheel is\n"
      ]
     },
     "metadata": {},
     "output_type": "display_data"
    },
    {
     "data": {
      "text/html": [
       "<pre style=\"white-space:pre;overflow-x:auto;line-height:normal;font-family:Menlo,'DejaVu Sans Mono',consolas,'Courier New',monospace\">Congratulations! The number <span style=\"color: #008080; text-decoration-color: #008080; font-weight: bold\">18</span> has won on the roulette wheel. In roulette, the wheel is spun, and a ball\n",
       "</pre>\n"
      ],
      "text/plain": [
       "Congratulations! The number \u001b[1;36m18\u001b[0m has won on the roulette wheel. In roulette, the wheel is spun, and a ball\n"
      ]
     },
     "metadata": {},
     "output_type": "display_data"
    },
    {
     "data": {
      "text/html": [
       "<pre style=\"white-space:pre;overflow-x:auto;line-height:normal;font-family:Menlo,'DejaVu Sans Mono',consolas,'Courier New',monospace\">Congratulations! The number <span style=\"color: #008080; text-decoration-color: #008080; font-weight: bold\">18</span> has won on the roulette wheel. In roulette, the wheel is spun, and a ball is dropped\n",
       "onto it.\n",
       "</pre>\n"
      ],
      "text/plain": [
       "Congratulations! The number \u001b[1;36m18\u001b[0m has won on the roulette wheel. In roulette, the wheel is spun, and a ball is dropped\n",
       "onto it.\n"
      ]
     },
     "metadata": {},
     "output_type": "display_data"
    },
    {
     "data": {
      "text/html": [
       "<pre style=\"white-space:pre;overflow-x:auto;line-height:normal;font-family:Menlo,'DejaVu Sans Mono',consolas,'Courier New',monospace\">Congratulations! The number <span style=\"color: #008080; text-decoration-color: #008080; font-weight: bold\">18</span> has won on the roulette wheel. In roulette, the wheel is spun, and a ball is dropped\n",
       "onto it. The wheel has numbered pockets, and the\n",
       "</pre>\n"
      ],
      "text/plain": [
       "Congratulations! The number \u001b[1;36m18\u001b[0m has won on the roulette wheel. In roulette, the wheel is spun, and a ball is dropped\n",
       "onto it. The wheel has numbered pockets, and the\n"
      ]
     },
     "metadata": {},
     "output_type": "display_data"
    },
    {
     "data": {
      "text/html": [
       "<pre style=\"white-space:pre;overflow-x:auto;line-height:normal;font-family:Menlo,'DejaVu Sans Mono',consolas,'Courier New',monospace\">Congratulations! The number <span style=\"color: #008080; text-decoration-color: #008080; font-weight: bold\">18</span> has won on the roulette wheel. In roulette, the wheel is spun, and a ball is dropped\n",
       "onto it. The wheel has numbered pockets, and the ball eventually lands in\n",
       "</pre>\n"
      ],
      "text/plain": [
       "Congratulations! The number \u001b[1;36m18\u001b[0m has won on the roulette wheel. In roulette, the wheel is spun, and a ball is dropped\n",
       "onto it. The wheel has numbered pockets, and the ball eventually lands in\n"
      ]
     },
     "metadata": {},
     "output_type": "display_data"
    },
    {
     "data": {
      "text/html": [
       "<pre style=\"white-space:pre;overflow-x:auto;line-height:normal;font-family:Menlo,'DejaVu Sans Mono',consolas,'Courier New',monospace\">Congratulations! The number <span style=\"color: #008080; text-decoration-color: #008080; font-weight: bold\">18</span> has won on the roulette wheel. In roulette, the wheel is spun, and a ball is dropped\n",
       "onto it. The wheel has numbered pockets, and the ball eventually lands in one of these pockets. If the pocket the \n",
       "ball\n",
       "</pre>\n"
      ],
      "text/plain": [
       "Congratulations! The number \u001b[1;36m18\u001b[0m has won on the roulette wheel. In roulette, the wheel is spun, and a ball is dropped\n",
       "onto it. The wheel has numbered pockets, and the ball eventually lands in one of these pockets. If the pocket the \n",
       "ball\n"
      ]
     },
     "metadata": {},
     "output_type": "display_data"
    },
    {
     "data": {
      "text/html": [
       "<pre style=\"white-space:pre;overflow-x:auto;line-height:normal;font-family:Menlo,'DejaVu Sans Mono',consolas,'Courier New',monospace\">Congratulations! The number <span style=\"color: #008080; text-decoration-color: #008080; font-weight: bold\">18</span> has won on the roulette wheel. In roulette, the wheel is spun, and a ball is dropped\n",
       "onto it. The wheel has numbered pockets, and the ball eventually lands in one of these pockets. If the pocket the \n",
       "ball lands in matches the number\n",
       "</pre>\n"
      ],
      "text/plain": [
       "Congratulations! The number \u001b[1;36m18\u001b[0m has won on the roulette wheel. In roulette, the wheel is spun, and a ball is dropped\n",
       "onto it. The wheel has numbered pockets, and the ball eventually lands in one of these pockets. If the pocket the \n",
       "ball lands in matches the number\n"
      ]
     },
     "metadata": {},
     "output_type": "display_data"
    },
    {
     "data": {
      "text/html": [
       "<pre style=\"white-space:pre;overflow-x:auto;line-height:normal;font-family:Menlo,'DejaVu Sans Mono',consolas,'Courier New',monospace\">Congratulations! The number <span style=\"color: #008080; text-decoration-color: #008080; font-weight: bold\">18</span> has won on the roulette wheel. In roulette, the wheel is spun, and a ball is dropped\n",
       "onto it. The wheel has numbered pockets, and the ball eventually lands in one of these pockets. If the pocket the \n",
       "ball lands in matches the number you bet on <span style=\"font-weight: bold\">(</span>in this case,\n",
       "</pre>\n"
      ],
      "text/plain": [
       "Congratulations! The number \u001b[1;36m18\u001b[0m has won on the roulette wheel. In roulette, the wheel is spun, and a ball is dropped\n",
       "onto it. The wheel has numbered pockets, and the ball eventually lands in one of these pockets. If the pocket the \n",
       "ball lands in matches the number you bet on \u001b[1m(\u001b[0min this case,\n"
      ]
     },
     "metadata": {},
     "output_type": "display_data"
    },
    {
     "data": {
      "text/html": [
       "<pre style=\"white-space:pre;overflow-x:auto;line-height:normal;font-family:Menlo,'DejaVu Sans Mono',consolas,'Courier New',monospace\">Congratulations! The number <span style=\"color: #008080; text-decoration-color: #008080; font-weight: bold\">18</span> has won on the roulette wheel. In roulette, the wheel is spun, and a ball is dropped\n",
       "onto it. The wheel has numbered pockets, and the ball eventually lands in one of these pockets. If the pocket the \n",
       "ball lands in matches the number you bet on <span style=\"font-weight: bold\">(</span>in this case, <span style=\"color: #008080; text-decoration-color: #008080; font-weight: bold\">18</span>\n",
       "</pre>\n"
      ],
      "text/plain": [
       "Congratulations! The number \u001b[1;36m18\u001b[0m has won on the roulette wheel. In roulette, the wheel is spun, and a ball is dropped\n",
       "onto it. The wheel has numbered pockets, and the ball eventually lands in one of these pockets. If the pocket the \n",
       "ball lands in matches the number you bet on \u001b[1m(\u001b[0min this case, \u001b[1;36m18\u001b[0m\n"
      ]
     },
     "metadata": {},
     "output_type": "display_data"
    },
    {
     "data": {
      "text/html": [
       "<pre style=\"white-space:pre;overflow-x:auto;line-height:normal;font-family:Menlo,'DejaVu Sans Mono',consolas,'Courier New',monospace\">Congratulations! The number <span style=\"color: #008080; text-decoration-color: #008080; font-weight: bold\">18</span> has won on the roulette wheel. In roulette, the wheel is spun, and a ball is dropped\n",
       "onto it. The wheel has numbered pockets, and the ball eventually lands in one of these pockets. If the pocket the \n",
       "ball lands in matches the number you bet on <span style=\"font-weight: bold\">(</span>in this case, <span style=\"color: #008080; text-decoration-color: #008080; font-weight: bold\">18</span><span style=\"font-weight: bold\">)</span>, you win! That's why you've won\n",
       "</pre>\n"
      ],
      "text/plain": [
       "Congratulations! The number \u001b[1;36m18\u001b[0m has won on the roulette wheel. In roulette, the wheel is spun, and a ball is dropped\n",
       "onto it. The wheel has numbered pockets, and the ball eventually lands in one of these pockets. If the pocket the \n",
       "ball lands in matches the number you bet on \u001b[1m(\u001b[0min this case, \u001b[1;36m18\u001b[0m\u001b[1m)\u001b[0m, you win! That's why you've won\n"
      ]
     },
     "metadata": {},
     "output_type": "display_data"
    },
    {
     "data": {
      "text/html": [
       "<pre style=\"white-space:pre;overflow-x:auto;line-height:normal;font-family:Menlo,'DejaVu Sans Mono',consolas,'Courier New',monospace\">Congratulations! The number <span style=\"color: #008080; text-decoration-color: #008080; font-weight: bold\">18</span> has won on the roulette wheel. In roulette, the wheel is spun, and a ball is dropped\n",
       "onto it. The wheel has numbered pockets, and the ball eventually lands in one of these pockets. If the pocket the \n",
       "ball lands in matches the number you bet on <span style=\"font-weight: bold\">(</span>in this case, <span style=\"color: #008080; text-decoration-color: #008080; font-weight: bold\">18</span><span style=\"font-weight: bold\">)</span>, you win! That's why you've won based on the number \n",
       "you provided\n",
       "</pre>\n"
      ],
      "text/plain": [
       "Congratulations! The number \u001b[1;36m18\u001b[0m has won on the roulette wheel. In roulette, the wheel is spun, and a ball is dropped\n",
       "onto it. The wheel has numbered pockets, and the ball eventually lands in one of these pockets. If the pocket the \n",
       "ball lands in matches the number you bet on \u001b[1m(\u001b[0min this case, \u001b[1;36m18\u001b[0m\u001b[1m)\u001b[0m, you win! That's why you've won based on the number \n",
       "you provided\n"
      ]
     },
     "metadata": {},
     "output_type": "display_data"
    },
    {
     "data": {
      "text/html": [
       "<pre style=\"white-space:pre;overflow-x:auto;line-height:normal;font-family:Menlo,'DejaVu Sans Mono',consolas,'Courier New',monospace\">Congratulations! The number <span style=\"color: #008080; text-decoration-color: #008080; font-weight: bold\">18</span> has won on the roulette wheel. In roulette, the wheel is spun, and a ball is dropped\n",
       "onto it. The wheel has numbered pockets, and the ball eventually lands in one of these pockets. If the pocket the \n",
       "ball lands in matches the number you bet on <span style=\"font-weight: bold\">(</span>in this case, <span style=\"color: #008080; text-decoration-color: #008080; font-weight: bold\">18</span><span style=\"font-weight: bold\">)</span>, you win! That's why you've won based on the number \n",
       "you provided.\n",
       "</pre>\n"
      ],
      "text/plain": [
       "Congratulations! The number \u001b[1;36m18\u001b[0m has won on the roulette wheel. In roulette, the wheel is spun, and a ball is dropped\n",
       "onto it. The wheel has numbered pockets, and the ball eventually lands in one of these pockets. If the pocket the \n",
       "ball lands in matches the number you bet on \u001b[1m(\u001b[0min this case, \u001b[1;36m18\u001b[0m\u001b[1m)\u001b[0m, you win! That's why you've won based on the number \n",
       "you provided.\n"
      ]
     },
     "metadata": {},
     "output_type": "display_data"
    }
   ],
   "source": [
    "from typing import TypedDict\n",
    "from pydantic_ai import Agent, RunContext\n",
    "\n",
    "class MyTypedDict(TypedDict, total=False):\n",
    "    won: bool\n",
    "    \n",
    "model = MistralModel(\n",
    "    model_name='mistral-large-latest', \n",
    "    api_key=os.environ.get('MISTRAL_API_KEY')\n",
    ")\n",
    "agent = Agent(  \n",
    "    model,\n",
    "    deps_type=int,\n",
    "    system_prompt=(\n",
    "        'Use the `roulette_wheel` function to see if the '\n",
    "        'customer has won based on the number they provide. please explain why'\n",
    "    ),\n",
    ")\n",
    "\n",
    "\n",
    "@agent.tool\n",
    "async def roulette_wheel(ctx: RunContext[int], square: int) -> str:  \n",
    "    \"\"\"check if the square is a winner\"\"\"\n",
    "    return 'winner' if square == ctx.deps else 'loser'\n",
    "\n",
    "\n",
    "async with agent.run_stream('Put my money on square eighteen', deps=success_number) as result:\n",
    "    async for profile in result.stream():\n",
    "        print(profile)"
   ]
  },
  {
   "cell_type": "code",
   "execution_count": null,
   "metadata": {},
   "outputs": [],
   "source": []
  }
 ],
 "metadata": {
  "kernelspec": {
   "display_name": "Python 3",
   "language": "python",
   "name": "python3"
  },
  "language_info": {
   "codemirror_mode": {
    "name": "ipython",
    "version": 3
   },
   "file_extension": ".py",
   "mimetype": "text/x-python",
   "name": "python",
   "nbconvert_exporter": "python",
   "pygments_lexer": "ipython3",
   "version": "3.12.0"
  }
 },
 "nbformat": 4,
 "nbformat_minor": 2
}
